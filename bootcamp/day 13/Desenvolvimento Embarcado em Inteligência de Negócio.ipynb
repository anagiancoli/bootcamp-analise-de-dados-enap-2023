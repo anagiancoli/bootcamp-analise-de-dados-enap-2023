{
 "cells": [
  {
   "cell_type": "markdown",
   "id": "798d5312-c064-46f5-b402-37e726b7bbfb",
   "metadata": {
    "slideshow": {
     "slide_type": "slide"
    }
   },
   "source": [
    "# Desenvolvimento Embarcado em Inteligência de Negócio 🧠"
   ]
  },
  {
   "cell_type": "markdown",
   "id": "1322e9da-7f54-4205-8be8-016dbfed2d2e",
   "metadata": {
    "slideshow": {
     "slide_type": "-"
    }
   },
   "source": [
    "## Sumário da Aula"
   ]
  },
  {
   "cell_type": "markdown",
   "id": "7264e858-19a5-43c3-9baf-500de04b6d79",
   "metadata": {
    "slideshow": {
     "slide_type": "-"
    }
   },
   "source": [
    "<ul>\n",
    "    <li>Configuração ⚙️</li>\n",
    "    <ul>\n",
    "        <li>Power BI 📊</li>\n",
    "        <li>Power BI 📊 + Python 🐍</li>\n",
    "    </ul>\n",
    "    <li>Aspectos de Desenvolvimento Embarcado 🧠</li>\n",
    "    <ul>\n",
    "        <li>Montando a Raspagem de Dados em Python 🐍 para o Power BI 📊</li>\n",
    "        <li>Executando a Raspagem de Dados com Python 🐍 no Power BI 📊</li>\n",
    "    </ul>\n",
    "</ul>"
   ]
  },
  {
   "cell_type": "markdown",
   "id": "09a9c1da-4c3c-44ea-bdeb-80dad34a9c73",
   "metadata": {
    "slideshow": {
     "slide_type": "-"
    }
   },
   "source": [
    "### Biblioteca Principal 📚: Não se aplica"
   ]
  },
  {
   "cell_type": "markdown",
   "id": "e64df1d4-5367-4e0a-a114-cccc60fa1f98",
   "metadata": {
    "slideshow": {
     "slide_type": "slide"
    }
   },
   "source": [
    "## Configuração ⚙️"
   ]
  },
  {
   "cell_type": "markdown",
   "id": "a07a0318-8dc7-4475-bd67-0b485d4a0448",
   "metadata": {
    "slideshow": {
     "slide_type": "-"
    }
   },
   "source": [
    "### Power BI 📊"
   ]
  },
  {
   "cell_type": "markdown",
   "id": "e1b8735f-0572-4e2e-95ed-3e514cf16bd7",
   "metadata": {
    "slideshow": {
     "slide_type": "-"
    }
   },
   "source": [
    "\"Microsoft Power BI is an interactive data visualization software product developed by Microsoft with a primary focus on business intelligence.\""
   ]
  },
  {
   "cell_type": "markdown",
   "id": "4f465618-3cb7-49ad-b197-08a037324384",
   "metadata": {
    "slideshow": {
     "slide_type": "-"
    }
   },
   "source": [
    "<img src=\"https://upload.wikimedia.org/wikipedia/commons/c/cf/New_Power_BI_Logo.svg\" width=\"100\" style=\"float: right;\">"
   ]
  },
  {
   "cell_type": "markdown",
   "id": "71861847-52a6-4722-b39c-3d108e4b0b71",
   "metadata": {
    "slideshow": {
     "slide_type": "-"
    }
   },
   "source": [
    "👉 Faça a Instalação: <a href='https://powerbi.microsoft.com/pt-br/downloads/'>powerbi.microsoft.com</a>"
   ]
  },
  {
   "cell_type": "markdown",
   "id": "a6fb6538-422a-4373-abcf-8b9bda3188be",
   "metadata": {
    "slideshow": {
     "slide_type": "-"
    }
   },
   "source": [
    "👉 Power BI <a href='https://s3.amazonaws.com/assets.datacamp.com/email/other/Power+BI_Cheat+Sheet.pdf'>cheat sheet</a>"
   ]
  },
  {
   "cell_type": "markdown",
   "id": "a0523687-27a3-4ae5-97a1-2516bcc11b4b",
   "metadata": {
    "slideshow": {
     "slide_type": "slide"
    }
   },
   "source": [
    "### Power BI 📊 + Python 🐍"
   ]
  },
  {
   "cell_type": "markdown",
   "id": "2b12f3c4-24f2-4e49-93bd-9838d555cc93",
   "metadata": {
    "slideshow": {
     "slide_type": "-"
    }
   },
   "source": [
    "<pre>É possível executar scripts do Python diretamente no Power BI</pre>"
   ]
  },
  {
   "cell_type": "markdown",
   "id": "89d05ab4-b935-4bfb-abb5-c5beaee818d0",
   "metadata": {
    "slideshow": {
     "slide_type": "-"
    }
   },
   "source": [
    "<pre>A integração do Power BI com o Python exige a instalação do Python e dos pacotes <i>pandas</i> e <i>matplotlib</i> do Python.</pre>"
   ]
  },
  {
   "cell_type": "markdown",
   "id": "c0664d04-6a0d-47b2-81fc-034e6adad7ff",
   "metadata": {
    "slideshow": {
     "slide_type": "-"
    }
   },
   "source": [
    "<pre>Aproveitaremos para instalar as bibliotecas que serão necessárias no Estudo de Caso desta aula: <i>BeautifulSoupt</i>, <i>requests</i> e <i>urllib3</i></pre>"
   ]
  },
  {
   "cell_type": "markdown",
   "id": "9a05c8ce-9034-4f4d-a6f6-b43d7ca48852",
   "metadata": {
    "slideshow": {
     "slide_type": "subslide"
    }
   },
   "source": [
    "<img src='./figs/Command.png' width='100%'>"
   ]
  },
  {
   "cell_type": "markdown",
   "id": "096ff4eb-1614-40f8-9c73-a51bfa246298",
   "metadata": {
    "slideshow": {
     "slide_type": "subslide"
    }
   },
   "source": [
    "<pre>No Power BI, para habilitar o script Python no Power BI, selecione Arquivo > Opções e Configurações > Opções</pre>"
   ]
  },
  {
   "cell_type": "markdown",
   "id": "4cf9fdee-44e9-42f9-8df0-aeff4ec59721",
   "metadata": {
    "slideshow": {
     "slide_type": "-"
    }
   },
   "source": [
    "<img src='figs/PowerBI01.png' width='100%'>"
   ]
  },
  {
   "cell_type": "markdown",
   "id": "30993a92-2d19-426f-8121-1c3254efbb8a",
   "metadata": {
    "slideshow": {
     "slide_type": "subslide"
    }
   },
   "source": [
    "<img src='figs/PowerBI01Config01.png' width='100%'>"
   ]
  },
  {
   "cell_type": "markdown",
   "id": "d59993c8-101f-4e1f-b2c7-bcbad98b4e5d",
   "metadata": {
    "slideshow": {
     "slide_type": "subslide"
    }
   },
   "source": [
    "<pre>Em Opções > Scripts do Python, forneça ou edite o caminho de instalação local do Python. Selecione Ok.</pre>"
   ]
  },
  {
   "cell_type": "markdown",
   "id": "06e18c33-3c43-41f4-9360-9062c93e88aa",
   "metadata": {
    "slideshow": {
     "slide_type": "-"
    }
   },
   "source": [
    "<img src='figs/PowerBI01Config02.png' width='100%'>"
   ]
  },
  {
   "cell_type": "markdown",
   "id": "e8992c03-0272-436a-bd87-033662411762",
   "metadata": {
    "slideshow": {
     "slide_type": "slide"
    }
   },
   "source": [
    "## Aspectos de Desenvolvimento Embarcado 🧠"
   ]
  },
  {
   "cell_type": "markdown",
   "id": "40bc669b-263a-4556-a3c8-36d6668bdfe0",
   "metadata": {
    "slideshow": {
     "slide_type": "subslide"
    }
   },
   "source": [
    "👉 No Power BI, para executar um script em Python com os dados correntes, o Power BI armazena os dados correntes no DataFrame <code>dataset</code>. Veja:"
   ]
  },
  {
   "cell_type": "markdown",
   "id": "64b627d4-69ce-4f77-b518-9bb7c126f25f",
   "metadata": {
    "slideshow": {
     "slide_type": "-"
    }
   },
   "source": [
    "<img src='figs/PowerBI00.png'>"
   ]
  },
  {
   "cell_type": "markdown",
   "id": "2977c9d5-0344-45df-af43-d605626b344f",
   "metadata": {
    "slideshow": {
     "slide_type": "-"
    }
   },
   "source": [
    "<pre>Portanto, se quisermos trabalhar com Python nos dados correntes do Power BI, partimos do uso de um DataFrame 'dataset'</pre>"
   ]
  },
  {
   "cell_type": "markdown",
   "id": "1e2a7159-56b3-4f3c-8163-6e4f0ad46c03",
   "metadata": {
    "slideshow": {
     "slide_type": "subslide"
    }
   },
   "source": [
    "### Montando a Raspagem de Dados em Python 🐍 para o Power BI 📊"
   ]
  },
  {
   "cell_type": "markdown",
   "id": "d205643d-6316-4247-af7f-c5764e0737ec",
   "metadata": {
    "slideshow": {
     "slide_type": "-"
    }
   },
   "source": [
    "<pre>O código abaixo é conhecido nosso, da aula de Limpeza e Preparação dos Dados 🏗️ 🎲</pre>"
   ]
  },
  {
   "cell_type": "markdown",
   "id": "7972ef09-51ad-4339-9dcf-fe7b7bb9d448",
   "metadata": {
    "slideshow": {
     "slide_type": "-"
    }
   },
   "source": [
    "<pre>Ele recupera os dados da tabela de códigos das UF (obtidos de uma API do IBGE) e que estão salvos no nosso sistema de arquivos</pre>"
   ]
  },
  {
   "cell_type": "markdown",
   "id": "bf24726c-77f0-4778-8771-3013e7b56ae0",
   "metadata": {
    "slideshow": {
     "slide_type": "-"
    }
   },
   "source": [
    "<pre>Nós armazenaremos os dados em um DataFrame 'dataset' para simular que estamos usando os dados de uma tabela corrente no Power BI</pre>"
   ]
  },
  {
   "cell_type": "code",
   "execution_count": 1,
   "id": "c03d3794-5fee-4cd9-83fd-751470066ceb",
   "metadata": {
    "slideshow": {
     "slide_type": "subslide"
    }
   },
   "outputs": [
    {
     "data": {
      "text/html": [
       "<div>\n",
       "<style scoped>\n",
       "    .dataframe tbody tr th:only-of-type {\n",
       "        vertical-align: middle;\n",
       "    }\n",
       "\n",
       "    .dataframe tbody tr th {\n",
       "        vertical-align: top;\n",
       "    }\n",
       "\n",
       "    .dataframe thead th {\n",
       "        text-align: right;\n",
       "    }\n",
       "</style>\n",
       "<table border=\"1\" class=\"dataframe\">\n",
       "  <thead>\n",
       "    <tr style=\"text-align: right;\">\n",
       "      <th></th>\n",
       "      <th>id</th>\n",
       "      <th>sigla</th>\n",
       "      <th>nome</th>\n",
       "      <th>regiao.id</th>\n",
       "      <th>regiao.sigla</th>\n",
       "      <th>regiao.nome</th>\n",
       "    </tr>\n",
       "  </thead>\n",
       "  <tbody>\n",
       "    <tr>\n",
       "      <th>0</th>\n",
       "      <td>11</td>\n",
       "      <td>RO</td>\n",
       "      <td>Rondônia</td>\n",
       "      <td>1</td>\n",
       "      <td>N</td>\n",
       "      <td>Norte</td>\n",
       "    </tr>\n",
       "    <tr>\n",
       "      <th>1</th>\n",
       "      <td>12</td>\n",
       "      <td>AC</td>\n",
       "      <td>Acre</td>\n",
       "      <td>1</td>\n",
       "      <td>N</td>\n",
       "      <td>Norte</td>\n",
       "    </tr>\n",
       "    <tr>\n",
       "      <th>2</th>\n",
       "      <td>13</td>\n",
       "      <td>AM</td>\n",
       "      <td>Amazonas</td>\n",
       "      <td>1</td>\n",
       "      <td>N</td>\n",
       "      <td>Norte</td>\n",
       "    </tr>\n",
       "  </tbody>\n",
       "</table>\n",
       "</div>"
      ],
      "text/plain": [
       "   id sigla      nome  regiao.id regiao.sigla regiao.nome\n",
       "0  11    RO  Rondônia          1            N       Norte\n",
       "1  12    AC      Acre          1            N       Norte\n",
       "2  13    AM  Amazonas          1            N       Norte"
      ]
     },
     "execution_count": 1,
     "metadata": {},
     "output_type": "execute_result"
    }
   ],
   "source": [
    "import os, json, pandas as pd\n",
    "\n",
    "def build_path(subfolder = 'raw'):\n",
    "    folderpath = os.path.join(os.getcwd(), os.pardir, \n",
    "                              'project', 'data', subfolder)\n",
    "    folderpath = os.path.abspath(folderpath)\n",
    "    if not os.path.exists(folderpath): \n",
    "        os.makedirs(folderpath)  \n",
    "    return folderpath\n",
    "\n",
    "def get_estados_codigos(filename='estados_codigos.json'):\n",
    "    filepath = os.path.join(build_path(), filename)\n",
    "    with open(filepath) as jsonfile:\n",
    "        return pd.json_normalize(json.load(jsonfile))\n",
    "    \n",
    "dataset = get_estados_codigos()\n",
    "\n",
    "dataset.head(3)"
   ]
  },
  {
   "cell_type": "markdown",
   "id": "1a858bdf-5b06-44c5-9006-d697fed67662",
   "metadata": {
    "slideshow": {
     "slide_type": "subslide"
    }
   },
   "source": [
    "<pre>O código abaixo é outro conhecido nosso, da Raspagem Avançada de Dados ✂️ (Fontes de Dados 🚰 🎲)</pre>"
   ]
  },
  {
   "cell_type": "markdown",
   "id": "da3eff21-03d2-4ea8-b027-5f0d4e964a8e",
   "metadata": {
    "slideshow": {
     "slide_type": "-"
    }
   },
   "source": [
    "<pre>Ele percorre uma lista de siglas do DataFrame de códigos da UF e raspa os dados de um site do IBGE a cada sigla lida</pre>"
   ]
  },
  {
   "cell_type": "markdown",
   "id": "896c694f-20db-49f1-a26f-4e2d606d8a08",
   "metadata": {
    "slideshow": {
     "slide_type": "-"
    }
   },
   "source": [
    "<pre>Nós utilizaremos este código para transformar os dados do DataFrame armazenado na variável 'dataset' dentro do Power BI</pre>"
   ]
  },
  {
   "cell_type": "code",
   "execution_count": 2,
   "id": "0f1766d0-3916-4313-9f7c-f1ce559ccb03",
   "metadata": {
    "slideshow": {
     "slide_type": "subslide"
    }
   },
   "outputs": [],
   "source": [
    "from bs4 import BeautifulSoup\n",
    "import requests, urllib3, ssl\n",
    "import pandas as pd\n",
    "\n",
    "class CustomHttpAdapter (requests.adapters.HTTPAdapter):\n",
    "    def __init__(self, ssl_context=None, **kwargs):\n",
    "        self.ssl_context = ssl_context\n",
    "        super().__init__(**kwargs)\n",
    "    def init_poolmanager(self, connections, maxsize, block=False):\n",
    "        self.poolmanager = urllib3.poolmanager.PoolManager(\n",
    "            num_pools=connections, maxsize=maxsize,\n",
    "            block=block, ssl_context=self.ssl_context)\n",
    "        \n",
    "def get_legacy_session():\n",
    "    ctx = ssl.create_default_context(ssl.Purpose.SERVER_AUTH)\n",
    "    ctx.options |= 0x4  # OP_LEGACY_SERVER_CONNECT\n",
    "    session = requests.session()\n",
    "    session.mount('https://', CustomHttpAdapter(ctx))\n",
    "    return session\n",
    "\n",
    "def parse_indicators(indicators):\n",
    "    label = indicators.find('div', class_='ind-label')\n",
    "    value = indicators.find('p', class_='ind-value').get_text(strip=False)\n",
    "    measure = indicators.find('span', class_='indicador-unidade')\n",
    "    measure = measure.get_text(strip=True) if measure else '\\xa0'\n",
    "\n",
    "    return {'label': label.get_text(strip=True), \\\n",
    "            'value': [x.strip() for x in value.split(measure)][0], \\\n",
    "            'measure': measure.strip()}\n",
    "\n",
    "def scrape_from_internet(BASE_URI, lower_state):\n",
    "    BASE_PATH_STATE = f'cidades-e-estados/{lower_state}.html'\n",
    "    URL_STATE = f'{BASE_URI}/{BASE_PATH_STATE}'\n",
    "    try:\n",
    "        response = requests.get(f'{URL_STATE}')\n",
    "    except requests.exceptions.SSLError:\n",
    "        response = get_legacy_session().get(f'{URL_STATE}')\n",
    "    return response\n",
    "\n",
    "def parse(html):\n",
    "    list_of_indicators = []\n",
    "    if html:\n",
    "        indicators_soup = BeautifulSoup(html, 'html.parser')\n",
    "        all_indicators = indicators_soup.find_all('div', class_='indicador')\n",
    "        for indicators in all_indicators:\n",
    "            list_of_indicators.append(parse_indicators(indicators))\n",
    "    return list_of_indicators\n",
    "\n",
    "def states_indicators(BASE_URI, json_states):\n",
    "    json_states_characteristics = []\n",
    "    for json_state in json_states:\n",
    "        lower_state = json_state['sigla'].lower()\n",
    "        json_states_characteristics.append(\\\n",
    "            {'state': lower_state,\\\n",
    "             'characteristics': parse(scrape_from_internet(BASE_URI, lower_state).content)})\n",
    "    return json_states_characteristics\n",
    "\n",
    "BASE_URI = 'https://ibge.gov.br'"
   ]
  },
  {
   "cell_type": "markdown",
   "id": "d78d2a2e-4b2a-4a74-a103-c1eba1424c32",
   "metadata": {
    "slideshow": {
     "slide_type": "-"
    }
   },
   "source": [
    "<pre>Inicialmente, vamos utilizar a tabela corrente do Power BI (<i>dataset</i>) e\n",
    "\n",
    "transformar no formato da entrada aceita pelo código da Raspagem Avançada de Dados</pre>"
   ]
  },
  {
   "cell_type": "code",
   "execution_count": 3,
   "id": "8ac71218-9692-4188-9f23-f6dc119cdaef",
   "metadata": {
    "slideshow": {
     "slide_type": "-"
    }
   },
   "outputs": [
    {
     "data": {
      "text/plain": [
       "[{'sigla': 'RO'}, {'sigla': 'AC'}, {'sigla': 'AM'}]"
      ]
     },
     "execution_count": 3,
     "metadata": {},
     "output_type": "execute_result"
    }
   ],
   "source": [
    "siglas = [{'sigla': state} for state in dataset['sigla']]\n",
    "siglas[:3]"
   ]
  },
  {
   "cell_type": "markdown",
   "id": "b27c90ce-5b4e-4124-af7d-01c775a7ed59",
   "metadata": {
    "slideshow": {
     "slide_type": "-"
    }
   },
   "source": [
    "<pre>Agora, vamos reutilizar nosso código da Raspagem Avançada de Dados para obter os dados que desejamos</pre>"
   ]
  },
  {
   "cell_type": "code",
   "execution_count": null,
   "id": "b73d90c1-92f8-41a3-851d-b58e8fdef4ac",
   "metadata": {
    "slideshow": {
     "slide_type": "-"
    }
   },
   "outputs": [],
   "source": [
    "dados = states_indicators(BASE_URI, siglas)\n",
    "dados[0]"
   ]
  },
  {
   "cell_type": "markdown",
   "id": "54c57a0a-e757-4e47-9169-14fef2a54dd6",
   "metadata": {
    "slideshow": {
     "slide_type": "subslide"
    }
   },
   "source": [
    "<pre>Neste momento, vamos normalizar nosso json para obter um DataFrame com todos os dados que precisamos</pre>"
   ]
  },
  {
   "cell_type": "code",
   "execution_count": null,
   "id": "7ec871d0-f273-41a9-b3e9-5cf438dd72a1",
   "metadata": {
    "slideshow": {
     "slide_type": "-"
    }
   },
   "outputs": [],
   "source": [
    "dados = pd.json_normalize(dados, record_path='characteristics', \n",
    "                          record_prefix='characteristics_', \n",
    "                          meta='state', meta_prefix='state_')\n",
    "dados = dados.drop(columns='characteristics_measure')\n",
    "dados"
   ]
  },
  {
   "cell_type": "markdown",
   "id": "73c9d552-cb3a-47c7-b174-14510c032327",
   "metadata": {
    "slideshow": {
     "slide_type": "-"
    }
   },
   "source": [
    "<pre>Por fim, vamos transformar nossos dados com Pivoteamento do Formato Longo em Formato Largo</pre>"
   ]
  },
  {
   "cell_type": "code",
   "execution_count": null,
   "id": "7206033f-c3fe-4b60-b417-f41a62b855f3",
   "metadata": {
    "slideshow": {
     "slide_type": "-"
    }
   },
   "outputs": [],
   "source": [
    "dados = dados.pivot(columns='characteristics_label', \n",
    "                    index='state_state')\n",
    "dados.head(3)"
   ]
  },
  {
   "cell_type": "markdown",
   "id": "1fab946f-8864-4f20-8cb2-9d9b38d08c99",
   "metadata": {
    "slideshow": {
     "slide_type": "subslide"
    }
   },
   "source": [
    "<pre>Sendo este o resultado que desejamos obter no Power BI, vamos condensar o código que realiza a raspagem de dados e a transformação, \n",
    "\n",
    "pois ele será usado na funcionalidade correspondente de transformação de dados do Power BI com script Python"
   ]
  },
  {
   "cell_type": "code",
   "execution_count": null,
   "id": "f73305ca-cbf1-473f-a8ea-bc42627cbee3",
   "metadata": {
    "slideshow": {
     "slide_type": "-"
    },
    "tags": []
   },
   "outputs": [],
   "source": [
    "from bs4 import BeautifulSoup\n",
    "import requests, urllib3, ssl\n",
    "import pandas as pd\n",
    "\n",
    "class CustomHttpAdapter (requests.adapters.HTTPAdapter):\n",
    "    def __init__(self, ssl_context=None, **kwargs):\n",
    "        self.ssl_context = ssl_context\n",
    "        super().__init__(**kwargs)\n",
    "    def init_poolmanager(self, connections, maxsize, block=False):\n",
    "        self.poolmanager = urllib3.poolmanager.PoolManager(\n",
    "            num_pools=connections, maxsize=maxsize,\n",
    "            block=block, ssl_context=self.ssl_context)\n",
    "        \n",
    "def get_legacy_session():\n",
    "    ctx = ssl.create_default_context(ssl.Purpose.SERVER_AUTH)\n",
    "    ctx.options |= 0x4  # OP_LEGACY_SERVER_CONNECT\n",
    "    session = requests.session()\n",
    "    session.mount('https://', CustomHttpAdapter(ctx))\n",
    "    return session\n",
    "\n",
    "def parse_indicators(indicators):\n",
    "    label = indicators.find('div', class_='ind-label')\n",
    "    value = indicators.find('p', class_='ind-value').get_text(strip=False)\n",
    "    measure = indicators.find('span', class_='indicador-unidade')\n",
    "    measure = measure.get_text(strip=True) if measure else '\\xa0'\n",
    "\n",
    "    return {'label': label.get_text(strip=True), \\\n",
    "            'value': [x.strip() for x in value.split(measure)][0], \\\n",
    "            'measure': measure.strip()}\n",
    "\n",
    "def scrape_from_internet(BASE_URI, lower_state):\n",
    "    BASE_PATH_STATE = f'cidades-e-estados/{lower_state}.html'\n",
    "    URL_STATE = f'{BASE_URI}/{BASE_PATH_STATE}'\n",
    "    try:\n",
    "        response = requests.get(f'{URL_STATE}')\n",
    "    except requests.exceptions.SSLError:\n",
    "        response = get_legacy_session().get(f'{URL_STATE}')\n",
    "    return response\n",
    "\n",
    "def parse(html):\n",
    "    list_of_indicators = []\n",
    "    if html:\n",
    "        indicators_soup = BeautifulSoup(html, 'html.parser')\n",
    "        all_indicators = indicators_soup.find_all('div', class_='indicador')\n",
    "        for indicators in all_indicators:\n",
    "            list_of_indicators.append(parse_indicators(indicators))\n",
    "    return list_of_indicators\n",
    "\n",
    "def states_indicators(BASE_URI, json_states):\n",
    "    json_states_characteristics = []\n",
    "    for json_state in json_states:\n",
    "        lower_state = json_state['sigla'].lower()\n",
    "        json_states_characteristics.append(\\\n",
    "            {'state': lower_state,\\\n",
    "             'characteristics': parse(scrape_from_internet(BASE_URI, lower_state).content)})\n",
    "    return json_states_characteristics\n",
    "\n",
    "BASE_URI = 'https://ibge.gov.br'\n",
    "\n",
    "siglas = [{'sigla': state} for state in dataset['sigla']]\n",
    "dados = states_indicators(BASE_URI, siglas)\n",
    "dados = pd.json_normalize(dados, record_path='characteristics', record_prefix='characteristics_', meta='state', meta_prefix='state_')\n",
    "dados = dados.drop(columns='characteristics_measure')\n",
    "dados = dados.pivot(columns='characteristics_label', index='state_state')"
   ]
  },
  {
   "cell_type": "markdown",
   "id": "2e3282c2-44f0-41c0-a446-91abf42ffbb7",
   "metadata": {
    "slideshow": {
     "slide_type": "subslide"
    }
   },
   "source": [
    "### Executando a Raspagem de Dados com Python 🐍 no Power BI 📊"
   ]
  },
  {
   "cell_type": "markdown",
   "id": "38103dfe-0f9b-4e5c-8c39-39d2bcd5d83b",
   "metadata": {
    "slideshow": {
     "slide_type": "-"
    }
   },
   "source": [
    "<pre>Para executar o script Python, no menu Página Inicial da faixa de opções do Power BI, selecione Obter dados.</pre>"
   ]
  },
  {
   "cell_type": "markdown",
   "id": "f912883f-2ca3-4025-b0b7-f0581686475a",
   "metadata": {
    "slideshow": {
     "slide_type": "-"
    }
   },
   "source": [
    "<pre>Vamos escolher a opção <code>Web</code> e obter os códigos de UF a partir da API do IBGE, que utilizaremos na nossa raspagem.</pre>"
   ]
  },
  {
   "cell_type": "markdown",
   "id": "56d6a0db-d308-4060-b154-61bd573b6d6f",
   "metadata": {
    "slideshow": {
     "slide_type": "-"
    }
   },
   "source": [
    "<img src='figs/PowerBI03.png' width='100%'>"
   ]
  },
  {
   "cell_type": "markdown",
   "id": "2d5e3dff-e6ec-4075-9a84-aa0ac0ba15cb",
   "metadata": {
    "slideshow": {
     "slide_type": "subslide"
    }
   },
   "source": [
    "<pre>Insira o endereço da API do IBGE e selecione Ok. Caso pergunte sobre autenticação, selecione o modo Anônimo.</pre>"
   ]
  },
  {
   "cell_type": "markdown",
   "id": "37bdc71d-ae93-4c6b-8ade-e3b058419326",
   "metadata": {
    "slideshow": {
     "slide_type": "-"
    }
   },
   "source": [
    "<img src='figs/PowerBI04.png' width='100%'>"
   ]
  },
  {
   "cell_type": "markdown",
   "id": "f42ca6b2-cd83-4ed3-93c1-71904ffd5b0f",
   "metadata": {
    "slideshow": {
     "slide_type": "-"
    }
   },
   "source": [
    "<pre>Veja que a consulta à API retornou o mesmo DataFrame de códigos das UF que usamos mais cedo nesta aula</pre>"
   ]
  },
  {
   "cell_type": "markdown",
   "id": "400e7bb3-6603-4e2e-b806-00d1557a8f50",
   "metadata": {
    "slideshow": {
     "slide_type": "subslide"
    }
   },
   "source": [
    "<pre>Para embarcar o script em Python no PowerBI e transformar este DataFrame, vá em Transformar > Executar script Python</pre>"
   ]
  },
  {
   "cell_type": "markdown",
   "id": "21b372a2-a683-4717-93ca-b65d0d694566",
   "metadata": {
    "slideshow": {
     "slide_type": "-"
    }
   },
   "source": [
    "<img src='figs/PowerBI05.png' width='100%'>"
   ]
  },
  {
   "cell_type": "markdown",
   "id": "5c81b8ba-840c-411e-a137-d8968f754542",
   "metadata": {
    "slideshow": {
     "slide_type": "subslide"
    }
   },
   "source": [
    "<pre>Veja que um modal foi aberto para inserir o script em Python.</pre>"
   ]
  },
  {
   "cell_type": "markdown",
   "id": "6a92638a-b7ce-4a1f-9aea-56923ed71e78",
   "metadata": {
    "slideshow": {
     "slide_type": "-"
    }
   },
   "source": [
    "<pre>O modal informa a variável que armazena o DataFrame: ('dataset'), bem como o caminho do executável do Python que será utilizado</pre>"
   ]
  },
  {
   "cell_type": "markdown",
   "id": "d9bb6875-344f-4493-a239-5c793cb51c4c",
   "metadata": {
    "slideshow": {
     "slide_type": "-"
    }
   },
   "source": [
    "<img src='figs/PowerBI06.png' width='100%'>"
   ]
  },
  {
   "cell_type": "markdown",
   "id": "9c3db929-529c-4dd7-9df6-247388b699fb",
   "metadata": {
    "slideshow": {
     "slide_type": "subslide"
    }
   },
   "source": [
    "<pre>Insira o script integralmente, tal como está na última célula imediatamente anterior a esta seção</pre>"
   ]
  },
  {
   "cell_type": "markdown",
   "id": "985d7ca9-024d-45dc-ba1d-76e8c4036971",
   "metadata": {
    "slideshow": {
     "slide_type": "-"
    }
   },
   "source": [
    "<pre>Observe que o DataFrame referenciado pela variável 'dados' armazenará o resultado da nossa transformação com Python</pre>"
   ]
  },
  {
   "cell_type": "markdown",
   "id": "2addfced-42c5-4d8c-b9fb-c7dde921947d",
   "metadata": {
    "slideshow": {
     "slide_type": "-"
    }
   },
   "source": [
    "<img src='figs/PowerBI07.png' width='100%'>"
   ]
  },
  {
   "cell_type": "markdown",
   "id": "f7002a1e-495c-44b6-bb1a-ba5b4f933ff4",
   "metadata": {
    "slideshow": {
     "slide_type": "subslide"
    }
   },
   "source": [
    "<pre>Imediatamente após a execução do script, aparecem dois DataFrames: \n",
    "<ul>\n",
    "    <li>'dataset': a entrada do nosso script em Python.\n",
    "    <li>'dados': a saída do nosso script em Python; e\n",
    "</ul></pre>"
   ]
  },
  {
   "cell_type": "markdown",
   "id": "94e8edc6-3537-4214-b70c-491cc60c5715",
   "metadata": {
    "slideshow": {
     "slide_type": "-"
    }
   },
   "source": [
    "<pre>Selecione a 'Table' correspondente à variável 'dados', para resgatar o DataFrame resultante da nossa transformação</pre>"
   ]
  },
  {
   "cell_type": "markdown",
   "id": "a67e5bb5-d362-408d-82db-a46f4e0fc344",
   "metadata": {
    "slideshow": {
     "slide_type": "-"
    }
   },
   "source": [
    "<img src='figs/PowerBI08.png' width='100%'>"
   ]
  },
  {
   "cell_type": "markdown",
   "id": "560b8396-ac5a-49b2-b113-07e9c3174a4a",
   "metadata": {
    "slideshow": {
     "slide_type": "subslide"
    }
   },
   "source": [
    "<pre>Remova a etapa de alteração de tipos de dados inserida automaticamente pelo Power BI e use a primeira linha do DataFrame como cabeçalho</pre>"
   ]
  },
  {
   "cell_type": "markdown",
   "id": "278bbdd0-8bec-4db9-acb3-7277746ff4ef",
   "metadata": {
    "slideshow": {
     "slide_type": "-"
    }
   },
   "source": [
    "<pre>Automaricamente, o Power BI detectará os tipos de dados corretos das nossas colunas, de forma semelhante ao Pandas</pre>"
   ]
  },
  {
   "cell_type": "markdown",
   "id": "ab4ecf66-f256-4cf7-99e2-4b00c03d7b66",
   "metadata": {
    "slideshow": {
     "slide_type": "-"
    }
   },
   "source": [
    "<img src='figs/PowerBI09.png' width='100%'>"
   ]
  },
  {
   "cell_type": "markdown",
   "id": "f02c1536-edd3-4e58-8970-a6026892390a",
   "metadata": {
    "slideshow": {
     "slide_type": "subslide"
    }
   },
   "source": [
    "<pre>Veja que o DataFrame resultante está com os dados corretos, com o cabeçalho correto e com os tipos de dados corretos.</pre>"
   ]
  },
  {
   "cell_type": "markdown",
   "id": "18ccf4ff-ad7e-45aa-bfd1-db0d43e81fdf",
   "metadata": {
    "slideshow": {
     "slide_type": "-"
    }
   },
   "source": [
    "<pre>Feche e aplique as alterações.</pre>"
   ]
  },
  {
   "cell_type": "markdown",
   "id": "4fd7404a-e2db-435b-9bd2-7e33f07a58e7",
   "metadata": {
    "slideshow": {
     "slide_type": "-"
    }
   },
   "source": [
    "<img src='figs/PowerBI10.png' width='100%'>"
   ]
  },
  {
   "cell_type": "markdown",
   "id": "9be6a07f-3eae-41c6-9a5e-87f2566b2bbb",
   "metadata": {
    "slideshow": {
     "slide_type": "subslide"
    }
   },
   "source": [
    "<pre>Na sequência, o Power BI importará os dados transformados pelo script para o aplicativo principal.</pre>"
   ]
  },
  {
   "cell_type": "markdown",
   "id": "c565901f-c43c-46d5-b64a-f1e430a6f00c",
   "metadata": {
    "slideshow": {
     "slide_type": "-"
    }
   },
   "source": [
    "👉 Para atualizar os dados, selecione Atualizar no menu Página Inicial da faixa de opções do Power BI. Quando você atualiza um script, o Power BI executa o script do Python novamente."
   ]
  },
  {
   "cell_type": "markdown",
   "id": "80c957f9-c735-4877-a89d-3c20d67f64cb",
   "metadata": {
    "slideshow": {
     "slide_type": "-"
    }
   },
   "source": [
    "<img src='figs/PowerBI11.png' width='100%'>"
   ]
  },
  {
   "cell_type": "markdown",
   "id": "9d61b78d-deac-412b-8e69-232b0816f289",
   "metadata": {
    "slideshow": {
     "slide_type": "subslide"
    }
   },
   "source": [
    "<pre>Se o script for executado com êxito, o Power BI importa os dados transformados pelo script.</pre>"
   ]
  },
  {
   "cell_type": "markdown",
   "id": "cd8f9d4d-3d37-462d-931d-49220a1d996f",
   "metadata": {
    "slideshow": {
     "slide_type": "-"
    }
   },
   "source": [
    "<img src='figs/PowerBI12.png' width='100%'>"
   ]
  },
  {
   "cell_type": "markdown",
   "id": "64e9e0ec-6c2a-41f4-9e9d-bf84c0ba43b3",
   "metadata": {
    "slideshow": {
     "slide_type": "subslide"
    }
   },
   "source": [
    "<pre>Você pode utilizar os dados transformados para criar visualizações e relatórios.</pre>"
   ]
  },
  {
   "cell_type": "markdown",
   "id": "0c4ad578-5e22-4d74-ae75-513ccdf14f61",
   "metadata": {
    "slideshow": {
     "slide_type": "-"
    }
   },
   "source": [
    "<pre>Rapidamente, podemos criar um gráfico de dispersão que contrasta o IDH e o Rendimento mensal domiciliar per capita das UF do Brasil</pre>"
   ]
  },
  {
   "cell_type": "markdown",
   "id": "74c1a318-24c3-4f63-9826-cf972476c483",
   "metadata": {
    "slideshow": {
     "slide_type": "-"
    }
   },
   "source": [
    "<img src='figs/PowerBI13.png' width='100%'>"
   ]
  },
  {
   "cell_type": "markdown",
   "id": "22383101-7523-4c19-aeee-15b573784a4a",
   "metadata": {
    "slideshow": {
     "slide_type": "subslide"
    }
   },
   "source": [
    "<img src='figs/PowerBI14.png' width='100%'>"
   ]
  },
  {
   "cell_type": "markdown",
   "id": "0640f912-ac6a-49aa-ad24-5c738a86bdab",
   "metadata": {
    "slideshow": {
     "slide_type": "slide"
    }
   },
   "source": [
    "## Saiba Mais 👩‍🏫"
   ]
  },
  {
   "cell_type": "markdown",
   "id": "a69994f3-1f76-45c8-acf0-7eb003172df2",
   "metadata": {
    "slideshow": {
     "slide_type": "-"
    }
   },
   "source": [
    "👉 <a href='https://suap.enap.gov.br/vitrine/curso/2016/?area=2'>Praticando Business Intelligence</a>"
   ]
  }
 ],
 "metadata": {
  "celltoolbar": "Slideshow",
  "kernelspec": {
   "display_name": "Python 3 (ipykernel)",
   "language": "python",
   "name": "python3"
  },
  "language_info": {
   "codemirror_mode": {
    "name": "ipython",
    "version": 3
   },
   "file_extension": ".py",
   "mimetype": "text/x-python",
   "name": "python",
   "nbconvert_exporter": "python",
   "pygments_lexer": "ipython3",
   "version": "3.11.2"
  },
  "toc": {
   "base_numbering": 1,
   "nav_menu": {},
   "number_sections": true,
   "sideBar": true,
   "skip_h1_title": false,
   "title_cell": "Table of Contents",
   "title_sidebar": "Contents",
   "toc_cell": false,
   "toc_position": {},
   "toc_section_display": true,
   "toc_window_display": false
  }
 },
 "nbformat": 4,
 "nbformat_minor": 5
}
