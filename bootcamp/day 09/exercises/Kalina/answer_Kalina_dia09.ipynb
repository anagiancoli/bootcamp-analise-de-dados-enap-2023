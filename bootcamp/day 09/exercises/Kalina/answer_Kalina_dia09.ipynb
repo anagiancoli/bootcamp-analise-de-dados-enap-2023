{
 "cells": [
  {
   "cell_type": "markdown",
   "id": "7eb58741",
   "metadata": {},
   "source": [
    "# Exercícios - Tratamento dos Dados 🪢"
   ]
  },
  {
   "cell_type": "markdown",
   "id": "70ccecfd",
   "metadata": {},
   "source": [
    "Nos exercícios da aula 04, começamos a explorar as despesas de cotas dos parlamentares da Câmara dos Deputados, através dos conjuntos de dados disponíveis \n",
    "no Portal de Dados Aberto (https://dadosabertos.camara.leg.br/). Nos exercícios\n",
    "desta aula, vamos exercitar como tratar de forma apropriada os dados disponibilizados\n",
    "em conjuntos de dados diferentes, de forma a continuar a preparar uma base de dados limpa e organizada para realizar o nosso trabalho como analistas 🔎."
   ]
  },
  {
   "cell_type": "markdown",
   "id": "7831c770",
   "metadata": {},
   "source": [
    "Vamos primeiro carregar os dados relativos aos deputados. Carregue o arquivo do tipo ```.csv``` em um *dataframe* utilizando a url abaixo e investigue o seu conteúdo. Limpe-o, mantendo somente as colunas mais relevantes (nome, ufNascimento, municipioNascimento, idLegislaturaInicial, idLegislaturaFinal)."
   ]
  },
  {
   "cell_type": "code",
   "execution_count": 1,
   "id": "03ceb683",
   "metadata": {},
   "outputs": [],
   "source": [
    "import pandas as pd\n",
    "#lê o arquivo .csv da url abaixo.\n",
    "url = 'http://dadosabertos.camara.leg.br/arquivos/deputados/csv/deputados.csv'\n",
    "df_dep = pd.read_csv(url, sep=';', encoding='utf-8')"
   ]
  },
  {
   "cell_type": "code",
   "execution_count": 2,
   "id": "26acfdee",
   "metadata": {},
   "outputs": [
    {
     "name": "stdout",
     "output_type": "stream",
     "text": [
      "<class 'pandas.core.frame.DataFrame'>\n",
      "RangeIndex: 7818 entries, 0 to 7817\n",
      "Data columns (total 13 columns):\n",
      " #   Column                Non-Null Count  Dtype  \n",
      "---  ------                --------------  -----  \n",
      " 0   uri                   7818 non-null   object \n",
      " 1   nome                  7818 non-null   object \n",
      " 2   idLegislaturaInicial  7818 non-null   int64  \n",
      " 3   idLegislaturaFinal    7818 non-null   int64  \n",
      " 4   nomeCivil             7818 non-null   object \n",
      " 5   cpf                   0 non-null      float64\n",
      " 6   siglaSexo             7818 non-null   object \n",
      " 7   urlRedeSocial         469 non-null    object \n",
      " 8   urlWebsite            63 non-null     object \n",
      " 9   dataNascimento        6912 non-null   object \n",
      " 10  dataFalecimento       3899 non-null   object \n",
      " 11  ufNascimento          6833 non-null   object \n",
      " 12  municipioNascimento   6399 non-null   object \n",
      "dtypes: float64(1), int64(2), object(10)\n",
      "memory usage: 794.1+ KB\n"
     ]
    }
   ],
   "source": [
    "df_dep.info()"
   ]
  },
  {
   "cell_type": "code",
   "execution_count": 3,
   "id": "d338742f",
   "metadata": {},
   "outputs": [],
   "source": [
    "#Deletando as colunas desnecessárias.\n",
    "df_dep.drop(columns=['uri','nomeCivil','cpf','siglaSexo','urlRedeSocial','urlWebsite','dataNascimento','dataFalecimento'],inplace=True)"
   ]
  },
  {
   "cell_type": "code",
   "execution_count": 4,
   "id": "04b49b9a",
   "metadata": {},
   "outputs": [
    {
     "name": "stdout",
     "output_type": "stream",
     "text": [
      "nome                       0\n",
      "idLegislaturaInicial       0\n",
      "idLegislaturaFinal         0\n",
      "ufNascimento             985\n",
      "municipioNascimento     1419\n",
      "dtype: int64\n"
     ]
    }
   ],
   "source": [
    "#Verificando os valores nulos.\n",
    "print(df_dep.isnull().sum())"
   ]
  },
  {
   "cell_type": "markdown",
   "id": "513924c5",
   "metadata": {},
   "source": [
    "O arquivo baixado contém os dados de todos os deputados que já passaram pela Câmara. Estamos interessados nos deputados que foram eleitos em 2018 e reeleitos em 2022. Para isso, filtre o *dataframe* de forma a manter somente os deputados que foram eleitos em 2018 (idLegislaturaInicial = 56) e reeleitos em 2022 (idLegislaturaFinal = 57)."
   ]
  },
  {
   "cell_type": "code",
   "execution_count": 5,
   "id": "d44c7a2b",
   "metadata": {},
   "outputs": [],
   "source": [
    "#Filtrando os deputados que foram reeleitos\n",
    "df_dep = df_dep[(df_dep['idLegislaturaInicial'].isin([56])) & (df_dep['idLegislaturaFinal'].isin([57]))]"
   ]
  },
  {
   "cell_type": "markdown",
   "id": "2f536bd5",
   "metadata": {},
   "source": [
    "Agora, vamos baixar os arquivos de despesas de cotas dos deputados. Podemos baixar os arquivos no formato ```.csv```, por ano, a partir da url no formato abaixo:\n",
    "```\n",
    "http://www.camara.leg.br/cotas/Ano-{ano}.csv.zip\n",
    "```\n",
    "em que:\n",
    "\n",
    "{ano} é o ano em que a despesa ocorreu.\n",
    "\n",
    "Baixe os arquivos correspondentes aos anos 2023, 2022 e 2021. Carregue-os em *dataframes* e investigue o seu conteúdo. Limpe-os, mantendo somente as seguintes colunas: ['txNomeParlamentar','sgPartido','txtDescricao','txtFornecedor','vlrDocumento','vlrGlosa','vlrLiquido','datEmissao']. Além disso, faça a conversão da coluna 'datEmissao' para o tipo ```datetime```."
   ]
  },
  {
   "cell_type": "code",
   "execution_count": 6,
   "id": "9b7a1dfd",
   "metadata": {},
   "outputs": [
    {
     "name": "stderr",
     "output_type": "stream",
     "text": [
      "/var/folders/b0/tln1wqx57259sgssw5c6psy40000gn/T/ipykernel_53582/282099250.py:2: DtypeWarning: Columns (27) have mixed types. Specify dtype option on import or set low_memory=False.\n",
      "  df_desp_2023 = pd.read_csv(url, sep=';', encoding='utf-8')\n",
      "/var/folders/b0/tln1wqx57259sgssw5c6psy40000gn/T/ipykernel_53582/282099250.py:5: DtypeWarning: Columns (27) have mixed types. Specify dtype option on import or set low_memory=False.\n",
      "  df_desp_2022 = pd.read_csv(url, sep=';', encoding='utf-8')\n",
      "/var/folders/b0/tln1wqx57259sgssw5c6psy40000gn/T/ipykernel_53582/282099250.py:8: DtypeWarning: Columns (27) have mixed types. Specify dtype option on import or set low_memory=False.\n",
      "  df_desp_2021 = pd.read_csv(url, sep=';', encoding='utf-8')\n"
     ]
    }
   ],
   "source": [
    "url = 'http://www.camara.leg.br/cotas/Ano-2023.csv.zip'\n",
    "df_desp_2023 = pd.read_csv(url, sep=';', encoding='utf-8')\n",
    "\n",
    "url = 'http://www.camara.leg.br/cotas/Ano-2022.csv.zip'\n",
    "df_desp_2022 = pd.read_csv(url, sep=';', encoding='utf-8')\n",
    "\n",
    "url = 'http://www.camara.leg.br/cotas/Ano-2021.csv.zip'\n",
    "df_desp_2021 = pd.read_csv(url, sep=';', encoding='utf-8')"
   ]
  },
  {
   "cell_type": "code",
   "execution_count": 7,
   "id": "199b76d8",
   "metadata": {},
   "outputs": [
    {
     "name": "stdout",
     "output_type": "stream",
     "text": [
      "<class 'pandas.core.frame.DataFrame'>\n",
      "RangeIndex: 136795 entries, 0 to 136794\n",
      "Data columns (total 8 columns):\n",
      " #   Column             Non-Null Count   Dtype         \n",
      "---  ------             --------------   -----         \n",
      " 0   txNomeParlamentar  136795 non-null  object        \n",
      " 1   sgPartido          136285 non-null  object        \n",
      " 2   txtDescricao       136795 non-null  object        \n",
      " 3   txtFornecedor      136795 non-null  object        \n",
      " 4   vlrDocumento       136795 non-null  float64       \n",
      " 5   vlrGlosa           136795 non-null  float64       \n",
      " 6   vlrLiquido         136795 non-null  float64       \n",
      " 7   datEmissao         136282 non-null  datetime64[ns]\n",
      "dtypes: datetime64[ns](1), float64(3), object(4)\n",
      "memory usage: 8.3+ MB\n"
     ]
    }
   ],
   "source": [
    "df_desp_2023 = df_desp_2023[['txNomeParlamentar','sgPartido','txtDescricao','txtFornecedor','vlrDocumento','vlrGlosa','vlrLiquido','datEmissao']]\n",
    "df_desp_2023['datEmissao'] = pd.to_datetime(df_desp_2023['datEmissao'])\n",
    "df_desp_2023.info()"
   ]
  },
  {
   "cell_type": "code",
   "execution_count": 8,
   "id": "40919eb6",
   "metadata": {},
   "outputs": [
    {
     "name": "stdout",
     "output_type": "stream",
     "text": [
      "<class 'pandas.core.frame.DataFrame'>\n",
      "RangeIndex: 208570 entries, 0 to 208569\n",
      "Data columns (total 8 columns):\n",
      " #   Column             Non-Null Count   Dtype         \n",
      "---  ------             --------------   -----         \n",
      " 0   txNomeParlamentar  208570 non-null  object        \n",
      " 1   sgPartido          207943 non-null  object        \n",
      " 2   txtDescricao       208570 non-null  object        \n",
      " 3   txtFornecedor      208570 non-null  object        \n",
      " 4   vlrDocumento       208570 non-null  float64       \n",
      " 5   vlrGlosa           208570 non-null  float64       \n",
      " 6   vlrLiquido         208570 non-null  float64       \n",
      " 7   datEmissao         202455 non-null  datetime64[ns]\n",
      "dtypes: datetime64[ns](1), float64(3), object(4)\n",
      "memory usage: 12.7+ MB\n"
     ]
    }
   ],
   "source": [
    "df_desp_2022 = df_desp_2022[['txNomeParlamentar','sgPartido','txtDescricao','txtFornecedor','vlrDocumento','vlrGlosa','vlrLiquido','datEmissao']]\n",
    "df_desp_2022['datEmissao'] = pd.to_datetime(df_desp_2022['datEmissao'])\n",
    "df_desp_2022.info()"
   ]
  },
  {
   "cell_type": "code",
   "execution_count": 9,
   "id": "869555e2",
   "metadata": {},
   "outputs": [
    {
     "name": "stdout",
     "output_type": "stream",
     "text": [
      "<class 'pandas.core.frame.DataFrame'>\n",
      "RangeIndex: 218438 entries, 0 to 218437\n",
      "Data columns (total 8 columns):\n",
      " #   Column             Non-Null Count   Dtype         \n",
      "---  ------             --------------   -----         \n",
      " 0   txNomeParlamentar  218438 non-null  object        \n",
      " 1   sgPartido          217580 non-null  object        \n",
      " 2   txtDescricao       218438 non-null  object        \n",
      " 3   txtFornecedor      218438 non-null  object        \n",
      " 4   vlrDocumento       218438 non-null  float64       \n",
      " 5   vlrGlosa           218438 non-null  float64       \n",
      " 6   vlrLiquido         218438 non-null  float64       \n",
      " 7   datEmissao         212303 non-null  datetime64[ns]\n",
      "dtypes: datetime64[ns](1), float64(3), object(4)\n",
      "memory usage: 13.3+ MB\n"
     ]
    }
   ],
   "source": [
    "df_desp_2021 = df_desp_2021[['txNomeParlamentar','sgPartido','txtDescricao','txtFornecedor','vlrDocumento','vlrGlosa','vlrLiquido','datEmissao']]\n",
    "df_desp_2021['datEmissao'] = pd.to_datetime(df_desp_2021['datEmissao'])\n",
    "df_desp_2021.info()"
   ]
  },
  {
   "cell_type": "markdown",
   "id": "22835bee",
   "metadata": {},
   "source": [
    "Concatene as três bases de dados de despesas em um único *dataframe*."
   ]
  },
  {
   "cell_type": "code",
   "execution_count": 10,
   "id": "060541ed",
   "metadata": {},
   "outputs": [
    {
     "name": "stdout",
     "output_type": "stream",
     "text": [
      "<class 'pandas.core.frame.DataFrame'>\n",
      "Index: 563803 entries, 0 to 136794\n",
      "Data columns (total 8 columns):\n",
      " #   Column             Non-Null Count   Dtype         \n",
      "---  ------             --------------   -----         \n",
      " 0   txNomeParlamentar  563803 non-null  object        \n",
      " 1   sgPartido          561808 non-null  object        \n",
      " 2   txtDescricao       563803 non-null  object        \n",
      " 3   txtFornecedor      563803 non-null  object        \n",
      " 4   vlrDocumento       563803 non-null  float64       \n",
      " 5   vlrGlosa           563803 non-null  float64       \n",
      " 6   vlrLiquido         563803 non-null  float64       \n",
      " 7   datEmissao         551040 non-null  datetime64[ns]\n",
      "dtypes: datetime64[ns](1), float64(3), object(4)\n",
      "memory usage: 38.7+ MB\n"
     ]
    }
   ],
   "source": [
    "#Concatenando as bases de dados de despesas de 2021 e 2022\n",
    "df_desp_2021_2022_2023 = pd.concat([df_desp_2021,df_desp_2022,df_desp_2023])\n",
    "df_desp_2021_2022_2023.info()"
   ]
  },
  {
   "cell_type": "code",
   "execution_count": 11,
   "id": "38d0a451",
   "metadata": {},
   "outputs": [],
   "source": [
    "#Só estamos interessados nas despesas que possuem data de emissão diferente de null.\n",
    "#Deletar linhas que não contém data de emissão.\n",
    "df_desp_2021_2022_2023 = df_desp_2021_2022_2023[~df_desp_2021_2022_2023['datEmissao'].isnull()]   "
   ]
  },
  {
   "cell_type": "code",
   "execution_count": 12,
   "id": "3a86857a",
   "metadata": {},
   "outputs": [
    {
     "name": "stdout",
     "output_type": "stream",
     "text": [
      "<class 'pandas.core.frame.DataFrame'>\n",
      "Index: 551040 entries, 0 to 136794\n",
      "Data columns (total 8 columns):\n",
      " #   Column             Non-Null Count   Dtype         \n",
      "---  ------             --------------   -----         \n",
      " 0   txNomeParlamentar  551040 non-null  object        \n",
      " 1   sgPartido          549045 non-null  object        \n",
      " 2   txtDescricao       551040 non-null  object        \n",
      " 3   txtFornecedor      551040 non-null  object        \n",
      " 4   vlrDocumento       551040 non-null  float64       \n",
      " 5   vlrGlosa           551040 non-null  float64       \n",
      " 6   vlrLiquido         551040 non-null  float64       \n",
      " 7   datEmissao         551040 non-null  datetime64[ns]\n",
      "dtypes: datetime64[ns](1), float64(3), object(4)\n",
      "memory usage: 37.8+ MB\n"
     ]
    }
   ],
   "source": [
    "df_desp_2021_2022_2023.info()"
   ]
  },
  {
   "cell_type": "markdown",
   "id": "7ca0d7bc",
   "metadata": {},
   "source": [
    "Por fim, faça um merge entre os *dataframes* de deputados e despesas, de forma a manter somente as despesas dos deputados que foram eleitos em 2018 e reeleitos em 2022. Além disso, crie duas novas colunas baseadas na data de emissão da nota fiscal ```datEmissao```; as colunas ```mes``` e ```ano``` conterão o mês e o ano em que a nota fiscal foi emitida. Defina essas duas colunas como indexes do novo *dataframe*.Salve o resultado em um arquivo ```.csv```."
   ]
  },
  {
   "cell_type": "code",
   "execution_count": 13,
   "id": "52366440",
   "metadata": {},
   "outputs": [],
   "source": [
    "#Vamos fazer um inner join do dataframe de deputados com o dataframe de despesas, para cruzar\n",
    "#somente os deputados que tiverem despesas e vice-versa.\n",
    "df_dep_desp = pd.merge(df_dep,df_desp_2021_2022_2023,how='inner',left_on=['nome'],right_on=['txNomeParlamentar'])"
   ]
  },
  {
   "cell_type": "code",
   "execution_count": 14,
   "id": "e0baf402",
   "metadata": {},
   "outputs": [
    {
     "name": "stdout",
     "output_type": "stream",
     "text": [
      "<class 'pandas.core.frame.DataFrame'>\n",
      "RangeIndex: 138696 entries, 0 to 138695\n",
      "Data columns (total 13 columns):\n",
      " #   Column                Non-Null Count   Dtype         \n",
      "---  ------                --------------   -----         \n",
      " 0   nome                  138696 non-null  object        \n",
      " 1   idLegislaturaInicial  138696 non-null  int64         \n",
      " 2   idLegislaturaFinal    138696 non-null  int64         \n",
      " 3   ufNascimento          138696 non-null  object        \n",
      " 4   municipioNascimento   138696 non-null  object        \n",
      " 5   txNomeParlamentar     138696 non-null  object        \n",
      " 6   sgPartido             138696 non-null  object        \n",
      " 7   txtDescricao          138696 non-null  object        \n",
      " 8   txtFornecedor         138696 non-null  object        \n",
      " 9   vlrDocumento          138696 non-null  float64       \n",
      " 10  vlrGlosa              138696 non-null  float64       \n",
      " 11  vlrLiquido            138696 non-null  float64       \n",
      " 12  datEmissao            138696 non-null  datetime64[ns]\n",
      "dtypes: datetime64[ns](1), float64(3), int64(2), object(7)\n",
      "memory usage: 13.8+ MB\n"
     ]
    }
   ],
   "source": [
    "df_dep_desp.info()"
   ]
  },
  {
   "cell_type": "code",
   "execution_count": 15,
   "id": "04b21fa3",
   "metadata": {},
   "outputs": [],
   "source": [
    "#Vamos criar mais duas colunas, mes e ano, e indexar o dataframe com elas\n",
    "df_dep_desp['mes'] = df_dep_desp['datEmissao'].apply(lambda x: int(x.month))\n",
    "df_dep_desp['ano'] = df_dep_desp['datEmissao'].apply(lambda x: int(x.year))\n"
   ]
  },
  {
   "cell_type": "code",
   "execution_count": 16,
   "id": "c66181ab",
   "metadata": {},
   "outputs": [
    {
     "data": {
      "text/html": [
       "<div>\n",
       "<style scoped>\n",
       "    .dataframe tbody tr th:only-of-type {\n",
       "        vertical-align: middle;\n",
       "    }\n",
       "\n",
       "    .dataframe tbody tr th {\n",
       "        vertical-align: top;\n",
       "    }\n",
       "\n",
       "    .dataframe thead th {\n",
       "        text-align: right;\n",
       "    }\n",
       "</style>\n",
       "<table border=\"1\" class=\"dataframe\">\n",
       "  <thead>\n",
       "    <tr style=\"text-align: right;\">\n",
       "      <th></th>\n",
       "      <th></th>\n",
       "      <th>nome</th>\n",
       "      <th>idLegislaturaInicial</th>\n",
       "      <th>idLegislaturaFinal</th>\n",
       "      <th>ufNascimento</th>\n",
       "      <th>municipioNascimento</th>\n",
       "      <th>txNomeParlamentar</th>\n",
       "      <th>sgPartido</th>\n",
       "      <th>txtDescricao</th>\n",
       "      <th>txtFornecedor</th>\n",
       "      <th>vlrDocumento</th>\n",
       "      <th>vlrGlosa</th>\n",
       "      <th>vlrLiquido</th>\n",
       "      <th>datEmissao</th>\n",
       "    </tr>\n",
       "    <tr>\n",
       "      <th>mes</th>\n",
       "      <th>ano</th>\n",
       "      <th></th>\n",
       "      <th></th>\n",
       "      <th></th>\n",
       "      <th></th>\n",
       "      <th></th>\n",
       "      <th></th>\n",
       "      <th></th>\n",
       "      <th></th>\n",
       "      <th></th>\n",
       "      <th></th>\n",
       "      <th></th>\n",
       "      <th></th>\n",
       "      <th></th>\n",
       "    </tr>\n",
       "  </thead>\n",
       "  <tbody>\n",
       "    <tr>\n",
       "      <th>5</th>\n",
       "      <th>2021</th>\n",
       "      <td>Acácio Favacho</td>\n",
       "      <td>56</td>\n",
       "      <td>57</td>\n",
       "      <td>AP</td>\n",
       "      <td>Macapá</td>\n",
       "      <td>Acácio Favacho</td>\n",
       "      <td>MDB</td>\n",
       "      <td>MANUTENÇÃO DE ESCRITÓRIO DE APOIO À ATIVIDADE ...</td>\n",
       "      <td>EDVALDO FRANCISCO DE OLIVEIRA</td>\n",
       "      <td>398.28</td>\n",
       "      <td>0.0</td>\n",
       "      <td>398.28</td>\n",
       "      <td>2021-05-04 00:00:00</td>\n",
       "    </tr>\n",
       "    <tr>\n",
       "      <th>12</th>\n",
       "      <th>2021</th>\n",
       "      <td>Acácio Favacho</td>\n",
       "      <td>56</td>\n",
       "      <td>57</td>\n",
       "      <td>AP</td>\n",
       "      <td>Macapá</td>\n",
       "      <td>Acácio Favacho</td>\n",
       "      <td>MDB</td>\n",
       "      <td>MANUTENÇÃO DE ESCRITÓRIO DE APOIO À ATIVIDADE ...</td>\n",
       "      <td>NELY PRADO MASUKO</td>\n",
       "      <td>5000.00</td>\n",
       "      <td>0.0</td>\n",
       "      <td>5000.00</td>\n",
       "      <td>2021-12-02 00:00:00</td>\n",
       "    </tr>\n",
       "    <tr>\n",
       "      <th>10</th>\n",
       "      <th>2021</th>\n",
       "      <td>Acácio Favacho</td>\n",
       "      <td>56</td>\n",
       "      <td>57</td>\n",
       "      <td>AP</td>\n",
       "      <td>Macapá</td>\n",
       "      <td>Acácio Favacho</td>\n",
       "      <td>MDB</td>\n",
       "      <td>MANUTENÇÃO DE ESCRITÓRIO DE APOIO À ATIVIDADE ...</td>\n",
       "      <td>NELY PRADO MASUKO</td>\n",
       "      <td>5000.00</td>\n",
       "      <td>0.0</td>\n",
       "      <td>5000.00</td>\n",
       "      <td>2021-10-04 00:00:00</td>\n",
       "    </tr>\n",
       "    <tr>\n",
       "      <th>11</th>\n",
       "      <th>2021</th>\n",
       "      <td>Acácio Favacho</td>\n",
       "      <td>56</td>\n",
       "      <td>57</td>\n",
       "      <td>AP</td>\n",
       "      <td>Macapá</td>\n",
       "      <td>Acácio Favacho</td>\n",
       "      <td>MDB</td>\n",
       "      <td>MANUTENÇÃO DE ESCRITÓRIO DE APOIO À ATIVIDADE ...</td>\n",
       "      <td>NELY PRADO MASUKO</td>\n",
       "      <td>5000.00</td>\n",
       "      <td>0.0</td>\n",
       "      <td>5000.00</td>\n",
       "      <td>2021-11-01 00:00:00</td>\n",
       "    </tr>\n",
       "    <tr>\n",
       "      <th>12</th>\n",
       "      <th>2021</th>\n",
       "      <td>Acácio Favacho</td>\n",
       "      <td>56</td>\n",
       "      <td>57</td>\n",
       "      <td>AP</td>\n",
       "      <td>Macapá</td>\n",
       "      <td>Acácio Favacho</td>\n",
       "      <td>MDB</td>\n",
       "      <td>MANUTENÇÃO DE ESCRITÓRIO DE APOIO À ATIVIDADE ...</td>\n",
       "      <td>NELY PRADO MASUKO</td>\n",
       "      <td>5000.00</td>\n",
       "      <td>0.0</td>\n",
       "      <td>5000.00</td>\n",
       "      <td>2021-12-30 00:00:00</td>\n",
       "    </tr>\n",
       "    <tr>\n",
       "      <th>...</th>\n",
       "      <th>...</th>\n",
       "      <td>...</td>\n",
       "      <td>...</td>\n",
       "      <td>...</td>\n",
       "      <td>...</td>\n",
       "      <td>...</td>\n",
       "      <td>...</td>\n",
       "      <td>...</td>\n",
       "      <td>...</td>\n",
       "      <td>...</td>\n",
       "      <td>...</td>\n",
       "      <td>...</td>\n",
       "      <td>...</td>\n",
       "      <td>...</td>\n",
       "    </tr>\n",
       "    <tr>\n",
       "      <th>4</th>\n",
       "      <th>2023</th>\n",
       "      <td>Zé Vitor</td>\n",
       "      <td>56</td>\n",
       "      <td>57</td>\n",
       "      <td>MG</td>\n",
       "      <td>Araguari</td>\n",
       "      <td>Zé Vitor</td>\n",
       "      <td>PL</td>\n",
       "      <td>PASSAGEM AÉREA - SIGEPA</td>\n",
       "      <td>GOL</td>\n",
       "      <td>589.31</td>\n",
       "      <td>0.0</td>\n",
       "      <td>589.31</td>\n",
       "      <td>2023-04-24 12:00:00</td>\n",
       "    </tr>\n",
       "    <tr>\n",
       "      <th>5</th>\n",
       "      <th>2023</th>\n",
       "      <td>Zé Vitor</td>\n",
       "      <td>56</td>\n",
       "      <td>57</td>\n",
       "      <td>MG</td>\n",
       "      <td>Araguari</td>\n",
       "      <td>Zé Vitor</td>\n",
       "      <td>PL</td>\n",
       "      <td>PASSAGEM AÉREA - SIGEPA</td>\n",
       "      <td>TAM</td>\n",
       "      <td>1200.13</td>\n",
       "      <td>0.0</td>\n",
       "      <td>1200.13</td>\n",
       "      <td>2023-05-08 12:00:00</td>\n",
       "    </tr>\n",
       "    <tr>\n",
       "      <th rowspan=\"3\" valign=\"top\">4</th>\n",
       "      <th>2023</th>\n",
       "      <td>Zé Vitor</td>\n",
       "      <td>56</td>\n",
       "      <td>57</td>\n",
       "      <td>MG</td>\n",
       "      <td>Araguari</td>\n",
       "      <td>Zé Vitor</td>\n",
       "      <td>PL</td>\n",
       "      <td>PASSAGEM AÉREA - RPA</td>\n",
       "      <td>Cia Aérea - GOL</td>\n",
       "      <td>78.05</td>\n",
       "      <td>0.0</td>\n",
       "      <td>78.05</td>\n",
       "      <td>2023-04-10 00:00:00</td>\n",
       "    </tr>\n",
       "    <tr>\n",
       "      <th>2023</th>\n",
       "      <td>Zé Vitor</td>\n",
       "      <td>56</td>\n",
       "      <td>57</td>\n",
       "      <td>MG</td>\n",
       "      <td>Araguari</td>\n",
       "      <td>Zé Vitor</td>\n",
       "      <td>PL</td>\n",
       "      <td>PASSAGEM AÉREA - RPA</td>\n",
       "      <td>Cia Aérea - GOL</td>\n",
       "      <td>820.12</td>\n",
       "      <td>0.0</td>\n",
       "      <td>820.12</td>\n",
       "      <td>2023-04-27 00:00:00</td>\n",
       "    </tr>\n",
       "    <tr>\n",
       "      <th>2023</th>\n",
       "      <td>Zé Vitor</td>\n",
       "      <td>56</td>\n",
       "      <td>57</td>\n",
       "      <td>MG</td>\n",
       "      <td>Araguari</td>\n",
       "      <td>Zé Vitor</td>\n",
       "      <td>PL</td>\n",
       "      <td>PASSAGEM AÉREA - RPA</td>\n",
       "      <td>Cia Aérea - GOL</td>\n",
       "      <td>575.27</td>\n",
       "      <td>0.0</td>\n",
       "      <td>575.27</td>\n",
       "      <td>2023-04-28 00:00:00</td>\n",
       "    </tr>\n",
       "  </tbody>\n",
       "</table>\n",
       "<p>138696 rows × 13 columns</p>\n",
       "</div>"
      ],
      "text/plain": [
       "                    nome  idLegislaturaInicial  idLegislaturaFinal  \\\n",
       "mes ano                                                              \n",
       "5   2021  Acácio Favacho                    56                  57   \n",
       "12  2021  Acácio Favacho                    56                  57   \n",
       "10  2021  Acácio Favacho                    56                  57   \n",
       "11  2021  Acácio Favacho                    56                  57   \n",
       "12  2021  Acácio Favacho                    56                  57   \n",
       "...                  ...                   ...                 ...   \n",
       "4   2023        Zé Vitor                    56                  57   \n",
       "5   2023        Zé Vitor                    56                  57   \n",
       "4   2023        Zé Vitor                    56                  57   \n",
       "    2023        Zé Vitor                    56                  57   \n",
       "    2023        Zé Vitor                    56                  57   \n",
       "\n",
       "         ufNascimento municipioNascimento txNomeParlamentar sgPartido  \\\n",
       "mes ano                                                                 \n",
       "5   2021           AP              Macapá    Acácio Favacho       MDB   \n",
       "12  2021           AP              Macapá    Acácio Favacho       MDB   \n",
       "10  2021           AP              Macapá    Acácio Favacho       MDB   \n",
       "11  2021           AP              Macapá    Acácio Favacho       MDB   \n",
       "12  2021           AP              Macapá    Acácio Favacho       MDB   \n",
       "...               ...                 ...               ...       ...   \n",
       "4   2023           MG            Araguari          Zé Vitor        PL   \n",
       "5   2023           MG            Araguari          Zé Vitor        PL   \n",
       "4   2023           MG            Araguari          Zé Vitor        PL   \n",
       "    2023           MG            Araguari          Zé Vitor        PL   \n",
       "    2023           MG            Araguari          Zé Vitor        PL   \n",
       "\n",
       "                                               txtDescricao  \\\n",
       "mes ano                                                       \n",
       "5   2021  MANUTENÇÃO DE ESCRITÓRIO DE APOIO À ATIVIDADE ...   \n",
       "12  2021  MANUTENÇÃO DE ESCRITÓRIO DE APOIO À ATIVIDADE ...   \n",
       "10  2021  MANUTENÇÃO DE ESCRITÓRIO DE APOIO À ATIVIDADE ...   \n",
       "11  2021  MANUTENÇÃO DE ESCRITÓRIO DE APOIO À ATIVIDADE ...   \n",
       "12  2021  MANUTENÇÃO DE ESCRITÓRIO DE APOIO À ATIVIDADE ...   \n",
       "...                                                     ...   \n",
       "4   2023                            PASSAGEM AÉREA - SIGEPA   \n",
       "5   2023                            PASSAGEM AÉREA - SIGEPA   \n",
       "4   2023                               PASSAGEM AÉREA - RPA   \n",
       "    2023                               PASSAGEM AÉREA - RPA   \n",
       "    2023                               PASSAGEM AÉREA - RPA   \n",
       "\n",
       "                          txtFornecedor  vlrDocumento  vlrGlosa  vlrLiquido  \\\n",
       "mes ano                                                                       \n",
       "5   2021  EDVALDO FRANCISCO DE OLIVEIRA        398.28       0.0      398.28   \n",
       "12  2021              NELY PRADO MASUKO       5000.00       0.0     5000.00   \n",
       "10  2021              NELY PRADO MASUKO       5000.00       0.0     5000.00   \n",
       "11  2021              NELY PRADO MASUKO       5000.00       0.0     5000.00   \n",
       "12  2021              NELY PRADO MASUKO       5000.00       0.0     5000.00   \n",
       "...                                 ...           ...       ...         ...   \n",
       "4   2023                            GOL        589.31       0.0      589.31   \n",
       "5   2023                            TAM       1200.13       0.0     1200.13   \n",
       "4   2023                Cia Aérea - GOL         78.05       0.0       78.05   \n",
       "    2023                Cia Aérea - GOL        820.12       0.0      820.12   \n",
       "    2023                Cia Aérea - GOL        575.27       0.0      575.27   \n",
       "\n",
       "                  datEmissao  \n",
       "mes ano                       \n",
       "5   2021 2021-05-04 00:00:00  \n",
       "12  2021 2021-12-02 00:00:00  \n",
       "10  2021 2021-10-04 00:00:00  \n",
       "11  2021 2021-11-01 00:00:00  \n",
       "12  2021 2021-12-30 00:00:00  \n",
       "...                      ...  \n",
       "4   2023 2023-04-24 12:00:00  \n",
       "5   2023 2023-05-08 12:00:00  \n",
       "4   2023 2023-04-10 00:00:00  \n",
       "    2023 2023-04-27 00:00:00  \n",
       "    2023 2023-04-28 00:00:00  \n",
       "\n",
       "[138696 rows x 13 columns]"
      ]
     },
     "execution_count": 16,
     "metadata": {},
     "output_type": "execute_result"
    }
   ],
   "source": [
    "df_dep_desp.set_index(['mes','ano'],inplace=True)\n",
    "df_dep_desp"
   ]
  },
  {
   "cell_type": "code",
   "execution_count": 17,
   "id": "ff6dae70",
   "metadata": {},
   "outputs": [],
   "source": [
    "df_dep_desp.to_csv('./data/df_dep_desp.csv')"
   ]
  },
  {
   "cell_type": "code",
   "execution_count": null,
   "id": "66abd490",
   "metadata": {},
   "outputs": [],
   "source": []
  }
 ],
 "metadata": {
  "kernelspec": {
   "display_name": "enap",
   "language": "python",
   "name": "python3"
  },
  "language_info": {
   "codemirror_mode": {
    "name": "ipython",
    "version": 3
   },
   "file_extension": ".py",
   "mimetype": "text/x-python",
   "name": "python",
   "nbconvert_exporter": "python",
   "pygments_lexer": "ipython3",
   "version": "3.10.6"
  }
 },
 "nbformat": 4,
 "nbformat_minor": 5
}
