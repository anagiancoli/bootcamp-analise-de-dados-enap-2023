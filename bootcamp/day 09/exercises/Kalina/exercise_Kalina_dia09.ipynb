{
 "cells": [
  {
   "cell_type": "markdown",
   "id": "7eb58741",
   "metadata": {},
   "source": [
    "# Exercícios - Tratamento dos Dados 🪢"
   ]
  },
  {
   "cell_type": "markdown",
   "id": "70ccecfd",
   "metadata": {},
   "source": [
    "Nos exercícios da aula 04, começamos a explorar as despesas de cotas dos parlamentares da Câmara dos Deputados, através dos conjuntos de dados disponíveis \n",
    "no Portal de Dados Aberto (https://dadosabertos.camara.leg.br/). Nos exercícios\n",
    "desta aula, vamos exercitar como tratar de forma apropriada os dados disponibilizados\n",
    "em conjuntos de dados diferentes, de forma a continuar a preparar uma base de dados limpa e organizada para realizar o nosso trabalho como analistas 🔎."
   ]
  },
  {
   "cell_type": "markdown",
   "id": "7831c770",
   "metadata": {},
   "source": [
    "Vamos primeiro carregar os dados relativos aos deputados. Carregue o arquivo do tipo ```.csv``` em um *dataframe* utilizando a url abaixo e investigue o seu conteúdo. Limpe-o, mantendo somente as colunas mais relevantes (nome, ufNascimento, municipioNascimento, idLegislaturaInicial, idLegislaturaFinal)."
   ]
  },
  {
   "cell_type": "code",
   "execution_count": null,
   "id": "ba139681",
   "metadata": {},
   "outputs": [],
   "source": []
  },
  {
   "cell_type": "markdown",
   "id": "513924c5",
   "metadata": {},
   "source": [
    "O arquivo baixado contém os dados de todos os deputados que já passaram pela Câmara. Estamos interessados nos deputados que foram eleitos em 2018 e reeleitos em 2022. Para isso, filtre o *dataframe* de forma a manter somente os deputados que foram eleitos em 2018 (idLegislaturaInicial = 56) e reeleitos em 2022 (idLegislaturaFinal = 57)."
   ]
  },
  {
   "cell_type": "code",
   "execution_count": null,
   "id": "8a9188b2",
   "metadata": {},
   "outputs": [],
   "source": []
  },
  {
   "cell_type": "markdown",
   "id": "2f536bd5",
   "metadata": {},
   "source": [
    "Agora, vamos baixar os arquivos de despesas de cotas dos deputados. Podemos baixar os arquivos no formato ```.csv```, por ano, a partir da url no formato abaixo:\n",
    "```\n",
    "http://www.camara.leg.br/cotas/Ano-{ano}.csv.zip\n",
    "```\n",
    "em que:\n",
    "\n",
    "{ano} é o ano em que a despesa ocorreu.\n",
    "\n",
    "Baixe os arquivos correspondentes aos anos 2023, 2022 e 2021. Carregue-os em *dataframes* e investigue o seu conteúdo. Limpe-os, mantendo somente as seguintes colunas: ['txNomeParlamentar','sgPartido','txtDescricao','txtFornecedor','vlrDocumento','vlrGlosa','vlrLiquido','datEmissao']. Além disso, faça a conversão da coluna 'datEmissao' para o tipo ```datetime```."
   ]
  },
  {
   "cell_type": "code",
   "execution_count": null,
   "id": "d2f7f6c1",
   "metadata": {},
   "outputs": [],
   "source": []
  },
  {
   "cell_type": "markdown",
   "id": "22835bee",
   "metadata": {},
   "source": [
    "Concatene as três bases de dados de despesas em um único *dataframe*."
   ]
  },
  {
   "cell_type": "code",
   "execution_count": null,
   "id": "665bea2c",
   "metadata": {},
   "outputs": [],
   "source": []
  },
  {
   "cell_type": "markdown",
   "id": "7ca0d7bc",
   "metadata": {},
   "source": [
    "Por fim, faça um merge entre os *dataframes* de deputados e despesas, de forma a manter somente as despesas dos deputados que foram eleitos em 2018 e reeleitos em 2022. Além disso, crie duas novas colunas baseadas na data de emissão da nota fiscal ```datEmissao```; as colunas ```mes``` e ```ano``` conterão o mês e o ano em que a nota fiscal foi emitida. Defina essas duas colunas como indexes do novo *dataframe*.Salve o resultado em um arquivo ```.csv```."
   ]
  },
  {
   "cell_type": "code",
   "execution_count": null,
   "id": "66abd490",
   "metadata": {},
   "outputs": [],
   "source": []
  }
 ],
 "metadata": {
  "kernelspec": {
   "display_name": "enap",
   "language": "python",
   "name": "python3"
  },
  "language_info": {
   "codemirror_mode": {
    "name": "ipython",
    "version": 3
   },
   "file_extension": ".py",
   "mimetype": "text/x-python",
   "name": "python",
   "nbconvert_exporter": "python",
   "pygments_lexer": "ipython3",
   "version": "3.10.6"
  }
 },
 "nbformat": 4,
 "nbformat_minor": 5
}
