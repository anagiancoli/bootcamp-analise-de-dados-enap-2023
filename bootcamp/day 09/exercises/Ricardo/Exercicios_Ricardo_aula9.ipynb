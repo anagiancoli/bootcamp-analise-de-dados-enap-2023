{
 "cells": [
  {
   "cell_type": "markdown",
   "id": "404b6e30",
   "metadata": {},
   "source": [
    "# No exercício da aula sobre Análise de Dados em Alto Desempenho, criamos um dataframe com informações de mulheres, trabalhadoras do mercado formal de trabalho, que utilizaremos nessa aula.\n"
   ]
  },
  {
   "cell_type": "code",
   "execution_count": 2,
   "id": "65c879ae",
   "metadata": {},
   "outputs": [],
   "source": [
    "import pandas as pd\n",
    "url= ('https://github.com/thaissalzer/thaissalzer/blob/9f8739186278cd535fcff5a8f75c3322ec506cfc/mulheres.xlsx?raw=true')\n",
    "df= pd.read_excel(url)"
   ]
  },
  {
   "cell_type": "code",
   "execution_count": 3,
   "id": "03b7798f",
   "metadata": {},
   "outputs": [
    {
     "data": {
      "text/html": [
       "<div>\n",
       "<style scoped>\n",
       "    .dataframe tbody tr th:only-of-type {\n",
       "        vertical-align: middle;\n",
       "    }\n",
       "\n",
       "    .dataframe tbody tr th {\n",
       "        vertical-align: top;\n",
       "    }\n",
       "\n",
       "    .dataframe thead th {\n",
       "        text-align: right;\n",
       "    }\n",
       "</style>\n",
       "<table border=\"1\" class=\"dataframe\">\n",
       "  <thead>\n",
       "    <tr style=\"text-align: right;\">\n",
       "      <th></th>\n",
       "      <th>uf</th>\n",
       "      <th>genero</th>\n",
       "      <th>fx_etaria</th>\n",
       "      <th>escolaridade</th>\n",
       "      <th>tamestab</th>\n",
       "      <th>rem_dezem</th>\n",
       "      <th>temp_empr</th>\n",
       "      <th>salario</th>\n",
       "    </tr>\n",
       "  </thead>\n",
       "  <tbody>\n",
       "    <tr>\n",
       "      <th>0</th>\n",
       "      <td>SP</td>\n",
       "      <td>FEMININO</td>\n",
       "      <td>50 A 64</td>\n",
       "      <td>SUP. COMP</td>\n",
       "      <td>DE 500 A 999</td>\n",
       "      <td>48.689999</td>\n",
       "      <td>416.600010</td>\n",
       "      <td>20206.349585</td>\n",
       "    </tr>\n",
       "    <tr>\n",
       "      <th>1</th>\n",
       "      <td>SP</td>\n",
       "      <td>FEMININO</td>\n",
       "      <td>50 A 64</td>\n",
       "      <td>SUP. COMP</td>\n",
       "      <td>1000 OU MAIS</td>\n",
       "      <td>4.240000</td>\n",
       "      <td>172.600010</td>\n",
       "      <td>1759.599917</td>\n",
       "    </tr>\n",
       "    <tr>\n",
       "      <th>2</th>\n",
       "      <td>RJ</td>\n",
       "      <td>FEMININO</td>\n",
       "      <td>50 A 64</td>\n",
       "      <td>SUP. COMP</td>\n",
       "      <td>1000 OU MAIS</td>\n",
       "      <td>20.559999</td>\n",
       "      <td>350.399990</td>\n",
       "      <td>8532.399585</td>\n",
       "    </tr>\n",
       "    <tr>\n",
       "      <th>3</th>\n",
       "      <td>SP</td>\n",
       "      <td>FEMININO</td>\n",
       "      <td>40 A 49</td>\n",
       "      <td>SUP. COMP</td>\n",
       "      <td>DE 50 A 99</td>\n",
       "      <td>14.590000</td>\n",
       "      <td>46.299999</td>\n",
       "      <td>6054.850000</td>\n",
       "    </tr>\n",
       "    <tr>\n",
       "      <th>4</th>\n",
       "      <td>AM</td>\n",
       "      <td>FEMININO</td>\n",
       "      <td>50 A 64</td>\n",
       "      <td>SUP. COMP</td>\n",
       "      <td>DE 50 A 99</td>\n",
       "      <td>11.730000</td>\n",
       "      <td>418.899990</td>\n",
       "      <td>4867.950000</td>\n",
       "    </tr>\n",
       "  </tbody>\n",
       "</table>\n",
       "</div>"
      ],
      "text/plain": [
       "   uf    genero fx_etaria escolaridade      tamestab  rem_dezem   temp_empr  \\\n",
       "0  SP  FEMININO   50 A 64    SUP. COMP  DE 500 A 999  48.689999  416.600010   \n",
       "1  SP  FEMININO   50 A 64    SUP. COMP  1000 OU MAIS   4.240000  172.600010   \n",
       "2  RJ  FEMININO   50 A 64    SUP. COMP  1000 OU MAIS  20.559999  350.399990   \n",
       "3  SP  FEMININO   40 A 49    SUP. COMP    DE 50 A 99  14.590000   46.299999   \n",
       "4  AM  FEMININO   50 A 64    SUP. COMP    DE 50 A 99  11.730000  418.899990   \n",
       "\n",
       "        salario  \n",
       "0  20206.349585  \n",
       "1   1759.599917  \n",
       "2   8532.399585  \n",
       "3   6054.850000  \n",
       "4   4867.950000  "
      ]
     },
     "execution_count": 3,
     "metadata": {},
     "output_type": "execute_result"
    }
   ],
   "source": [
    "df.head()"
   ]
  },
  {
   "cell_type": "markdown",
   "id": "a8e3dafb",
   "metadata": {},
   "source": [
    "# Quantas trabalhadoras temos por Unidade Federativa?"
   ]
  },
  {
   "cell_type": "code",
   "execution_count": null,
   "id": "f64971a2",
   "metadata": {},
   "outputs": [],
   "source": []
  },
  {
   "cell_type": "markdown",
   "id": "1fa7b1cb",
   "metadata": {},
   "source": [
    "# O pesquisador pode estar interessado em saber se as Unidades da Federação (UF) que possuem maior PIB per capta tendem a pagar maiores salários.\n",
    "\n",
    "Crie um dataframe de nome 'estados' com as colunas de nome da UF('uf') e pib per capita de cada UF ('PIBPC_estado'), conforme dados abaixo\n",
    "\n"
   ]
  },
  {
   "cell_type": "markdown",
   "id": "6d87301e",
   "metadata": {},
   "source": [
    "Informações de PIB per capita por estado em 2008:\n",
    "\n",
    "fonte: https://biblioteca.ibge.gov.br/visualizacao/livros/liv46710.pdf\n",
    "\n",
    "- uf   /  PIBPC_estado\n",
    "\n",
    "\n",
    "- SP         24456\n",
    "- MG         14232\n",
    "- RJ         21621\n",
    "- RS         18378\n",
    "- PR         16927\n",
    "- BA         8378\n",
    "- CE         7111\n",
    "- SC         20368\n",
    "- PE         8064\n",
    "- GO         12878\n",
    "- DF         45977\n",
    "- PA         7992\n",
    "- MA         6103\n",
    "- PB         6865\n",
    "- PI         5372\n",
    "- ES         20230\n",
    "- RN         8202\n",
    "- AL         6227\n",
    "- AM         14014\n",
    "- SE         9778\n",
    "- MS         14188\n",
    "- MT         17927\n",
    "- AC         9896\n",
    "- TO         10223\n",
    "- RO         11976\n",
    "- AP         11032\n",
    "- RR         11844"
   ]
  },
  {
   "cell_type": "code",
   "execution_count": null,
   "id": "0dac1a95",
   "metadata": {},
   "outputs": [],
   "source": []
  },
  {
   "cell_type": "code",
   "execution_count": null,
   "id": "8e5b948d",
   "metadata": {},
   "outputs": [],
   "source": []
  },
  {
   "cell_type": "markdown",
   "id": "216eef00",
   "metadata": {},
   "source": [
    "# Faça a combinação do dataframe \"df\" (com informações das trabalhadoras) com o dataframe \"estados\", de forma que para cada observação referente a uma trabalhadora seja acrescentada a informação de PIB per capta do estado que ela trabalha. Utilize o método how='inner'.\n",
    "\n",
    "A chave para combinação é a variável uf."
   ]
  },
  {
   "cell_type": "code",
   "execution_count": null,
   "id": "d3cf5b86",
   "metadata": {},
   "outputs": [],
   "source": []
  },
  {
   "cell_type": "code",
   "execution_count": null,
   "id": "ab245252",
   "metadata": {},
   "outputs": [],
   "source": []
  },
  {
   "cell_type": "markdown",
   "id": "c118597f",
   "metadata": {},
   "source": [
    "# Nesse caso, faria diferença usar o Left Outer Join ou o Right Outer Join ou o Outer Join?"
   ]
  },
  {
   "cell_type": "code",
   "execution_count": null,
   "id": "55f8cbeb",
   "metadata": {},
   "outputs": [],
   "source": []
  },
  {
   "cell_type": "code",
   "execution_count": null,
   "id": "03195af3",
   "metadata": {},
   "outputs": [],
   "source": []
  },
  {
   "cell_type": "code",
   "execution_count": null,
   "id": "9348ddff",
   "metadata": {},
   "outputs": [],
   "source": []
  },
  {
   "cell_type": "markdown",
   "id": "86eed85e",
   "metadata": {},
   "source": [
    "# Crie um novo dataframe de nome 'amostra' com uma amostra aleatória sem reposição de 20 mulheres do dataframe df"
   ]
  },
  {
   "cell_type": "code",
   "execution_count": null,
   "id": "64ba857e",
   "metadata": {},
   "outputs": [],
   "source": []
  },
  {
   "cell_type": "code",
   "execution_count": null,
   "id": "d1d6e520",
   "metadata": {},
   "outputs": [],
   "source": []
  },
  {
   "cell_type": "markdown",
   "id": "069e3c89",
   "metadata": {},
   "source": [
    "# Faça a combinação do dataframe amostra com o dataframe estados, de forma que para cada observação referente a uma trabalhadora seja acrescentada a informação de PIB per capta do estado que ela trabalha.\n",
    "\n",
    "\n",
    "Qual tipo de merge você deve usar dessa vez?\n",
    "\n",
    "O que acontece se você utilizar o Outer Join?"
   ]
  },
  {
   "cell_type": "code",
   "execution_count": null,
   "id": "30a183c8",
   "metadata": {},
   "outputs": [],
   "source": []
  },
  {
   "cell_type": "code",
   "execution_count": null,
   "id": "01f01611",
   "metadata": {},
   "outputs": [],
   "source": []
  },
  {
   "cell_type": "code",
   "execution_count": null,
   "id": "f417a336",
   "metadata": {},
   "outputs": [],
   "source": []
  },
  {
   "cell_type": "code",
   "execution_count": null,
   "id": "464123b4",
   "metadata": {},
   "outputs": [],
   "source": []
  }
 ],
 "metadata": {
  "kernelspec": {
   "display_name": "Python 3 (ipykernel)",
   "language": "python",
   "name": "python3"
  },
  "language_info": {
   "codemirror_mode": {
    "name": "ipython",
    "version": 3
   },
   "file_extension": ".py",
   "mimetype": "text/x-python",
   "name": "python",
   "nbconvert_exporter": "python",
   "pygments_lexer": "ipython3",
   "version": "3.9.13"
  }
 },
 "nbformat": 4,
 "nbformat_minor": 5
}
