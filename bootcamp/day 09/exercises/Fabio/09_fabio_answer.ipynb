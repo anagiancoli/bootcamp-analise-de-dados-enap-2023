{
 "cells": [
  {
   "cell_type": "markdown",
   "id": "f21e023d",
   "metadata": {},
   "source": [
    "# Explorando as estatísticas de gênero do Banco Mundial"
   ]
  },
  {
   "cell_type": "markdown",
   "id": "45c2ea6f",
   "metadata": {},
   "source": [
    "Seguiremos investigando as base do Banco Mundial de estatísticas relacionadas a gênero. \n",
    "\n",
    "Hoje vamos explorar a série histórica das taxas de fecundidade entre jovens, agrupadas por região geográfica, que foram utilizadas no artigo [The Social and Educational Consequences of Adolescent Childbearing](https://genderdata.worldbank.org/data-stories/adolescent-fertility/).\n"
   ]
  },
  {
   "cell_type": "code",
   "execution_count": 18,
   "id": "62643f9b",
   "metadata": {},
   "outputs": [],
   "source": [
    "import wbgapi as wb\n",
    "import pandas as pd"
   ]
  },
  {
   "cell_type": "markdown",
   "id": "aa916d87",
   "metadata": {},
   "source": [
    "Vamos buscar e organizar os códigos e nomes das regiões geográficas da base de dados."
   ]
  },
  {
   "cell_type": "code",
   "execution_count": 19,
   "id": "e55d8696",
   "metadata": {},
   "outputs": [],
   "source": [
    "region_info = wb.region.info()"
   ]
  },
  {
   "cell_type": "markdown",
   "id": "88aa8639",
   "metadata": {},
   "source": [
    "A partir do objeto retornado pela consulta, crie um dicionário chamado **region_dict**. Este dicionário conterá **dois** itens. Suas chaves são **region_code** e **region_name**. Seus valores são listas. A lista da chave **region_code** contém os códigos das regiões geográficas, e a lista da chave **region_name** contém os nomes das regiões geográficas. \n",
    "\n",
    "*dica*: explore o atributo **items** do objeto **region_info**."
   ]
  },
  {
   "cell_type": "code",
   "execution_count": 20,
   "id": "855cc7f8",
   "metadata": {},
   "outputs": [],
   "source": [
    "region_dict = {\"region_code\": [region.get('code') for region in region_info.items],\n",
    "               \"region_name\": [region.get('name') for region in region_info.items]}"
   ]
  },
  {
   "cell_type": "code",
   "execution_count": 21,
   "id": "4b9cf52e",
   "metadata": {
    "collapsed": true
   },
   "outputs": [
    {
     "data": {
      "text/plain": [
       "{'region_code': ['AFE',\n",
       "  'AFR',\n",
       "  'AFW',\n",
       "  'ARB',\n",
       "  'CAA',\n",
       "  'CEA',\n",
       "  'CEB',\n",
       "  'CEU',\n",
       "  'CLA',\n",
       "  'CME',\n",
       "  'CSA',\n",
       "  'CSS',\n",
       "  'EAP',\n",
       "  'EAR',\n",
       "  'EAS',\n",
       "  'ECA',\n",
       "  'ECS',\n",
       "  'EMU',\n",
       "  'EUU',\n",
       "  'FCS',\n",
       "  'HPC',\n",
       "  'LAC',\n",
       "  'LCN',\n",
       "  'LDC',\n",
       "  'LTE',\n",
       "  'MDE',\n",
       "  'MEA',\n",
       "  'MNA',\n",
       "  'NAC',\n",
       "  'NAF',\n",
       "  'NRS',\n",
       "  'OED',\n",
       "  'OSS',\n",
       "  'PRE',\n",
       "  'PSS',\n",
       "  'PST',\n",
       "  'RRS',\n",
       "  'SAS',\n",
       "  'SSA',\n",
       "  'SSF',\n",
       "  'SST',\n",
       "  'SXZ',\n",
       "  'WLD',\n",
       "  'XZN'],\n",
       " 'region_name': ['Africa Eastern and Southern',\n",
       "  'Africa',\n",
       "  'Africa Western and Central',\n",
       "  'Arab World',\n",
       "  'Sub-Saharan Africa (IFC classification)',\n",
       "  'East Asia and the Pacific (IFC classification)',\n",
       "  'Central Europe and the Baltics',\n",
       "  'Europe and Central Asia (IFC classification)',\n",
       "  'Latin America and the Caribbean (IFC classification)',\n",
       "  'Middle East and North Africa (IFC classification)',\n",
       "  'South Asia (IFC classification)',\n",
       "  'Caribbean small states',\n",
       "  'East Asia & Pacific (excluding high income)',\n",
       "  'Early-demographic dividend',\n",
       "  'East Asia & Pacific',\n",
       "  'Europe & Central Asia (excluding high income)',\n",
       "  'Europe & Central Asia',\n",
       "  'Euro area',\n",
       "  'European Union',\n",
       "  'Fragile and conflict affected situations',\n",
       "  'Heavily indebted poor countries (HIPC)',\n",
       "  'Latin America & Caribbean (excluding high income)',\n",
       "  'Latin America & Caribbean ',\n",
       "  'Least developed countries: UN classification',\n",
       "  'Late-demographic dividend',\n",
       "  'Middle East (developing only)',\n",
       "  'Middle East & North Africa',\n",
       "  'Middle East & North Africa (excluding high income)',\n",
       "  'North America',\n",
       "  'North Africa',\n",
       "  'Non-resource rich Sub-Saharan Africa countries',\n",
       "  'OECD members',\n",
       "  'Other small states',\n",
       "  'Pre-demographic dividend',\n",
       "  'Pacific island small states',\n",
       "  'Post-demographic dividend',\n",
       "  'Resource rich Sub-Saharan Africa countries',\n",
       "  'South Asia',\n",
       "  'Sub-Saharan Africa (excluding high income)',\n",
       "  'Sub-Saharan Africa ',\n",
       "  'Small states',\n",
       "  'Sub-Saharan Africa excluding South Africa',\n",
       "  'World',\n",
       "  'Sub-Saharan Africa excluding South Africa and Nigeria']}"
      ]
     },
     "execution_count": 21,
     "metadata": {},
     "output_type": "execute_result"
    }
   ],
   "source": [
    "region_dict"
   ]
  },
  {
   "cell_type": "markdown",
   "id": "e9128979",
   "metadata": {},
   "source": [
    "Com este formato de dicionário, você consegue facilmente criar um DataFrame Pandas. A função pandas.Dataframe() automaticamente interpreta as chaves do dicionário como os nomes das colunas, e os valores como as linhas. \n",
    "\n",
    "Crie o DataFrame **region_df** a partir do dicionário **region_dict**."
   ]
  },
  {
   "cell_type": "code",
   "execution_count": 22,
   "id": "1c260c4e",
   "metadata": {},
   "outputs": [],
   "source": [
    "region_df = pd.DataFrame(region_dict)"
   ]
  },
  {
   "cell_type": "markdown",
   "id": "05ab9ae3",
   "metadata": {},
   "source": [
    "Vamos consultar a série histórica completa 'SP.ADO.TFRT' referente à taxa de fecundidade entre jovens de 15 a 19 anos. \n",
    "\n",
    "Para restringir a consulta a somente regiões geográficas (não queremos que a consulta retorne dados de países ou de grupos de renda), vamos passar, no argumento **economy** da função, os códigos das regiões. \n",
    "\n",
    "Você pode acessá-los diretamente do DataFrame ou do dicionário. "
   ]
  },
  {
   "cell_type": "code",
   "execution_count": 23,
   "id": "1654bc52",
   "metadata": {},
   "outputs": [],
   "source": [
    "serie_afr = wb.data.DataFrame(series = ['SP.ADO.TFRT'], \n",
    "                              # economy =  ,\n",
    "                              economy = region_df['region_code'],\n",
    "                              time = \"all\")"
   ]
  },
  {
   "cell_type": "markdown",
   "id": "f61179ab",
   "metadata": {},
   "source": [
    "Investigue a base de dados. O formato padrão de retorno dessa consulta é um DataFrame com os códigos de país/região nos índices e os anos nas colunas. \n",
    "\n",
    "Exclua do DataFrame as colunas em que todos os valores são indisponíveis (no caso, **NaN**)."
   ]
  },
  {
   "cell_type": "code",
   "execution_count": 24,
   "id": "eb0a616b",
   "metadata": {
    "scrolled": true
   },
   "outputs": [],
   "source": [
    "serie_afr.dropna(axis=1, how = 'all', inplace = True)"
   ]
  },
  {
   "cell_type": "markdown",
   "id": "2ac55dce",
   "metadata": {},
   "source": [
    "Vamos reorganizar este DataFrame de modo a manter as regiões como índices, os anos em uma coluna **year** e as taxas em uma coluna **af_rate**."
   ]
  },
  {
   "cell_type": "code",
   "execution_count": 40,
   "id": "97f729d5",
   "metadata": {},
   "outputs": [],
   "source": [
    "serie_afr_long = serie_afr.melt(var_name = \"year\", \n",
    "                                value_name = \"af_rate\", \n",
    "                                ignore_index = False)"
   ]
  },
  {
   "cell_type": "markdown",
   "id": "9af02cf4",
   "metadata": {},
   "source": [
    "Agora entra em cena o DataFrame **region_df** que você criou há pouco. Adicione ao DataFrame de taxas de fecundidade uma coluna com os respectivos nomes das regiões. \n",
    "\n",
    "Após a junção das tabelas, retorne a coluna com os códigos das regiões ao índice do DataFrame."
   ]
  },
  {
   "cell_type": "code",
   "execution_count": 41,
   "id": "541adccf",
   "metadata": {
    "scrolled": true
   },
   "outputs": [],
   "source": [
    "serie_afr_long = (serie_afr_long\n",
    "                 .merge(right = region_df, \n",
    "                        how = \"inner\", \n",
    "                        left_on = \"economy\", \n",
    "                        right_on = \"region_code\")\n",
    "                 .set_index(\"region_code\"))"
   ]
  },
  {
   "cell_type": "markdown",
   "id": "fbe2c784",
   "metadata": {},
   "source": [
    "Por fim, formate os valores da coluna **year**, mantendo somente os números."
   ]
  },
  {
   "cell_type": "code",
   "execution_count": 38,
   "id": "d4c0cccb",
   "metadata": {
    "scrolled": false
   },
   "outputs": [],
   "source": [
    "# uma opção\n",
    "\n",
    "serie_afr_long[\"year\"] = serie_afr_long.year.map(lambda s: s.strip(\"YR\"))"
   ]
  },
  {
   "cell_type": "code",
   "execution_count": null,
   "id": "7f3edeb1",
   "metadata": {},
   "outputs": [],
   "source": [
    "# outra opção\n",
    "\n",
    "serie_afr_long[\"year\"] = serie_afr_long.year.str.strip(\"YR\")"
   ]
  },
  {
   "cell_type": "code",
   "execution_count": 42,
   "id": "a538428a",
   "metadata": {},
   "outputs": [],
   "source": [
    "# outra opção\n",
    "\n",
    "serie_afr_long = serie_afr_long.assign(year = lambda y: y['year'].str.strip(\"YR\"))"
   ]
  },
  {
   "cell_type": "markdown",
   "id": "b9814993",
   "metadata": {},
   "source": [
    "# Explorando as estatísticas brasileiras de comércio exterior."
   ]
  },
  {
   "cell_type": "markdown",
   "id": "1cc69690",
   "metadata": {},
   "source": [
    "Vamos criar um DataFrame com as importações, exportações e saldo comercial bilateral do Brasil com seus parceiros comerciais, de 2012 a 2022, em milhões de dólares americanos."
   ]
  },
  {
   "cell_type": "markdown",
   "id": "e9fd7d8d",
   "metadata": {},
   "source": [
    "Primeiro, crie os DataFrames **serie_imp** e **serie_exp** a partir dos arquivos .csv disponíveis na pasta **./data/**. Os arquivos contêm os valores *Free on Board* em dólares americanos das importações/exportações por país e ano."
   ]
  },
  {
   "cell_type": "code",
   "execution_count": 2,
   "id": "9bc66852",
   "metadata": {
    "scrolled": true
   },
   "outputs": [],
   "source": [
    "serie_imp = pd.read_csv(\"data/IMP_2012_2022_20230921.csv\", sep = \";\")\n",
    "serie_exp = pd.read_csv(\"data/EXP_2012_2022_20230921.csv\", sep = \";\")"
   ]
  },
  {
   "cell_type": "code",
   "execution_count": 5,
   "id": "40ce9da1",
   "metadata": {},
   "outputs": [],
   "source": [
    "serie_imp['vl_usd_milhoes'] = serie_imp['valor_fob_usd'] / 1e6"
   ]
  },
  {
   "cell_type": "markdown",
   "id": "1e6a88a3",
   "metadata": {},
   "source": [
    "Crie as colunas **vl_usd_milhoes**, com os valores em milhões de dólares, em ambos DataFrames. Remove as colunas de valor originais."
   ]
  },
  {
   "cell_type": "code",
   "execution_count": 6,
   "id": "5c4a087e",
   "metadata": {
    "scrolled": true
   },
   "outputs": [],
   "source": [
    "serie_imp['vl_usd_milhoes'] = serie_imp['valor_fob_usd'].map(lambda x: x / 1e6)\n",
    "serie_exp['vl_usd_milhoes'] = serie_exp['valor_fob_usd'].map(lambda x: x / 1e6)\n",
    "\n",
    "serie_imp.drop('valor_fob_usd', axis = 1, inplace = True)\n",
    "serie_exp.drop('valor_fob_usd', axis = 1, inplace = True)"
   ]
  },
  {
   "cell_type": "code",
   "execution_count": 12,
   "id": "93ea392b",
   "metadata": {},
   "outputs": [
    {
     "data": {
      "text/html": [
       "<div>\n",
       "<style scoped>\n",
       "    .dataframe tbody tr th:only-of-type {\n",
       "        vertical-align: middle;\n",
       "    }\n",
       "\n",
       "    .dataframe tbody tr th {\n",
       "        vertical-align: top;\n",
       "    }\n",
       "\n",
       "    .dataframe thead th {\n",
       "        text-align: right;\n",
       "    }\n",
       "</style>\n",
       "<table border=\"1\" class=\"dataframe\">\n",
       "  <thead>\n",
       "    <tr style=\"text-align: right;\">\n",
       "      <th></th>\n",
       "      <th>ano</th>\n",
       "      <th>país</th>\n",
       "      <th>vl_usd_milhoes</th>\n",
       "    </tr>\n",
       "  </thead>\n",
       "  <tbody>\n",
       "    <tr>\n",
       "      <th>0</th>\n",
       "      <td>2022</td>\n",
       "      <td>China</td>\n",
       "      <td>89427.761284</td>\n",
       "    </tr>\n",
       "    <tr>\n",
       "      <th>1</th>\n",
       "      <td>2022</td>\n",
       "      <td>Estados Unidos</td>\n",
       "      <td>37437.814354</td>\n",
       "    </tr>\n",
       "    <tr>\n",
       "      <th>2</th>\n",
       "      <td>2022</td>\n",
       "      <td>Argentina</td>\n",
       "      <td>15344.651930</td>\n",
       "    </tr>\n",
       "    <tr>\n",
       "      <th>3</th>\n",
       "      <td>2022</td>\n",
       "      <td>Países Baixos (Holanda)</td>\n",
       "      <td>11927.910064</td>\n",
       "    </tr>\n",
       "    <tr>\n",
       "      <th>4</th>\n",
       "      <td>2022</td>\n",
       "      <td>Espanha</td>\n",
       "      <td>9747.538076</td>\n",
       "    </tr>\n",
       "    <tr>\n",
       "      <th>...</th>\n",
       "      <td>...</td>\n",
       "      <td>...</td>\n",
       "      <td>...</td>\n",
       "    </tr>\n",
       "    <tr>\n",
       "      <th>2601</th>\n",
       "      <td>2012</td>\n",
       "      <td>Wake, Ilha</td>\n",
       "      <td>0.003191</td>\n",
       "    </tr>\n",
       "    <tr>\n",
       "      <th>2602</th>\n",
       "      <td>2012</td>\n",
       "      <td>Madeira, Ilha da</td>\n",
       "      <td>0.002392</td>\n",
       "    </tr>\n",
       "    <tr>\n",
       "      <th>2603</th>\n",
       "      <td>2012</td>\n",
       "      <td>Canal, Ilhas do (Guernsey)</td>\n",
       "      <td>0.001305</td>\n",
       "    </tr>\n",
       "    <tr>\n",
       "      <th>2604</th>\n",
       "      <td>2012</td>\n",
       "      <td>Marianas do Norte, Ilhas</td>\n",
       "      <td>0.001092</td>\n",
       "    </tr>\n",
       "    <tr>\n",
       "      <th>2605</th>\n",
       "      <td>2012</td>\n",
       "      <td>Vaticano</td>\n",
       "      <td>0.000930</td>\n",
       "    </tr>\n",
       "  </tbody>\n",
       "</table>\n",
       "<p>2606 rows × 3 columns</p>\n",
       "</div>"
      ],
      "text/plain": [
       "       ano                        país  vl_usd_milhoes\n",
       "0     2022                       China    89427.761284\n",
       "1     2022              Estados Unidos    37437.814354\n",
       "2     2022                   Argentina    15344.651930\n",
       "3     2022     Países Baixos (Holanda)    11927.910064\n",
       "4     2022                     Espanha     9747.538076\n",
       "...    ...                         ...             ...\n",
       "2601  2012                  Wake, Ilha        0.003191\n",
       "2602  2012            Madeira, Ilha da        0.002392\n",
       "2603  2012  Canal, Ilhas do (Guernsey)        0.001305\n",
       "2604  2012    Marianas do Norte, Ilhas        0.001092\n",
       "2605  2012                    Vaticano        0.000930\n",
       "\n",
       "[2606 rows x 3 columns]"
      ]
     },
     "execution_count": 12,
     "metadata": {},
     "output_type": "execute_result"
    }
   ],
   "source": [
    "serie_exp"
   ]
  },
  {
   "cell_type": "markdown",
   "id": "f3e00228",
   "metadata": {},
   "source": [
    "Junte os dois objetos no DataFrame **serie_exp_imp**, contendo as colunas **ano**, **país**, **vl_usd_milhoes_exp** e **vl_usd_milhoes_imp**.\n",
    "\n",
    "Em seguida, crie a coluna **saldo_usd_milhoes**, com a diferença entre as exportações e as importações por país e ano. \n",
    "\n",
    "**Atenção**: alguns países podem estar presentes na série de exportações e não na série de importações, e vice-versa. Queremos que o DataFrame final contenha todos os parceiros comerciais, inclusive os para os quais o Brasil apenas exportou ou dos quais apenas importou.\n",
    "\n",
    "*dica*: após a junção dos DataFrames, as combinações de chaves que estavam presente em um DataFrame e ausentes em outro podem gerar linhas com NaN."
   ]
  },
  {
   "cell_type": "code",
   "execution_count": 14,
   "id": "053cf5a7",
   "metadata": {},
   "outputs": [],
   "source": [
    "serie_exp_imp = (serie_exp\n",
    "                 .merge(serie_imp, \n",
    "                        on = [\"ano\", \"país\"], \n",
    "                        suffixes = [\"_exp\", \"_imp\"], \n",
    "                        how = \"outer\")\n",
    "                 .fillna(value = int(0))\n",
    "                 .assign(saldo_usd_milhoes = lambda x: x['vl_usd_milhoes_exp'] - x['vl_usd_milhoes_imp']))"
   ]
  },
  {
   "cell_type": "markdown",
   "id": "985f2dd6",
   "metadata": {},
   "source": [
    "Agora, confira quais foram os parceiros comerciais com os quais o Brasil teve o maior saldo no ano de 2022. \n",
    "\n",
    "Crie um novo DataFrame, **maiores_saldos_2022**, mantendo todas as suas colunas do anterior e apenas os 10 maiores saldos naquele ano."
   ]
  },
  {
   "cell_type": "code",
   "execution_count": null,
   "id": "9fdaf8e4",
   "metadata": {},
   "outputs": [],
   "source": [
    "maiores_saldos_2020 = (serie_exp_imp\n",
    "                       .query('ano == 2022')\n",
    "                       .sort_values(by = \"saldo_usd_milhoes\", ascending = False)\n",
    "                       .head(10))"
   ]
  }
 ],
 "metadata": {
  "kernelspec": {
   "display_name": "Python 3 (ipykernel)",
   "language": "python",
   "name": "python3"
  },
  "language_info": {
   "codemirror_mode": {
    "name": "ipython",
    "version": 3
   },
   "file_extension": ".py",
   "mimetype": "text/x-python",
   "name": "python",
   "nbconvert_exporter": "python",
   "pygments_lexer": "ipython3",
   "version": "3.11.5"
  },
  "toc": {
   "base_numbering": 1,
   "nav_menu": {},
   "number_sections": true,
   "sideBar": true,
   "skip_h1_title": false,
   "title_cell": "Table of Contents",
   "title_sidebar": "Contents",
   "toc_cell": false,
   "toc_position": {},
   "toc_section_display": true,
   "toc_window_display": false
  }
 },
 "nbformat": 4,
 "nbformat_minor": 5
}
