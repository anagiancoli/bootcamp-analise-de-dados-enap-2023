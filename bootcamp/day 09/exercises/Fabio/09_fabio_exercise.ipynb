{
 "cells": [
  {
   "cell_type": "markdown",
   "id": "f21e023d",
   "metadata": {},
   "source": [
    "# Explorando as estatísticas de gênero do Banco Mundial"
   ]
  },
  {
   "cell_type": "markdown",
   "id": "45c2ea6f",
   "metadata": {},
   "source": [
    "Seguiremos investigando as base do Banco Mundial de estatísticas relacionadas a gênero. \n",
    "\n",
    "Hoje vamos explorar a série histórica das taxas de fecundidade entre jovens, agrupadas por região geográfica, que foram utilizadas no artigo [The Social and Educational Consequences of Adolescent Childbearing](https://genderdata.worldbank.org/data-stories/adolescent-fertility/).\n"
   ]
  },
  {
   "cell_type": "code",
   "execution_count": null,
   "id": "62643f9b",
   "metadata": {},
   "outputs": [],
   "source": [
    "import wbgapi as wb\n",
    "import pandas as pd"
   ]
  },
  {
   "cell_type": "markdown",
   "id": "aa916d87",
   "metadata": {},
   "source": [
    "Vamos buscar e organizar os códigos e nomes das regiões geográficas da base de dados."
   ]
  },
  {
   "cell_type": "code",
   "execution_count": null,
   "id": "e55d8696",
   "metadata": {},
   "outputs": [],
   "source": [
    "region_info = wb.region.info()"
   ]
  },
  {
   "cell_type": "markdown",
   "id": "88aa8639",
   "metadata": {},
   "source": [
    "A partir do objeto retornado pela consulta, crie um dicionário chamado **region_dict**. Este dicionário conterá **dois** itens. Suas chaves são **region_code** e **region_name**. Seus valores são listas. A lista da chave **region_code** contém os códigos das regiões geográficas, e a lista da chave **region_name** contém os nomes das regiões geográficas. \n",
    "\n",
    "*dica*: explore o atributo **items** do objeto **region_info**."
   ]
  },
  {
   "cell_type": "code",
   "execution_count": null,
   "id": "855cc7f8",
   "metadata": {},
   "outputs": [],
   "source": []
  },
  {
   "cell_type": "markdown",
   "id": "e9128979",
   "metadata": {},
   "source": [
    "Com este formato de dicionário, você consegue facilmente criar um DataFrame Pandas. A função pandas.Dataframe() automaticamente interpreta as chaves do dicionário como os nomes das colunas, e os valores como as linhas. \n",
    "\n",
    "Crie o DataFrame **region_df** a partir do dicionário **region_dict**."
   ]
  },
  {
   "cell_type": "code",
   "execution_count": null,
   "id": "1c260c4e",
   "metadata": {},
   "outputs": [],
   "source": []
  },
  {
   "cell_type": "markdown",
   "id": "05ab9ae3",
   "metadata": {},
   "source": [
    "Vamos consultar a série histórica completa 'SP.ADO.TFRT' referente à taxa de fecundidade entre jovens de 15 a 19 anos. \n",
    "\n",
    "Para restringir a consulta a somente regiões geográficas (não queremos que a consulta retorne dados de países ou de grupos de renda), vamos passar, no argumento **economy** da função, os códigos das regiões. \n",
    "\n",
    "Você pode acessá-los diretamente do DataFrame ou do dicionário. "
   ]
  },
  {
   "cell_type": "code",
   "execution_count": null,
   "id": "1654bc52",
   "metadata": {},
   "outputs": [],
   "source": [
    "serie_afr = wb.data.DataFrame(series = ['SP.ADO.TFRT'], \n",
    "                              # economy =  ,\n",
    "                              time = \"all\")"
   ]
  },
  {
   "cell_type": "markdown",
   "id": "f61179ab",
   "metadata": {},
   "source": [
    "Investigue a base de dados. O formato padrão de retorno dessa consulta é um DataFrame com os códigos de país/região nos índices e os anos nas colunas. \n",
    "\n",
    "Exclua do DataFrame as colunas em que todos os valores são indisponíveis (no caso, **NaN**)."
   ]
  },
  {
   "cell_type": "code",
   "execution_count": null,
   "id": "eb0a616b",
   "metadata": {
    "scrolled": true
   },
   "outputs": [],
   "source": []
  },
  {
   "cell_type": "markdown",
   "id": "2ac55dce",
   "metadata": {},
   "source": [
    "Vamos reorganizar este DataFrame de modo a manter as regiões como índices, os anos em uma coluna **year** e as taxas em uma coluna **af_rate**."
   ]
  },
  {
   "cell_type": "code",
   "execution_count": null,
   "id": "97f729d5",
   "metadata": {},
   "outputs": [],
   "source": []
  },
  {
   "cell_type": "markdown",
   "id": "9af02cf4",
   "metadata": {},
   "source": [
    "Agora entra em cena o DataFrame **region_df** que você criou há pouco. Adicione ao DataFrame de taxas de fecundidade uma coluna com os respectivos nomes das regiões. \n",
    "\n",
    "Após a junção das tabelas, retorne a coluna com os códigos das regiões ao índice do DataFrame."
   ]
  },
  {
   "cell_type": "code",
   "execution_count": null,
   "id": "541adccf",
   "metadata": {},
   "outputs": [],
   "source": []
  },
  {
   "cell_type": "markdown",
   "id": "fbe2c784",
   "metadata": {},
   "source": [
    "Por fim, formate os valores da coluna **year**, mantendo somente os números."
   ]
  },
  {
   "cell_type": "code",
   "execution_count": null,
   "id": "a538428a",
   "metadata": {},
   "outputs": [],
   "source": []
  },
  {
   "cell_type": "markdown",
   "id": "b9814993",
   "metadata": {},
   "source": [
    "# Explorando as estatísticas brasileiras de comércio exterior "
   ]
  },
  {
   "cell_type": "markdown",
   "id": "1cc69690",
   "metadata": {},
   "source": [
    "Vamos criar um DataFrame com as importações, exportações e saldo comercial bilateral do Brasil com seus parceiros comerciais, de 2012 a 2022."
   ]
  },
  {
   "cell_type": "markdown",
   "id": "e9fd7d8d",
   "metadata": {},
   "source": [
    "Primeiro, crie os DataFrames **serie_imp** e **serie_exp** a partir dos arquivos .csv disponíveis na pasta **./data/**. Os arquivos contêm os valores *Free on Board* em dólares americanos das importações/exportações por país e ano."
   ]
  },
  {
   "cell_type": "code",
   "execution_count": null,
   "id": "8aaf3829",
   "metadata": {},
   "outputs": [],
   "source": []
  },
  {
   "cell_type": "markdown",
   "id": "8c7df2c9",
   "metadata": {},
   "source": [
    "Crie as colunas **vl_usd_milhoes**, com os valores em milhões de dólares, em ambos DataFrames. Remove as colunas de valor originais."
   ]
  },
  {
   "cell_type": "code",
   "execution_count": null,
   "id": "053cf5a7",
   "metadata": {},
   "outputs": [],
   "source": []
  },
  {
   "cell_type": "markdown",
   "id": "9711c8bf",
   "metadata": {},
   "source": [
    "Junte os dois objetos no DataFrame **serie_exp_imp**, contendo as colunas **ano**, **país**, **vl_usd_milhoes_exp** e **vl_usd_milhoes_imp**.\n",
    "\n",
    "Em seguida, crie a coluna **saldo_usd_milhoes**, com a diferença entre as exportações e as importações por país e ano. \n",
    "\n",
    "**Atenção**: alguns países podem estar presentes na série de exportações e não na série de importações, e vice-versa. Queremos que o DataFrame final contenha todos os parceiros comerciais, inclusive os para os quais o Brasil apenas exportou ou dos quais apenas importou.\n",
    "\n",
    "*dica*: após a junção dos DataFrames, as combinações de chaves que estavam presente em um DataFrame e ausentes em outro podem gerar linhas com NaN."
   ]
  },
  {
   "cell_type": "code",
   "execution_count": null,
   "id": "28c5649d",
   "metadata": {},
   "outputs": [],
   "source": []
  },
  {
   "cell_type": "markdown",
   "id": "985f2dd6",
   "metadata": {},
   "source": [
    "Agora, confira quais foram os parceiros comerciais com os quais o Brasil teve o maior saldo no ano de 2022. \n",
    "\n",
    "Crie um novo DataFrame, **maiores_saldos_2022**, mantendo todas as suas colunas do anterior e apenas os 10 maiores saldos naquele ano."
   ]
  },
  {
   "cell_type": "code",
   "execution_count": null,
   "id": "9fdaf8e4",
   "metadata": {},
   "outputs": [],
   "source": []
  }
 ],
 "metadata": {
  "kernelspec": {
   "display_name": "Python 3 (ipykernel)",
   "language": "python",
   "name": "python3"
  },
  "language_info": {
   "codemirror_mode": {
    "name": "ipython",
    "version": 3
   },
   "file_extension": ".py",
   "mimetype": "text/x-python",
   "name": "python",
   "nbconvert_exporter": "python",
   "pygments_lexer": "ipython3",
   "version": "3.11.5"
  },
  "toc": {
   "base_numbering": 1,
   "nav_menu": {},
   "number_sections": true,
   "sideBar": true,
   "skip_h1_title": false,
   "title_cell": "Table of Contents",
   "title_sidebar": "Contents",
   "toc_cell": false,
   "toc_position": {},
   "toc_section_display": true,
   "toc_window_display": false
  }
 },
 "nbformat": 4,
 "nbformat_minor": 5
}
