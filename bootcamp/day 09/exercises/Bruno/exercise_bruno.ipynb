{
 "cells": [
  {
   "cell_type": "markdown",
   "id": "3d037e03-0f33-451a-a58b-3f4b1887511e",
   "metadata": {
    "tags": []
   },
   "source": [
    "# Exercícios: Tratamento dos Dados"
   ]
  },
  {
   "cell_type": "markdown",
   "id": "dd4ae884-befb-46c5-9db3-3b0d49ad52cf",
   "metadata": {
    "tags": []
   },
   "source": [
    "#### Carga da Base de Dados Indicadores Criminais RS"
   ]
  },
  {
   "cell_type": "code",
   "execution_count": 1,
   "id": "957b5561-d33a-46ce-bf65-391b7ba9184d",
   "metadata": {
    "tags": []
   },
   "outputs": [
    {
     "data": {
      "text/html": [
       "<div>\n",
       "<style scoped>\n",
       "    .dataframe tbody tr th:only-of-type {\n",
       "        vertical-align: middle;\n",
       "    }\n",
       "\n",
       "    .dataframe tbody tr th {\n",
       "        vertical-align: top;\n",
       "    }\n",
       "\n",
       "    .dataframe thead th {\n",
       "        text-align: right;\n",
       "    }\n",
       "</style>\n",
       "<table border=\"1\" class=\"dataframe\">\n",
       "  <thead>\n",
       "    <tr style=\"text-align: right;\">\n",
       "      <th></th>\n",
       "      <th>index</th>\n",
       "      <th>Municípios</th>\n",
       "      <th>Homicídio  Doloso</th>\n",
       "      <th>Total de vítimas de Homicidio Doloso</th>\n",
       "      <th>Latrocínio</th>\n",
       "      <th>Furtos</th>\n",
       "      <th>Abigeato*</th>\n",
       "      <th>Furto de Veículo</th>\n",
       "      <th>Roubos</th>\n",
       "      <th>Roubo de Veículo</th>\n",
       "      <th>Estelionato</th>\n",
       "      <th>Delitos Relacionados à Armas e Munições</th>\n",
       "      <th>Entorpecentes - Posse</th>\n",
       "      <th>Entorpecentes - Tráfico</th>\n",
       "      <th>Vítimas de Latrocínio</th>\n",
       "      <th>Vítimas de Lesão Corp. Seg. Morte</th>\n",
       "      <th>ano</th>\n",
       "    </tr>\n",
       "  </thead>\n",
       "  <tbody>\n",
       "    <tr>\n",
       "      <th>0</th>\n",
       "      <td>0</td>\n",
       "      <td>ACEGUA</td>\n",
       "      <td>1</td>\n",
       "      <td>1</td>\n",
       "      <td>0</td>\n",
       "      <td>65</td>\n",
       "      <td>18</td>\n",
       "      <td>1</td>\n",
       "      <td>5</td>\n",
       "      <td>1</td>\n",
       "      <td>4</td>\n",
       "      <td>2</td>\n",
       "      <td>0</td>\n",
       "      <td>0</td>\n",
       "      <td>0</td>\n",
       "      <td>0</td>\n",
       "      <td>2018</td>\n",
       "    </tr>\n",
       "    <tr>\n",
       "      <th>1</th>\n",
       "      <td>1</td>\n",
       "      <td>AGUA SANTA</td>\n",
       "      <td>0</td>\n",
       "      <td>0</td>\n",
       "      <td>0</td>\n",
       "      <td>31</td>\n",
       "      <td>3</td>\n",
       "      <td>3</td>\n",
       "      <td>0</td>\n",
       "      <td>2</td>\n",
       "      <td>2</td>\n",
       "      <td>1</td>\n",
       "      <td>0</td>\n",
       "      <td>1</td>\n",
       "      <td>0</td>\n",
       "      <td>0</td>\n",
       "      <td>2018</td>\n",
       "    </tr>\n",
       "    <tr>\n",
       "      <th>2</th>\n",
       "      <td>2</td>\n",
       "      <td>AGUDO</td>\n",
       "      <td>2</td>\n",
       "      <td>2</td>\n",
       "      <td>0</td>\n",
       "      <td>123</td>\n",
       "      <td>11</td>\n",
       "      <td>1</td>\n",
       "      <td>5</td>\n",
       "      <td>0</td>\n",
       "      <td>19</td>\n",
       "      <td>13</td>\n",
       "      <td>14</td>\n",
       "      <td>15</td>\n",
       "      <td>0</td>\n",
       "      <td>0</td>\n",
       "      <td>2018</td>\n",
       "    </tr>\n",
       "    <tr>\n",
       "      <th>3</th>\n",
       "      <td>3</td>\n",
       "      <td>AJURICABA</td>\n",
       "      <td>1</td>\n",
       "      <td>1</td>\n",
       "      <td>0</td>\n",
       "      <td>58</td>\n",
       "      <td>5</td>\n",
       "      <td>2</td>\n",
       "      <td>0</td>\n",
       "      <td>0</td>\n",
       "      <td>8</td>\n",
       "      <td>8</td>\n",
       "      <td>3</td>\n",
       "      <td>1</td>\n",
       "      <td>0</td>\n",
       "      <td>0</td>\n",
       "      <td>2018</td>\n",
       "    </tr>\n",
       "    <tr>\n",
       "      <th>4</th>\n",
       "      <td>4</td>\n",
       "      <td>ALECRIM</td>\n",
       "      <td>1</td>\n",
       "      <td>1</td>\n",
       "      <td>0</td>\n",
       "      <td>85</td>\n",
       "      <td>19</td>\n",
       "      <td>1</td>\n",
       "      <td>3</td>\n",
       "      <td>0</td>\n",
       "      <td>8</td>\n",
       "      <td>15</td>\n",
       "      <td>7</td>\n",
       "      <td>9</td>\n",
       "      <td>0</td>\n",
       "      <td>0</td>\n",
       "      <td>2018</td>\n",
       "    </tr>\n",
       "  </tbody>\n",
       "</table>\n",
       "</div>"
      ],
      "text/plain": [
       "   index  Municípios  Homicídio  Doloso  Total de vítimas de Homicidio Doloso  \\\n",
       "0      0      ACEGUA                  1                                     1   \n",
       "1      1  AGUA SANTA                  0                                     0   \n",
       "2      2       AGUDO                  2                                     2   \n",
       "3      3   AJURICABA                  1                                     1   \n",
       "4      4     ALECRIM                  1                                     1   \n",
       "\n",
       "   Latrocínio  Furtos  Abigeato*  Furto de Veículo  Roubos  Roubo de Veículo  \\\n",
       "0           0      65         18                 1       5                 1   \n",
       "1           0      31          3                 3       0                 2   \n",
       "2           0     123         11                 1       5                 0   \n",
       "3           0      58          5                 2       0                 0   \n",
       "4           0      85         19                 1       3                 0   \n",
       "\n",
       "   Estelionato  Delitos Relacionados à Armas e Munições  \\\n",
       "0            4                                        2   \n",
       "1            2                                        1   \n",
       "2           19                                       13   \n",
       "3            8                                        8   \n",
       "4            8                                       15   \n",
       "\n",
       "   Entorpecentes - Posse  Entorpecentes - Tráfico  Vítimas de Latrocínio  \\\n",
       "0                      0                        0                      0   \n",
       "1                      0                        1                      0   \n",
       "2                     14                       15                      0   \n",
       "3                      3                        1                      0   \n",
       "4                      7                        9                      0   \n",
       "\n",
       "   Vítimas de Lesão Corp. Seg. Morte   ano  \n",
       "0                                  0  2018  \n",
       "1                                  0  2018  \n",
       "2                                  0  2018  \n",
       "3                                  0  2018  \n",
       "4                                  0  2018  "
      ]
     },
     "execution_count": 1,
     "metadata": {},
     "output_type": "execute_result"
    }
   ],
   "source": [
    "import pandas as pd\n",
    "from pandas import DataFrame\n",
    "\n",
    "arquivo = './data/df_crimesRS.json'\n",
    "\n",
    "df_crimes = pd.read_json(arquivo)\n",
    "df_crimes.head()"
   ]
  },
  {
   "cell_type": "markdown",
   "id": "6ec5e76a-54cc-4b64-8537-51911b50e187",
   "metadata": {
    "tags": []
   },
   "source": [
    "#### Pivoteamento Longo/Largo e Cálculo de Totais"
   ]
  },
  {
   "cell_type": "markdown",
   "id": "4d91b12a-a6ee-4d10-8f71-bf50eafc82b5",
   "metadata": {},
   "source": [
    "A base de dados possui a quantidade de crimes registrados para cada ano e município do RS.<br>\n",
    "Crie um novo DataFrame contendo somente os valores do crime \"Homicídio  Doloso\" para todos os municípios e anos."
   ]
  },
  {
   "cell_type": "code",
   "execution_count": null,
   "id": "679db9db-679d-4ab1-b7cd-e33b2cf4e9b5",
   "metadata": {
    "tags": []
   },
   "outputs": [],
   "source": []
  },
  {
   "cell_type": "markdown",
   "id": "bdff6ef6-46b8-48a4-ba73-2b802b019016",
   "metadata": {},
   "source": [
    "Modifique o DataFrame de forma que o nome do município seja o índice das linhas e cada ano seja uma coluna, como abaixo:<br>\n",
    "<pre>ano\t        2012\t2013\t2014\t2015\t2016\t2017\t2018\t2019\t2020\t2021\t2022\n",
    "Municípios\n",
    "Nome\n",
    "</pre>"
   ]
  },
  {
   "cell_type": "code",
   "execution_count": null,
   "id": "0909fe0c-5345-4e3e-8637-db8295ff58ff",
   "metadata": {
    "tags": []
   },
   "outputs": [],
   "source": []
  },
  {
   "cell_type": "markdown",
   "id": "7bc55188-5570-4f11-9511-1151ed9997d2",
   "metadata": {},
   "source": [
    "Acrescente uma coluna denominada \"Total/Município\" e calcule o total de homicídios para cada município."
   ]
  },
  {
   "cell_type": "code",
   "execution_count": null,
   "id": "cd1c74cf-8703-4b0f-8485-2961bb9a552c",
   "metadata": {
    "tags": []
   },
   "outputs": [],
   "source": []
  },
  {
   "cell_type": "markdown",
   "id": "4ab234f6-001a-46a6-a2cd-9edb9d2a9fc3",
   "metadata": {
    "tags": []
   },
   "source": [
    "Acrescente uma linha  denominada \"Total/Ano\" e calcule o total de homicídios por ano para todos os municípios."
   ]
  },
  {
   "cell_type": "code",
   "execution_count": null,
   "id": "bf57e784-fcaa-49d1-9373-ef655c33415f",
   "metadata": {
    "tags": []
   },
   "outputs": [],
   "source": []
  },
  {
   "cell_type": "markdown",
   "id": "21d19583-0880-4210-bc66-8e80cdd206f7",
   "metadata": {
    "tags": []
   },
   "source": [
    "Liste as linhas contendo dados dos 10 municípios com maior quantidade de homicídios no período de 2012 a 2022, seguida da linha \"Total/Ano\"."
   ]
  },
  {
   "cell_type": "code",
   "execution_count": null,
   "id": "1cd0c25b-a80e-4b07-be19-535eebd32fd8",
   "metadata": {
    "tags": []
   },
   "outputs": [],
   "source": []
  },
  {
   "cell_type": "markdown",
   "id": "68b27a7f-ce7b-4c84-8f02-9398755614f5",
   "metadata": {
    "tags": []
   },
   "source": [
    "Calcule o valor percentual de cada um dos municípios em relação ao total, utilizando a linha \"Total/Ano\" como base."
   ]
  },
  {
   "cell_type": "code",
   "execution_count": null,
   "id": "5fdcef2f-581b-4797-abea-07775fdf583a",
   "metadata": {
    "tags": []
   },
   "outputs": [],
   "source": []
  },
  {
   "cell_type": "markdown",
   "id": "8c202aa9-6e0d-4ebd-85a7-ab6ac0e1c275",
   "metadata": {
    "tags": []
   },
   "source": [
    "#### Pivoteamento Largo/Longo - Voltando ao Formato Original"
   ]
  },
  {
   "cell_type": "markdown",
   "id": "4be7bc0f-77ed-4209-911d-f6625090a426",
   "metadata": {},
   "source": [
    "Utilize o DataFrame em formato largo, em que foi acrescentada uma coluna e linha de totais para o exercício a seguir.<br>\n",
    "O objetivo é retornar os dados ao formato original."
   ]
  },
  {
   "cell_type": "markdown",
   "id": "fc0973ba-51fd-40db-b27e-6e4f7db71845",
   "metadata": {},
   "source": [
    "Primeiramente, remova do DataFrame a Coluna e a linha de Total."
   ]
  },
  {
   "cell_type": "code",
   "execution_count": null,
   "id": "6d3e22e5-d497-40d7-bd42-dd79f109c5af",
   "metadata": {
    "tags": []
   },
   "outputs": [],
   "source": []
  },
  {
   "cell_type": "markdown",
   "id": "eadbfc25-d73a-4159-ba24-ffd8a8ded93b",
   "metadata": {},
   "source": [
    "Em seguida, utilize a função melt() para transformar do formato largo:\n",
    "<pre>ano\t        2012\t2013\t2014\t2015\t2016\t2017\t2018\t2019\t2020\t2021\t2022\n",
    "Municípios\n",
    "Nome\n",
    "</pre>\n",
    "Para o formato longo:\n",
    "<pre>\n",
    "Municípios      Ano     Homicídio Doloso\n",
    "Nome            2012    123\n",
    "Nome            2013    150\n",
    "Nome            2013    160\n",
    "</pre>\n",
    "Se necessário, consulte a documentação do método pd.melt() em https://pandas.pydata.org/pandas-docs/stable/reference/api/pandas.melt.html<br>\n",
    "Lembre-se de designar a coluna \"Municípios\" como índice do DataFrame resultante."
   ]
  },
  {
   "cell_type": "code",
   "execution_count": null,
   "id": "df62a897-6f67-4221-a564-903ed60fa77a",
   "metadata": {
    "tags": []
   },
   "outputs": [],
   "source": []
  },
  {
   "cell_type": "markdown",
   "id": "7365abfa-8efc-428a-9dba-b18029bc76c1",
   "metadata": {},
   "source": [
    "#### Carga Base de Dados: População Municípios 2010/2020"
   ]
  },
  {
   "cell_type": "code",
   "execution_count": null,
   "id": "f1dd6c89-75a2-4a85-980a-d7297ad8c603",
   "metadata": {
    "tags": []
   },
   "outputs": [],
   "source": [
    "df_populacao = pd.read_csv('./data/populacao_municipios.csv',sep=';')\n",
    "df_populacao.head()"
   ]
  },
  {
   "cell_type": "markdown",
   "id": "cd24deae-1540-47d2-8698-e7c93ad2c47a",
   "metadata": {},
   "source": [
    "Vamos calcular a taxa de homicídios por habitante para cada um dos municípios do Rio Grande do Sul.<br>\n",
    "Para isso, será necessário juntar os DataFrames df_populacao e df_homicidio utilizando o campo \"Município\" como chave."
   ]
  },
  {
   "cell_type": "markdown",
   "id": "83f44cf8-0fb4-4d41-9c0c-f1d592fa0d2f",
   "metadata": {
    "tags": []
   },
   "source": [
    "#### Preparação dos Dados"
   ]
  },
  {
   "cell_type": "markdown",
   "id": "b1102381-134d-4f14-b976-7513f7159e39",
   "metadata": {
    "tags": []
   },
   "source": [
    "Vez que o campo Código não está disponível na base de homicídios ,teremos que fazer uma junção utilizando o nome do município como chave.<br>\n",
    "Note que, na primeira base, o nome dos municípios está em caixa alta e sem acentos, como \"AGUA SANTA\".<br>\n",
    "Na segunda base, os nomes estão grafados da forma usual, como \"Água Santa'.<br>\n",
    "Utilize a seguinte função auxiliar limpa_texto() para modificar os valores da coluna Município do DataFrame df_populacao:"
   ]
  },
  {
   "cell_type": "code",
   "execution_count": null,
   "id": "b3c50763-743e-43ff-ad96-b3f63a5da650",
   "metadata": {
    "tags": []
   },
   "outputs": [],
   "source": [
    "import unicodedata\n",
    "\n",
    "def limpa_texto(texto='',*kword):\n",
    "    nfkd_form = unicodedata.normalize('NFKD', texto)\n",
    "    only_ascii = nfkd_form.encode('ASCII', 'ignore').decode(\"utf-8\")\n",
    "    texto = only_ascii.upper()\n",
    "    return texto"
   ]
  },
  {
   "cell_type": "code",
   "execution_count": null,
   "id": "9fa2bd04-78cc-4f8d-9d0e-3b391bdb38a3",
   "metadata": {
    "tags": []
   },
   "outputs": [],
   "source": [
    "df_populacao['Município']=df_populacao['Município'].apply(limpa_texto)\n",
    "df_populacao"
   ]
  },
  {
   "cell_type": "markdown",
   "id": "3d2eb395-2b14-4885-9581-36b8ede4fc2e",
   "metadata": {},
   "source": [
    "A base de dados contém dados de todos os estados, o código do município e a população nos anos de 2010 e 2022.<br>\n",
    "Crie um novo DataFrame contendo somente os dados do Estado do RS, código e a população do ano de 2022.<br>\n",
    "Modifique o nome das colunas de '2022' para 'População' e \"Município' para 'Municípios'.<br>\n",
    "Utilize o nome do município, como índice das linhas.<br>"
   ]
  },
  {
   "cell_type": "code",
   "execution_count": null,
   "id": "0fc09a4d-1104-4038-ba1c-16f600730ea8",
   "metadata": {
    "tags": []
   },
   "outputs": [],
   "source": []
  },
  {
   "cell_type": "markdown",
   "id": "9931d207-a0c8-4685-b484-c95f63fafce2",
   "metadata": {},
   "source": [
    "Faça a junção dos DataFrames de população de homicídios e população dos municípios do RS por meio do índice.<br>\n",
    "Se necessário consulte a documentação do método pd.merge() disponível em: https://pandas.pydata.org/docs/reference/api/pandas.merge.html<br>\n",
    "Verifique os parâmetros lef_index e right_index."
   ]
  },
  {
   "cell_type": "code",
   "execution_count": null,
   "id": "cba1cccc-2121-4cd6-a09e-c1e2fcc0895d",
   "metadata": {
    "tags": []
   },
   "outputs": [],
   "source": []
  },
  {
   "cell_type": "markdown",
   "id": "847f26ab-e830-4850-9279-60aa3052fdfc",
   "metadata": {},
   "source": [
    "Armazene os dados do DataFrame em um arquivo JSON para utilização nas próximas aulas."
   ]
  },
  {
   "cell_type": "code",
   "execution_count": null,
   "id": "0317e0b9-8e41-46ee-a4bd-82241396ac94",
   "metadata": {
    "tags": []
   },
   "outputs": [],
   "source": []
  }
 ],
 "metadata": {
  "kernelspec": {
   "display_name": "Python 3 (ipykernel)",
   "language": "python",
   "name": "python3"
  },
  "language_info": {
   "codemirror_mode": {
    "name": "ipython",
    "version": 3
   },
   "file_extension": ".py",
   "mimetype": "text/x-python",
   "name": "python",
   "nbconvert_exporter": "python",
   "pygments_lexer": "ipython3",
   "version": "3.11.5"
  }
 },
 "nbformat": 4,
 "nbformat_minor": 5
}
