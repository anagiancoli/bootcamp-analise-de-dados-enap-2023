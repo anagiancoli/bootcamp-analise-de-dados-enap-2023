{
 "cells": [
  {
   "cell_type": "markdown",
   "id": "998f097d",
   "metadata": {
    "slideshow": {
     "slide_type": "slide"
    }
   },
   "source": [
    "# Análise de Dados"
   ]
  },
  {
   "cell_type": "markdown",
   "id": "a922e5bf",
   "metadata": {
    "slideshow": {
     "slide_type": "-"
    }
   },
   "source": [
    "## Bootcamp Exclusivo para Mulheres"
   ]
  },
  {
   "cell_type": "markdown",
   "id": "fa00a296",
   "metadata": {
    "slideshow": {
     "slide_type": "subslide"
    }
   },
   "source": [
    "### Sumário do Kickoff"
   ]
  },
  {
   "cell_type": "markdown",
   "id": "2ad817b7",
   "metadata": {
    "slideshow": {
     "slide_type": "-"
    }
   },
   "source": [
    "<ul>\n",
    "    <li>Abertura do Evento</li>\n",
    "    <li>Apresentação do Time do Bootcamp</li>\n",
    "    <li>Principais Aspectos do Programa do Bootcamp</li>\n",
    "    <li>Dinâmica do Bootcamp</li>\n",
    "    <ul>\n",
    "        <li>Orientações Iniciais</li>\n",
    "        <li>Diretrizes</li>\n",
    "        <li>Metodologia de Ensino/Faciliação</li>\n",
    "        <li>Avaliação de Aprendizagem</li>\n",
    "        <li>Cronograma</li>\n",
    "    </ul>\n",
    "    <li>Projetos Finais</li>\n",
    "</ul>"
   ]
  },
  {
   "cell_type": "markdown",
   "id": "a03c7d9a-6396-42e1-a6d9-94f90873d13f",
   "metadata": {
    "slideshow": {
     "slide_type": "slide"
    }
   },
   "source": [
    "# Abertura"
   ]
  },
  {
   "cell_type": "markdown",
   "id": "3bb50570-3e34-4eb3-8b6f-97effb5bfac8",
   "metadata": {
    "slideshow": {
     "slide_type": "-"
    }
   },
   "source": [
    "## Presidência da Escola Nacional de Administração Pública"
   ]
  },
  {
   "cell_type": "markdown",
   "id": "f5ec0200-2bbc-4e46-9f80-0f5ed711f8e1",
   "metadata": {
    "slideshow": {
     "slide_type": "subslide"
    }
   },
   "source": [
    "## Coordenação-Geral de Formação Intensiva"
   ]
  },
  {
   "cell_type": "markdown",
   "id": "bb508ad8-e36c-4671-8a5b-fd32b8ae041b",
   "metadata": {
    "slideshow": {
     "slide_type": "-"
    }
   },
   "source": [
    "## Assessoria da Coordenação-Geral de Formação Intensiva"
   ]
  },
  {
   "cell_type": "markdown",
   "id": "d573736a-11d1-4c18-9ce3-fb944470d899",
   "metadata": {
    "slideshow": {
     "slide_type": "slide"
    }
   },
   "source": [
    "# Time do Bootcamp"
   ]
  },
  {
   "cell_type": "markdown",
   "id": "e51bfcba-f2a3-458b-a4fa-174c0b887f2a",
   "metadata": {
    "slideshow": {
     "slide_type": "-"
    }
   },
   "source": [
    "## Instrutores"
   ]
  },
  {
   "cell_type": "markdown",
   "id": "341626b6-676f-461e-94de-90fc439b5202",
   "metadata": {
    "slideshow": {
     "slide_type": "-"
    }
   },
   "source": [
    "<table align='center'>\n",
    "    <tr align='center'>\n",
    "        <td align='center'>Hélio Bomfim de Macêdo Filho</td>\n",
    "        <td align='center'>Thais Salzer Procopio</td>\n",
    "    </tr>\n",
    "    <tr align='center'>\n",
    "        <td align='center'><img src='figs/Helio.png' width=150></td>\n",
    "        <td align='center'><img src='figs/Thais.jpg' width=150></td>\n",
    "    </tr>\n",
    "    <tr align='center'>\n",
    "        <td align='center'>DSc., Eng. de Sistemas e Computação, UFRJ<br />Analista Administrativo/Assessor<br/>Agência Nacional de Vigilância Sanitária</td>\n",
    "        <td align='center'>MASc., Economia Aplicada, UFJF<br />Auditora Federal de Finanças e Controle<br />Secretaria de Reformas Econômicas</td>\n",
    "    </tr>\n",
    "</table>"
   ]
  },
  {
   "cell_type": "markdown",
   "id": "cdb1ca89-54f0-4835-a3fc-b6944b9c68c6",
   "metadata": {
    "slideshow": {
     "slide_type": "subslide"
    }
   },
   "source": [
    "## Monitores"
   ]
  },
  {
   "cell_type": "markdown",
   "id": "5d52cfe9-3e1c-4c1a-ac96-16f5b8455191",
   "metadata": {
    "slideshow": {
     "slide_type": "-"
    }
   },
   "source": [
    "<table align='center'>\n",
    "    <tr align='center'>\n",
    "        <td align='center'>Bruno Duarte Garcia</td>\n",
    "        <td align='center'>Fabio Kouri Paim</td>\n",
    "        <td align='center'>Kalina Ramos Porto Rabbani</td>\n",
    "        <td align='center'>Ricardo de Lima</td>\n",
    "    </tr>\n",
    "    <tr align='center'>\n",
    "        <td align='center'><img src='figs/Bruno.jpg' width=100></td>\n",
    "        <td align='center'><img src='figs/Fabio.jpg' width=150></td>\n",
    "        <td align='center'><img src='figs/Kalina.jpg' width=150></td>\n",
    "        <td align='center'><img src='figs/Ricardo.png' width=150></td>\n",
    "    </tr>\n",
    "    <tr align='center'>\n",
    "        <td align='center'>LL.M./BA., Direito/Ciência da Computação, UFMG<br />Analista Administrativo<br />Conselho Administrativo de Defesa Econômica</td>\n",
    "        <td align='center'>BA., Ciências Econômicas, UnB<br />Analista de Comércio Exterior/Chefe de Divisão<br />Ministério do Desenvolvimento, Indústria, Comércio e Serviços</td>\n",
    "        <td align='center'>MSc., Ciência da Computação, UFMG<br />Auditora Federal de Finanças e Controle<br />Secretaria do Tesouro Nacional</td>\n",
    "        <td align='center'>MSc., Informática, UnB<br />Analista de Tecnologia da Informação<br />Secretaria de Governo Digital</td>\n",
    "    </tr>\n",
    "</table>"
   ]
  },
  {
   "cell_type": "markdown",
   "id": "fa3b5768-e075-42a9-8ea6-7e7537860a44",
   "metadata": {
    "slideshow": {
     "slide_type": "subslide"
    }
   },
   "source": [
    "## Avaliação Contínua"
   ]
  },
  {
   "cell_type": "markdown",
   "id": "838b8b60-eeb8-4c13-bbcf-2f2b8f86d3b1",
   "metadata": {
    "slideshow": {
     "slide_type": "-"
    }
   },
   "source": [
    "<table align='center'>\n",
    "    <tr align='center'>\n",
    "        <td align='center'>Josilene Aires Moreira</td>\n",
    "    </tr>\n",
    "    <tr align='center'>\n",
    "        <td align='center'><img src='figs/Josilene.jpg' width=150></td>\n",
    "    </tr>\n",
    "    <tr align='center'>\n",
    "        <td align='center'>DSc., Ciência da Computação, UFPE<br/>Professora do Magistério Superior<br />Universidade Federal da Paraíba</td>\n",
    "    </tr>\n",
    "</table>"
   ]
  },
  {
   "cell_type": "markdown",
   "id": "4f7d9445-2d19-496c-9fa7-c8b21a96ba89",
   "metadata": {
    "slideshow": {
     "slide_type": "slide"
    }
   },
   "source": [
    "# Principais Aspectos do Programa"
   ]
  },
  {
   "cell_type": "markdown",
   "id": "588ed89f-2b9f-42b3-a0c2-d77fd40bfc83",
   "metadata": {
    "slideshow": {
     "slide_type": "subslide"
    }
   },
   "source": [
    "## Orientações Iniciais"
   ]
  },
  {
   "cell_type": "markdown",
   "id": "4f09dd33-9a60-47e0-9f17-05d834d88123",
   "metadata": {
    "slideshow": {
     "slide_type": "-"
    }
   },
   "source": [
    "🚨🚨 Acreditem no processo 🚨🚨"
   ]
  },
  {
   "cell_type": "markdown",
   "id": "9834482e-4fae-4551-b8c1-8513ebb936c6",
   "metadata": {
    "slideshow": {
     "slide_type": "-"
    }
   },
   "source": [
    "A primeira semana será muito difícil. Foco, fé e força!"
   ]
  },
  {
   "cell_type": "markdown",
   "id": "4382a624-3811-4220-ab49-610e960eb1dc",
   "metadata": {
    "slideshow": {
     "slide_type": "-"
    }
   },
   "source": [
    "As pessoas que não fizeram o <i>prepwork</i> poderão ter mais dificuldade, mas estaremos sempre presentes."
   ]
  },
  {
   "cell_type": "markdown",
   "id": "93688df8-1bea-402d-9280-b47955e2029e",
   "metadata": {
    "slideshow": {
     "slide_type": "subslide"
    }
   },
   "source": [
    "## Objetivo"
   ]
  },
  {
   "cell_type": "markdown",
   "id": "8bfe6e07-561f-4b32-aa72-de3f6a3a5b04",
   "metadata": {
    "slideshow": {
     "slide_type": "-"
    }
   },
   "source": [
    "A participante experimentará o mundo 🌎 da programação de computadores 👩‍💻 para ciência de dados 👩🏽‍🔬 no contexto da Administração Pública 🏛️ e será capaz de:\n",
    "\n",
    "<ul>\n",
    "    <li>Reconhecer o escopo de problemas 🧐 da Administração Pública 🏛️ que podem ser endereçados por programação de computadores 👩‍💻 e análise de dados 🕵🏾‍♀️ 🎲;</li>\n",
    "    <li>Esquematizar um arcabouço de linguagem de programação 🐍 e suas bibliotecas 📚 para a produção de conhecimento 💬 a partir de dados brutos 🎲;</li>\n",
    "    <li>Utilizar o pensamento computacional 🧠 e a capacidade analítica 🦾 para aumentar o desempenho das servidoras públicas 👩‍💼 nas suas atividades laborais ✍️; e</li>\n",
    "    <li>Desenhar soluções de alto desempenho 🧞‍♂️ e com economia de escala 🚀 na Administração Pública 🏛️.</li>\n",
    "</ul>"
   ]
  },
  {
   "cell_type": "markdown",
   "id": "aecf62a5-e317-484a-9a1b-a1ca0be16752",
   "metadata": {
    "slideshow": {
     "slide_type": "subslide"
    }
   },
   "source": [
    "## Ementa"
   ]
  },
  {
   "cell_type": "markdown",
   "id": "6c5bdb09-419f-4e46-92e3-4daccfaf7502",
   "metadata": {
    "slideshow": {
     "slide_type": "-"
    }
   },
   "source": [
    "<ol>\n",
    "    <li>Aspectos de Ciência de Dados 👩🏽‍🔬</li>\n",
    "    <li>Introdução aos Ambientes de Desenvolvimento 🔬</li>\n",
    "    <li>Aspectos Nativos de Python 🐍</li>\n",
    "    <li>Fontes de Dados 🚰 🎲</li>\n",
    "    <li>Manipulação de Dados 🪡 🎲 em Alto Desempenho 🚀 🧞‍♂️</li>\n",
    "    <li>Análise de Dados 🕵️ 🎲 em Alto Desempenho 🚀 🧞‍♂️</li>\n",
    "    <li>Limpeza e Preparação dos Dados 🏗️ 🎲</li>\n",
    "    <li>Tratamento dos Dados 🪢 🎲</li>\n",
    "    <li>Visualização dos Dados 🔍 🎲</li>\n",
    "    <li>Agregação dos Dados 🎒🎲</li>\n",
    "    <li>Operações em Dados Agregados 🩺🧑‍⚕️🎲</li>\n",
    "    <li>Desenvolvimento Web 🕸️ 💻</li>\n",
    "    <li>Desenvolvimento Colaborativo 🤝</li>\n",
    "    <li>Desenvolvimento Embarcado na Inteligência de Negócio 🧠</li>\n",
    "</ol>"
   ]
  },
  {
   "cell_type": "markdown",
   "id": "bf6c37f8-c4d6-483c-a386-9c56a912db24",
   "metadata": {
    "slideshow": {
     "slide_type": "subslide"
    }
   },
   "source": [
    "## Ferramentas"
   ]
  },
  {
   "cell_type": "markdown",
   "id": "b7fc0e99-7c06-4714-9227-8c3483a75c25",
   "metadata": {
    "slideshow": {
     "slide_type": "-"
    }
   },
   "source": [
    "<table align='center' width='100%'>\n",
    "    <tr align='center'>\n",
    "        <td align='center'><img src='figs/logo-jupyter.png' width=50></td>\n",
    "        <td align='center'><img src='figs/logo-python.png' width=100></td>\n",
    "        <td align='center'><img src='figs/logo-numpy.png' width=100></td>\n",
    "        <td align='center'><img src='figs/logo-pandas.png' width=100></td>\n",
    "        <td align='center'><img src='figs/logo-matplotlib.png' width=100></td>\n",
    "        <td align='center'><img src='figs/logo-seaborn.png' width=100></td>\n",
    "        <td align='center'><img src='figs/logo-git.png' width=100></td>\n",
    "        <td align='center'><img src='figs/logo-streamlit.png' width=100></td>\n",
    "        <td align='center'><img src='figs/logo-powerbi.png' width=100></td>\n",
    "    </tr>\n",
    "    <tr align='center'>\n",
    "        <td align='center'>Jupyter Lab</td>\n",
    "        <td align='center'>Python</td>\n",
    "        <td align='center'>NumPy</td>\n",
    "        <td align='center'>Pandas</td>\n",
    "        <td align='center'>Matplotlib</td>\n",
    "        <td align='center'>Seaborn</td>\n",
    "        <td align='center'>Git</td>\n",
    "        <td align='center'>Streamlit</td>\n",
    "        <td align='center'>Power BI</td>\n",
    "    </tr>\n",
    "</table>"
   ]
  },
  {
   "cell_type": "markdown",
   "id": "d3967d04-8479-48c6-83ef-5578096360d1",
   "metadata": {
    "slideshow": {
     "slide_type": "subslide"
    }
   },
   "source": [
    "## Ferramentas de Apoio"
   ]
  },
  {
   "cell_type": "markdown",
   "id": "d11c3569-f239-4a31-a79a-6c72796e57ad",
   "metadata": {
    "slideshow": {
     "slide_type": "-"
    }
   },
   "source": [
    "<table align='center' width='100%'>\n",
    "    <tr align='center'>\n",
    "        <td align='center'><img src='figs/logo-zoom.svg' width=100></td>\n",
    "        <td align='center'><img src='figs/logo-discord.png' width=100></td>\n",
    "        <td align='center'><a href='https://classroom.google.com/c/NTU0NTQ4ODI4MzY4'><img src='figs/logo-classroom.png' width=100></a></td>\n",
    "    </tr>\n",
    "    <tr align='center'>\n",
    "        <td align='center'>Zoom</td>\n",
    "        <td align='center'>Discord</td>\n",
    "        <td align='center'>Classroom</td>\n",
    "    </tr>\n",
    "</table>"
   ]
  },
  {
   "cell_type": "markdown",
   "id": "bc57bfd5-9395-44d9-8949-17aa49cb4f57",
   "metadata": {
    "slideshow": {
     "slide_type": "subslide"
    }
   },
   "source": [
    "### Pitch de Apresentação"
   ]
  },
  {
   "cell_type": "markdown",
   "id": "fa16e81b-3dba-4b43-ba23-2f3ba4a487d8",
   "metadata": {
    "slideshow": {
     "slide_type": "-"
    }
   },
   "source": [
    "<a href='https://classroom.google.com/c/NTU0NTQ4ODI4MzY4/a/NTg5NzAwMTgwODY4/details'>Grave um vídeo de 3 minutos</a>, no local habitual em que você trabalha, seja físico ou remoto, apresentando-se e expressando suas expectativas para o nosso bootcamp, que ocorrerá entre os dias 02/10 a 01/11."
   ]
  },
  {
   "cell_type": "markdown",
   "id": "3e01783f-7c1a-4e23-8f86-cd65f6120fb9",
   "metadata": {
    "slideshow": {
     "slide_type": "slide"
    }
   },
   "source": [
    "# Dinâmica"
   ]
  },
  {
   "cell_type": "markdown",
   "id": "6140e8f7-f116-42bf-8d33-2dc403bb291a",
   "metadata": {
    "slideshow": {
     "slide_type": "-"
    }
   },
   "source": [
    "## Dados Básicos"
   ]
  },
  {
   "cell_type": "markdown",
   "id": "edc1eef1-f8b6-4b71-b192-6ea92e615ef6",
   "metadata": {
    "slideshow": {
     "slide_type": "-"
    }
   },
   "source": [
    "<table align='center'>\n",
    "    <tr'>\n",
    "        <th>Data</td><td>02 de outubro a 01 de novembro de 2023</td>\n",
    "    </tr>\n",
    "    <tr>\n",
    "        <th>Horário</td><td>9h às 17h, com horário de almoço entre 12h e 14h</td>\n",
    "    </tr>\n",
    "    <tr>\n",
    "        <th>Carga Horária</td><td>150 horas (132 horas síncronas e 18 horas assíncronas)</td>\n",
    "    </tr>\n",
    "    <tr>\n",
    "        <th>Nível de Formação</td><td>Certificação Avançada em Análise de Dados </td>\n",
    "    </tr>\n",
    "    <tr>\n",
    "        <th>Contato*</td><td>bootcamp@enap.gov.br</td>\n",
    "    </tr>\n",
    "    <tr>\n",
    "        <th>Site</td><td>https://www.enap.gov.br/pt/cursos/coding-bootcamp</td>\n",
    "    </tr>\n",
    "</table>"
   ]
  },
  {
   "cell_type": "markdown",
   "id": "cdea1c20-27c3-482a-960c-db12e0b62997",
   "metadata": {
    "slideshow": {
     "slide_type": "-"
    }
   },
   "source": [
    "<center><small>*Use o e-mail para esclarecer dúvidas e reportar problemas para a Coordenação-Geral de Formação Intensiva</small></center>"
   ]
  },
  {
   "cell_type": "markdown",
   "id": "125fe99a-f03f-4ad5-8238-a56178e214fc",
   "metadata": {
    "slideshow": {
     "slide_type": "-"
    }
   },
   "source": [
    "É recomendável que as alunas mantenhama as câmeras ligadas 🎥 e os microfones 🎙️ mutados 🔕 quando não estiver falando 🗣️."
   ]
  },
  {
   "cell_type": "markdown",
   "id": "1bfc25ac-89f8-4e2d-b423-3833614a46ba",
   "metadata": {
    "slideshow": {
     "slide_type": "subslide"
    }
   },
   "source": [
    "## Diretrizes da Aprendizagem"
   ]
  },
  {
   "cell_type": "markdown",
   "id": "7a90c184-7439-4618-862f-05f74fdcf103",
   "metadata": {
    "slideshow": {
     "slide_type": "-"
    }
   },
   "source": [
    "As principais diretrizes da condução da aprendizagem são:\n",
    "<ul>\n",
    "    <li><b>Prática</b>: aulas conduzidas em Python e com o uso de bases de dados reais da Administração Pública;</li>\n",
    "    <li><b>Assessorada</b>: o desenvolvimento da solução dos desafios pelas participantes é assessorado pelos(as) monitores(as) que desenvolveram os desafios;</li>\n",
    "    <li><b>Colaborativa</b>: além da assessoria dos monitores, as participantes são estimuladas a aprender continuamente com os facilitadores e especialmente com as outras participantes;</li>\n",
    "</ul>"
   ]
  },
  {
   "cell_type": "markdown",
   "id": "43371154-6f1b-49ae-84f6-c02204643f39",
   "metadata": {
    "slideshow": {
     "slide_type": "subslide"
    }
   },
   "source": [
    "## Metodologia de Ensino/Facilitação"
   ]
  },
  {
   "cell_type": "markdown",
   "id": "1c7bf183-147d-40b8-81af-6efe4bb2bf89",
   "metadata": {
    "slideshow": {
     "slide_type": "-"
    }
   },
   "source": [
    "Os encontros são síncronos e, diariamente:\n",
    "<ul>\n",
    "    <li>No período <b>matutino</b>, a aula expositiva é facilitada pelos(as) instrutores com conceitos teóricos mesclados com aplicações práticas; e</li>\n",
    "    <li>No período <b>vespertino</b>, as participantes serão estimuladas a resolver desafios preparados pelos monitores(as), que as apoiarão.</li>\n",
    "</ul>"
   ]
  },
  {
   "cell_type": "markdown",
   "id": "064d4dd3-e23c-4b84-900f-68d610d12f7f",
   "metadata": {
    "slideshow": {
     "slide_type": "-"
    }
   },
   "source": [
    "As participantes poderão solicitar o apoio dos(as) monitores(as) pelo Discord."
   ]
  },
  {
   "cell_type": "markdown",
   "id": "a388df4e-07ff-490c-bb88-a47a28365c45",
   "metadata": {
    "slideshow": {
     "slide_type": "subslide"
    }
   },
   "source": [
    "## Avaliação da Aprendizagem"
   ]
  },
  {
   "cell_type": "markdown",
   "id": "109a3dd0-7607-44e2-9bfd-4cdddca922cc",
   "metadata": {
    "slideshow": {
     "slide_type": "-"
    }
   },
   "source": [
    "A avaliação da aprendizagem será composta por:\n",
    "<ul>\n",
    "    <li>trabalho desenvolvido nas atividades práticas supervisionadas; e</li>\n",
    "    <li>frequência mínima de 80% do curso (106 horas síncronas). </li>\n",
    "    <li>🚨🚨 20% de frequência são apenas 4 dias de aula 🚨🚨</li>\n",
    "</ul>"
   ]
  },
  {
   "cell_type": "markdown",
   "id": "5e0b3818-db89-431f-adb4-b56b24d5c3db",
   "metadata": {
    "slideshow": {
     "slide_type": "-"
    }
   },
   "source": [
    "Os registros de sentimentos serão avaliados diariamente pela Profa. Josilene Aires Moreira."
   ]
  },
  {
   "cell_type": "markdown",
   "id": "47957a9e-4278-4298-8061-8444840f4462",
   "metadata": {
    "slideshow": {
     "slide_type": "subslide"
    }
   },
   "source": [
    "## Cronograma - Parte I"
   ]
  },
  {
   "cell_type": "markdown",
   "id": "7e1b4d5a-16bb-4a80-80e7-3fc0d0e62b11",
   "metadata": {
    "slideshow": {
     "slide_type": "-"
    }
   },
   "source": [
    "<table align='center' width='100%'>\n",
    "    <tr align='center'>\n",
    "        <th align='center'>Segunda</th>\n",
    "        <th align='center'>Terça</th>\n",
    "        <th align='center'>Quarta</th>\n",
    "        <th align='center'>Quinta</th>\n",
    "        <th align='center'>Sexta</th>\n",
    "    </tr>\n",
    "    <tr align='center'>\n",
    "        <td align='center'>Aspectos de Ciência de Dados<br />Introdução aos Ambientes de Desenvolvimento</td>\n",
    "        <td align='center'>Aspectos Nativos de Python (Parte I)</td>\n",
    "        <td align='center'>Aspectos Nativos de Python (Parte II)</td>\n",
    "        <td align='center'>Fontes de Dados (Parte I)</td>\n",
    "        <td align='center'>Fontes de Dados (Parte II)</td>\n",
    "    </tr>\n",
    "    <tr align='center'>\n",
    "        <td align='center'>Manipulação de Dados em Alto Desempenho<br />Análise de Dados em Alto Desempenho (Parte I)</td>\n",
    "        <td align='center'>Análise de Dados em Alto Desempenho (Parte II)</td>\n",
    "        <td align='center'>Limpeza e Preparação dos Dados</td>\n",
    "        <td align='center'><b>Feriado</b></td>\n",
    "        <td align='center'><b>Tira-Dúvidas<br />(Ponto Facultativo)</b></td>\n",
    "    </tr>\n",
    "    <tr align='center'>\n",
    "        <td align='center'>Tratamento dos Dados<br />Comunicado sobre Projetos Finais</td>\n",
    "        <td align='center'>Visualização de Dados</td>\n",
    "        <td align='center'>Visualização de Dados - Continuação<br />Agregação dos Dados<br />Regressão Liniear</td>\n",
    "        <td align='center'>Dia D do Projeto<br />Propostas<br />Ranking das Propostas<br />Distribuição das Equipes<br />Início da Execução</td>\n",
    "        <td align='center'>Desenvolvimento Web<br />Desenvolvimento Colaborativo<br />Execução dos Trabalhos em Equipes (Período Vespertino)</td>\n",
    "    </tr>\n",
    "</table>"
   ]
  },
  {
   "cell_type": "markdown",
   "id": "96601caa",
   "metadata": {
    "slideshow": {
     "slide_type": "subslide"
    }
   },
   "source": [
    "## Cronograma - Parte II"
   ]
  },
  {
   "cell_type": "markdown",
   "id": "675a7f94",
   "metadata": {
    "slideshow": {
     "slide_type": "-"
    }
   },
   "source": [
    "<table align='center' width='100%'>\n",
    "    <tr align='center'>\n",
    "        <th align='center'>Segunda</th>\n",
    "        <th align='center'>Terça</th>\n",
    "        <th align='center'>Quarta</th>\n",
    "        <th align='center'>Quinta</th>\n",
    "        <th align='center'>Sexta</th>\n",
    "    </tr>\n",
    "    <tr align='center'>\n",
    "        <td align='center'>Desenvolvimento Embarcado em Inteligência de Negócio<br />Execução dos Trabalhos em Equipes (Período Vespertino)</td>\n",
    "        <td align='center' colspan=4>Execução dos Trabalhos em Equipes (Período Integral)</td>\n",
    "    </tr>\n",
    "    <tr align='center'>\n",
    "        <td align='center' colspan=2>Execução dos Trabalhos em Equipes (Período Integral)</td>\n",
    "        <td align='center'>Encerramento do Bootcamp com Apresentações dos Projetos</td>\n",
    "        <td></td>\n",
    "        <td></td>\n",
    "    </tr>\n",
    "</table>"
   ]
  },
  {
   "cell_type": "markdown",
   "id": "4ae266de-2636-4a4e-bce4-8f60a5eb4e8c",
   "metadata": {
    "slideshow": {
     "slide_type": "slide"
    }
   },
   "source": [
    "# Projetos Finais"
   ]
  },
  {
   "cell_type": "markdown",
   "id": "9af47cbd-9659-4f98-b3a2-18c93ec87a6b",
   "metadata": {},
   "source": [
    "## Resumo Executivo da Proposição e Seleção de Projetos Finais"
   ]
  },
  {
   "cell_type": "markdown",
   "id": "d7982f8e-7c1a-4efe-8774-f224845e31ff",
   "metadata": {},
   "source": [
    "<table>\n",
    "<tr><td>Terceira Semana</td><td>Segunda-feira</td><td>Terça-feira</td><td>Quarta-feira</td><td>Quinta-feira</td></tr>\n",
    "<tr><td>Manhã</td><td>---</td><td>---</td><td>Inscrição (20 primeiras propostas)</td><td>Apresentações (2h)<br />Ranqueamento (1h)</td></tr>\n",
    "<tr><td>Tarde</td><td>Viabilidade do Projeto<br />(Instrutores e Monitores)</td><td>Viabilidade do Projeto<br />(Instrutores e Monitores)</td><td>Resultado da Inscrição</td><td>Resultado da Distribuição</td></tr>\n",
    "</table>"
   ]
  },
  {
   "cell_type": "markdown",
   "id": "ed1da39c-ec4f-4b68-bfd2-088ad17039a1",
   "metadata": {
    "editable": true,
    "slideshow": {
     "slide_type": "subslide"
    },
    "tags": []
   },
   "source": [
    "## Ideias/Propostas"
   ]
  },
  {
   "cell_type": "markdown",
   "id": "2b087549-31de-4c17-8cc8-1bf5b706c894",
   "metadata": {
    "slideshow": {
     "slide_type": "-"
    }
   },
   "source": [
    "Apresentação das ideias/propostas de projeto final no início da terceira semana.\n",
    "\n",
    "Na segunda-feira, bem como na terça-feira, veja com seu(sua) monitor(a) preferido(a) a viabilidade da sua ideia/proposta de projeto final.\n",
    "\n",
    "Recomendação de escopo: avaliação de políticas públicas."
   ]
  },
  {
   "cell_type": "markdown",
   "id": "b831ec2e-ca97-4763-8bf4-ab30e4dc8598",
   "metadata": {
    "slideshow": {
     "slide_type": "subslide"
    }
   },
   "source": [
    "## Seleção dos Projetos Finais"
   ]
  },
  {
   "cell_type": "markdown",
   "id": "075f83f9-3fef-4523-9e83-6bcadccbb960",
   "metadata": {
    "slideshow": {
     "slide_type": "-"
    }
   },
   "source": [
    "Na quinta-feira, serão apresentadas -- no máximo –- as 20 primeiras propostas submetidas;\n",
    "<ul>\n",
    "    <li>2h horas e meia para apresentação de todas as ideias/propostas;</li>\n",
    "    <li>estima-se 5 minutos para cada apresentação.</li>\n",
    "</ul>"
   ]
  },
  {
   "cell_type": "markdown",
   "id": "678cea41-4d99-437b-a9c9-e2c036fc281f",
   "metadata": {
    "slideshow": {
     "slide_type": "-"
    }
   },
   "source": [
    "Na mesma manhã, haverá uma votação em que as alunas definirão sua ordem de preferência dos projetos;\n",
    "<ul>\n",
    "    <li>30 minutos para o ranqueamento dos projetos por cada aluna;</li>\n",
    "    <ul>\n",
    "        <li>a aluna líder do projeto deve ranquear o seu projeto, caso selecionado, em primeiro lugar.</li>\n",
    "    </ul>\n",
    "    <li>as 10 propostas -- no máximo -- mais bem ranqueadas serão escolhidas;</li>\n",
    "    <li>as alunas serão distribuídas de acordo com as preferências;</li>\n",
    "</ul>"
   ]
  },
  {
   "cell_type": "markdown",
   "id": "050af0b5-8653-4218-96d0-472f57fb8436",
   "metadata": {
    "slideshow": {
     "slide_type": "subslide"
    }
   },
   "source": [
    "## Apresentação dos Projetos Finais"
   ]
  },
  {
   "cell_type": "markdown",
   "id": "e66414a1-3200-4978-9f5f-872fd8dfdba6",
   "metadata": {
    "slideshow": {
     "slide_type": "-"
    }
   },
   "source": [
    "No dia 01 de novembro, os projetos finais serão apresentados.\n",
    "<ul>\n",
    "    <li>estima-se 10 minutos de apresentação; e</li>\n",
    "    <li>5 minutos para perguntas, por projeto.</li>\n",
    "</ul>"
   ]
  },
  {
   "cell_type": "markdown",
   "id": "13c901a7-376a-4fd3-a30a-81c5e2438767",
   "metadata": {
    "slideshow": {
     "slide_type": "slide"
    }
   },
   "source": [
    "# Considerações Finais"
   ]
  },
  {
   "cell_type": "markdown",
   "id": "1c8634a9",
   "metadata": {
    "slideshow": {
     "slide_type": "-"
    }
   },
   "source": [
    "Estamos ansioso(as) para começar o bootcamp; e vocês?"
   ]
  },
  {
   "cell_type": "markdown",
   "id": "faaab1cc",
   "metadata": {
    "slideshow": {
     "slide_type": "-"
    }
   },
   "source": [
    "Dúvidas?"
   ]
  },
  {
   "cell_type": "markdown",
   "id": "16364ad5-795b-4b53-936e-bde5c199829e",
   "metadata": {
    "slideshow": {
     "slide_type": "subslide"
    }
   },
   "source": [
    "<font size=7><center><code>Bom bootcamp a todas!</code></center></font>"
   ]
  }
 ],
 "metadata": {
  "celltoolbar": "Slideshow",
  "kernelspec": {
   "display_name": "Python 3 (ipykernel)",
   "language": "python",
   "name": "python3"
  },
  "language_info": {
   "codemirror_mode": {
    "name": "ipython",
    "version": 3
   },
   "file_extension": ".py",
   "mimetype": "text/x-python",
   "name": "python",
   "nbconvert_exporter": "python",
   "pygments_lexer": "ipython3",
   "version": "3.11.2"
  },
  "toc": {
   "base_numbering": 1,
   "nav_menu": {},
   "number_sections": true,
   "sideBar": true,
   "skip_h1_title": false,
   "title_cell": "Table of Contents",
   "title_sidebar": "Contents",
   "toc_cell": false,
   "toc_position": {},
   "toc_section_display": true,
   "toc_window_display": false
  }
 },
 "nbformat": 4,
 "nbformat_minor": 5
}
