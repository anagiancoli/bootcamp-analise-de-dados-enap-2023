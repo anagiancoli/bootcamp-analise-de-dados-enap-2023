{
 "cells": [
  {
   "cell_type": "markdown",
   "id": "d24ea0b2-4522-41fb-bf07-1a7bbf2c78dc",
   "metadata": {
    "slideshow": {
     "slide_type": "slide"
    }
   },
   "source": [
    "# Desenvolvimento Web 🕸️ 💻 para Ciência de Dados 👨🏽‍🔬"
   ]
  },
  {
   "cell_type": "markdown",
   "id": "1a3ab906-c8ce-4a13-a6fd-1d7563668854",
   "metadata": {
    "slideshow": {
     "slide_type": "-"
    }
   },
   "source": [
    "## Sumário da Aula"
   ]
  },
  {
   "cell_type": "markdown",
   "id": "f180f4d4-f5d3-495e-b825-b5dc318305d2",
   "metadata": {
    "slideshow": {
     "slide_type": "-"
    }
   },
   "source": [
    "<ul>\n",
    "    <li>Aspectos de Desenvolvimento Web 🕸️ 💻 para Ciência de Dados 👨🏽‍🔬</li>\n",
    "    <li>Streamlit 🖥️ Local 📍</li>\n",
    "    <li>Streamlit 🖥️ nas Nuvens ☁️</li>\n",
    "</ul>"
   ]
  },
  {
   "cell_type": "markdown",
   "id": "93348bb0-b82b-44de-8479-ee527a4ad2b3",
   "metadata": {
    "slideshow": {
     "slide_type": "slide"
    },
    "tags": []
   },
   "source": [
    "## Aspectos de Desenvolvimento Web 🕸️ 💻 para Ciência de Dados 👨🏽‍🔬"
   ]
  },
  {
   "cell_type": "markdown",
   "id": "beddba10-537b-4004-a95b-1f9aa4bc264f",
   "metadata": {
    "slideshow": {
     "slide_type": "-"
    }
   },
   "source": [
    "<img src='https://blog.streamlit.io/content/images/2021/11/current-process.png' width='100%'>"
   ]
  },
  {
   "cell_type": "markdown",
   "id": "f86dc194-1903-499d-ac53-00db9cddf344",
   "metadata": {
    "slideshow": {
     "slide_type": "slide"
    },
    "tags": []
   },
   "source": [
    "## Streamlit 🖥️ Local 📍"
   ]
  },
  {
   "cell_type": "markdown",
   "id": "066308b2-5495-4fea-835e-3c73114aaaa4",
   "metadata": {
    "slideshow": {
     "slide_type": "-"
    }
   },
   "source": [
    "<img src=\"https://docs.streamlit.io/logo.svg\" width=\"100\" style=\"float: right;\">"
   ]
  },
  {
   "cell_type": "markdown",
   "id": "df44f8b1-5402-44f5-90f8-2781a57c6ee7",
   "metadata": {
    "slideshow": {
     "slide_type": "-"
    }
   },
   "source": [
    "<ul>\n",
    "    <li>\"Streamlit turns data scripts into shareable web apps in minutes. All in pure Python. No front‑end experience required.\"</li>\n",
    "    <li>É baseado em três princípios básicos:</li>\n",
    "    <ol>\n",
    "        <li><b>Embrace scripting</b>: crie um aplicativo com pouquíssimas linhas de código. Conforme você salva o arquivo fonte, o projeto imediatamente atualiza.</li>\n",
    "        <li><b>Weave in interaction</b>: adicionar um widget é o mesmo que declarar uma variável. Não há necessidade de escrever um back-end, definir rotas, lidar com solicitações HTTP, conectar um front-end, escrever HTML, CSS, JavaScript, etc.</li>\n",
    "        <li><b>Deploy instantly</b>: compartilhe, gerencie e implante seus aplicativos, sem esforço, diretamente do Streamlit.</li>\n",
    "    </ol>\n",
    "</ul>"
   ]
  },
  {
   "cell_type": "markdown",
   "id": "46fa08dc-71e7-4c65-bde4-b814e008b5a3",
   "metadata": {
    "slideshow": {
     "slide_type": "-"
    }
   },
   "source": [
    "👉 Referência: <a href='https://docs.streamlit.io/'>docs.streamlit.io</a>"
   ]
  },
  {
   "cell_type": "markdown",
   "id": "ff68d82a-5a00-4789-9092-bff0e2fc8182",
   "metadata": {
    "slideshow": {
     "slide_type": "subslide"
    }
   },
   "source": [
    "### Biblioteca Principal 📚: streamlit"
   ]
  },
  {
   "cell_type": "code",
   "execution_count": 1,
   "id": "447af1a0-1f28-4c1b-8b6f-eb371968a2cf",
   "metadata": {
    "slideshow": {
     "slide_type": "-"
    }
   },
   "outputs": [],
   "source": [
    "!pip install --upgrade streamlit --quiet"
   ]
  },
  {
   "cell_type": "code",
   "execution_count": 2,
   "id": "9ec10e97-f513-4db4-b148-2450ed440e6b",
   "metadata": {
    "slideshow": {
     "slide_type": "-"
    }
   },
   "outputs": [],
   "source": [
    "import streamlit"
   ]
  },
  {
   "cell_type": "markdown",
   "id": "e02a029f-f62e-41f7-9774-2cb3b010fa8d",
   "metadata": {
    "slideshow": {
     "slide_type": "-"
    }
   },
   "source": [
    "<img src='https://blog.streamlit.io/content/images/2021/11/collaborate-1.png' width='100%'>"
   ]
  },
  {
   "cell_type": "markdown",
   "id": "b0276322-aa66-43e7-867e-e873c55a0959",
   "metadata": {
    "slideshow": {
     "slide_type": "subslide"
    }
   },
   "source": [
    "<pre>O streamlit, entre as ferramentas de visualização de dados, é a mais nova e mais disseminada!</pre>"
   ]
  },
  {
   "cell_type": "markdown",
   "id": "5a87a6a2-e9e5-47cb-92a4-4f6ec3e5b25c",
   "metadata": {
    "slideshow": {
     "slide_type": "-"
    }
   },
   "source": [
    "<img src='figs/data dashboards star history.png' width='100%'>"
   ]
  },
  {
   "cell_type": "markdown",
   "id": "d654424e-dc49-4ee6-bbae-2144d4de4b0e",
   "metadata": {
    "slideshow": {
     "slide_type": "subslide"
    }
   },
   "source": [
    "<pre>Funciona de forma muito similar ao Notebook. Interpreta o código do aplicativo de cima para baixo, com cada elemento do script de origem sendo exibido um após o outro no navegador. Os elementos podem ser <ul><li>variáveis (strings contendo texto 💬 ou markdown);</li><li>objetos (DataFrames 📽️);</li><li>entrada de usuário (interação com mouse 🖱️ ou teclado ⌨️ e até imagens 📸);</li><li>gráficos e mapas (Matplotlib, Plotly, etc.);</li><li>entre outros.</li></ul></pre>"
   ]
  },
  {
   "cell_type": "markdown",
   "id": "67d3606e-18ba-44c4-9b88-8480a330e22a",
   "metadata": {
    "slideshow": {
     "slide_type": "-"
    }
   },
   "source": [
    "👉 dica: o Streamlit reinterpreta todo o conteúdo do script sempre que o usuário interage com a página. Isso pode deixar a página lenta, mas pode ser evitado com o decorator @st.cache na função que carrega os dados. Veremos um exemplo nesta aula!"
   ]
  },
  {
   "cell_type": "markdown",
   "id": "08566964-87f1-48c8-87f7-2e5a4a7b47a4",
   "metadata": {
    "slideshow": {
     "slide_type": "subslide"
    },
    "tags": []
   },
   "source": [
    "### Prova de Conceito"
   ]
  },
  {
   "cell_type": "markdown",
   "id": "1706cd20-313e-471b-b0c8-427541a9532a",
   "metadata": {
    "slideshow": {
     "slide_type": "-"
    }
   },
   "source": [
    "<pre>Veja o resultado que se produz com as poucas linhas de Python 🐍 a seguir.</pre>"
   ]
  },
  {
   "cell_type": "code",
   "execution_count": 3,
   "id": "00c483c4-851a-4a63-849e-9332dbaf2d8c",
   "metadata": {},
   "outputs": [
    {
     "name": "stderr",
     "output_type": "stream",
     "text": [
      "2023-09-17 19:57:14.324 \n",
      "  \u001b[33m\u001b[1mWarning:\u001b[0m to view this Streamlit app on a browser, run it with the following\n",
      "  command:\n",
      "\n",
      "    streamlit run /Users/heliomacedofilho/.pyenv/versions/3.10.6/envs/aspectos-de-programacao-para-ciencia-de-dados/lib/python3.10/site-packages/ipykernel_launcher.py [ARGUMENTS]\n"
     ]
    }
   ],
   "source": [
    "import streamlit as st\n",
    "st.set_page_config(page_title=\"Óbitos por Covid-19 🦠 no Brasil 📍\", page_icon= '🦠', layout=\"wide\")\n",
    "st.markdown('# Óbitos por Covid-19 🦠 no Brasil 📍')\n",
    "st.markdown(\"---\")\n",
    "type_of_map = st.sidebar.selectbox('Qual o tipo de mapa a representar os dados?',\n",
    "                                   ('Coroplético', 'Dispersão'))\n",
    "intraregion = st.selectbox('Qual a malha geográfica do Brasil a ser considerada?',\n",
    "                          ('Região', 'Mesorregião', 'Microrregião', 'Município'))\n",
    "st.write(f'Mapa escolhido: {type_of_map}')\n",
    "st.write(f'Malha geográfica escolhida: {intraregion}')"
   ]
  },
  {
   "cell_type": "markdown",
   "id": "338c5e0c-6ffe-46da-98a5-ca884b760f34",
   "metadata": {
    "slideshow": {
     "slide_type": "subslide"
    }
   },
   "source": [
    "<img src='figs/streamlit.png' width='100%'>"
   ]
  },
  {
   "cell_type": "markdown",
   "id": "7276c181-0991-4302-b43e-92bfd326fdbf",
   "metadata": {
    "slideshow": {
     "slide_type": "subslide"
    }
   },
   "source": [
    "Para criar a interface gráfica do seu projeto com Streamlit:\n",
    "<ol>\n",
    "    <li>crie um arquivo python e salve como app.py (pode ser o nome que você desejar!);</li>\n",
    "    <li>coloque o script acima -- visto no início desta seção -- no arquivo criado; e</li>\n",
    "    <li>digite o seguinte comando no terminal: <code>streamlit run app.py</code>.</li>\n",
    "</ol>"
   ]
  },
  {
   "cell_type": "markdown",
   "id": "ea6cebf5-7f43-45e8-8c3f-295eb9cf6a0d",
   "metadata": {
    "slideshow": {
     "slide_type": "-"
    }
   },
   "source": [
    "<img src='figs/python.png' width='100%'>"
   ]
  },
  {
   "cell_type": "markdown",
   "id": "5c67a3c6-bbdf-45b5-a435-09539598b51f",
   "metadata": {
    "slideshow": {
     "slide_type": "subslide"
    }
   },
   "source": [
    "<img src='figs/app.png' width='100%'>"
   ]
  },
  {
   "cell_type": "markdown",
   "id": "dddfb014-42f0-4f49-b7af-c8e6eccad023",
   "metadata": {
    "slideshow": {
     "slide_type": "subslide"
    }
   },
   "source": [
    "<img src='figs/terminal.png' width='100%'>"
   ]
  },
  {
   "cell_type": "markdown",
   "id": "b765bee3-77f0-4c3a-a2f9-17466b27d7c7",
   "metadata": {
    "slideshow": {
     "slide_type": "subslide"
    }
   },
   "source": [
    "<img src='figs/streamlit run.png' width='100%'>"
   ]
  },
  {
   "cell_type": "markdown",
   "id": "af91fe66-797a-45f2-a349-15ddb829118b",
   "metadata": {
    "slideshow": {
     "slide_type": "subslide"
    }
   },
   "source": [
    "<img src='figs/streamlit.png' width='100%'>"
   ]
  },
  {
   "cell_type": "markdown",
   "id": "71b60e3b-3450-4f1e-9870-32eda906db97",
   "metadata": {
    "slideshow": {
     "slide_type": "subslide"
    }
   },
   "source": [
    "<pre>Com algumas adaptações (carregar mapas em <b>cache</b> e plotar com <b>plotly_chart</b>), veja o resultado.</pre>"
   ]
  },
  {
   "cell_type": "code",
   "execution_count": 4,
   "id": "c1be4b0b-f6aa-4466-b636-dbcfc654f4fc",
   "metadata": {
    "slideshow": {
     "slide_type": "-"
    },
    "tags": []
   },
   "outputs": [],
   "source": [
    "import requests\n",
    "import pickle\n",
    "import streamlit as st\n",
    "st.set_page_config(page_title=\"Óbitos por Covid-19 🦠 no Brasil 📍\", page_icon= '🦠', layout=\"wide\")"
   ]
  },
  {
   "cell_type": "markdown",
   "id": "10af7385-3000-40bc-a4b1-f02605f09b57",
   "metadata": {
    "slideshow": {
     "slide_type": "-"
    }
   },
   "source": [
    "<code>@st.cache(allow_output_mutation=True)</code>"
   ]
  },
  {
   "cell_type": "code",
   "execution_count": 5,
   "id": "1189ce06-6d15-4168-9cc9-5f4687886e60",
   "metadata": {
    "slideshow": {
     "slide_type": "-"
    },
    "tags": []
   },
   "outputs": [],
   "source": [
    "def load_data():\n",
    "    figures = {'Coroplético': {'Região': None, 'Mesorregião': None, 'Microrregião': None, 'Município': None}, \n",
    "               'Dispersão': {'Região': None, 'Mesorregião': None, 'Microrregião': None, 'Município': None}}\n",
    "    de_para = {'choropleth': 'Coroplético', 'regiao': 'Região', 'mesorregiao': 'Mesorregião',\n",
    "               'microrregiao': 'Microrregião', 'municipio': 'Município', 'scatter_geo': 'Dispersão'}\n",
    "    pickle_filenames = ['choropleth-regiao.pkl', 'choropleth-mesorregiao.pkl', 'choropleth-microrregiao.pkl',\n",
    "                        'choropleth-municipio.pkl', 'scatter_geo-regiao.pkl', 'scatter_geo-mesorregiao.pkl', \n",
    "                        'scatter_geo-microrregiao.pkl', 'scatter_geo-municipio.pkl']\n",
    "    url = 'https://raw.githubusercontent.com/heliomacedofilho/aspectos-de-programacao-para-ciencia-de-dados/main/app/'\n",
    "    for filename in pickle_filenames:\n",
    "        type_of_map, intraregion = filename.rstrip('.pkl').split('-')\n",
    "        response = requests.get(f'{url}{filename}', stream='True')\n",
    "        figures[de_para[type_of_map]][de_para[intraregion]] = pickle.load(response.raw)\n",
    "    return figures"
   ]
  },
  {
   "cell_type": "code",
   "execution_count": 6,
   "id": "c3b55b42-d2a0-4370-b14c-fae0ae6c80e5",
   "metadata": {
    "slideshow": {
     "slide_type": "subslide"
    }
   },
   "outputs": [],
   "source": [
    "# figures = load_data()\n",
    "# st.markdown('# Óbitos por Covid-19 🦠 no Brasil 📍')\n",
    "# st.markdown(\"---\")\n",
    "# type_of_map = st.sidebar.selectbox('Qual o tipo de mapa a representar os dados?',\n",
    "#                                    ('Coroplético', 'Dispersão'))\n",
    "# intraregion = st.selectbox('Qual a malha geográfica do Brasil a ser considerada?',\n",
    "#                           ('Região', 'Mesorregião', 'Microregião'))\n",
    "# st.plotly_chart(figures[type_of_map][intraregion]);"
   ]
  },
  {
   "cell_type": "markdown",
   "id": "4343c3b2-42ba-4399-8613-56465cd73e0e",
   "metadata": {
    "slideshow": {
     "slide_type": "-"
    }
   },
   "source": [
    "<img src='figs/streamlit final.png' width='100%'>"
   ]
  },
  {
   "cell_type": "markdown",
   "id": "4b3ec796-fdf8-401f-8011-84e9651cfc21",
   "metadata": {
    "slideshow": {
     "slide_type": "slide"
    },
    "tags": []
   },
   "source": [
    "## Streamlit 🖥️ nas Nuvens ☁️"
   ]
  },
  {
   "cell_type": "markdown",
   "id": "b274667f-de0b-472f-a2da-9be928ecf73b",
   "metadata": {
    "slideshow": {
     "slide_type": "-"
    }
   },
   "source": [
    "👉 Caso não tenha uma conta no Streamlit Cloud, <a href='https://share.streamlit.io/signup'>crie uma</a>."
   ]
  },
  {
   "cell_type": "markdown",
   "id": "c29ab41b-7d6c-438e-9e86-4624d379689e",
   "metadata": {
    "slideshow": {
     "slide_type": "-"
    }
   },
   "source": [
    "<pre>Adicionalmente, crie um arquivo <b>requirements.txt</b> com as bibliotecas que precisam ser instaladas para seu projeto rodar na infraestrutura de nuvem do Streamlit. Armazene na mesma pasta do arquivo app.py (ou o nome que você preferiu).</pre>"
   ]
  },
  {
   "cell_type": "markdown",
   "id": "acdf95e7-85fe-4c17-b48f-30917166ed7d",
   "metadata": {
    "slideshow": {
     "slide_type": "-"
    }
   },
   "source": [
    "💡 Se você precisar instalar um pacote que não está no PyPI, você pode usar no <b>requirements.txt</b>:\n",
    "<pre>git+https://github.com/USUÁRIO/NOME-DO-PACOTE.git</pre>"
   ]
  },
  {
   "cell_type": "markdown",
   "id": "9396652f-4120-40c4-9536-a1c09ad2061c",
   "metadata": {
    "slideshow": {
     "slide_type": "-"
    }
   },
   "source": [
    "👉 Referência: <a href='https://docs.streamlit.io/streamlit-cloud/get-started/deploy-an-app/app-dependencies'>docs.streamlit.io</a>"
   ]
  },
  {
   "cell_type": "code",
   "execution_count": 7,
   "id": "5dba78d4-d845-4256-ab28-5cc60901f496",
   "metadata": {
    "slideshow": {
     "slide_type": "subslide"
    }
   },
   "outputs": [
    {
     "name": "stdout",
     "output_type": "stream",
     "text": [
      "cat: app/requirements.txt: No such file or directory\n"
     ]
    }
   ],
   "source": [
    "!cat app/requirements.txt"
   ]
  },
  {
   "cell_type": "markdown",
   "id": "9c9e82ab-2b5c-4e9a-ba80-0662e214ea15",
   "metadata": {
    "slideshow": {
     "slide_type": "subslide"
    }
   },
   "source": [
    "<pre>No nosso caso, apenas precisamos do streamlit instalado na versão 1.17.0, bem como o plotly na versão 5.13.0. Caso precise saber a versão do streamlit (ou plotly) instalado no seu computador -- para informar no <b>requirements.txt</b>--, use o comando <b>pip show streamlit</b> (ou <b>plotly</b>).</pre>"
   ]
  },
  {
   "cell_type": "code",
   "execution_count": 8,
   "id": "02aa3f4d-9436-4ff4-a359-a0d3bfb2546d",
   "metadata": {
    "slideshow": {
     "slide_type": "subslide"
    }
   },
   "outputs": [
    {
     "name": "stdout",
     "output_type": "stream",
     "text": [
      "Name: streamlit\n",
      "Version: 1.26.0\n",
      "Summary: A faster way to build and share data apps\n",
      "Home-page: https://streamlit.io\n",
      "Author: Snowflake Inc\n",
      "Author-email: hello@streamlit.io\n",
      "License: Apache License 2.0\n",
      "Location: /Users/heliomacedofilho/.pyenv/versions/3.10.6/envs/aspectos-de-programacao-para-ciencia-de-dados/lib/python3.10/site-packages\n",
      "Requires: altair, blinker, cachetools, click, gitpython, importlib-metadata, numpy, packaging, pandas, pillow, protobuf, pyarrow, pydeck, pympler, python-dateutil, requests, rich, tenacity, toml, tornado, typing-extensions, tzlocal, validators\n",
      "Required-by: \n"
     ]
    }
   ],
   "source": [
    "!pip show streamlit"
   ]
  },
  {
   "cell_type": "code",
   "execution_count": 9,
   "id": "91c16a49-32d4-49b2-a27e-28a8e914287d",
   "metadata": {
    "slideshow": {
     "slide_type": "subslide"
    }
   },
   "outputs": [
    {
     "name": "stdout",
     "output_type": "stream",
     "text": [
      "Name: plotly\n",
      "Version: 5.17.0\n",
      "Summary: An open-source, interactive data visualization library for Python\n",
      "Home-page: https://plotly.com/python/\n",
      "Author: Chris P\n",
      "Author-email: chris@plot.ly\n",
      "License: MIT\n",
      "Location: /Users/heliomacedofilho/.pyenv/versions/3.10.6/envs/aspectos-de-programacao-para-ciencia-de-dados/lib/python3.10/site-packages\n",
      "Requires: packaging, tenacity\n",
      "Required-by: \n"
     ]
    }
   ],
   "source": [
    "!pip show plotly"
   ]
  },
  {
   "cell_type": "markdown",
   "id": "000ebdff-90fe-4a8f-b0ab-bd09825969e9",
   "metadata": {
    "slideshow": {
     "slide_type": "subslide"
    }
   },
   "source": [
    "<pre>Assim ficará nossa pasta com os fontes do aplicativo Streamlit que será carregado na nuvem:</pre>"
   ]
  },
  {
   "cell_type": "code",
   "execution_count": 10,
   "id": "e3918312-6d5c-43cd-b722-252f61253f44",
   "metadata": {
    "slideshow": {
     "slide_type": "-"
    }
   },
   "outputs": [
    {
     "name": "stdout",
     "output_type": "stream",
     "text": [
      "app/  [error opening dir]\n",
      "\n",
      "0 directories, 0 files\n"
     ]
    }
   ],
   "source": [
    "!tree app/"
   ]
  },
  {
   "cell_type": "markdown",
   "id": "b8dd98a3-253c-4aef-a078-aeceb90cd34c",
   "metadata": {
    "slideshow": {
     "slide_type": "-"
    }
   },
   "source": [
    "<pre>Carregue seu projeto em um GitHub público para que o Streamlit da Nuvem possa acessá-lo.</pre>"
   ]
  },
  {
   "cell_type": "markdown",
   "id": "f9b3d790-9af7-4420-98ae-61d5f352cfd2",
   "metadata": {
    "slideshow": {
     "slide_type": "subslide"
    }
   },
   "source": [
    "<pre>Em <a href='https://share.streamlit.io/'>https://share.streamlit.io/</a>, proceda conforme as telas abaixo.</pre>"
   ]
  },
  {
   "cell_type": "markdown",
   "id": "7669ea33-4d90-42cd-9f96-ed19f9e58a7c",
   "metadata": {
    "slideshow": {
     "slide_type": "-"
    }
   },
   "source": [
    "<img src='figs/streamlit cloud 01.png' width='100%'>"
   ]
  },
  {
   "cell_type": "markdown",
   "id": "997de821-2f5b-4ef6-bab9-3859344c170c",
   "metadata": {
    "slideshow": {
     "slide_type": "subslide"
    }
   },
   "source": [
    "<img src='figs/streamlit cloud 02.png' width='100%'>"
   ]
  },
  {
   "cell_type": "markdown",
   "id": "329e6162-dadb-4928-bbdd-14a59fc89999",
   "metadata": {
    "slideshow": {
     "slide_type": "subslide"
    }
   },
   "source": [
    "<img src='figs/streamlit cloud 03.png' width='100%'>"
   ]
  },
  {
   "cell_type": "markdown",
   "id": "2abf1ae6-b54a-4e1d-b4dc-3dd646df139f",
   "metadata": {
    "slideshow": {
     "slide_type": "subslide"
    }
   },
   "source": [
    "<img src='figs/streamlit cloud 04.png' width='100%'>"
   ]
  },
  {
   "cell_type": "code",
   "execution_count": null,
   "id": "e387512b-2d16-4daf-a78d-4acd1bb00707",
   "metadata": {},
   "outputs": [],
   "source": []
  }
 ],
 "metadata": {
  "celltoolbar": "Slideshow",
  "kernelspec": {
   "display_name": "Python 3 (ipykernel)",
   "language": "python",
   "name": "python3"
  },
  "language_info": {
   "codemirror_mode": {
    "name": "ipython",
    "version": 3
   },
   "file_extension": ".py",
   "mimetype": "text/x-python",
   "name": "python",
   "nbconvert_exporter": "python",
   "pygments_lexer": "ipython3",
   "version": "3.11.2"
  },
  "toc": {
   "base_numbering": 1,
   "nav_menu": {},
   "number_sections": true,
   "sideBar": true,
   "skip_h1_title": false,
   "title_cell": "Table of Contents",
   "title_sidebar": "Contents",
   "toc_cell": false,
   "toc_position": {},
   "toc_section_display": true,
   "toc_window_display": false
  }
 },
 "nbformat": 4,
 "nbformat_minor": 5
}
