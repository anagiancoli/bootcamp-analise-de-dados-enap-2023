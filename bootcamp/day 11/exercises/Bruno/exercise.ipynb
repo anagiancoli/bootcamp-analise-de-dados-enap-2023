{
 "cells": [
  {
   "cell_type": "markdown",
   "id": "3d037e03-0f33-451a-a58b-3f4b1887511e",
   "metadata": {
    "tags": []
   },
   "source": [
    "# Exercícios: Agregação de Dados"
   ]
  },
  {
   "cell_type": "markdown",
   "id": "bb1551d2-523d-4542-88ce-7a000e1a46a5",
   "metadata": {
    "tags": []
   },
   "source": [
    "### Indicadores Criminais do Rio Grande do Sul"
   ]
  },
  {
   "cell_type": "markdown",
   "id": "dd4ae884-befb-46c5-9db3-3b0d49ad52cf",
   "metadata": {
    "tags": []
   },
   "source": [
    "#### Carga da Base de Dados Indicadores Criminais do Rio Grande do Sul"
   ]
  },
  {
   "cell_type": "code",
   "execution_count": 33,
   "id": "957b5561-d33a-46ce-bf65-391b7ba9184d",
   "metadata": {
    "tags": []
   },
   "outputs": [
    {
     "data": {
      "text/html": [
       "<div>\n",
       "<style scoped>\n",
       "    .dataframe tbody tr th:only-of-type {\n",
       "        vertical-align: middle;\n",
       "    }\n",
       "\n",
       "    .dataframe tbody tr th {\n",
       "        vertical-align: top;\n",
       "    }\n",
       "\n",
       "    .dataframe thead th {\n",
       "        text-align: right;\n",
       "    }\n",
       "</style>\n",
       "<table border=\"1\" class=\"dataframe\">\n",
       "  <thead>\n",
       "    <tr style=\"text-align: right;\">\n",
       "      <th></th>\n",
       "      <th>Municípios</th>\n",
       "      <th>Homicídio  Doloso</th>\n",
       "      <th>Latrocínio</th>\n",
       "      <th>Furtos</th>\n",
       "      <th>Abigeato*</th>\n",
       "      <th>Furto de Veículo</th>\n",
       "      <th>Roubos</th>\n",
       "      <th>Roubo de Veículo</th>\n",
       "      <th>Estelionato</th>\n",
       "      <th>Delitos Relacionados à Armas e Munições</th>\n",
       "      <th>Entorpecentes - Posse</th>\n",
       "      <th>Entorpecentes - Tráfico</th>\n",
       "      <th>Vítimas de Lesão Corp. Seg. Morte</th>\n",
       "      <th>ano</th>\n",
       "    </tr>\n",
       "  </thead>\n",
       "  <tbody>\n",
       "    <tr>\n",
       "      <th>0</th>\n",
       "      <td>ACEGUA</td>\n",
       "      <td>1</td>\n",
       "      <td>0</td>\n",
       "      <td>65</td>\n",
       "      <td>18</td>\n",
       "      <td>1</td>\n",
       "      <td>5</td>\n",
       "      <td>1</td>\n",
       "      <td>4</td>\n",
       "      <td>2</td>\n",
       "      <td>0</td>\n",
       "      <td>0</td>\n",
       "      <td>0</td>\n",
       "      <td>2018</td>\n",
       "    </tr>\n",
       "    <tr>\n",
       "      <th>1</th>\n",
       "      <td>AGUA SANTA</td>\n",
       "      <td>0</td>\n",
       "      <td>0</td>\n",
       "      <td>31</td>\n",
       "      <td>3</td>\n",
       "      <td>3</td>\n",
       "      <td>0</td>\n",
       "      <td>2</td>\n",
       "      <td>2</td>\n",
       "      <td>1</td>\n",
       "      <td>0</td>\n",
       "      <td>1</td>\n",
       "      <td>0</td>\n",
       "      <td>2018</td>\n",
       "    </tr>\n",
       "    <tr>\n",
       "      <th>2</th>\n",
       "      <td>AGUDO</td>\n",
       "      <td>2</td>\n",
       "      <td>0</td>\n",
       "      <td>123</td>\n",
       "      <td>11</td>\n",
       "      <td>1</td>\n",
       "      <td>5</td>\n",
       "      <td>0</td>\n",
       "      <td>19</td>\n",
       "      <td>13</td>\n",
       "      <td>14</td>\n",
       "      <td>15</td>\n",
       "      <td>0</td>\n",
       "      <td>2018</td>\n",
       "    </tr>\n",
       "    <tr>\n",
       "      <th>3</th>\n",
       "      <td>AJURICABA</td>\n",
       "      <td>1</td>\n",
       "      <td>0</td>\n",
       "      <td>58</td>\n",
       "      <td>5</td>\n",
       "      <td>2</td>\n",
       "      <td>0</td>\n",
       "      <td>0</td>\n",
       "      <td>8</td>\n",
       "      <td>8</td>\n",
       "      <td>3</td>\n",
       "      <td>1</td>\n",
       "      <td>0</td>\n",
       "      <td>2018</td>\n",
       "    </tr>\n",
       "    <tr>\n",
       "      <th>4</th>\n",
       "      <td>ALECRIM</td>\n",
       "      <td>1</td>\n",
       "      <td>0</td>\n",
       "      <td>85</td>\n",
       "      <td>19</td>\n",
       "      <td>1</td>\n",
       "      <td>3</td>\n",
       "      <td>0</td>\n",
       "      <td>8</td>\n",
       "      <td>15</td>\n",
       "      <td>7</td>\n",
       "      <td>9</td>\n",
       "      <td>0</td>\n",
       "      <td>2018</td>\n",
       "    </tr>\n",
       "  </tbody>\n",
       "</table>\n",
       "</div>"
      ],
      "text/plain": [
       "   Municípios  Homicídio  Doloso  Latrocínio  Furtos  Abigeato*  \\\n",
       "0      ACEGUA                  1           0      65         18   \n",
       "1  AGUA SANTA                  0           0      31          3   \n",
       "2       AGUDO                  2           0     123         11   \n",
       "3   AJURICABA                  1           0      58          5   \n",
       "4     ALECRIM                  1           0      85         19   \n",
       "\n",
       "   Furto de Veículo  Roubos  Roubo de Veículo  Estelionato  \\\n",
       "0                 1       5                 1            4   \n",
       "1                 3       0                 2            2   \n",
       "2                 1       5                 0           19   \n",
       "3                 2       0                 0            8   \n",
       "4                 1       3                 0            8   \n",
       "\n",
       "   Delitos Relacionados à Armas e Munições  Entorpecentes - Posse  \\\n",
       "0                                        2                      0   \n",
       "1                                        1                      0   \n",
       "2                                       13                     14   \n",
       "3                                        8                      3   \n",
       "4                                       15                      7   \n",
       "\n",
       "   Entorpecentes - Tráfico  Vítimas de Lesão Corp. Seg. Morte   ano  \n",
       "0                        0                                  0  2018  \n",
       "1                        1                                  0  2018  \n",
       "2                       15                                  0  2018  \n",
       "3                        1                                  0  2018  \n",
       "4                        9                                  0  2018  "
      ]
     },
     "execution_count": 33,
     "metadata": {},
     "output_type": "execute_result"
    }
   ],
   "source": [
    "import pandas as pd\n",
    "from pandas import DataFrame\n",
    "\n",
    "arquivo = './data/df_crimesRS.json'\n",
    "\n",
    "df_crimes = pd.read_json(arquivo)\n",
    "df_crimes = df_crimes.drop(columns=['index','Total de vítimas de Homicidio Doloso','Vítimas de Latrocínio'])\n",
    "df_crimes.head()"
   ]
  },
  {
   "cell_type": "markdown",
   "id": "f635d54d-bf68-42f8-b84f-5f5d19d413dc",
   "metadata": {
    "tags": []
   },
   "source": [
    "#### Agregação: Qualidade dos Dados"
   ]
  },
  {
   "cell_type": "markdown",
   "id": "3d52622e-32c5-4bb4-9578-07e92b398667",
   "metadata": {},
   "source": [
    "A função groupby() permite agrupar os dados de diversas formas de maneira simples independentemente do formato largo ou longo dos dados.<br>\n",
    "Elas podem ser muito úteis na hora de verificar a copletude da base, por meio da contagem de dados.<br>\n",
    "Se necessário, consulte a documentação do método groupby(), no endereço: https://pandas.pydata.org/docs/reference/api/pandas.DataFrame.groupby.html"
   ]
  },
  {
   "cell_type": "markdown",
   "id": "a68d453b-6b9d-411b-95ab-71d5dfa062a6",
   "metadata": {},
   "source": [
    "Utilizando groupby, gere um DataFrame contendo o nome do município e a contagem de anos presentes na base.<br>\n",
    "Utilize, em seguida, o método describe para verificar se há dados para todos os municípios referente aos período de 2022-2012.<br>"
   ]
  },
  {
   "cell_type": "code",
   "execution_count": 34,
   "id": "ac470247-5b86-4855-a135-719ed0610a95",
   "metadata": {
    "tags": []
   },
   "outputs": [
    {
     "data": {
      "text/plain": [
       "Municípios\n",
       "ACEGUA        11\n",
       "AGUA SANTA    11\n",
       "AGUDO         11\n",
       "AJURICABA     11\n",
       "ALECRIM       11\n",
       "Name: ano, dtype: int64"
      ]
     },
     "execution_count": 34,
     "metadata": {},
     "output_type": "execute_result"
    }
   ],
   "source": []
  },
  {
   "cell_type": "markdown",
   "id": "eb2efc0e-6e91-4c53-9266-3968f3635276",
   "metadata": {},
   "source": [
    "Liste os municípios que possuem menos de 11 registros presentes na base de dados."
   ]
  },
  {
   "cell_type": "code",
   "execution_count": 35,
   "id": "e8d73186-1809-4ec6-9e7b-afac8dbb0ed2",
   "metadata": {
    "tags": []
   },
   "outputs": [
    {
     "data": {
      "text/plain": [
       "Municípios\n",
       "SANTA TEREZA    9\n",
       "SANTA tereza    2\n",
       "Name: ano, dtype: int64"
      ]
     },
     "execution_count": 35,
     "metadata": {},
     "output_type": "execute_result"
    }
   ],
   "source": []
  },
  {
   "cell_type": "markdown",
   "id": "a652a8e1-0bc9-46c3-95e8-17545be2f776",
   "metadata": {},
   "source": [
    "Corrija os dados no DataFrame original e verifique o resultado por meio da função de agrupamento."
   ]
  },
  {
   "cell_type": "code",
   "execution_count": 36,
   "id": "42fd4263-0081-4000-b5fd-8c6bb618195a",
   "metadata": {
    "tags": []
   },
   "outputs": [
    {
     "data": {
      "text/plain": [
       "Series([], Name: ano, dtype: int64)"
      ]
     },
     "execution_count": 36,
     "metadata": {},
     "output_type": "execute_result"
    }
   ],
   "source": []
  },
  {
   "cell_type": "markdown",
   "id": "6b897793-23c8-4f32-ba0b-b09b844d6fdd",
   "metadata": {
    "tags": []
   },
   "source": [
    "#### Agregações - Crimes no RS"
   ]
  },
  {
   "cell_type": "markdown",
   "id": "10adc37c-0e7f-458c-b70d-8fb8427e26e3",
   "metadata": {},
   "source": [
    "Utilizando a função groupby(), gere um DataFrame com a quantidade de cada crime nos municípios em todo o período.<br>\n",
    "Certifique-se de eliminar a coluna 'ano' do resultado.\n",
    "Compare com o procedimento utilizado no exercío da aula 09, Tramento de Dados."
   ]
  },
  {
   "cell_type": "code",
   "execution_count": 37,
   "id": "639c841e-0419-4380-894c-0aee6cd48c1a",
   "metadata": {
    "tags": []
   },
   "outputs": [
    {
     "data": {
      "text/html": [
       "<div>\n",
       "<style scoped>\n",
       "    .dataframe tbody tr th:only-of-type {\n",
       "        vertical-align: middle;\n",
       "    }\n",
       "\n",
       "    .dataframe tbody tr th {\n",
       "        vertical-align: top;\n",
       "    }\n",
       "\n",
       "    .dataframe thead th {\n",
       "        text-align: right;\n",
       "    }\n",
       "</style>\n",
       "<table border=\"1\" class=\"dataframe\">\n",
       "  <thead>\n",
       "    <tr style=\"text-align: right;\">\n",
       "      <th></th>\n",
       "      <th>Homicídio  Doloso</th>\n",
       "      <th>Latrocínio</th>\n",
       "      <th>Furtos</th>\n",
       "      <th>Abigeato*</th>\n",
       "      <th>Furto de Veículo</th>\n",
       "      <th>Roubos</th>\n",
       "      <th>Roubo de Veículo</th>\n",
       "      <th>Estelionato</th>\n",
       "      <th>Delitos Relacionados à Armas e Munições</th>\n",
       "      <th>Entorpecentes - Posse</th>\n",
       "      <th>Entorpecentes - Tráfico</th>\n",
       "      <th>Vítimas de Lesão Corp. Seg. Morte</th>\n",
       "    </tr>\n",
       "    <tr>\n",
       "      <th>Municípios</th>\n",
       "      <th></th>\n",
       "      <th></th>\n",
       "      <th></th>\n",
       "      <th></th>\n",
       "      <th></th>\n",
       "      <th></th>\n",
       "      <th></th>\n",
       "      <th></th>\n",
       "      <th></th>\n",
       "      <th></th>\n",
       "      <th></th>\n",
       "      <th></th>\n",
       "    </tr>\n",
       "  </thead>\n",
       "  <tbody>\n",
       "    <tr>\n",
       "      <th>ACEGUA</th>\n",
       "      <td>5</td>\n",
       "      <td>0</td>\n",
       "      <td>537</td>\n",
       "      <td>232</td>\n",
       "      <td>10</td>\n",
       "      <td>16</td>\n",
       "      <td>3</td>\n",
       "      <td>82</td>\n",
       "      <td>30</td>\n",
       "      <td>3</td>\n",
       "      <td>0</td>\n",
       "      <td>0</td>\n",
       "    </tr>\n",
       "    <tr>\n",
       "      <th>AGUA SANTA</th>\n",
       "      <td>2</td>\n",
       "      <td>0</td>\n",
       "      <td>384</td>\n",
       "      <td>64</td>\n",
       "      <td>33</td>\n",
       "      <td>30</td>\n",
       "      <td>8</td>\n",
       "      <td>56</td>\n",
       "      <td>35</td>\n",
       "      <td>2</td>\n",
       "      <td>4</td>\n",
       "      <td>0</td>\n",
       "    </tr>\n",
       "    <tr>\n",
       "      <th>AGUDO</th>\n",
       "      <td>11</td>\n",
       "      <td>1</td>\n",
       "      <td>1458</td>\n",
       "      <td>92</td>\n",
       "      <td>37</td>\n",
       "      <td>68</td>\n",
       "      <td>2</td>\n",
       "      <td>293</td>\n",
       "      <td>78</td>\n",
       "      <td>64</td>\n",
       "      <td>80</td>\n",
       "      <td>0</td>\n",
       "    </tr>\n",
       "    <tr>\n",
       "      <th>AJURICABA</th>\n",
       "      <td>2</td>\n",
       "      <td>0</td>\n",
       "      <td>475</td>\n",
       "      <td>32</td>\n",
       "      <td>21</td>\n",
       "      <td>10</td>\n",
       "      <td>2</td>\n",
       "      <td>106</td>\n",
       "      <td>52</td>\n",
       "      <td>42</td>\n",
       "      <td>10</td>\n",
       "      <td>1</td>\n",
       "    </tr>\n",
       "    <tr>\n",
       "      <th>ALECRIM</th>\n",
       "      <td>9</td>\n",
       "      <td>0</td>\n",
       "      <td>746</td>\n",
       "      <td>155</td>\n",
       "      <td>11</td>\n",
       "      <td>13</td>\n",
       "      <td>1</td>\n",
       "      <td>82</td>\n",
       "      <td>76</td>\n",
       "      <td>43</td>\n",
       "      <td>26</td>\n",
       "      <td>0</td>\n",
       "    </tr>\n",
       "  </tbody>\n",
       "</table>\n",
       "</div>"
      ],
      "text/plain": [
       "            Homicídio  Doloso  Latrocínio  Furtos  Abigeato*  \\\n",
       "Municípios                                                     \n",
       "ACEGUA                      5           0     537        232   \n",
       "AGUA SANTA                  2           0     384         64   \n",
       "AGUDO                      11           1    1458         92   \n",
       "AJURICABA                   2           0     475         32   \n",
       "ALECRIM                     9           0     746        155   \n",
       "\n",
       "            Furto de Veículo  Roubos  Roubo de Veículo  Estelionato  \\\n",
       "Municípios                                                            \n",
       "ACEGUA                    10      16                 3           82   \n",
       "AGUA SANTA                33      30                 8           56   \n",
       "AGUDO                     37      68                 2          293   \n",
       "AJURICABA                 21      10                 2          106   \n",
       "ALECRIM                   11      13                 1           82   \n",
       "\n",
       "            Delitos Relacionados à Armas e Munições  Entorpecentes - Posse  \\\n",
       "Municípios                                                                   \n",
       "ACEGUA                                           30                      3   \n",
       "AGUA SANTA                                       35                      2   \n",
       "AGUDO                                            78                     64   \n",
       "AJURICABA                                        52                     42   \n",
       "ALECRIM                                          76                     43   \n",
       "\n",
       "            Entorpecentes - Tráfico  Vítimas de Lesão Corp. Seg. Morte  \n",
       "Municípios                                                              \n",
       "ACEGUA                            0                                  0  \n",
       "AGUA SANTA                        4                                  0  \n",
       "AGUDO                            80                                  0  \n",
       "AJURICABA                        10                                  1  \n",
       "ALECRIM                          26                                  0  "
      ]
     },
     "execution_count": 37,
     "metadata": {},
     "output_type": "execute_result"
    }
   ],
   "source": []
  },
  {
   "cell_type": "markdown",
   "id": "1b33f0d7-7042-4ace-ac17-77ae3f277190",
   "metadata": {
    "tags": []
   },
   "source": [
    "Vamos verificar se o comportamento observado na quantidade de crimes de estelionato, furto e roubo de veículos em Porto Alegre se repete em todo o Estado.<br>\n",
    "Primeiro, agrupe os dados por ano e realize a soma para todos os municípios."
   ]
  },
  {
   "cell_type": "code",
   "execution_count": null,
   "id": "adb33632-9beb-4627-a87c-bd2be6a9aaef",
   "metadata": {
    "tags": []
   },
   "outputs": [],
   "source": []
  },
  {
   "cell_type": "markdown",
   "id": "41252565-adf8-4c25-a1c0-b1e370c787ca",
   "metadata": {
    "tags": []
   },
   "source": [
    "A partir do DataFrame agrupado, gere um novo gráfico de linha com as quantidades anuais dos crimes de estelionato, furto e roubo de veículos.<br>\n",
    "Compare com o gráfico gerado no exercício anterior para a Cidade de Porto Alegre."
   ]
  },
  {
   "cell_type": "code",
   "execution_count": null,
   "id": "25745d74-b69c-4730-b76e-0ff25123ce66",
   "metadata": {
    "tags": []
   },
   "outputs": [],
   "source": []
  },
  {
   "cell_type": "markdown",
   "id": "c12bd4cf-1974-465a-90d9-a9d7c75bc1ec",
   "metadata": {
    "tags": []
   },
   "source": [
    "#### Agregações - Crimes por Região do RS"
   ]
  },
  {
   "cell_type": "markdown",
   "id": "0f39055d-0d13-4bf1-9186-4891bffeec4e",
   "metadata": {},
   "source": [
    "Ao invés de comparar municípios, pode fazer sentido avaliar os índices de criminalidade por unidades geográficas maiores, como as regiões imeditas, definidas pelo IBGE para com objetivo agrupar municípios vizinhos que possuam uma integração socioeconômica e funcional mais próxima, facilitando assim a análise de dados e a compreensão da dinâmica regional.\n",
    "Para isso, vamos fazer a junção do DataFrame df_crimes com uma tabela de definição de regiões e agrupar os dados pelas regiões."
   ]
  },
  {
   "cell_type": "markdown",
   "id": "ae345fce-3f31-447b-b113-e837f87f4dcd",
   "metadata": {
    "tags": []
   },
   "source": [
    "##### <<< Desafio Opcional  - Obtenção dos Dados das Regiões>>>"
   ]
  },
  {
   "cell_type": "markdown",
   "id": "9b29e0b2-33e4-4773-8543-f27abe8cafea",
   "metadata": {
    "tags": []
   },
   "source": [
    "O IBGE disponibiliza os dados de municípios e suas microrregiões e regiões imediatas do RS por meio de uma API no endereço<br>\n",
    "https://servicodados.ibge.gov.br/api/v1/localidades/estados/43/municipios<br>\n",
    "Utilizando a função request.get(), obtenha os dados e prepare-os de forma a possibilitar a junção dos mesmos com a DataFrame df_crimes.<br>\n",
    "Dica: utilize a função limpa_texto() do exercício da aula do dia 09."
   ]
  },
  {
   "cell_type": "code",
   "execution_count": null,
   "id": "61a16f7f-06f8-4213-9e86-2505166d5124",
   "metadata": {
    "tags": []
   },
   "outputs": [],
   "source": []
  },
  {
   "cell_type": "markdown",
   "id": "99a9f280-e12e-46c6-a1d8-09518d5b9fa4",
   "metadata": {
    "tags": []
   },
   "source": [
    "##### Carga e Junção de Dados"
   ]
  },
  {
   "cell_type": "markdown",
   "id": "7045e2dc-f589-4117-b873-27a51a5a7c7d",
   "metadata": {},
   "source": [
    "Caso não tenha realizado o desafio opcional, carregue os dados das regiões do RS com o comando abaixo:"
   ]
  },
  {
   "cell_type": "code",
   "execution_count": null,
   "id": "ef2a5a39-8679-4485-a9ec-ea14e2bcc38d",
   "metadata": {
    "tags": []
   },
   "outputs": [],
   "source": [
    "df_rs = pd.read_json('./data/df_rs_regioes.json')"
   ]
  },
  {
   "cell_type": "markdown",
   "id": "b16be5b5-aa82-496e-9abb-3942e5d467fb",
   "metadata": {},
   "source": [
    "Faca a junção da tabela de crimes com a tabela de microregião."
   ]
  },
  {
   "cell_type": "code",
   "execution_count": null,
   "id": "6d359bac-6afe-49c3-9c24-bb95c6a26d17",
   "metadata": {},
   "outputs": [],
   "source": []
  },
  {
   "cell_type": "markdown",
   "id": "3567eb77-dc82-4a1c-80fc-2ac468c55a4b",
   "metadata": {
    "tags": []
   },
   "source": [
    "##### Agregação: Crimes x Região-Intermediária"
   ]
  },
  {
   "cell_type": "markdown",
   "id": "6bce46b2-e1ad-4dc0-8eec-439dc1221890",
   "metadata": {},
   "source": [
    "Finalmente, utilizando a função groupby(), calcule a quantidade de crime por região-itermediária.\n",
    "Liste as 5 regiões-imediadas com o maior número de homicídios dolosos."
   ]
  },
  {
   "cell_type": "code",
   "execution_count": null,
   "id": "c1c36296-ed56-438d-b432-641b79e6a487",
   "metadata": {
    "tags": []
   },
   "outputs": [],
   "source": []
  },
  {
   "cell_type": "markdown",
   "id": "a8b3596b-ea59-452c-9be8-a27a5c04c6e3",
   "metadata": {
    "tags": []
   },
   "source": [
    "Faça um gráfico de pizza para mostrar como estão distribuídos os homicídios nas 10 maiores regiões-imediatas do Rio Grande do Sul."
   ]
  },
  {
   "cell_type": "code",
   "execution_count": null,
   "id": "bb4fad5d-6f77-465a-a668-b580dba9944f",
   "metadata": {
    "tags": []
   },
   "outputs": [],
   "source": []
  },
  {
   "cell_type": "markdown",
   "id": "10e2871f-4e97-43dc-a985-da1deea96db7",
   "metadata": {
    "tags": []
   },
   "source": [
    "##### População Por Região"
   ]
  },
  {
   "cell_type": "markdown",
   "id": "4321c22b-16cc-490b-b0ce-cdb5aaa2bf88",
   "metadata": {},
   "source": [
    "Leia o arquivo './data/pop_rs.json' e, por meio de uma junção com o DataFrame df_rs através das colunas \"Código\" e \"id\", calcule a população em 2022 de cada região-intermediária do RS."
   ]
  },
  {
   "cell_type": "code",
   "execution_count": null,
   "id": "d1e7f866-43d4-48ac-b423-c5ab848864b9",
   "metadata": {
    "tags": []
   },
   "outputs": [],
   "source": []
  },
  {
   "cell_type": "markdown",
   "id": "8d7eabd0-fe79-4f62-9ad6-e29f5e8ef015",
   "metadata": {
    "tags": []
   },
   "source": [
    "##### Taxa de Homicídio Por Região"
   ]
  },
  {
   "cell_type": "markdown",
   "id": "a653ddd6-1dc2-496b-bc4f-52b08d89fb25",
   "metadata": {},
   "source": [
    "Por fim, utilize os dados populacionais para calcular a taxa de homicídio/100.000 habitantes por região, levando em conta a população de 2022.<br>\n",
    "Exiba a taxa para cada região em um gráfico de barras horizontal, ordenado por taxa de homicídio."
   ]
  },
  {
   "cell_type": "code",
   "execution_count": null,
   "id": "6e60bd5c-2b06-480b-88f8-dcb97b152ce8",
   "metadata": {
    "tags": []
   },
   "outputs": [],
   "source": []
  },
  {
   "cell_type": "markdown",
   "id": "2ed03978-d0b8-40ef-8551-7b938d0e159e",
   "metadata": {},
   "source": [
    "##### Regressão Linear: Taxa de Homicídios x População"
   ]
  },
  {
   "cell_type": "markdown",
   "id": "2bafc9d6-b7ce-4986-9930-f7c1cb15653e",
   "metadata": {},
   "source": [
    "Inicialmente, plote dois gráficos de dispersão das variáveis população e taxa de homicídio utilizando o método lmplot do Seaborn, o primeiro com os dados completos e o segundo excluindo a região de Porto Alegre."
   ]
  },
  {
   "cell_type": "code",
   "execution_count": null,
   "id": "6f224b64-2277-4473-be92-033d757dbf97",
   "metadata": {},
   "outputs": [],
   "source": []
  },
  {
   "cell_type": "markdown",
   "id": "04132c14-279b-44f3-9cb7-35a0b8852dde",
   "metadata": {},
   "source": [
    "Utilizando o módulo statsmodels, faça uma regressão linear para avaliar o possível efeito do tamanho da população na taxa de homicídios nas regiões do RS."
   ]
  },
  {
   "cell_type": "code",
   "execution_count": null,
   "id": "0b0e75a4-7581-46bc-b6d2-7876cd58b554",
   "metadata": {},
   "outputs": [],
   "source": []
  },
  {
   "cell_type": "markdown",
   "id": "cd42baf3-376f-4088-9f9e-8f2dc2ac90df",
   "metadata": {},
   "source": [
    "Execute novamente a regressaão, excluindo a região de Porto Alegre, e compare os resultados."
   ]
  },
  {
   "cell_type": "code",
   "execution_count": null,
   "id": "c02e339c-e13e-4033-89d8-9263f0831ca5",
   "metadata": {},
   "outputs": [],
   "source": []
  },
  {
   "cell_type": "markdown",
   "id": "1a5a600c-7909-4614-a904-6162f0b3c6c5",
   "metadata": {
    "tags": []
   },
   "source": [
    "### Preços Combustíveis"
   ]
  },
  {
   "cell_type": "markdown",
   "id": "d5fcd387-a037-4918-bdea-49eef1bdf1bc",
   "metadata": {
    "tags": []
   },
   "source": [
    "#### Carga da Base de Dados Combustíveis"
   ]
  },
  {
   "cell_type": "code",
   "execution_count": 120,
   "id": "960bdf2a-ae32-421b-86a2-bb1d6ec0ca81",
   "metadata": {
    "tags": []
   },
   "outputs": [
    {
     "data": {
      "text/html": [
       "<div>\n",
       "<style scoped>\n",
       "    .dataframe tbody tr th:only-of-type {\n",
       "        vertical-align: middle;\n",
       "    }\n",
       "\n",
       "    .dataframe tbody tr th {\n",
       "        vertical-align: top;\n",
       "    }\n",
       "\n",
       "    .dataframe thead th {\n",
       "        text-align: right;\n",
       "    }\n",
       "</style>\n",
       "<table border=\"1\" class=\"dataframe\">\n",
       "  <thead>\n",
       "    <tr style=\"text-align: right;\">\n",
       "      <th></th>\n",
       "      <th>Regiao - Sigla</th>\n",
       "      <th>Estado - Sigla</th>\n",
       "      <th>Municipio</th>\n",
       "      <th>Revenda</th>\n",
       "      <th>CNPJ da Revenda</th>\n",
       "      <th>Nome da Rua</th>\n",
       "      <th>Numero Rua</th>\n",
       "      <th>Complemento</th>\n",
       "      <th>Bairro</th>\n",
       "      <th>Cep</th>\n",
       "      <th>Produto</th>\n",
       "      <th>Data da Coleta</th>\n",
       "      <th>Valor de Venda</th>\n",
       "      <th>Valor de Compra</th>\n",
       "      <th>Unidade de Medida</th>\n",
       "      <th>Bandeira</th>\n",
       "    </tr>\n",
       "  </thead>\n",
       "  <tbody>\n",
       "    <tr>\n",
       "      <th>0</th>\n",
       "      <td>NE</td>\n",
       "      <td>AL</td>\n",
       "      <td>ARAPIRACA</td>\n",
       "      <td>COMERCIAL DE COMBUSTIVEIS E LUBRIFICANTES VITA...</td>\n",
       "      <td>02.817.655/0001-82</td>\n",
       "      <td>RODOVIA AL 220 - KM 06</td>\n",
       "      <td>S/N</td>\n",
       "      <td>NaN</td>\n",
       "      <td>PLANALTO</td>\n",
       "      <td>57308-000</td>\n",
       "      <td>ETANOL</td>\n",
       "      <td>02/01/2023</td>\n",
       "      <td>3,89</td>\n",
       "      <td>NaN</td>\n",
       "      <td>R$ / litro</td>\n",
       "      <td>VIBRA ENERGIA</td>\n",
       "    </tr>\n",
       "    <tr>\n",
       "      <th>1</th>\n",
       "      <td>NE</td>\n",
       "      <td>AL</td>\n",
       "      <td>ARAPIRACA</td>\n",
       "      <td>COMERCIAL DE COMBUSTIVEIS E LUBRIFICANTES VITA...</td>\n",
       "      <td>02.817.655/0001-82</td>\n",
       "      <td>RODOVIA AL 220 - KM 06</td>\n",
       "      <td>S/N</td>\n",
       "      <td>NaN</td>\n",
       "      <td>PLANALTO</td>\n",
       "      <td>57308-000</td>\n",
       "      <td>GASOLINA ADITIVADA</td>\n",
       "      <td>02/01/2023</td>\n",
       "      <td>5,14</td>\n",
       "      <td>NaN</td>\n",
       "      <td>R$ / litro</td>\n",
       "      <td>VIBRA ENERGIA</td>\n",
       "    </tr>\n",
       "    <tr>\n",
       "      <th>2</th>\n",
       "      <td>NE</td>\n",
       "      <td>AL</td>\n",
       "      <td>ARAPIRACA</td>\n",
       "      <td>COMERCIAL DE COMBUSTIVEIS E LUBRIFICANTES VITA...</td>\n",
       "      <td>02.817.655/0001-82</td>\n",
       "      <td>RODOVIA AL 220 - KM 06</td>\n",
       "      <td>S/N</td>\n",
       "      <td>NaN</td>\n",
       "      <td>PLANALTO</td>\n",
       "      <td>57308-000</td>\n",
       "      <td>GASOLINA</td>\n",
       "      <td>02/01/2023</td>\n",
       "      <td>5,14</td>\n",
       "      <td>NaN</td>\n",
       "      <td>R$ / litro</td>\n",
       "      <td>VIBRA ENERGIA</td>\n",
       "    </tr>\n",
       "    <tr>\n",
       "      <th>3</th>\n",
       "      <td>NE</td>\n",
       "      <td>AL</td>\n",
       "      <td>ARAPIRACA</td>\n",
       "      <td>AUTO POSTO SAO FRANCISCO LTDA</td>\n",
       "      <td>12.706.529/0001-04</td>\n",
       "      <td>RUA SAO FRANCISCO</td>\n",
       "      <td>274</td>\n",
       "      <td>NaN</td>\n",
       "      <td>CENTRO</td>\n",
       "      <td>57300-080</td>\n",
       "      <td>ETANOL</td>\n",
       "      <td>02/01/2023</td>\n",
       "      <td>3,79</td>\n",
       "      <td>NaN</td>\n",
       "      <td>R$ / litro</td>\n",
       "      <td>VIBRA ENERGIA</td>\n",
       "    </tr>\n",
       "    <tr>\n",
       "      <th>4</th>\n",
       "      <td>NE</td>\n",
       "      <td>AL</td>\n",
       "      <td>ARAPIRACA</td>\n",
       "      <td>AUTO POSTO SAO FRANCISCO LTDA</td>\n",
       "      <td>12.706.529/0001-04</td>\n",
       "      <td>RUA SAO FRANCISCO</td>\n",
       "      <td>274</td>\n",
       "      <td>NaN</td>\n",
       "      <td>CENTRO</td>\n",
       "      <td>57300-080</td>\n",
       "      <td>GASOLINA</td>\n",
       "      <td>02/01/2023</td>\n",
       "      <td>5,29</td>\n",
       "      <td>NaN</td>\n",
       "      <td>R$ / litro</td>\n",
       "      <td>VIBRA ENERGIA</td>\n",
       "    </tr>\n",
       "  </tbody>\n",
       "</table>\n",
       "</div>"
      ],
      "text/plain": [
       "  Regiao - Sigla Estado - Sigla  Municipio  \\\n",
       "0             NE             AL  ARAPIRACA   \n",
       "1             NE             AL  ARAPIRACA   \n",
       "2             NE             AL  ARAPIRACA   \n",
       "3             NE             AL  ARAPIRACA   \n",
       "4             NE             AL  ARAPIRACA   \n",
       "\n",
       "                                             Revenda      CNPJ da Revenda  \\\n",
       "0  COMERCIAL DE COMBUSTIVEIS E LUBRIFICANTES VITA...   02.817.655/0001-82   \n",
       "1  COMERCIAL DE COMBUSTIVEIS E LUBRIFICANTES VITA...   02.817.655/0001-82   \n",
       "2  COMERCIAL DE COMBUSTIVEIS E LUBRIFICANTES VITA...   02.817.655/0001-82   \n",
       "3                      AUTO POSTO SAO FRANCISCO LTDA   12.706.529/0001-04   \n",
       "4                      AUTO POSTO SAO FRANCISCO LTDA   12.706.529/0001-04   \n",
       "\n",
       "              Nome da Rua Numero Rua Complemento    Bairro        Cep  \\\n",
       "0  RODOVIA AL 220 - KM 06        S/N         NaN  PLANALTO  57308-000   \n",
       "1  RODOVIA AL 220 - KM 06        S/N         NaN  PLANALTO  57308-000   \n",
       "2  RODOVIA AL 220 - KM 06        S/N         NaN  PLANALTO  57308-000   \n",
       "3       RUA SAO FRANCISCO        274         NaN    CENTRO  57300-080   \n",
       "4       RUA SAO FRANCISCO        274         NaN    CENTRO  57300-080   \n",
       "\n",
       "              Produto Data da Coleta Valor de Venda  Valor de Compra  \\\n",
       "0              ETANOL     02/01/2023           3,89              NaN   \n",
       "1  GASOLINA ADITIVADA     02/01/2023           5,14              NaN   \n",
       "2            GASOLINA     02/01/2023           5,14              NaN   \n",
       "3              ETANOL     02/01/2023           3,79              NaN   \n",
       "4            GASOLINA     02/01/2023           5,29              NaN   \n",
       "\n",
       "  Unidade de Medida       Bandeira  \n",
       "0        R$ / litro  VIBRA ENERGIA  \n",
       "1        R$ / litro  VIBRA ENERGIA  \n",
       "2        R$ / litro  VIBRA ENERGIA  \n",
       "3        R$ / litro  VIBRA ENERGIA  \n",
       "4        R$ / litro  VIBRA ENERGIA  "
      ]
     },
     "execution_count": 120,
     "metadata": {},
     "output_type": "execute_result"
    }
   ],
   "source": [
    "df_combustiveis = pd.read_csv('./data/precos-gasolina-etanol-01.csv',sep=';')\n",
    "df_combustiveis.head()"
   ]
  },
  {
   "cell_type": "markdown",
   "id": "9c0fa899-8c80-4b2b-b407-db809d5a1338",
   "metadata": {},
   "source": [
    "Utilize a função groupby() para contar quantos municípios por Unidade da Federação estão presentes na base."
   ]
  },
  {
   "cell_type": "code",
   "execution_count": null,
   "id": "a3ca8d01-e1d1-4b85-b182-734f4d896984",
   "metadata": {
    "tags": []
   },
   "outputs": [],
   "source": []
  },
  {
   "cell_type": "markdown",
   "id": "24fdd32d-6cb8-462c-b09d-3ac9d5f7b450",
   "metadata": {
    "tags": []
   },
   "source": [
    "Utilize a função groupby() para calcular os preços máximo, médio e mínimo do valor de venda gasolina não aditivada por Unidade da Federação:"
   ]
  },
  {
   "cell_type": "code",
   "execution_count": null,
   "id": "c369104d-1d0e-4a97-9e08-6f74dd1e35fb",
   "metadata": {
    "tags": []
   },
   "outputs": [],
   "source": []
  },
  {
   "cell_type": "markdown",
   "id": "e2f7f418-b4e5-418b-aec1-4a6a3b7f742a",
   "metadata": {},
   "source": [
    "Utilize a função groupby() para calcular os preços máximo, médio e mínimo do valor de venda gasolina nos diferentes bairros do Distrito Federal.\n",
    "Imprima os 5 bairros com os menores preços."
   ]
  },
  {
   "cell_type": "code",
   "execution_count": null,
   "id": "efdc3ebb-17a6-49af-a9c2-4a5003c6758d",
   "metadata": {
    "tags": []
   },
   "outputs": [],
   "source": []
  }
 ],
 "metadata": {
  "kernelspec": {
   "display_name": "Python 3 (ipykernel)",
   "language": "python",
   "name": "python3"
  },
  "language_info": {
   "codemirror_mode": {
    "name": "ipython",
    "version": 3
   },
   "file_extension": ".py",
   "mimetype": "text/x-python",
   "name": "python",
   "nbconvert_exporter": "python",
   "pygments_lexer": "ipython3",
   "version": "3.11.5"
  }
 },
 "nbformat": 4,
 "nbformat_minor": 5
}
