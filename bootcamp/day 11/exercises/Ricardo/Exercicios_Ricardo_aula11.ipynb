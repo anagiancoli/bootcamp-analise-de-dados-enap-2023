{
 "cells": [
  {
   "cell_type": "markdown",
   "id": "65e48cca",
   "metadata": {},
   "source": [
    "# Usaremos, novamente, a base de dados com informações econômicas de países. \n",
    "Se você não conseguiu terminar todos os passos de limpeza e preparação da base de dados da ultima aula,importe a base já tratada, abaixo."
   ]
  },
  {
   "cell_type": "code",
   "execution_count": null,
   "id": "681f02ae",
   "metadata": {},
   "outputs": [],
   "source": [
    "import pandas as pd\n",
    "url= ('https://github.com/thaissalzer/thaissalzer/blob/0aeff8ad21652a0d060a81323138eb3d02ab56e6/aula8.xlsx?raw=true')\n",
    "df= pd.read_excel(url)\n",
    "df.head()\n"
   ]
  },
  {
   "cell_type": "markdown",
   "id": "1fd5a630",
   "metadata": {},
   "source": [
    "# Encontre os 5 países com maior e os 5 com menor renda per capita (GDP_PC)"
   ]
  },
  {
   "cell_type": "code",
   "execution_count": null,
   "id": "e15e5fe1",
   "metadata": {},
   "outputs": [],
   "source": []
  },
  {
   "cell_type": "code",
   "execution_count": null,
   "id": "f735aeed",
   "metadata": {},
   "outputs": [],
   "source": []
  },
  {
   "cell_type": "markdown",
   "id": "f7399759",
   "metadata": {},
   "source": [
    "# Vamos dividir os países em 5 grupos (quintis), de acordo com seu nível de riqueza\n",
    "\n",
    "Com base na variável 'GDP_PC' (PIB per capta), divida a base de dados em 5 grupos de países (quintis), lembrando que cada grupo deve conter 20% dos dados:\n",
    "labels = \"pobres\", \"medio pobres\", 'medio', \"medio ricos\", \"ricos\".\n",
    "\n",
    "\"Quintil\" deve ser o nome da nova variável que contém, como labels, \"pobres\", \"medio pobres\", 'medio', \"medio ricos\", \"ricos\".\n",
    "\n",
    "Depois analise as médias de cada variável para cada um desses grupos, separadamente."
   ]
  },
  {
   "cell_type": "code",
   "execution_count": null,
   "id": "e55ad3ec",
   "metadata": {},
   "outputs": [],
   "source": []
  },
  {
   "cell_type": "code",
   "execution_count": null,
   "id": "19ee09ef",
   "metadata": {},
   "outputs": [],
   "source": []
  },
  {
   "cell_type": "code",
   "execution_count": null,
   "id": "44233e34",
   "metadata": {},
   "outputs": [],
   "source": []
  },
  {
   "cell_type": "markdown",
   "id": "ac1b2f8b",
   "metadata": {},
   "source": [
    "# Quais conclusões você pode tirar dos dados?"
   ]
  },
  {
   "cell_type": "code",
   "execution_count": null,
   "id": "656d3d83",
   "metadata": {},
   "outputs": [],
   "source": []
  },
  {
   "cell_type": "code",
   "execution_count": null,
   "id": "49d85b3d",
   "metadata": {},
   "outputs": [],
   "source": []
  },
  {
   "cell_type": "code",
   "execution_count": null,
   "id": "5f9ad594",
   "metadata": {},
   "outputs": [],
   "source": []
  },
  {
   "cell_type": "code",
   "execution_count": null,
   "id": "b3d1b960",
   "metadata": {},
   "outputs": [],
   "source": []
  },
  {
   "cell_type": "markdown",
   "id": "52141dc0-1480-4e22-8d01-18e417c3b93d",
   "metadata": {},
   "source": [
    "# Regressão Linear"
   ]
  },
  {
   "cell_type": "markdown",
   "id": "1bee25f6-06ff-45b8-9150-3656426e8382",
   "metadata": {},
   "source": [
    "No exercício da aula sobre Análise de Dados em Alto Desempenho, criamos um dataframe com informações de mulheres, trabalhadoras do mercado formal de trabalho, que utilizaremos nessa aula."
   ]
  },
  {
   "cell_type": "code",
   "execution_count": 1,
   "id": "e889a398-3bd8-44c9-92b1-f3e8f9b63d08",
   "metadata": {},
   "outputs": [
    {
     "data": {
      "text/html": [
       "<div>\n",
       "<style scoped>\n",
       "    .dataframe tbody tr th:only-of-type {\n",
       "        vertical-align: middle;\n",
       "    }\n",
       "\n",
       "    .dataframe tbody tr th {\n",
       "        vertical-align: top;\n",
       "    }\n",
       "\n",
       "    .dataframe thead th {\n",
       "        text-align: right;\n",
       "    }\n",
       "</style>\n",
       "<table border=\"1\" class=\"dataframe\">\n",
       "  <thead>\n",
       "    <tr style=\"text-align: right;\">\n",
       "      <th></th>\n",
       "      <th>uf</th>\n",
       "      <th>genero</th>\n",
       "      <th>fx_etaria</th>\n",
       "      <th>escolaridade</th>\n",
       "      <th>tamestab</th>\n",
       "      <th>rem_dezem</th>\n",
       "      <th>temp_empr</th>\n",
       "      <th>salario</th>\n",
       "    </tr>\n",
       "  </thead>\n",
       "  <tbody>\n",
       "    <tr>\n",
       "      <th>0</th>\n",
       "      <td>SP</td>\n",
       "      <td>FEMININO</td>\n",
       "      <td>50 A 64</td>\n",
       "      <td>SUP. COMP</td>\n",
       "      <td>DE 500 A 999</td>\n",
       "      <td>48.689999</td>\n",
       "      <td>416.600010</td>\n",
       "      <td>20206.349585</td>\n",
       "    </tr>\n",
       "    <tr>\n",
       "      <th>1</th>\n",
       "      <td>SP</td>\n",
       "      <td>FEMININO</td>\n",
       "      <td>50 A 64</td>\n",
       "      <td>SUP. COMP</td>\n",
       "      <td>1000 OU MAIS</td>\n",
       "      <td>4.240000</td>\n",
       "      <td>172.600010</td>\n",
       "      <td>1759.599917</td>\n",
       "    </tr>\n",
       "    <tr>\n",
       "      <th>2</th>\n",
       "      <td>RJ</td>\n",
       "      <td>FEMININO</td>\n",
       "      <td>50 A 64</td>\n",
       "      <td>SUP. COMP</td>\n",
       "      <td>1000 OU MAIS</td>\n",
       "      <td>20.559999</td>\n",
       "      <td>350.399990</td>\n",
       "      <td>8532.399585</td>\n",
       "    </tr>\n",
       "    <tr>\n",
       "      <th>3</th>\n",
       "      <td>SP</td>\n",
       "      <td>FEMININO</td>\n",
       "      <td>40 A 49</td>\n",
       "      <td>SUP. COMP</td>\n",
       "      <td>DE 50 A 99</td>\n",
       "      <td>14.590000</td>\n",
       "      <td>46.299999</td>\n",
       "      <td>6054.850000</td>\n",
       "    </tr>\n",
       "    <tr>\n",
       "      <th>4</th>\n",
       "      <td>AM</td>\n",
       "      <td>FEMININO</td>\n",
       "      <td>50 A 64</td>\n",
       "      <td>SUP. COMP</td>\n",
       "      <td>DE 50 A 99</td>\n",
       "      <td>11.730000</td>\n",
       "      <td>418.899990</td>\n",
       "      <td>4867.950000</td>\n",
       "    </tr>\n",
       "  </tbody>\n",
       "</table>\n",
       "</div>"
      ],
      "text/plain": [
       "   uf    genero fx_etaria escolaridade      tamestab  rem_dezem   temp_empr  \\\n",
       "0  SP  FEMININO   50 A 64    SUP. COMP  DE 500 A 999  48.689999  416.600010   \n",
       "1  SP  FEMININO   50 A 64    SUP. COMP  1000 OU MAIS   4.240000  172.600010   \n",
       "2  RJ  FEMININO   50 A 64    SUP. COMP  1000 OU MAIS  20.559999  350.399990   \n",
       "3  SP  FEMININO   40 A 49    SUP. COMP    DE 50 A 99  14.590000   46.299999   \n",
       "4  AM  FEMININO   50 A 64    SUP. COMP    DE 50 A 99  11.730000  418.899990   \n",
       "\n",
       "        salario  \n",
       "0  20206.349585  \n",
       "1   1759.599917  \n",
       "2   8532.399585  \n",
       "3   6054.850000  \n",
       "4   4867.950000  "
      ]
     },
     "execution_count": 1,
     "metadata": {},
     "output_type": "execute_result"
    }
   ],
   "source": [
    "import pandas as pd\n",
    "url= ('https://github.com/thaissalzer/thaissalzer/blob/9f8739186278cd535fcff5a8f75c3322ec506cfc/mulheres.xlsx?raw=true')\n",
    "df= pd.read_excel(url)\n",
    "df.head()"
   ]
  },
  {
   "cell_type": "markdown",
   "id": "d827a7bc-5b76-4ea1-8782-573db11db1f8",
   "metadata": {},
   "source": [
    "A literatura de economia do trabalho diz que escolaridade e experiência no mesmo emprego (tempo de emprego) são variáveis que explicam o salário do indivíduo. Vamos testar isso nesse exercício."
   ]
  },
  {
   "cell_type": "markdown",
   "id": "0b306637-9652-4eeb-b8c8-2405d6759f73",
   "metadata": {},
   "source": [
    "## Veja a correlação entre as variáveis contínuas do dataframe.\n",
    "\n",
    "\n",
    "Você vai precisar criar um novo dataframe com as variáveis continuas (rem_dezem,\ttemp_empr, salario), ou informar, na hora de criar o comando, que quer a correlação apenas de um grupo de variável."
   ]
  },
  {
   "cell_type": "code",
   "execution_count": null,
   "id": "0f5260c9-3f3b-4003-8981-dd821e8bb384",
   "metadata": {},
   "outputs": [],
   "source": []
  },
  {
   "cell_type": "code",
   "execution_count": null,
   "id": "4c6f2573-8233-4c49-8393-a8c85016865d",
   "metadata": {},
   "outputs": [],
   "source": []
  },
  {
   "cell_type": "code",
   "execution_count": null,
   "id": "22de8699-6cd6-4900-aac7-55d450bddc83",
   "metadata": {},
   "outputs": [],
   "source": []
  },
  {
   "cell_type": "markdown",
   "id": "56f51da7-e52a-49ee-8084-b67fb4e2c834",
   "metadata": {},
   "source": [
    "###  O sns.scatterplot() é usado para criar um gráfico de dispersão simples.\n",
    "\n",
    "Faça um scatterplot com x = temp_empr e y = salario"
   ]
  },
  {
   "cell_type": "code",
   "execution_count": 2,
   "id": "6bc9c082-3dfd-41eb-95e6-914712de6520",
   "metadata": {},
   "outputs": [],
   "source": [
    "# importando a biblioteca necessária\n",
    "import seaborn as sns\n",
    "import matplotlib.pyplot as plt\n",
    "# gráfico de dispersão (scatter plot) que relaciona essas duas variáveis\n",
    "# x='temp_empr', y='salario'\n",
    "# Crie o gráfico com as dimensões especificadas"
   ]
  },
  {
   "cell_type": "code",
   "execution_count": null,
   "id": "8589c103-9244-477f-afb5-b62f190bc725",
   "metadata": {},
   "outputs": [],
   "source": []
  },
  {
   "cell_type": "code",
   "execution_count": null,
   "id": "6a5e98a2-c7b5-4ac6-a62d-0525b7a43c59",
   "metadata": {},
   "outputs": [],
   "source": []
  },
  {
   "cell_type": "code",
   "execution_count": null,
   "id": "120c716c-0c2f-45f3-b75b-3637fbd792c1",
   "metadata": {},
   "outputs": [],
   "source": []
  },
  {
   "cell_type": "markdown",
   "id": "4d26317a-dd3b-40bd-89d6-c259247e2929",
   "metadata": {},
   "source": [
    "### O sns.regplot() também cria um gráfico de dispersão, mas, além disso, ajusta automaticamente uma linha de regressão linear aos dados e a desenha no gráfico.\n",
    "\n",
    " Crie um regplot com os mesmos dados usados no gráfico anterior"
   ]
  },
  {
   "cell_type": "code",
   "execution_count": null,
   "id": "3f1861f3-0f3b-47c3-babf-046a903c13fe",
   "metadata": {},
   "outputs": [],
   "source": []
  },
  {
   "cell_type": "code",
   "execution_count": null,
   "id": "f27dbb2d-cfec-42fb-8188-a0c1516ab7b1",
   "metadata": {},
   "outputs": [],
   "source": []
  },
  {
   "cell_type": "code",
   "execution_count": null,
   "id": "37cc4aa4-f98c-4c00-be44-a5ea5dd030d7",
   "metadata": {},
   "outputs": [],
   "source": []
  },
  {
   "cell_type": "code",
   "execution_count": null,
   "id": "eb2916d2-c7d3-4d9d-aa6d-3e5110438d55",
   "metadata": {},
   "outputs": [],
   "source": []
  },
  {
   "cell_type": "markdown",
   "id": "2c80f2d2-7f5f-4ff2-a8c8-0e4dd074bd68",
   "metadata": {},
   "source": [
    "### Parece haver uma correlação baixa entre as variáveis, correto? \n",
    "\n",
    "Faça uma regressão simples com essas variáveis (y= salario e x = temp_empr) e analise seus resultados."
   ]
  },
  {
   "cell_type": "code",
   "execution_count": null,
   "id": "3e38ac3d-bd81-4d34-95eb-891f27aa5170",
   "metadata": {},
   "outputs": [],
   "source": [
    "import pandas as pd\n",
    "import statsmodels.api as sm\n",
    "\n",
    "\n"
   ]
  },
  {
   "cell_type": "markdown",
   "id": "ad96dead-c4d1-4d8e-a980-055a242a5331",
   "metadata": {},
   "source": [
    "Como explicar esse modelo?\n"
   ]
  },
  {
   "cell_type": "code",
   "execution_count": null,
   "id": "c06fe844-9175-4ca4-9c3b-de9272d6d2af",
   "metadata": {},
   "outputs": [],
   "source": []
  },
  {
   "cell_type": "code",
   "execution_count": null,
   "id": "9cf0a774-ec49-449f-b2fd-badab354c184",
   "metadata": {},
   "outputs": [],
   "source": []
  },
  {
   "cell_type": "markdown",
   "id": "d916d242-a310-496e-941f-520cced67e69",
   "metadata": {},
   "source": [
    "## Desafio : Regressão multipla"
   ]
  },
  {
   "cell_type": "markdown",
   "id": "5f65e187-36c2-4108-a270-baaa312be8e5",
   "metadata": {},
   "source": [
    "### Agora vamos ver se a escolaridade afeta o salário dos indivíduos.\n",
    "\n",
    "Inicialmente, faça o Ordinal Encoder da variável escolaridade. Analise as novas variáveis geradas no seu dataframe.\n",
    "\n",
    "A ordem que queremos ( de 0 a 7) é \"ATE 5.A INC'\", \"5.A CO FUND\", \"6. A 9. FUND\",\"FUND COMPL\",\"MEDIO INCOMP'\",\"MEDIO COMPL\",\"SUP. INCOMP\", \"SUP. COMP\""
   ]
  },
  {
   "cell_type": "code",
   "execution_count": null,
   "id": "be471e72-2dbf-4b97-8cec-e17a065c00d7",
   "metadata": {},
   "outputs": [],
   "source": []
  },
  {
   "cell_type": "code",
   "execution_count": null,
   "id": "d2f6ce9d-77e0-40f5-9c00-77807e54973b",
   "metadata": {},
   "outputs": [],
   "source": []
  },
  {
   "cell_type": "markdown",
   "id": "2f9835f0-39ff-4a8f-ae60-f9bee520a2c2",
   "metadata": {},
   "source": [
    "### Agora, analise a correlação das variáveis (continuas) com a nova variável criada e crie uma regressão multipla, para tentar analisar se o salário pode ser explicado pelo tempo de emprego e pela escolaridade.\n",
    "\n",
    "Analise os coeficientes da regressão, seu R-squared, p-value e demais elementos estudados na aula.\n",
    "Como você poderia melhorar esse modelo?"
   ]
  },
  {
   "cell_type": "code",
   "execution_count": null,
   "id": "88db3034-590f-46c7-a817-35c8e7da31e0",
   "metadata": {},
   "outputs": [],
   "source": []
  }
 ],
 "metadata": {
  "kernelspec": {
   "display_name": "Python 3 (ipykernel)",
   "language": "python",
   "name": "python3"
  },
  "language_info": {
   "codemirror_mode": {
    "name": "ipython",
    "version": 3
   },
   "file_extension": ".py",
   "mimetype": "text/x-python",
   "name": "python",
   "nbconvert_exporter": "python",
   "pygments_lexer": "ipython3",
   "version": "3.11.5"
  }
 },
 "nbformat": 4,
 "nbformat_minor": 5
}
