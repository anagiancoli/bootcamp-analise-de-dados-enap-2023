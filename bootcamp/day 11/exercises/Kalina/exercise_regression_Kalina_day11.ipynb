{
 "cells": [
  {
   "cell_type": "markdown",
   "metadata": {},
   "source": [
    "# Regressão Linear 📈 - Exercícios"
   ]
  },
  {
   "cell_type": "markdown",
   "metadata": {},
   "source": [
    "Vamos exercitar os conceitos de regressão linear aprendidos até aqui. Para isso, vamos utilizar o *dataset* Load_Diabetes, que é uma ferramenta bem conhecida para análises relacionadas à diabetes e modelagem de regressão linear e é comumente utilizada em tarefas de aprendizado de máquina e estatísticas para estudar a progressão da diabetes em pacientes.\n",
    "\n",
    "**O que é o Banco de Dados Load_Diabetes**\n",
    "\n",
    "O *dataset* Load_Diabetes contém informações de saúde de pacientes com diabetes, incluindo variáveis demográficas e clínicas, bem como uma medida quantitativa da progressão da doença um ano após o início do estudo. As variáveis incluem idade, sexo, índice de massa corporal (IMC), pressão sanguínea média e seis medições séricas.\n",
    "\n",
    "**E como acessá-lo?**\n",
    "\n",
    "Para acessar o *dataset* Load_Diabetes em Python, você pode utilizar a biblioteca scikit-learn. Primeiro, você deve importar a biblioteca e, em seguida, carregar o conjunto de dados da seguinte maneira:\n",
    "  \n",
    "  ```python\n",
    "  from sklearn.datasets import load_diabetes\n",
    "\n",
    "  # Carregar o conjunto de dados Diabetes\n",
    "  diabetes = load_diabetes()\n",
    "\n",
    "  # Criar o DataFrame\n",
    "  df = pd.DataFrame(data=np.c_[diabetes.data, diabetes.target], columns=diabetes.feature_names + ['Progression'])\n",
    "  ```\n",
    "\n",
    "Uma vez carregado, você terá acesso a todas as informações do conjunto de dados, incluindo as variáveis independentes e a variável de destino (progressão da diabetes), que podem ser usadas para análises e modelagem.\n",
    "\n",
    "**Aviso Importante**\n",
    "É importante notar que o conjunto de dados Diabetes, utilizado neste exercício, já foi previamente padronizado (standardizado). Isso significa que as variáveis independentes passaram por um processo de transformação em que a média de cada variável foi subtraída de cada valor e o resultado foi dividido pelo desvio padrão da variável. Portanto, todas as variáveis agora têm uma média igual a zero e um desvio padrão igual a um.\n",
    "\n",
    "Neste exercício, exploraremos como realizar uma análise de regressão linear simples usando este *dataset* para prever a progressão da diabetes com base em uma das variáveis independentes, como o IMC. Você aprenderá como preparar os dados, construir um modelo de regressão e avaliar seus resultados."
   ]
  },
  {
   "cell_type": "code",
   "execution_count": null,
   "metadata": {},
   "outputs": [],
   "source": []
  },
  {
   "cell_type": "markdown",
   "metadata": {},
   "source": [
    "Investigue as correlações entre as variáveis do dataset através do método `corr()` do Pandas."
   ]
  },
  {
   "cell_type": "code",
   "execution_count": null,
   "metadata": {},
   "outputs": [],
   "source": []
  },
  {
   "cell_type": "markdown",
   "metadata": {},
   "source": [
    "A partir do gráfico de correlação, escolha uma variável independente e a utilize para construir um modelo de regressão linear simples."
   ]
  },
  {
   "cell_type": "code",
   "execution_count": null,
   "metadata": {},
   "outputs": [],
   "source": []
  },
  {
   "cell_type": "markdown",
   "metadata": {},
   "source": [
    "Verifique por outliers e os remova do conjunto de dados."
   ]
  },
  {
   "cell_type": "code",
   "execution_count": null,
   "metadata": {},
   "outputs": [],
   "source": []
  },
  {
   "cell_type": "markdown",
   "metadata": {},
   "source": [
    "Crie um gráfico de regressão, usando a biblioteca Seaborn, para visualizar a relação entre a variável independente escolhida e a variável dependente 'Progression'."
   ]
  },
  {
   "cell_type": "code",
   "execution_count": null,
   "metadata": {},
   "outputs": [],
   "source": []
  },
  {
   "cell_type": "markdown",
   "metadata": {},
   "source": [
    "Construa um modelo de regressão linear simples para prever a progressão da diabetes com base na variável independente escolhida e interprete os seus resultados."
   ]
  },
  {
   "cell_type": "code",
   "execution_count": null,
   "metadata": {},
   "outputs": [],
   "source": []
  }
 ],
 "metadata": {
  "kernelspec": {
   "display_name": "enap",
   "language": "python",
   "name": "python3"
  },
  "language_info": {
   "codemirror_mode": {
    "name": "ipython",
    "version": 3
   },
   "file_extension": ".py",
   "mimetype": "text/x-python",
   "name": "python",
   "nbconvert_exporter": "python",
   "pygments_lexer": "ipython3",
   "version": "3.10.6"
  }
 },
 "nbformat": 4,
 "nbformat_minor": 2
}
