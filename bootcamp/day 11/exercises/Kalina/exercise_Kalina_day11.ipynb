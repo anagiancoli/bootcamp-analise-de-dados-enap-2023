{
 "cells": [
  {
   "cell_type": "markdown",
   "id": "d7bd09fc",
   "metadata": {},
   "source": [
    "# Exercícios - Agregação dos Dados 🎒 🎲"
   ]
  },
  {
   "cell_type": "markdown",
   "id": "31eb4035",
   "metadata": {},
   "source": [
    "É a reta final e a gente está como?"
   ]
  },
  {
   "cell_type": "markdown",
   "id": "b5be10ab",
   "metadata": {},
   "source": [
    "<img src='./img/excited_gif.gif' width='30%'>"
   ]
  },
  {
   "cell_type": "markdown",
   "id": "0e481bd5",
   "metadata": {},
   "source": [
    "Bora em frente que atrás vem gente! 🏃🏻‍♀️ O que vamos fazer nos exercícios do dia de hoje é, principalmente, refatorar os códigos da aula passada, utilizando o `groupby`. Você já conhece os passos iniciais e o conjunto de dados que vamos trabalhar, o de despesas por deputados nos anos de 2021, 2022 e 2023. Importe as bibliotecas necessárias e carregue o arquivo disponível na pasta `data`."
   ]
  },
  {
   "cell_type": "code",
   "execution_count": null,
   "id": "4ebe9c02",
   "metadata": {},
   "outputs": [],
   "source": []
  },
  {
   "cell_type": "markdown",
   "id": "ecc93aa3",
   "metadata": {},
   "source": [
    "Antes de trabalharmos com o `groupby`, defina as colunas `ano` e `mes` como índices do nosso `DataFrame`. Para isso, utilize o método `set_index()`."
   ]
  },
  {
   "cell_type": "code",
   "execution_count": null,
   "id": "b06d2296",
   "metadata": {},
   "outputs": [],
   "source": []
  },
  {
   "cell_type": "markdown",
   "id": "64155bee",
   "metadata": {},
   "source": [
    "## Deputados e partidos mais gastadores em 2023 🤑"
   ]
  },
  {
   "cell_type": "markdown",
   "id": "fad5e421",
   "metadata": {},
   "source": [
    "Plote gráficos que respondam às seguintes perguntas, utilizando o *DataFrame* criado:\n",
    "1. Quais os 10 deputados que mais gastaram com cotas parlamentares em 2023? Use um gráfico de barras para mostrar o resultado.\n",
    "2. Quais os 10 partidos que mais gastaram com cotas parlamentares em 2023? Use um gráfico de barras para mostrar o resultado."
   ]
  },
  {
   "cell_type": "code",
   "execution_count": null,
   "id": "669a30aa",
   "metadata": {},
   "outputs": [],
   "source": []
  },
  {
   "cell_type": "markdown",
   "id": "b1d30f30",
   "metadata": {},
   "source": [
    "## Com o quê mais gastaram os deputados mais gastadores? 🤔\n",
    "Agora vamos investigar quanto gastaram os deputados mais gastadores com as top 5 despesas mais comuns em 2023. Para isso, descubra quais são as 5 despesas mais realizadas pelos deputados e crie um novo *DataFrame* contendo os valores gastos por cada um dos 10 deputados mais gastadores em cada uma dessas despesas. Utilize um grafico de barras empilhadas para mostrar o resultado e o comando `groupby` para refatorar o código da aula passada."
   ]
  },
  {
   "cell_type": "code",
   "execution_count": null,
   "id": "532c8708",
   "metadata": {},
   "outputs": [],
   "source": []
  },
  {
   "cell_type": "markdown",
   "id": "62abb9d0",
   "metadata": {},
   "source": [
    "## 🌶️🌶️ Desafio: Evolução dos gastos do(a) deputado(a) mais gastador(a) 📈\n",
    "Quem foi o deputado(a) mais gastador(a) de 2023? Plote um gráfico de linha que mostre a evolução dos gastos dele(a) ao longo dos meses dos anos de 2021, 2022 e 2023."
   ]
  },
  {
   "cell_type": "code",
   "execution_count": null,
   "id": "cb5ae26c",
   "metadata": {},
   "outputs": [],
   "source": []
  },
  {
   "cell_type": "markdown",
   "id": "e1447b50",
   "metadata": {},
   "source": [
    "Vamos adicionar mais informações ao gráfico? Que tal incluir uma linha horizontal que mostre a média de gastos do deputado(a) mais gastador(a) durante o período estudado? Para isso, utilize o método `axhline()` do `matplotlib.pyplot`."
   ]
  },
  {
   "cell_type": "code",
   "execution_count": null,
   "id": "177a0bba",
   "metadata": {},
   "outputs": [],
   "source": []
  },
  {
   "cell_type": "markdown",
   "id": "26085dfa",
   "metadata": {},
   "source": [
    "Agora, adicione ao gráfico a evolução das despesas dos outros 9 deputados mais gastadores. Para isso, utilize um laço de repetição e o método `plot()` do `matplotlib.pyplot`."
   ]
  },
  {
   "cell_type": "code",
   "execution_count": null,
   "id": "082ab546",
   "metadata": {},
   "outputs": [],
   "source": []
  },
  {
   "cell_type": "markdown",
   "id": "0b0fdd91",
   "metadata": {},
   "source": [
    "## Que outras visualizações você consegue criar para analisar os dados? 🤔 Que insights iniciais você consegue tirar dos gráficos acima? 🤓"
   ]
  },
  {
   "cell_type": "markdown",
   "id": "d2af4239",
   "metadata": {},
   "source": []
  }
 ],
 "metadata": {
  "kernelspec": {
   "display_name": "enap",
   "language": "python",
   "name": "python3"
  },
  "language_info": {
   "codemirror_mode": {
    "name": "ipython",
    "version": 3
   },
   "file_extension": ".py",
   "mimetype": "text/x-python",
   "name": "python",
   "nbconvert_exporter": "python",
   "pygments_lexer": "ipython3",
   "version": "3.10.6"
  }
 },
 "nbformat": 4,
 "nbformat_minor": 5
}
