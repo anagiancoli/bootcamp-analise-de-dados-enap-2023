{
 "cells": [
  {
   "cell_type": "markdown",
   "id": "ae4a87db",
   "metadata": {},
   "source": [
    "# Explorando as estatísticas brasileiras de comércio exterior"
   ]
  },
  {
   "cell_type": "markdown",
   "id": "74ab26de",
   "metadata": {},
   "source": [
    "Vamos começar carregando o pacote Pandas e algumas tabelas auxiliares."
   ]
  },
  {
   "cell_type": "code",
   "execution_count": null,
   "id": "1f1d9376",
   "metadata": {},
   "outputs": [],
   "source": [
    "import pandas as pd\n",
    "\n",
    "### Tabelas auxiliares\n",
    "nome_sh = pd.read_csv('data/nome_sh.csv', \n",
    "                      sep = ';',\n",
    "                      dtype = {'co_sh2': 'str'})\n",
    "\n",
    "\n",
    "nome_pais = pd.read_csv('data/nome_pais.csv', \n",
    "                        sep = ';',\n",
    "                        dtype = {'co_pais': 'str'})\n"
   ]
  },
  {
   "cell_type": "markdown",
   "id": "e7665103",
   "metadata": {},
   "source": [
    "A tabela **nome_sh** apresenta os nomes dos Capítulos (dois dígitos) do Sistema Harmonizado, classificação de mercadorias muito usada no comércio internacional. \n",
    "\n",
    "A tabela **nome_pais** traz os códigos de país usados nas bases de dados da Secretaria de Comércio Exterior. \n",
    "\n",
    "Dessa tabela, por hoje nos interessamos somente pelos códigos e nomes dos países em português. Exclua as demais colunas do DataFrame."
   ]
  },
  {
   "cell_type": "code",
   "execution_count": null,
   "id": "523ac131",
   "metadata": {},
   "outputs": [],
   "source": []
  },
  {
   "cell_type": "markdown",
   "id": "1fa67c42",
   "metadata": {},
   "source": [
    "Carregamos a seguir os dados de exportação de 2022, com valores em dólares americanos (**vl_fob**) agregados por país de destino e produto no nível do subitem (8 dígitos) da Nomenclatura Comum do Mercosul (NCM)."
   ]
  },
  {
   "cell_type": "code",
   "execution_count": null,
   "id": "6e6454b0",
   "metadata": {},
   "outputs": [],
   "source": [
    "exp_2022 = pd.read_csv(\"data/exp_2022.csv\", \n",
    "                       sep = \";\",\n",
    "                       dtype = {'co_ncm': 'str', 'co_pais': 'str'})"
   ]
  },
  {
   "cell_type": "markdown",
   "id": "6cd0af1c",
   "metadata": {},
   "source": [
    "Vamos transportar os códigos do nível mais desagregado (subitem NCM) para o mais agregado (Capítulo SH). \n",
    "\n",
    "O Capítulo SH corresponde aos dois primeiros dígitos do código NCM.\n",
    "\n",
    "Crie a coluna **co_sh2** no DataFrame **exp_2022**."
   ]
  },
  {
   "cell_type": "code",
   "execution_count": null,
   "id": "84839cfe",
   "metadata": {
    "scrolled": true
   },
   "outputs": [],
   "source": []
  },
  {
   "cell_type": "markdown",
   "id": "4d75295a",
   "metadata": {},
   "source": [
    "Identifique os produtos mais exportados no ano passado, agregando os valores (**vl_fob**) por Capítulo SH. \n",
    "\n",
    "Inclua a correspondência dos nomes com os códigos de produto na mesma tabela, e ordene-a de forma decrescente."
   ]
  },
  {
   "cell_type": "code",
   "execution_count": null,
   "id": "b00c8c66",
   "metadata": {},
   "outputs": [],
   "source": []
  },
  {
   "cell_type": "markdown",
   "id": "85a9c97e",
   "metadata": {},
   "source": [
    "Faça as operações correspondente para encontrar os principais destinos (por valor total) das exportações brasileiras."
   ]
  },
  {
   "cell_type": "code",
   "execution_count": null,
   "id": "d1664dae",
   "metadata": {},
   "outputs": [],
   "source": []
  },
  {
   "cell_type": "markdown",
   "id": "b2080708",
   "metadata": {},
   "source": [
    "Agora vamos detalhar as produtos exportados por destino.\n",
    "\n",
    "Crie um DataFrame que liste, para cada país de destino, apenas os **três** principais produtos (Capítulo SH) exportados. "
   ]
  },
  {
   "cell_type": "code",
   "execution_count": null,
   "id": "db01db32",
   "metadata": {},
   "outputs": [],
   "source": []
  }
 ],
 "metadata": {
  "kernelspec": {
   "display_name": "Python 3 (ipykernel)",
   "language": "python",
   "name": "python3"
  },
  "language_info": {
   "codemirror_mode": {
    "name": "ipython",
    "version": 3
   },
   "file_extension": ".py",
   "mimetype": "text/x-python",
   "name": "python",
   "nbconvert_exporter": "python",
   "pygments_lexer": "ipython3",
   "version": "3.8.12"
  },
  "toc": {
   "base_numbering": 1,
   "nav_menu": {},
   "number_sections": true,
   "sideBar": true,
   "skip_h1_title": false,
   "title_cell": "Table of Contents",
   "title_sidebar": "Contents",
   "toc_cell": false,
   "toc_position": {},
   "toc_section_display": true,
   "toc_window_display": false
  }
 },
 "nbformat": 4,
 "nbformat_minor": 5
}
