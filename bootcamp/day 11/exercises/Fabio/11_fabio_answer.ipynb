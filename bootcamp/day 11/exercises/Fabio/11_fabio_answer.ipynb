{
 "cells": [
  {
   "cell_type": "markdown",
   "id": "7bee73df",
   "metadata": {},
   "source": [
    "# Explorando as estatísticas brasileiras de comércio exterior"
   ]
  },
  {
   "cell_type": "markdown",
   "id": "eecea48e",
   "metadata": {},
   "source": [
    "Vamos começar carregando o pacote Pandas e algumas tabelas auxiliares."
   ]
  },
  {
   "cell_type": "code",
   "execution_count": null,
   "id": "062e1279",
   "metadata": {},
   "outputs": [],
   "source": [
    "import pandas as pd\n",
    "\n",
    "### Tabelas auxiliares\n",
    "nome_sh = pd.read_csv('data/nome_sh.csv', \n",
    "                      sep = ';',\n",
    "                      dtype = {'co_sh2': 'str'})\n",
    "\n",
    "\n",
    "nome_pais = pd.read_csv('data/nome_pais.csv', \n",
    "                        sep = ';',\n",
    "                        dtype = {'co_pais': 'str'})"
   ]
  },
  {
   "cell_type": "markdown",
   "id": "7e39c95b",
   "metadata": {},
   "source": [
    "A tabela **nome_sh** apresenta os nomes dos Capítulos (dois dígitos) do Sistema Harmonizado, classificação de mercadorias muito usada no comércio internacional. \n",
    "\n",
    "A tabela **nome_pais** traz os códigos de três dígitos de país usados nas bases de dados da Secretaria de Comércio Exterior. \n",
    "\n",
    "Dessa tabela, por hoje nos interessamos somente pelos códigos e nomes dos países em português. Exclua as demais colunas do DataFrame **nome_pais**."
   ]
  },
  {
   "cell_type": "code",
   "execution_count": null,
   "id": "caa1af0a",
   "metadata": {},
   "outputs": [],
   "source": [
    "nome_pais = nome_pais.loc[:, ['co_pais', 'no_pais']]"
   ]
  },
  {
   "cell_type": "markdown",
   "id": "0d89f091",
   "metadata": {},
   "source": [
    "Carregamos a seguir os dados de exportação de 2022, com valores em dólares americanos (**vl_fob**) agregados por país de destino e produto no nível do subitem (8 dígitos) da Nomenclatura Comum do Mercosul (NCM)."
   ]
  },
  {
   "cell_type": "code",
   "execution_count": null,
   "id": "584346e0",
   "metadata": {},
   "outputs": [],
   "source": [
    "exp_2022 = pd.read_csv(\"data/exp_2022.csv\", \n",
    "                       sep = \";\",\n",
    "                       dtype = {'co_ncm': 'str', 'co_pais': 'str'})"
   ]
  },
  {
   "cell_type": "code",
   "execution_count": null,
   "id": "932647e7",
   "metadata": {},
   "outputs": [],
   "source": [
    "exp_2022"
   ]
  },
  {
   "cell_type": "markdown",
   "id": "bc87db93",
   "metadata": {},
   "source": [
    "Vamos transportar os códigos do nível mais desagregado (subitem NCM, de oito dígitos) para o mais agregado (Capítulo SH, de dois dígitos). \n",
    "\n",
    "O Capítulo SH corresponde aos dois primeiros dígitos do código NCM.\n",
    "\n",
    "Crie a coluna **co_sh2** no DataFrame **exp_2022**."
   ]
  },
  {
   "cell_type": "code",
   "execution_count": null,
   "id": "74d1bba6",
   "metadata": {
    "scrolled": true
   },
   "outputs": [],
   "source": [
    "exp_2022 = exp_2022.assign(co_sh2 = lambda df: df['co_ncm'].str.slice(0, 2))"
   ]
  },
  {
   "cell_type": "code",
   "execution_count": null,
   "id": "905e1f10",
   "metadata": {},
   "outputs": [],
   "source": [
    "exp_2022"
   ]
  },
  {
   "cell_type": "markdown",
   "id": "7b9d030f",
   "metadata": {},
   "source": [
    "Identifique os produtos mais exportados no ano passado, agregando os valores (**vl_fob**) por Capítulo SH. \n",
    "\n",
    "Inclua a correspondência dos nomes com os códigos de produto na mesma tabela, e ordene-a de forma decrescente pelo valor exportado."
   ]
  },
  {
   "cell_type": "code",
   "execution_count": null,
   "id": "43782471",
   "metadata": {},
   "outputs": [],
   "source": [
    "principais_produtos = (exp_2022\n",
    "                      .groupby(['co_sh2'], as_index = False)\n",
    "                      .agg({'vl_fob': 'sum'})\n",
    "                      .merge(nome_sh, on = 'co_sh2')\n",
    "                      .sort_values('vl_fob', ascending = False)\n",
    "                      .loc[:, ['co_sh2', 'no_sh2_por', 'vl_fob']]\n",
    "                      )"
   ]
  },
  {
   "cell_type": "code",
   "execution_count": null,
   "id": "269ad10e",
   "metadata": {},
   "outputs": [],
   "source": [
    "principais_produtos"
   ]
  },
  {
   "cell_type": "markdown",
   "id": "aa1ecf60",
   "metadata": {},
   "source": [
    "Faça as operações correspondente para encontrar os principais destinos (pelo valor total, somando-se todos os produtos) das exportações brasileiras."
   ]
  },
  {
   "cell_type": "code",
   "execution_count": null,
   "id": "59cb25de",
   "metadata": {},
   "outputs": [],
   "source": [
    "principais_destinos = (exp_2022\n",
    "                      .groupby(['co_pais'], as_index = False)\n",
    "                      .agg({'vl_fob': 'sum'})\n",
    "                      .merge(nome_pais, on = 'co_pais')\n",
    "                      .sort_values('vl_fob', ascending = False)\n",
    "                      .loc[:, ['co_pais',  'no_pais', 'vl_fob']]\n",
    "                      )"
   ]
  },
  {
   "cell_type": "code",
   "execution_count": null,
   "id": "79dd1fb3",
   "metadata": {},
   "outputs": [],
   "source": [
    "principais_destinos"
   ]
  },
  {
   "cell_type": "markdown",
   "id": "d8282f45",
   "metadata": {},
   "source": [
    "Agora vamos detalhar as principais produtos exportados por destino.\n",
    "\n",
    "Crie um DataFrame que liste, para cada país de destino, apenas os **três** principais produtos (Capítulo SH) exportados. "
   ]
  },
  {
   "cell_type": "code",
   "execution_count": null,
   "id": "c615f837",
   "metadata": {},
   "outputs": [],
   "source": [
    "principais_produtos_destinos = (exp_2022\n",
    "                               .groupby(['co_pais', 'co_sh2'], as_index = False)\n",
    "                               .agg({'vl_fob': 'sum'})\n",
    "                               .merge(nome_pais, on = 'co_pais')\n",
    "                               .merge(nome_sh, on = 'co_sh2')\n",
    "                               .groupby('no_pais', as_index = False, sort = False)\n",
    "                               .apply(lambda x: x.sort_values('vl_fob', ascending = False).head(3))\n",
    "                               .loc[:, ['no_pais', 'no_sh2_por', 'vl_fob']]\n",
    "                               .reset_index(drop = True)\n",
    "                                )"
   ]
  },
  {
   "cell_type": "code",
   "execution_count": null,
   "id": "0cb75184",
   "metadata": {},
   "outputs": [],
   "source": [
    "principais_produtos_destinos"
   ]
  },
  {
   "cell_type": "code",
   "execution_count": null,
   "id": "42bbb656",
   "metadata": {},
   "outputs": [],
   "source": [
    "principais_produtos_destinos[principais_produtos_destinos['no_pais'] == 'Estados Unidos']"
   ]
  },
  {
   "cell_type": "markdown",
   "id": "927ef288",
   "metadata": {},
   "source": [
    "# Explorando as estatísticas de gênero do Banco Mundial"
   ]
  },
  {
   "cell_type": "markdown",
   "id": "737f0be0",
   "metadata": {},
   "source": [
    "Vamos carregar novamente as séries de dados sobre participação na força de trabalho da população masculina adulta, que vimos na aula 07. A pasta **./data/** já contém os DataFrame que criamos naquela aula. \n",
    "\n",
    "O DataFrame **labor_foce_country** apresenta as taxas de participação feminina e masculina, e a diferença (gap) entre as participações, por país, para o ano de 2019.\n",
    "\n",
    "Você também irá encontrar duas tabelas auxiliares. **country_regions** contém o código e nome de cada país, e o código de sua região geográfica.  **region_names** traz a correspondência entre os códigos e os nomes das regiões.\n",
    "\n",
    "Neste exercício, você deverá criar um novo DataFrame que apresente, para cada região geográfica, o país com maior *gap* nas taxas de participação na força de trabalho. O DataFrame deverá conter somente as colunas de nome da região, nome do país (que apresentou o maior gap), suas taxas de participação feminina e masculina, e o *gap*."
   ]
  },
  {
   "cell_type": "code",
   "execution_count": null,
   "id": "39617bfc",
   "metadata": {},
   "outputs": [],
   "source": [
    "import pandas as pd\n",
    "\n",
    "labor_force_country = pd.read_csv(\"data/labor_force_country.csv\")\n",
    "country_regions = pd.read_csv(\"data/country_regions.csv\")\n",
    "region_names = pd.read_csv(\"data/region_names.csv\")"
   ]
  },
  {
   "cell_type": "code",
   "execution_count": null,
   "id": "6356be13",
   "metadata": {},
   "outputs": [],
   "source": [
    "country_regions_names = country_regions_df.merge(region_names_df, how = \"left\", on = \"region_code\")"
   ]
  },
  {
   "cell_type": "code",
   "execution_count": null,
   "id": "a1906b56",
   "metadata": {},
   "outputs": [],
   "source": [
    "biggest_gap_region = (labor_force_country\n",
    "                     .merge(country_regions_names, \n",
    "                            how = \"left\",\n",
    "                            left_on=\"economy\",\n",
    "                            right_on = \"country_code\")\n",
    "                     .groupby(\"region_name\", as_index = False)\n",
    "                     .apply(lambda df: df.sort_values('rate_gap', ascending = False).head(1))\n",
    "                     .reset_index(drop = True)\n",
    "                     .loc[:, [\"region_name\", \"country_name\", \"female_rate\", \"male_rate\", \"rate_gap\"]]\n",
    "                     )"
   ]
  },
  {
   "cell_type": "code",
   "execution_count": null,
   "id": "86f75289",
   "metadata": {
    "scrolled": true
   },
   "outputs": [],
   "source": [
    "biggest_gap_region"
   ]
  },
  {
   "cell_type": "markdown",
   "id": "c78dce4d",
   "metadata": {},
   "source": [
    "### Funções que geraram e os dados acima e salvaram em .csv (não é necessário rodar)"
   ]
  },
  {
   "cell_type": "code",
   "execution_count": null,
   "id": "75013aef",
   "metadata": {},
   "outputs": [],
   "source": [
    "import wbgapi as wb\n",
    "\n",
    "economy_info = wb.economy.info()\n",
    "region_info = wb.region.info()\n",
    "\n",
    "country_codes = [pais.get('id') \n",
    "                 for pais in economy_info.items\n",
    "                 if not pais.get('aggregate')]\n",
    "\n",
    "country_regions_dict = {\"country_code\": [country.get(\"id\") for country in economy_info.items],\n",
    "                        \"country_name\": [country.get(\"value\") for country in economy_info.items],\n",
    "                        \"region_code\": [country.get(\"region\") for country in economy_info.items]}\n",
    "\n",
    "country_regions = pd.DataFrame(country_regions).query(\"region_code != ''\")\n",
    "\n",
    "regions_dict = {'region_code': [region.get(\"code\") for region in region_info.items],\n",
    "               'region_name': [region.get(\"name\") for region in region_info.items]}\n",
    "\n",
    "region_names = pd.DataFrame(regions_dict)"
   ]
  },
  {
   "cell_type": "code",
   "execution_count": null,
   "id": "bb17a51f",
   "metadata": {},
   "outputs": [],
   "source": [
    "female_labor_force = wb.data.DataFrame('SL.TLF.ACTI.FE.ZS', time = 2019).squeeze()\n",
    "male_labor_force = wb.data.DataFrame('SL.TLF.ACTI.MA.ZS', time = 2019).squeeze()\n",
    "\n",
    "female_labor_force_country = female_labor_force[country_codes]\n",
    "male_labor_force_country = male_labor_force[country_codes]\n",
    "\n",
    "labor_force_country = pd.DataFrame({\"female_rate\": female_labor_force_country,\n",
    "                                    \"male_rate\": male_labor_force_country,\n",
    "                                    \"rate_gap\": male_labor_force_country - female_labor_force_country})\n",
    "\n",
    "labor_force_country = labor_force_country.dropna(axis = 0).reset_index()"
   ]
  },
  {
   "cell_type": "code",
   "execution_count": null,
   "id": "fccb41df",
   "metadata": {},
   "outputs": [],
   "source": [
    "country_regions.to_csv(\"data/country_regions.csv\", index_label=False)\n",
    "region_names.to_csv(\"data/region_names.csv\", index_label=False)\n",
    "labor_force_country.to_csv(\"data/labor_force_country.csv\", index_label=False)"
   ]
  }
 ],
 "metadata": {
  "kernelspec": {
   "display_name": "Python 3 (ipykernel)",
   "language": "python",
   "name": "python3"
  },
  "language_info": {
   "codemirror_mode": {
    "name": "ipython",
    "version": 3
   },
   "file_extension": ".py",
   "mimetype": "text/x-python",
   "name": "python",
   "nbconvert_exporter": "python",
   "pygments_lexer": "ipython3",
   "version": "3.11.5"
  },
  "toc": {
   "base_numbering": 1,
   "nav_menu": {},
   "number_sections": true,
   "sideBar": true,
   "skip_h1_title": false,
   "title_cell": "Table of Contents",
   "title_sidebar": "Contents",
   "toc_cell": false,
   "toc_position": {},
   "toc_section_display": true,
   "toc_window_display": false
  }
 },
 "nbformat": 4,
 "nbformat_minor": 5
}
