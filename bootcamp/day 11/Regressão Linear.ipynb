{
 "cells": [
  {
   "cell_type": "markdown",
   "id": "ad10be85-9ccf-4065-9aaf-27dc7acca8af",
   "metadata": {
    "editable": true,
    "slideshow": {
     "slide_type": "slide"
    },
    "tags": []
   },
   "source": [
    "# Regressão Linear"
   ]
  },
  {
   "cell_type": "markdown",
   "id": "26372633-334c-43a8-976a-c458aeee828e",
   "metadata": {
    "editable": true,
    "slideshow": {
     "slide_type": ""
    },
    "tags": []
   },
   "source": [
    "## Sumário da Aula"
   ]
  },
  {
   "cell_type": "markdown",
   "id": "e4f949db-d1fc-485c-9f09-8e6a7737e14d",
   "metadata": {
    "editable": true,
    "slideshow": {
     "slide_type": ""
    },
    "tags": []
   },
   "source": [
    "<ul>\n",
    "    <li>Modelos Lineares</li>\n",
    "    <ul>\n",
    "        <li>Regressão Linear Simples ⛬</li>\n",
    "        <li>Correlação ($\\rho$)</li>\n",
    "        <li>Determinação ($R^2$)</li>\n",
    "        <li>Premissas para Análise Inferencial</li>\n",
    "    </ul>\n",
    "    <li>Estimando Modelos Lineares</li>\n",
    "    <ul>\n",
    "        <li>Regressão Linear Simples ⛬</li>\n",
    "        <li>Extra! 📃 Regressão Linear Múltipla</li>\n",
    "    </ul>\n",
    "</ul>"
   ]
  },
  {
   "cell_type": "markdown",
   "id": "44a4161f-47bb-41ca-bb74-f60304346b36",
   "metadata": {
    "editable": true,
    "slideshow": {
     "slide_type": "subslide"
    },
    "tags": []
   },
   "source": [
    "### Biblioteca Principal 📚: statsmodels"
   ]
  },
  {
   "cell_type": "markdown",
   "id": "26bc1330-7df6-48ea-80f9-bd14dcf846c9",
   "metadata": {
    "editable": true,
    "slideshow": {
     "slide_type": ""
    },
    "tags": []
   },
   "source": [
    "<img src=\"https://www.statsmodels.org/dev/_images/statsmodels-logo-v2-no-text.svg\" width=\"100\" style=\"float: right;\">"
   ]
  },
  {
   "cell_type": "code",
   "execution_count": 1,
   "id": "d0a9165c-df1a-4399-926e-6ad8f24c3f48",
   "metadata": {
    "editable": true,
    "slideshow": {
     "slide_type": ""
    },
    "tags": []
   },
   "outputs": [
    {
     "name": "stdout",
     "output_type": "stream",
     "text": [
      "\n",
      "\u001b[1m[\u001b[0m\u001b[34;49mnotice\u001b[0m\u001b[1;39;49m]\u001b[0m\u001b[39;49m A new release of pip is available: \u001b[0m\u001b[31;49m23.2.1\u001b[0m\u001b[39;49m -> \u001b[0m\u001b[32;49m23.3\u001b[0m\n",
      "\u001b[1m[\u001b[0m\u001b[34;49mnotice\u001b[0m\u001b[1;39;49m]\u001b[0m\u001b[39;49m To update, run: \u001b[0m\u001b[32;49mpython3.11 -m pip install --upgrade pip\u001b[0m\n"
     ]
    }
   ],
   "source": [
    "!pip install --upgrade statsmodels --quiet"
   ]
  },
  {
   "cell_type": "code",
   "execution_count": 2,
   "id": "78af7169-bc7a-41cf-90a9-80c0f7d5b637",
   "metadata": {
    "editable": true,
    "slideshow": {
     "slide_type": ""
    },
    "tags": []
   },
   "outputs": [],
   "source": [
    "import statsmodels.api as sm"
   ]
  },
  {
   "cell_type": "code",
   "execution_count": 3,
   "id": "b6dba167-03b6-4b9a-87d3-a876a869d9d8",
   "metadata": {
    "editable": true,
    "slideshow": {
     "slide_type": ""
    },
    "tags": []
   },
   "outputs": [],
   "source": [
    "import statsmodels.formula.api as smf"
   ]
  },
  {
   "cell_type": "markdown",
   "id": "72ee21fa-5a61-44d5-b959-79d3e6a0c088",
   "metadata": {
    "editable": true,
    "slideshow": {
     "slide_type": "skip"
    },
    "tags": []
   },
   "source": [
    "#### Funções Auxiliares"
   ]
  },
  {
   "cell_type": "code",
   "execution_count": 4,
   "id": "e1101dde-3ecb-4ba2-836e-40bce9fcc633",
   "metadata": {
    "editable": true,
    "slideshow": {
     "slide_type": "skip"
    },
    "tags": []
   },
   "outputs": [],
   "source": [
    "import os\n",
    "import pandas as pd\n",
    "import seaborn as sns\n",
    "\n",
    "def build_path(subfolder = 'merge'):\n",
    "    folderpath = os.path.join(os.getcwd(), os.pardir, \n",
    "                              'project', 'data', subfolder)\n",
    "    folderpath = os.path.abspath(folderpath)\n",
    "    if not os.path.exists(folderpath): \n",
    "        os.makedirs(folderpath)\n",
    "    return folderpath\n",
    "\n",
    "def load_data():\n",
    "    data = {}   \n",
    "    folderpath = build_path()\n",
    "    for filename in os.listdir(folderpath):\n",
    "        if filename.endswith('state_infections_characteristics.json'):\n",
    "            filepath = os.path.join(build_path(), filename)\n",
    "            data[filename.split('.')[0]] = pd.read_json(filepath)\n",
    "    return data"
   ]
  },
  {
   "cell_type": "markdown",
   "id": "a57e12b7-1ae6-43c7-966c-bc113806f404",
   "metadata": {
    "editable": true,
    "slideshow": {
     "slide_type": "slide"
    },
    "tags": []
   },
   "source": [
    "## Modelos Lineares"
   ]
  },
  {
   "cell_type": "markdown",
   "id": "0e15cd2e-19f1-48f4-8e70-e386fbcce12f",
   "metadata": {
    "editable": true,
    "slideshow": {
     "slide_type": ""
    },
    "tags": []
   },
   "source": [
    "<ul>\n",
    "    <li>Existem vários tipos de modelos de regressão linear em modelos estatísticos,</li>\n",
    "    <ul>\n",
    "        <li>desde os mais básicos (por exemplo, mínimos quadrados ordinários); </li>\n",
    "        <li>até mais complexos (por exemplo, mínimos quadrados reponderados iterativamente). </li>\n",
    "    </ul>\n",
    "    <li>statsmodels é uma biblioteca Python para adequação de vários tipos de modelos estatísticos:</li>\n",
    "    <ul>\n",
    "        <li>realiza testes estatísticos;</li>\n",
    "        <li>explora dados; e</li>\n",
    "        <li>visualiza dados.</li>\n",
    "    </ul>\n",
    "    <li>O statsmodels contém métodos estatísticos frequentistas mais \"clássicos\";</li>\n",
    "</ul>\n",
    "🚨 Métodos bayesianos e de aprendizado de máquina são encontrados em outras bibliotecas."
   ]
  },
  {
   "cell_type": "markdown",
   "id": "78b1557a-9899-4096-8924-60296ee44aa4",
   "metadata": {
    "editable": true,
    "slideshow": {
     "slide_type": ""
    },
    "tags": []
   },
   "source": [
    "👉 Referência: <a href='https://www.statsmodels.org/stable/index.html'>statsmodels.org</a>"
   ]
  },
  {
   "cell_type": "markdown",
   "id": "144cc79e-66fd-4705-9cec-30f2a0d58ee9",
   "metadata": {
    "editable": true,
    "slideshow": {
     "slide_type": "subslide"
    },
    "tags": []
   },
   "source": [
    "Na pesquisa anual de usuários do Kaggle com foco no trabalho de cientistas de dados..."
   ]
  },
  {
   "cell_type": "markdown",
   "id": "b1ab46f7-30a0-45c1-bf46-d41bc7993df5",
   "metadata": {
    "editable": true,
    "slideshow": {
     "slide_type": ""
    },
    "tags": []
   },
   "source": [
    "...o algoritmo mais usado por eles é a regressão linear (e logística)"
   ]
  },
  {
   "attachments": {},
   "cell_type": "markdown",
   "id": "8f9b45ba-03d3-4f8e-8245-43f2d80e173e",
   "metadata": {
    "editable": true,
    "slideshow": {
     "slide_type": ""
    },
    "tags": []
   },
   "source": [
    "<img src='figs/most_popular_algorithms.png' width='800' style=\"margin-left: auto; margin-right: auto;\">\n"
   ]
  },
  {
   "cell_type": "markdown",
   "id": "7e0f4ea7-7fc0-4d0d-8c2a-e6deb7f5900e",
   "metadata": {
    "editable": true,
    "slideshow": {
     "slide_type": ""
    },
    "tags": []
   },
   "source": [
    "👉 Referência: <a href='https://www.kaggle.com/kaggle-survey-2021'>State of Data Science and Machine Learning 2021</a>"
   ]
  },
  {
   "cell_type": "markdown",
   "id": "0a4a7912-7c1e-4e38-9070-e2b49ca5965a",
   "metadata": {
    "editable": true,
    "slideshow": {
     "slide_type": "subslide"
    },
    "tags": []
   },
   "source": [
    "<pre>Vamos utilizar: dados de Taxa de Letalidade por Covid-19 e dados Sociodemográficos por Unidade da Federação. O objetivo é aprender a usar a regressão linear</pre>"
   ]
  },
  {
   "cell_type": "code",
   "execution_count": 5,
   "id": "592eff7e-ca47-416b-9182-3a247a7b5708",
   "metadata": {
    "editable": true,
    "slideshow": {
     "slide_type": ""
    },
    "tags": []
   },
   "outputs": [
    {
     "data": {
      "text/html": [
       "<div>\n",
       "<style scoped>\n",
       "    .dataframe tbody tr th:only-of-type {\n",
       "        vertical-align: middle;\n",
       "    }\n",
       "\n",
       "    .dataframe tbody tr th {\n",
       "        vertical-align: top;\n",
       "    }\n",
       "\n",
       "    .dataframe thead th {\n",
       "        text-align: right;\n",
       "    }\n",
       "</style>\n",
       "<table border=\"1\" class=\"dataframe\">\n",
       "  <thead>\n",
       "    <tr style=\"text-align: right;\">\n",
       "      <th></th>\n",
       "      <th>nome</th>\n",
       "      <th>regiao</th>\n",
       "      <th>Densidade demográfica</th>\n",
       "      <th>IDH</th>\n",
       "      <th>Rendimento mensal domiciliar per capita</th>\n",
       "      <th>Veículos per capita</th>\n",
       "      <th>TaxaLetalidade</th>\n",
       "    </tr>\n",
       "    <tr>\n",
       "      <th>id</th>\n",
       "      <th></th>\n",
       "      <th></th>\n",
       "      <th></th>\n",
       "      <th></th>\n",
       "      <th></th>\n",
       "      <th></th>\n",
       "      <th></th>\n",
       "    </tr>\n",
       "  </thead>\n",
       "  <tbody>\n",
       "    <tr>\n",
       "      <th>12</th>\n",
       "      <td>Acre</td>\n",
       "      <td>Norte</td>\n",
       "      <td>5.06</td>\n",
       "      <td>0.710</td>\n",
       "      <td>1038</td>\n",
       "      <td>0.402851</td>\n",
       "      <td>0.012576</td>\n",
       "    </tr>\n",
       "    <tr>\n",
       "      <th>27</th>\n",
       "      <td>Alagoas</td>\n",
       "      <td>Nordeste</td>\n",
       "      <td>112.38</td>\n",
       "      <td>0.684</td>\n",
       "      <td>935</td>\n",
       "      <td>0.330674</td>\n",
       "      <td>0.021420</td>\n",
       "    </tr>\n",
       "    <tr>\n",
       "      <th>13</th>\n",
       "      <td>Amazonas</td>\n",
       "      <td>Norte</td>\n",
       "      <td>2.53</td>\n",
       "      <td>0.700</td>\n",
       "      <td>965</td>\n",
       "      <td>0.271440</td>\n",
       "      <td>0.022690</td>\n",
       "    </tr>\n",
       "    <tr>\n",
       "      <th>16</th>\n",
       "      <td>Amapá</td>\n",
       "      <td>Norte</td>\n",
       "      <td>5.15</td>\n",
       "      <td>0.688</td>\n",
       "      <td>1177</td>\n",
       "      <td>0.317230</td>\n",
       "      <td>0.011640</td>\n",
       "    </tr>\n",
       "    <tr>\n",
       "      <th>29</th>\n",
       "      <td>Bahia</td>\n",
       "      <td>Nordeste</td>\n",
       "      <td>25.03</td>\n",
       "      <td>0.691</td>\n",
       "      <td>1010</td>\n",
       "      <td>0.345750</td>\n",
       "      <td>0.017558</td>\n",
       "    </tr>\n",
       "  </tbody>\n",
       "</table>\n",
       "</div>"
      ],
      "text/plain": [
       "        nome    regiao  Densidade demográfica    IDH  \\\n",
       "id                                                     \n",
       "12      Acre     Norte                   5.06  0.710   \n",
       "27   Alagoas  Nordeste                 112.38  0.684   \n",
       "13  Amazonas     Norte                   2.53  0.700   \n",
       "16     Amapá     Norte                   5.15  0.688   \n",
       "29     Bahia  Nordeste                  25.03  0.691   \n",
       "\n",
       "    Rendimento mensal domiciliar per capita  Veículos per capita  \\\n",
       "id                                                                 \n",
       "12                                     1038             0.402851   \n",
       "27                                      935             0.330674   \n",
       "13                                      965             0.271440   \n",
       "16                                     1177             0.317230   \n",
       "29                                     1010             0.345750   \n",
       "\n",
       "    TaxaLetalidade  \n",
       "id                  \n",
       "12        0.012576  \n",
       "27        0.021420  \n",
       "13        0.022690  \n",
       "16        0.011640  \n",
       "29        0.017558  "
      ]
     },
     "execution_count": 5,
     "metadata": {},
     "output_type": "execute_result"
    }
   ],
   "source": [
    "data = load_data()\n",
    "df = \\\n",
    "    data['state_infections_characteristics'].set_index('id')\n",
    "df.head()"
   ]
  },
  {
   "cell_type": "markdown",
   "id": "c6065a96-d6ff-4588-b1e7-a6d21dc25620",
   "metadata": {
    "editable": true,
    "slideshow": {
     "slide_type": "subslide"
    },
    "tags": []
   },
   "source": [
    "<img src='https://imgs.xkcd.com/comics/data_trap.png' style=\"margin-left: auto; margin-right: auto;\">"
   ]
  },
  {
   "cell_type": "markdown",
   "id": "c54413e3-742f-4eb3-ae10-fab39734b6ee",
   "metadata": {
    "editable": true,
    "slideshow": {
     "slide_type": ""
    },
    "tags": []
   },
   "source": [
    "👉 Charge xkcd <a href='https://xkcd.com/2582/'>2582: Data Trap</a>. Veja a <a href='https://www.explainxkcd.com/wiki/index.php/2582:_Data_Trap'>Explicação</a>."
   ]
  },
  {
   "cell_type": "markdown",
   "id": "540f7f82-860a-4502-bf9d-14982c63dd1b",
   "metadata": {
    "editable": true,
    "slideshow": {
     "slide_type": "subslide"
    },
    "tags": []
   },
   "source": [
    "### Regressão Linear Simples"
   ]
  },
  {
   "cell_type": "markdown",
   "id": "58cc28bc-05a5-49b6-b05a-b1acc1613153",
   "metadata": {
    "editable": true,
    "slideshow": {
     "slide_type": ""
    },
    "tags": []
   },
   "source": [
    "<code>A nossa pretensão é descobrir se o IDH de um Estado tem efeito sobre a Taxa da Letalidade da Covid</code>"
   ]
  },
  {
   "cell_type": "markdown",
   "id": "39c3dbd5-0723-491f-b0e4-ac364a8c2f9a",
   "metadata": {
    "editable": true,
    "slideshow": {
     "slide_type": ""
    },
    "tags": []
   },
   "source": [
    "<img src='https://imgs.xkcd.com/comics/proxy_variable.png' style=\"margin-left: auto; margin-right: auto;\">"
   ]
  },
  {
   "cell_type": "markdown",
   "id": "69983a08-27cd-4821-87b3-a148434c18c1",
   "metadata": {
    "editable": true,
    "slideshow": {
     "slide_type": ""
    },
    "tags": []
   },
   "source": [
    "👉 Charge xkcd <a href='https://xkcd.com/2652/'>2652: Proxy Variable</a>. Veja a <a href='https://www.explainxkcd.com/wiki/index.php/2652:_Proxy_Variable'>Explicação</a>."
   ]
  },
  {
   "cell_type": "markdown",
   "id": "e6600c5c-c151-4135-8296-67196daa9875",
   "metadata": {
    "editable": true,
    "slideshow": {
     "slide_type": "subslide"
    },
    "tags": []
   },
   "source": [
    "Matematicamente, expressaríamos da seguinte forma:"
   ]
  },
  {
   "cell_type": "markdown",
   "id": "7ea963e2-2ee6-40ac-831f-65c2132d8dd7",
   "metadata": {
    "editable": true,
    "slideshow": {
     "slide_type": ""
    },
    "tags": []
   },
   "source": [
    "$$TaxaLetalidade = f(IDH)$$"
   ]
  },
  {
   "cell_type": "markdown",
   "id": "4bf96f37-3a5b-4258-ac4d-1040909f0cae",
   "metadata": {
    "editable": true,
    "slideshow": {
     "slide_type": ""
    },
    "tags": []
   },
   "source": [
    "Uma das formas de se expressar tal função é a partir de uma relação linear, tal como:\n",
    "\n",
    "$$ TaxaLetalidade = \\alpha + \\beta \\times IDH + \\epsilon$$"
   ]
  },
  {
   "cell_type": "markdown",
   "id": "31423be9-d980-4fba-b828-ffcba18b6416",
   "metadata": {
    "editable": true,
    "slideshow": {
     "slide_type": ""
    },
    "tags": []
   },
   "source": [
    "👉 Se dá o nome de...\n",
    "<ul>\n",
    "    <li>regressão ao processo de encontrar a relação entre duas variáveis;</li>\n",
    "    <li>Linear porque a regressão ocorre por uma reta (equação linear); e</li>\n",
    "    <li>Simples porque estamos trabalhando com apenas uma variável explicativa.</li>\n",
    "</ul>"
   ]
  },
  {
   "cell_type": "markdown",
   "id": "37b2e917-cd1c-4db6-9a17-cc12ab255113",
   "metadata": {
    "editable": true,
    "slideshow": {
     "slide_type": "subslide"
    },
    "tags": []
   },
   "source": [
    "🚨 É raro que as variáveis do mundo real, ainda mais quando ligadas a fenômenos sociais, consigam ser representadas por uma reta."
   ]
  },
  {
   "cell_type": "markdown",
   "id": "b11edbcb-c91b-4971-a576-3645636fc046",
   "metadata": {
    "editable": true,
    "slideshow": {
     "slide_type": ""
    },
    "tags": []
   },
   "source": [
    "<img src='https://imgs.xkcd.com/comics/linear_regression.png' style=\"margin-left: auto; margin-right: auto;\">"
   ]
  },
  {
   "cell_type": "markdown",
   "id": "1e2e9a6a-c2c4-4b9a-add0-25dcff89dade",
   "metadata": {
    "editable": true,
    "slideshow": {
     "slide_type": ""
    },
    "tags": []
   },
   "source": [
    "👉 Charge xkcd <a href='https://xkcd.com/1725/'>1725: Linear Regression</a>. Veja a <a href='https://www.explainxkcd.com/wiki/index.php/1725:_Linear_Regression'>Explicação</a>."
   ]
  },
  {
   "cell_type": "markdown",
   "id": "36409593-3faa-447d-a8cd-c1416de870fc",
   "metadata": {
    "editable": true,
    "slideshow": {
     "slide_type": "subslide"
    },
    "tags": []
   },
   "source": [
    "#### Abordagem Visual"
   ]
  },
  {
   "cell_type": "markdown",
   "id": "4cb2a48a-ff6d-44b0-b061-7e6c0f1f77c7",
   "metadata": {
    "editable": true,
    "slideshow": {
     "slide_type": ""
    },
    "tags": []
   },
   "source": [
    "<pre>Queremos melhor analisar as relações entre as variáveis do nosso conjunto de dados.</pre>"
   ]
  },
  {
   "cell_type": "code",
   "execution_count": 6,
   "id": "c590b8e4-70df-4c89-b603-29d14e3325a3",
   "metadata": {
    "editable": true,
    "slideshow": {
     "slide_type": ""
    },
    "tags": []
   },
   "outputs": [
    {
     "data": {
      "image/png": "[encoded data removed]",
      "text/plain": [
       "<Figure size 640x480 with 1 Axes>"
      ]
     },
     "metadata": {},
     "output_type": "display_data"
    }
   ],
   "source": [
    "import seaborn as sns\n",
    "ax = sns.scatterplot(df, y='TaxaLetalidade', x='IDH')\n",
    "for state, idh, taxaletalidade in zip(df.nome, df['IDH'], \n",
    "                                      df['TaxaLetalidade']):\n",
    "    ax.annotate(state, xy=(idh, taxaletalidade))"
   ]
  },
  {
   "cell_type": "markdown",
   "id": "6b0bb4ce-319c-4dea-acdc-a2a58a29c765",
   "metadata": {
    "editable": true,
    "slideshow": {
     "slide_type": "subslide"
    },
    "tags": []
   },
   "source": [
    "<pre>Volte no slide anterior e encontre a linha da regressão que passa o mais perto possível dos Estados: </pre>"
   ]
  },
  {
   "cell_type": "markdown",
   "id": "72f121dd-37d1-48a0-9bd8-93e5f03f168a",
   "metadata": {
    "editable": true,
    "slideshow": {
     "slide_type": ""
    },
    "tags": []
   },
   "source": [
    "$$TaxaLetalidade = \\alpha + \\beta \\times IDH + \\epsilon$$"
   ]
  },
  {
   "cell_type": "markdown",
   "id": "2700f735-5221-47bb-a5de-8be06b02fdbc",
   "metadata": {
    "editable": true,
    "slideshow": {
     "slide_type": ""
    },
    "tags": []
   },
   "source": [
    "<pre>Para tanto, utilize os mínimos quadrados ordinários (MQO), isto é:</pre>"
   ]
  },
  {
   "cell_type": "markdown",
   "id": "eb811188-5d14-46e4-8abb-300e008f2a2a",
   "metadata": {
    "editable": true,
    "slideshow": {
     "slide_type": ""
    },
    "tags": []
   },
   "source": [
    "$$argmin_{\\alpha, \\beta} = \\sum_{i=1}^{27} TaxaLetalidade_{UF_{i}} - (\\alpha + \\beta \\times IDH_{UF_{i}})$$"
   ]
  },
  {
   "cell_type": "markdown",
   "id": "b972642a-8d12-47e8-b1c2-2b17d53d3138",
   "metadata": {
    "editable": true,
    "slideshow": {
     "slide_type": ""
    },
    "tags": []
   },
   "source": [
    "👉 Tente simular seu palpite com esta <a href='https://setosa.io/ev/ordinary-least-squares-regression/'>Visualização Dinâmica</a>. \n",
    "\n",
    "👉 Dica: não esqueça de simular o que ocorre com e sem a presença de SP e RJ."
   ]
  },
  {
   "cell_type": "markdown",
   "id": "f6c78634-98ce-4b22-91d9-0d11a48cace2",
   "metadata": {
    "editable": true,
    "slideshow": {
     "slide_type": "subslide"
    },
    "tags": []
   },
   "source": [
    "<pre>Veja como fica a regressão linear simples com todos os Estados:</pre>"
   ]
  },
  {
   "cell_type": "code",
   "execution_count": 7,
   "id": "cb008e9f-db00-4bbe-bbd2-edcf0862c12a",
   "metadata": {
    "editable": true,
    "slideshow": {
     "slide_type": ""
    },
    "tags": []
   },
   "outputs": [
    {
     "data": {
      "image/png": "[encoded data removed]",
      "text/plain": [
       "<Figure size 640x480 with 1 Axes>"
      ]
     },
     "metadata": {},
     "output_type": "display_data"
    }
   ],
   "source": [
    "ax = sns.regplot(df, y='TaxaLetalidade', x='IDH')\n",
    "for state, letalidade, taxa in zip(df.nome, df['IDH'], \n",
    "                                   df['TaxaLetalidade']):\n",
    "    ax.annotate(state, xy=(idh, letalidade))"
   ]
  },
  {
   "cell_type": "markdown",
   "id": "25b098c1-b4aa-4f89-a58c-05ee94b18496",
   "metadata": {
    "editable": true,
    "slideshow": {
     "slide_type": "subslide"
    },
    "tags": []
   },
   "source": [
    "<pre>🚨 Regressão Linear não funciona bem com Outliers. Temos algum(ns)?</pre>"
   ]
  },
  {
   "cell_type": "markdown",
   "id": "2e3974af-78cc-4661-87cb-0b3b992bfdf6",
   "metadata": {
    "editable": true,
    "slideshow": {
     "slide_type": ""
    },
    "tags": []
   },
   "source": [
    "👉 Outliers com mais de uma variável podem ser detectados com clusterização."
   ]
  },
  {
   "cell_type": "code",
   "execution_count": 8,
   "id": "06f93933-3d73-4feb-918d-fab61e56c794",
   "metadata": {
    "editable": true,
    "slideshow": {
     "slide_type": "skip"
    },
    "tags": []
   },
   "outputs": [
    {
     "name": "stdout",
     "output_type": "stream",
     "text": [
      "\n",
      "\u001b[1m[\u001b[0m\u001b[34;49mnotice\u001b[0m\u001b[1;39;49m]\u001b[0m\u001b[39;49m A new release of pip is available: \u001b[0m\u001b[31;49m23.2.1\u001b[0m\u001b[39;49m -> \u001b[0m\u001b[32;49m23.3\u001b[0m\n",
      "\u001b[1m[\u001b[0m\u001b[34;49mnotice\u001b[0m\u001b[1;39;49m]\u001b[0m\u001b[39;49m To update, run: \u001b[0m\u001b[32;49mpython3.11 -m pip install --upgrade pip\u001b[0m\n"
     ]
    }
   ],
   "source": [
    "!pip install --upgrade scikit-learn --quiet"
   ]
  },
  {
   "cell_type": "code",
   "execution_count": 9,
   "id": "8e5232f4-7cee-4faa-ab50-b3b02d44bf52",
   "metadata": {
    "editable": true,
    "slideshow": {
     "slide_type": "skip"
    },
    "tags": []
   },
   "outputs": [],
   "source": [
    "# Trabalhando as variáveis para a mesma escala\n",
    "from sklearn.preprocessing import MinMaxScaler\n",
    "cluster_df = df[['nome', 'TaxaLetalidade', 'IDH']].copy()\n",
    "cluster_df['TaxaLetalidade'] = MinMaxScaler().\\\n",
    "    fit_transform(cluster_df[['TaxaLetalidade']])\n",
    "cluster_df['IDH'] = MinMaxScaler().\\\n",
    "    fit_transform(cluster_df[['IDH']])"
   ]
  },
  {
   "cell_type": "code",
   "execution_count": 10,
   "id": "892efc7b-79aa-4f54-8aab-65d19679cf81",
   "metadata": {
    "editable": true,
    "slideshow": {
     "slide_type": ""
    },
    "tags": []
   },
   "outputs": [
    {
     "data": {
      "image/png": "[encoded data removed]",
      "text/plain": [
       "<Figure size 640x480 with 1 Axes>"
      ]
     },
     "metadata": {},
     "output_type": "display_data"
    }
   ],
   "source": [
    "from sklearn.cluster import DBSCAN\n",
    "cluster = DBSCAN().fit(cluster_df[['IDH', 'TaxaLetalidade']])\n",
    "ax = sns.scatterplot(data=df, x='IDH', y='TaxaLetalidade', \n",
    "                     c=cluster.labels_)\n",
    "ax.legend(['Não é outlier'])\n",
    "for state, idh, letalidade in zip(df.nome, df['IDH'], \n",
    "                                  df['TaxaLetalidade']):\n",
    "    ax.annotate(state, xy=(idh, letalidade))"
   ]
  },
  {
   "cell_type": "markdown",
   "id": "5cf30789-1882-496f-8dc0-10b5bcaeb6fd",
   "metadata": {
    "editable": true,
    "slideshow": {
     "slide_type": "subslide"
    },
    "tags": []
   },
   "source": [
    "<pre>🚨 Nem sempre os outliers precisam ser excluídos. Resultados não significativos também podem ser resultados relevantes. Principalmente diante de um n baixo. </pre>\n",
    "\n",
    "Outras saídas para esse caso:\n",
    "* trabalhar com municípios e não estados ($n \\gg 30$);\n",
    "* trabalhar com outros modelos que não os modelos lineares."
   ]
  },
  {
   "cell_type": "markdown",
   "id": "7d075ccc-4a83-4db2-8073-1173fae09b17",
   "metadata": {
    "editable": true,
    "slideshow": {
     "slide_type": ""
    },
    "tags": []
   },
   "source": [
    "<img src='https://datasciencedojo.com/wp-content/uploads/meme-6.jpg' width=400 style=\"margin-left: auto; margin-right: auto;\">"
   ]
  },
  {
   "cell_type": "markdown",
   "id": "15f87822-51dc-4c80-aae3-69387d7672d3",
   "metadata": {
    "editable": true,
    "slideshow": {
     "slide_type": "subslide"
    },
    "tags": []
   },
   "source": [
    "<pre>Veja como fica a regressão linear simples sem SP e RJ (valores discrepantes):</pre>"
   ]
  },
  {
   "cell_type": "code",
   "execution_count": 11,
   "id": "98f9b066-b664-483c-9ee4-f1b3704b40d7",
   "metadata": {
    "editable": true,
    "slideshow": {
     "slide_type": ""
    },
    "tags": []
   },
   "outputs": [
    {
     "data": {
      "image/png": "[encoded data removed]",
      "text/plain": [
       "<Figure size 640x480 with 1 Axes>"
      ]
     },
     "metadata": {},
     "output_type": "display_data"
    }
   ],
   "source": [
    "df_sem_outliers = df[(df.nome != 'São Paulo')\\\n",
    "                    & (df.nome != 'Rio de Janeiro')]\n",
    "ax = sns.regplot(df_sem_outliers, y='TaxaLetalidade', x='IDH')\n",
    "for state, idh, letalidade in zip(df_sem_outliers.nome,\n",
    "                                  df_sem_outliers['IDH'], \n",
    "                                  df_sem_outliers['TaxaLetalidade']):\n",
    "    ax.annotate(state, xy=(idh, letalidade))"
   ]
  },
  {
   "cell_type": "markdown",
   "id": "acb7981e-05fe-42ec-a161-e1ff5ffd8223",
   "metadata": {
    "editable": true,
    "slideshow": {
     "slide_type": "subslide"
    },
    "tags": []
   },
   "source": [
    "#### Interpretação"
   ]
  },
  {
   "cell_type": "markdown",
   "id": "89b041b6-395a-437a-a109-d9bdb2ea9422",
   "metadata": {
    "editable": true,
    "slideshow": {
     "slide_type": ""
    },
    "tags": []
   },
   "source": [
    "❌ Interpretação Incorreta\n",
    "\n",
    "Maior Desenvolvimento Humano Parece Causar Menor Taxa de Letalidade por Covid-19"
   ]
  },
  {
   "cell_type": "markdown",
   "id": "7267d0c9-a3cf-4d25-94a0-986338926d57",
   "metadata": {
    "editable": true,
    "slideshow": {
     "slide_type": ""
    },
    "tags": []
   },
   "source": [
    "✅ Interpretação Correta\n",
    "\n",
    "Maior Desenvolvimento Humano Parece Associado com Menor Taxa de Letalidade por Covid-19"
   ]
  },
  {
   "cell_type": "markdown",
   "id": "9524dc1d-c852-4e5a-826a-cb3d291c8a6f",
   "metadata": {
    "editable": true,
    "slideshow": {
     "slide_type": ""
    },
    "tags": []
   },
   "source": [
    "🚨 Vulnerabilidade a Outliers"
   ]
  },
  {
   "cell_type": "markdown",
   "id": "f5230960-e252-4877-9e31-dbee7a82101f",
   "metadata": {
    "editable": true,
    "slideshow": {
     "slide_type": ""
    },
    "tags": []
   },
   "source": [
    "Uma vez que o MQO utiliza a segunda potência, SP e RJ distorcem a regressão linear\n",
    "\n",
    "🔔 Neste ponto, temos um indício de que não possuimos uma amostra boa o suficiente para realizar uma regressão, uma vez que a exclusão de 2 observações equivale a $7,5\\%$ da sua amostra.\n",
    "\n",
    "🔔 Mais à frente, vamos ter outro indício mais crítico: uma das premissas da validade da regressão linear estará comprometida. Aguente firme que chegaremos lá."
   ]
  },
  {
   "cell_type": "markdown",
   "id": "53ff5ef8-a4cc-4bd2-abe8-7200837e93fe",
   "metadata": {
    "editable": true,
    "slideshow": {
     "slide_type": "subslide"
    },
    "tags": []
   },
   "source": [
    "ℹ️ Spoiler 01"
   ]
  },
  {
   "cell_type": "markdown",
   "id": "c9cc7b9b-e94c-43b1-bd60-bf3cd1cf5668",
   "metadata": {
    "editable": true,
    "slideshow": {
     "slide_type": ""
    },
    "tags": []
   },
   "source": [
    "<pre>Quanto exatamente seria a associação entre IDH e Taxa de Letalidade?</pre>"
   ]
  },
  {
   "cell_type": "markdown",
   "id": "cd4bd708-b126-4b21-bc53-0c98ac7a0e1b",
   "metadata": {
    "editable": true,
    "slideshow": {
     "slide_type": ""
    },
    "tags": []
   },
   "source": [
    "Frequentemente, usamos coeficiente de correlação de Pearson, que veremos no próximo slide."
   ]
  },
  {
   "cell_type": "markdown",
   "id": "136fc304-4f26-479d-b35c-432d23ad39e2",
   "metadata": {
    "editable": true,
    "slideshow": {
     "slide_type": ""
    },
    "tags": []
   },
   "source": [
    "👉 Há outros coeficientes de correlação como coeficiente de Spearman, Kendall, entre outros, que não vemos nesta aula, mas recomendamos sua pesquisa."
   ]
  },
  {
   "cell_type": "markdown",
   "id": "fc508220-44e7-4fb6-954d-558236c9a335",
   "metadata": {
    "editable": true,
    "slideshow": {
     "slide_type": ""
    },
    "tags": []
   },
   "source": [
    "📚 William H. Kruskal (1958) Ordinal Measures of Association, Journal of the American Statistical Association, 53:284, 814-861, DOI: <a href='https://www.tandfonline.com/doi/abs/10.1080/01621459.1958.10501481'>10.1080/01621459.1958.10501481</a>"
   ]
  },
  {
   "cell_type": "markdown",
   "id": "1a1d22c5-07f0-486b-80d9-08253fc79689",
   "metadata": {
    "editable": true,
    "slideshow": {
     "slide_type": "subslide"
    },
    "tags": []
   },
   "source": [
    "ℹ️ Spoiler 02"
   ]
  },
  {
   "cell_type": "markdown",
   "id": "053940b4-3ae6-46a2-913c-bfd4f657a910",
   "metadata": {
    "editable": true,
    "slideshow": {
     "slide_type": ""
    },
    "tags": []
   },
   "source": [
    "<pre>Quanto da variação na Taxa de Letalidade parece ser explicada pela variação do IDH?</pre>"
   ]
  },
  {
   "cell_type": "markdown",
   "id": "750b0f62-1c92-4d46-a5af-0cb568f5b7f3",
   "metadata": {
    "editable": true,
    "slideshow": {
     "slide_type": ""
    },
    "tags": []
   },
   "source": [
    "Frequentemente, utilizamos o $R^2$, que veremos após correlação."
   ]
  },
  {
   "cell_type": "markdown",
   "id": "630bf2e2-43b6-49af-b099-b44ea015d840",
   "metadata": {
    "editable": true,
    "slideshow": {
     "slide_type": ""
    },
    "tags": []
   },
   "source": [
    "👉 Há outras métricas como MAE, MSE, RMSE e $R^2$ ajustado, que não vemos nesta aula, mas recomendamos a sua pesquisa."
   ]
  },
  {
   "cell_type": "markdown",
   "id": "a3df3db2-ce41-4d8e-895f-1189c7d798c6",
   "metadata": {
    "editable": true,
    "slideshow": {
     "slide_type": ""
    },
    "tags": []
   },
   "source": [
    "📚 Chicco D, Warrens MJ, Jurman G. The coefficient of determination R-squared is more informative than SMAPE, MAE, MAPE, MSE and RMSE in regression analysis evaluation. PeerJ Comput Sci. 2021 Jul 5;7:e623. doi: <a href='https://doi.org/10.7717%2Fpeerj-cs.623'>10.7717/peerj-cs.623.</a>"
   ]
  },
  {
   "cell_type": "markdown",
   "id": "d915e85c-fdf2-42b8-82f4-952dd90e3eb7",
   "metadata": {
    "editable": true,
    "slideshow": {
     "slide_type": "subslide"
    },
    "tags": []
   },
   "source": [
    "### Correlação"
   ]
  },
  {
   "cell_type": "markdown",
   "id": "d466e576-b18e-47db-9a74-c1fd0a3ff850",
   "metadata": {
    "editable": true,
    "slideshow": {
     "slide_type": ""
    },
    "tags": []
   },
   "source": [
    "O coeficiente de correlação de Pearson, $\\rho$, mede o grau da correlação linear entre duas variáveis de escala métrica."
   ]
  },
  {
   "cell_type": "markdown",
   "id": "7064de4c-67d9-4420-8bb6-9a1c492d3be0",
   "metadata": {
    "editable": true,
    "slideshow": {
     "slide_type": ""
    },
    "tags": []
   },
   "source": [
    "$$\\rho = \\frac{CoV(IDH,TaxaLetalidade)}{\\sigma_{IDH}\\times\\sigma_{TaxaLetalidade}} = \\frac{\\sum_{i=1}^{27}\\left((IDH_i - \\overline{IDH})\\times(TaxaLetalidade_i - \\overline{TaxaLetalidade})\\right)}{\\sqrt{\\sum_{i=1}^{27} (IDH_i - \\overline{IDH})^2} \\times \\sqrt{\\sum_{i=1}^{27} (TaxaLetalidade_i - \\overline{TaxaLetalidade})^2}},$$"
   ]
  },
  {
   "cell_type": "markdown",
   "id": "082f4e2d-7550-4900-9373-1e37e8d651d8",
   "metadata": {
    "editable": true,
    "slideshow": {
     "slide_type": ""
    },
    "tags": []
   },
   "source": [
    "$$\\overline{IDH} = \\frac{1}{27}\\times\\sum_{i=1}^{27}IDH_{i}$$\n",
    "$$\\overline{TaxaLetalidade} = \\frac{1}{27}\\times\\sum_{i=1}^{27}TaxaLetalidade_{i}$$"
   ]
  },
  {
   "cell_type": "code",
   "execution_count": 12,
   "id": "67300872-5bc3-4a61-b265-a7a612e23897",
   "metadata": {
    "editable": true,
    "slideshow": {
     "slide_type": "subslide"
    },
    "tags": []
   },
   "outputs": [
    {
     "data": {
      "text/plain": [
       "'ρ = -0.5036489026973191'"
      ]
     },
     "execution_count": 12,
     "metadata": {},
     "output_type": "execute_result"
    }
   ],
   "source": [
    "desvio_da_media = lambda x: x - x.mean()\n",
    "co_variancia = lambda x, y: (desvio_da_media(x) * desvio_da_media(y)).\\\n",
    "                                sum()\n",
    "desvio_padrao = lambda x: co_variancia(x, x)**0.5\n",
    "\n",
    "IDH = df_sem_outliers['IDH']\n",
    "TaxaLetalidade = df_sem_outliers['TaxaLetalidade']\n",
    "\n",
    "numerador = co_variancia(IDH, TaxaLetalidade)\n",
    "denominador = desvio_padrao(IDH) * desvio_padrao(TaxaLetalidade)\n",
    "\n",
    "f'ρ = {numerador/denominador}'"
   ]
  },
  {
   "cell_type": "markdown",
   "id": "cabad968-f29c-4ea3-8be1-5207e3c970d9",
   "metadata": {
    "editable": true,
    "slideshow": {
     "slide_type": ""
    },
    "tags": []
   },
   "source": [
    "#### Interpretação"
   ]
  },
  {
   "cell_type": "markdown",
   "id": "d9c83d49-c579-4434-97fa-db77141bb23b",
   "metadata": {
    "editable": true,
    "slideshow": {
     "slide_type": ""
    },
    "tags": []
   },
   "source": [
    "* $0.9 < |\\rho| \\leq 1$ indica uma correlação linear muito forte;\n",
    "* $0.7 < |\\rho| \\leq 0.9$ indica uma correlação linear forte;\n",
    "* $0.5 < |\\rho| \\leq 0.7$ ndica uma correlação linear moderada;\n",
    "* $0.3 < |\\rho| \\leq 0.5$ indica uma correlação linear fraca;\n",
    "* $0 < |\\rho| \\leq 0.3$ indica uma correlação linear desprezível."
   ]
  },
  {
   "cell_type": "markdown",
   "id": "8f763a48-b8aa-436e-9042-c647e0fcec04",
   "metadata": {
    "editable": true,
    "slideshow": {
     "slide_type": ""
    },
    "tags": []
   },
   "source": [
    "🚨 $\\rho$ negativo significa que uma variável aumenta enquanto a outra diminui"
   ]
  },
  {
   "cell_type": "markdown",
   "id": "7cbdd7d3-1eff-4fc9-9000-d649211b718b",
   "metadata": {
    "editable": true,
    "slideshow": {
     "slide_type": "subslide"
    },
    "tags": []
   },
   "source": [
    "🚨 Correlação não implica causalidade, bem como podemos ter correlação espúria: consumo de sorvete $\\times$ número de afogamentos (estação do ano seria o fator de confusão?)"
   ]
  },
  {
   "cell_type": "markdown",
   "id": "8e960414-fa46-4c4d-8a55-989e7b0bdf1f",
   "metadata": {
    "editable": true,
    "slideshow": {
     "slide_type": ""
    },
    "tags": []
   },
   "source": [
    "<img src='https://imgs.xkcd.com/comics/correlation.png' style=\"margin-left: auto; margin-right: auto;\">"
   ]
  },
  {
   "cell_type": "markdown",
   "id": "4370af16-5d77-40f7-a809-0160bf14452f",
   "metadata": {
    "editable": true,
    "slideshow": {
     "slide_type": ""
    },
    "tags": []
   },
   "source": [
    "👉 Charge xkcd <a href='https://xkcd.com/552/'>552: Correlation</a>. Veja a <a href='https://www.explainxkcd.com/wiki/index.php/552:_Correlation'>Explicação</a>."
   ]
  },
  {
   "cell_type": "markdown",
   "id": "926db594-a4e2-4fc6-9ccf-be8de85aba06",
   "metadata": {
    "editable": true,
    "slideshow": {
     "slide_type": "subslide"
    },
    "tags": []
   },
   "source": [
    "#### Abordagem Visual"
   ]
  },
  {
   "cell_type": "markdown",
   "id": "26ce14c8-482a-461e-a38e-560574753b9e",
   "metadata": {
    "editable": true,
    "slideshow": {
     "slide_type": ""
    },
    "tags": []
   },
   "source": [
    "<pre>Veja como ficam todas as possíveis correlações sem SP e RJ (valores discrepantes):</pre>"
   ]
  },
  {
   "cell_type": "code",
   "execution_count": 13,
   "id": "ade128ba-4e42-4629-be76-617d7cdf31e1",
   "metadata": {
    "editable": true,
    "slideshow": {
     "slide_type": ""
    },
    "tags": []
   },
   "outputs": [
    {
     "data": {
      "image/png": "[encoded data removed]",
      "text/plain": [
       "<Figure size 640x480 with 2 Axes>"
      ]
     },
     "metadata": {},
     "output_type": "display_data"
    }
   ],
   "source": [
    "import numpy as np\n",
    "correlation = df_sem_outliers.drop(columns=['nome', 'regiao']).corr()\n",
    "heatmap = sns.heatmap(correlation, annot=True, cmap='coolwarm', \n",
    "                      mask=np.triu(np.ones_like(correlation), k=1))\n",
    "heatmap.set_title('Mapa de Calor da Correlação');"
   ]
  },
  {
   "cell_type": "markdown",
   "id": "9431cce1-069b-4a12-b45e-499de27aeace",
   "metadata": {
    "editable": true,
    "slideshow": {
     "slide_type": "subslide"
    },
    "tags": []
   },
   "source": [
    "### Determinação"
   ]
  },
  {
   "cell_type": "markdown",
   "id": "12925e30-f9c9-481f-bfcd-58d1211a374b",
   "metadata": {
    "editable": true,
    "slideshow": {
     "slide_type": ""
    },
    "tags": []
   },
   "source": [
    "O coeficiente de determinação, também chamado de R², é uma medida de ajuste de um modelo estatístico linear generalizado, como a regressão linear simples ou múltipla, aos valores observados de uma variável aleatória. "
   ]
  },
  {
   "cell_type": "markdown",
   "id": "721993a3-adfa-4a1f-a6bb-91a3bc02e1ca",
   "metadata": {
    "editable": true,
    "slideshow": {
     "slide_type": ""
    },
    "tags": []
   },
   "source": [
    "$$R^2 = 1 - \\frac{SSE}{SST},$$ onde:"
   ]
  },
  {
   "cell_type": "markdown",
   "id": "fc00844c-2043-4a07-93c1-94bdc2acde99",
   "metadata": {
    "editable": true,
    "slideshow": {
     "slide_type": ""
    },
    "tags": []
   },
   "source": [
    "$$ SSE = \\sum_{i=1}^{27}(\\epsilon_{i})^2, \\epsilon = TaxaLetalidade_{i} - \\alpha_{i} + \\beta_{i} \\times IDH_{i}$$\n",
    "$$ SST = \\sum_{i=1}^{27}(TaxaLetalidade_{i} - \\overline{TaxaLetalidade})^2$$\n",
    "$$\\overline{TaxaLetalidade} = \\frac{1}{27}\\times\\sum_{i=1}^{27}TaxaLetalidade_{i}$$"
   ]
  },
  {
   "cell_type": "markdown",
   "id": "c14c3245-1f8f-4b93-bb58-f2caac4b7e9f",
   "metadata": {
    "editable": true,
    "slideshow": {
     "slide_type": "subslide"
    },
    "tags": []
   },
   "source": [
    "$$R^2 = 1 - \\frac{SSE}{SST},$$ onde:"
   ]
  },
  {
   "cell_type": "markdown",
   "id": "3ed28159-bc5b-4933-aa64-d0a6c01eefae",
   "metadata": {
    "editable": true,
    "slideshow": {
     "slide_type": ""
    },
    "tags": []
   },
   "source": [
    "- SSE (Soma dos Quadrados dos Erros) representa a soma dos quadrados das diferenças entre os valores reais da variável dependente e os valores previstos pelo modelo de regressão. É uma medida da variabilidade não explicada pelo modelo.\n",
    "- SST (Soma Total dos Quadrados) representa a soma dos quadrados das diferenças entre os valores reais da variável dependente e a média dos valores reais. Representa a variabilidade total dos dados."
   ]
  },
  {
   "cell_type": "code",
   "execution_count": 14,
   "id": "2f208279-5ced-4955-a245-a7e7f6d8a087",
   "metadata": {
    "editable": true,
    "slideshow": {
     "slide_type": "skip"
    },
    "tags": []
   },
   "outputs": [],
   "source": [
    "#não se preocupe com esse código, veremos depois como desenvolvê-lo\n",
    "tl_model = smf.ols('TaxaLetalidade ~ IDH + 1', data=df_sem_outliers).fit()\n",
    "TaxaLetalidadePrevista = tl_model.predict(IDH)"
   ]
  },
  {
   "cell_type": "code",
   "execution_count": 15,
   "id": "c5cd04be-fc4d-4f3d-95d4-aa5c34a375a2",
   "metadata": {
    "editable": true,
    "slideshow": {
     "slide_type": "subslide"
    },
    "tags": []
   },
   "outputs": [
    {
     "data": {
      "text/plain": [
       "'25.36622% da variância da Taxa de Letalidade é explicada pela variância no IDH'"
      ]
     },
     "execution_count": 15,
     "metadata": {},
     "output_type": "execute_result"
    }
   ],
   "source": [
    "#vamos calcular o valor de R² com a fórmula matemática\n",
    "sse = ((TaxaLetalidade - TaxaLetalidadePrevista)**2).sum()\n",
    "sst = ((TaxaLetalidade - TaxaLetalidade.mean())**2).sum()\n",
    "r2 = 1 - sse/sst\n",
    "\n",
    "f'{r2:.5%} da variância da Taxa de Letalidade \\\n",
    "é explicada pela variância no IDH'"
   ]
  },
  {
   "cell_type": "markdown",
   "id": "34f99f00-1ced-431d-90c7-f45e6c39437a",
   "metadata": {
    "editable": true,
    "slideshow": {
     "slide_type": ""
    },
    "tags": []
   },
   "source": [
    "#### Interpretação"
   ]
  },
  {
   "cell_type": "markdown",
   "id": "cb1323c4-e972-4baf-bf03-0a40fcf9c8d8",
   "metadata": {
    "editable": true,
    "slideshow": {
     "slide_type": ""
    },
    "tags": []
   },
   "source": [
    "No nosso caso, é o percentual da variação da Taxa de Letalidade que é explicável pela variação do IDH.\n",
    "\n",
    "É definido pelo intervalo de 0 a 1, onde 0 não explica nada e 1 informa que há um relacionamento perfeito."
   ]
  },
  {
   "cell_type": "markdown",
   "id": "72ba1479-b78f-4f22-91cb-2176f474251f",
   "metadata": {
    "editable": true,
    "slideshow": {
     "slide_type": ""
    },
    "tags": []
   },
   "source": [
    "👉 Veja em mais detalhes <a href='https://statisticsbyjim.com/regression/interpret-r-squared-regression/'>como interpretar o R²</a>."
   ]
  },
  {
   "cell_type": "markdown",
   "id": "12fde496-384c-487e-9216-54fa8aced811",
   "metadata": {
    "editable": true,
    "slideshow": {
     "slide_type": "subslide"
    },
    "tags": []
   },
   "source": [
    "#### Abordagem Visual"
   ]
  },
  {
   "cell_type": "markdown",
   "id": "dadb00bb-7430-40c8-b720-da6c179a7fde",
   "metadata": {
    "editable": true,
    "slideshow": {
     "slide_type": ""
    },
    "tags": []
   },
   "source": [
    "<pre>Veja como ficam os R² com diferentes ordens de magnitude (14,7% vs. 86,5%):</pre>"
   ]
  },
  {
   "cell_type": "markdown",
   "id": "f9459140-ab94-4ae3-927f-7ef52ee49bda",
   "metadata": {
    "editable": true,
    "slideshow": {
     "slide_type": ""
    },
    "tags": []
   },
   "source": [
    "<table>\n",
    "<tr><td><img src='https://blog.minitab.com/hubfs/Imported_Blog_Media/flp_highvar.png'></td><td><img src='https://blog.minitab.com/hubfs/Imported_Blog_Media/flp_lowvar.png'</td></tr>\n",
    "</table>"
   ]
  },
  {
   "cell_type": "markdown",
   "id": "b345d000-5485-486f-ad98-74a380dcceb9",
   "metadata": {
    "editable": true,
    "slideshow": {
     "slide_type": "subslide"
    },
    "tags": []
   },
   "source": [
    "### Premissas para Análise Inferencial"
   ]
  },
  {
   "cell_type": "markdown",
   "id": "f8735fc6-d1c5-4e3d-b77b-330aed9c5e23",
   "metadata": {},
   "source": [
    "🚨 Amostragem vs. População"
   ]
  },
  {
   "cell_type": "markdown",
   "id": "433bd040-1231-4895-89eb-8de0634b16a2",
   "metadata": {},
   "source": [
    "Caso seja utilizada a amostragem, ela deve ser aleatória e com amostras independentes\n",
    "* Amostragem com Reposição ou $n < 10\\%$ do universo populacional"
   ]
  },
  {
   "cell_type": "markdown",
   "id": "7c92238e-4ff5-4817-a8a1-a8dc191a213d",
   "metadata": {},
   "source": [
    "🚨 Distribuição e Dispersão dos Resíduos"
   ]
  },
  {
   "cell_type": "markdown",
   "id": "ad558035-8205-42e9-8c1c-0aeb88bc079c",
   "metadata": {
    "editable": true,
    "slideshow": {
     "slide_type": ""
    },
    "tags": []
   },
   "source": [
    "Os resíduos ($\\epsilon$ da Regressão Linear) devem ser distribuídos conforme curva normal, bem como devem ser homocedásticos (veremos no próximo slide)."
   ]
  },
  {
   "cell_type": "markdown",
   "id": "b2be2328-07c6-44dc-9893-e53f29d9a4af",
   "metadata": {
    "editable": true,
    "slideshow": {
     "slide_type": "subslide"
    },
    "tags": []
   },
   "source": [
    "ℹ️ Os resíduos estão distribuídos conforme uma curva normal?"
   ]
  },
  {
   "cell_type": "markdown",
   "id": "aeef8b6f-e060-45df-beb4-2599cccd1161",
   "metadata": {
    "editable": true,
    "slideshow": {
     "slide_type": ""
    },
    "tags": []
   },
   "source": [
    "<pre>✅ A princípio, estamos com uma dispersão de resíduos próxima da distribuição normal.</pre>"
   ]
  },
  {
   "cell_type": "code",
   "execution_count": 16,
   "id": "846448ea-123f-4dff-8e9b-59aa759cfcc7",
   "metadata": {
    "editable": true,
    "slideshow": {
     "slide_type": "skip"
    },
    "tags": []
   },
   "outputs": [],
   "source": [
    "residuos = pd.DataFrame(TaxaLetalidadePrevista - TaxaLetalidade, \n",
    "                        columns=['Residuos'])"
   ]
  },
  {
   "cell_type": "code",
   "execution_count": 17,
   "id": "9bdd250a-8813-4658-8be6-ffca33d70f7d",
   "metadata": {
    "editable": true,
    "slideshow": {
     "slide_type": ""
    },
    "tags": []
   },
   "outputs": [
    {
     "data": {
      "image/png": "[encoded data removed]",
      "text/plain": [
       "<Figure size 640x480 with 1 Axes>"
      ]
     },
     "metadata": {},
     "output_type": "display_data"
    }
   ],
   "source": [
    "sns.histplot(residuos, kde=True, edgecolor='w');"
   ]
  },
  {
   "cell_type": "markdown",
   "id": "f7bcbee6-0415-4d53-b68d-8145a1fe365e",
   "metadata": {
    "editable": true,
    "slideshow": {
     "slide_type": "subslide"
    },
    "tags": []
   },
   "source": [
    "ℹ️ Os resíduos são homocedásticos?"
   ]
  },
  {
   "cell_type": "markdown",
   "id": "9ac2d4ec-a179-49aa-924b-8d8af7aa1520",
   "metadata": {
    "editable": true,
    "slideshow": {
     "slide_type": ""
    },
    "tags": []
   },
   "source": [
    "👉 Homocedasticidade: a dispersão dos erros deve ser constante ao longo de todas as faixas de valores das variáveis independentes."
   ]
  },
  {
   "cell_type": "markdown",
   "id": "23a46a5b-924e-42d6-b889-fee98ba5ef36",
   "metadata": {
    "editable": true,
    "slideshow": {
     "slide_type": ""
    },
    "tags": []
   },
   "source": [
    "<pre>❌ Perceba que a dispersão aumenta. Isto compromete a validade externa da regressão linear.</pre>"
   ]
  },
  {
   "cell_type": "code",
   "execution_count": 18,
   "id": "2955d971-8e2f-4f4f-a183-4b4353fbacb9",
   "metadata": {
    "editable": true,
    "slideshow": {
     "slide_type": "skip"
    },
    "tags": []
   },
   "outputs": [],
   "source": [
    "LetalidadePrevista = pd.DataFrame(TaxaLetalidadePrevista,\n",
    "                                  columns=['TaxaLetalidadePrevista'])"
   ]
  },
  {
   "cell_type": "code",
   "execution_count": 19,
   "id": "58240a26-73ec-46aa-8d52-16de3df1064d",
   "metadata": {
    "editable": true,
    "slideshow": {
     "slide_type": ""
    },
    "tags": []
   },
   "outputs": [
    {
     "data": {
      "image/png": "[encoded data removed]",
      "text/plain": [
       "<Figure size 640x480 with 1 Axes>"
      ]
     },
     "metadata": {},
     "output_type": "display_data"
    }
   ],
   "source": [
    "sns.scatterplot(x=LetalidadePrevista.iloc[:,0], y=residuos.iloc[:,0]);"
   ]
  },
  {
   "cell_type": "markdown",
   "id": "92b9e2a9-1bf5-4c32-be96-a2f3985bce79",
   "metadata": {
    "editable": true,
    "slideshow": {
     "slide_type": "slide"
    },
    "tags": []
   },
   "source": [
    "## Estimando Modelos Lineares"
   ]
  },
  {
   "cell_type": "markdown",
   "id": "b1c6cbd1-a682-42ff-a239-35dbcde52b00",
   "metadata": {
    "editable": true,
    "slideshow": {
     "slide_type": ""
    },
    "tags": []
   },
   "source": [
    "Os modelos lineares no statsmodels têm duas interfaces principais diferentes:\n",
    "<ul>\n",
    "    <li>baseadas em vetores; e</li>\n",
    "    <li>baseadas em fórmula.</li>\n",
    "</ul>"
   ]
  },
  {
   "cell_type": "markdown",
   "id": "2ce836e9-9271-4665-949c-56eef9bd518b",
   "metadata": {
    "editable": true,
    "slideshow": {
     "slide_type": ""
    },
    "tags": []
   },
   "source": [
    "👉 vamos usar a interface baseada em vetores, mas ao final mostramos os comandos baseados em fórmulas"
   ]
  },
  {
   "cell_type": "markdown",
   "id": "664072b7-e0e4-4ccb-8ff1-66dd145f5add",
   "metadata": {
    "editable": true,
    "slideshow": {
     "slide_type": "subslide"
    },
    "tags": []
   },
   "source": [
    "### Regressão Linear Simples"
   ]
  },
  {
   "cell_type": "markdown",
   "id": "0a2577c4-35d4-4dab-bf3b-47549696a64b",
   "metadata": {
    "editable": true,
    "slideshow": {
     "slide_type": ""
    },
    "tags": []
   },
   "source": [
    "#### Interface Baseada em Vetores"
   ]
  },
  {
   "cell_type": "code",
   "execution_count": 20,
   "id": "95fdb9c9-f1bf-4313-98e1-6d23bfd76a81",
   "metadata": {
    "editable": true,
    "slideshow": {
     "slide_type": ""
    },
    "tags": []
   },
   "outputs": [],
   "source": [
    "#baseada em array\n",
    "import statsmodels.api as sm"
   ]
  },
  {
   "cell_type": "markdown",
   "id": "89c84343-0382-44ca-9aa0-69eefa693118",
   "metadata": {
    "editable": true,
    "slideshow": {
     "slide_type": ""
    },
    "tags": []
   },
   "source": [
    "<pre>Vamos atribuir às variáveis y e X os valores das variáveis númericas</pre>"
   ]
  },
  {
   "cell_type": "markdown",
   "id": "d2780f0e-d68a-44e4-a0ce-15636899009f",
   "metadata": {
    "editable": true,
    "slideshow": {
     "slide_type": ""
    },
    "tags": []
   },
   "source": [
    "$$y = f(x) \\Leftrightarrow TaxaLetalidade = f(IDH)$$"
   ]
  },
  {
   "cell_type": "code",
   "execution_count": 21,
   "id": "c4e88274-4beb-41bf-b84e-c2e2faba4996",
   "metadata": {
    "editable": true,
    "slideshow": {
     "slide_type": ""
    },
    "tags": []
   },
   "outputs": [
    {
     "data": {
      "text/html": [
       "<div>\n",
       "<style scoped>\n",
       "    .dataframe tbody tr th:only-of-type {\n",
       "        vertical-align: middle;\n",
       "    }\n",
       "\n",
       "    .dataframe tbody tr th {\n",
       "        vertical-align: top;\n",
       "    }\n",
       "\n",
       "    .dataframe thead th {\n",
       "        text-align: right;\n",
       "    }\n",
       "</style>\n",
       "<table border=\"1\" class=\"dataframe\">\n",
       "  <thead>\n",
       "    <tr style=\"text-align: right;\">\n",
       "      <th></th>\n",
       "      <th>TaxaLetalidade</th>\n",
       "    </tr>\n",
       "    <tr>\n",
       "      <th>id</th>\n",
       "      <th></th>\n",
       "    </tr>\n",
       "  </thead>\n",
       "  <tbody>\n",
       "    <tr>\n",
       "      <th>12</th>\n",
       "      <td>0.012576</td>\n",
       "    </tr>\n",
       "    <tr>\n",
       "      <th>27</th>\n",
       "      <td>0.021420</td>\n",
       "    </tr>\n",
       "    <tr>\n",
       "      <th>13</th>\n",
       "      <td>0.022690</td>\n",
       "    </tr>\n",
       "    <tr>\n",
       "      <th>16</th>\n",
       "      <td>0.011640</td>\n",
       "    </tr>\n",
       "    <tr>\n",
       "      <th>29</th>\n",
       "      <td>0.017558</td>\n",
       "    </tr>\n",
       "  </tbody>\n",
       "</table>\n",
       "</div>"
      ],
      "text/plain": [
       "    TaxaLetalidade\n",
       "id                \n",
       "12        0.012576\n",
       "27        0.021420\n",
       "13        0.022690\n",
       "16        0.011640\n",
       "29        0.017558"
      ]
     },
     "execution_count": 21,
     "metadata": {},
     "output_type": "execute_result"
    }
   ],
   "source": [
    "y = df_sem_outliers[['TaxaLetalidade']]\n",
    "y[:5]"
   ]
  },
  {
   "cell_type": "code",
   "execution_count": 22,
   "id": "b6e0ea9a-3293-4cd8-aab4-fc66f8ab1134",
   "metadata": {
    "editable": true,
    "slideshow": {
     "slide_type": "subslide"
    },
    "tags": []
   },
   "outputs": [
    {
     "data": {
      "text/html": [
       "<div>\n",
       "<style scoped>\n",
       "    .dataframe tbody tr th:only-of-type {\n",
       "        vertical-align: middle;\n",
       "    }\n",
       "\n",
       "    .dataframe tbody tr th {\n",
       "        vertical-align: top;\n",
       "    }\n",
       "\n",
       "    .dataframe thead th {\n",
       "        text-align: right;\n",
       "    }\n",
       "</style>\n",
       "<table border=\"1\" class=\"dataframe\">\n",
       "  <thead>\n",
       "    <tr style=\"text-align: right;\">\n",
       "      <th></th>\n",
       "      <th>IDH</th>\n",
       "    </tr>\n",
       "    <tr>\n",
       "      <th>id</th>\n",
       "      <th></th>\n",
       "    </tr>\n",
       "  </thead>\n",
       "  <tbody>\n",
       "    <tr>\n",
       "      <th>12</th>\n",
       "      <td>0.710</td>\n",
       "    </tr>\n",
       "    <tr>\n",
       "      <th>27</th>\n",
       "      <td>0.684</td>\n",
       "    </tr>\n",
       "    <tr>\n",
       "      <th>13</th>\n",
       "      <td>0.700</td>\n",
       "    </tr>\n",
       "    <tr>\n",
       "      <th>16</th>\n",
       "      <td>0.688</td>\n",
       "    </tr>\n",
       "    <tr>\n",
       "      <th>29</th>\n",
       "      <td>0.691</td>\n",
       "    </tr>\n",
       "  </tbody>\n",
       "</table>\n",
       "</div>"
      ],
      "text/plain": [
       "      IDH\n",
       "id       \n",
       "12  0.710\n",
       "27  0.684\n",
       "13  0.700\n",
       "16  0.688\n",
       "29  0.691"
      ]
     },
     "execution_count": 22,
     "metadata": {},
     "output_type": "execute_result"
    }
   ],
   "source": [
    "X = df_sem_outliers[['IDH']]\n",
    "X[:5]"
   ]
  },
  {
   "cell_type": "markdown",
   "id": "caf85a46-0d9a-4d95-8947-a68ca93a5a8a",
   "metadata": {
    "editable": true,
    "slideshow": {
     "slide_type": "subslide"
    },
    "tags": []
   },
   "source": [
    "<pre>Uma adequação a um modelo linear em geral é feita com um termo de interceptação.</pre>"
   ]
  },
  {
   "cell_type": "code",
   "execution_count": 23,
   "id": "a69ae3f1-920f-4b71-9b62-7f20914843ca",
   "metadata": {
    "editable": true,
    "slideshow": {
     "slide_type": ""
    },
    "tags": []
   },
   "outputs": [
    {
     "data": {
      "text/html": [
       "<div>\n",
       "<style scoped>\n",
       "    .dataframe tbody tr th:only-of-type {\n",
       "        vertical-align: middle;\n",
       "    }\n",
       "\n",
       "    .dataframe tbody tr th {\n",
       "        vertical-align: top;\n",
       "    }\n",
       "\n",
       "    .dataframe thead th {\n",
       "        text-align: right;\n",
       "    }\n",
       "</style>\n",
       "<table border=\"1\" class=\"dataframe\">\n",
       "  <thead>\n",
       "    <tr style=\"text-align: right;\">\n",
       "      <th></th>\n",
       "      <th>const</th>\n",
       "      <th>IDH</th>\n",
       "    </tr>\n",
       "    <tr>\n",
       "      <th>id</th>\n",
       "      <th></th>\n",
       "      <th></th>\n",
       "    </tr>\n",
       "  </thead>\n",
       "  <tbody>\n",
       "    <tr>\n",
       "      <th>12</th>\n",
       "      <td>1.0</td>\n",
       "      <td>0.710</td>\n",
       "    </tr>\n",
       "    <tr>\n",
       "      <th>27</th>\n",
       "      <td>1.0</td>\n",
       "      <td>0.684</td>\n",
       "    </tr>\n",
       "    <tr>\n",
       "      <th>13</th>\n",
       "      <td>1.0</td>\n",
       "      <td>0.700</td>\n",
       "    </tr>\n",
       "    <tr>\n",
       "      <th>16</th>\n",
       "      <td>1.0</td>\n",
       "      <td>0.688</td>\n",
       "    </tr>\n",
       "    <tr>\n",
       "      <th>29</th>\n",
       "      <td>1.0</td>\n",
       "      <td>0.691</td>\n",
       "    </tr>\n",
       "  </tbody>\n",
       "</table>\n",
       "</div>"
      ],
      "text/plain": [
       "    const    IDH\n",
       "id              \n",
       "12    1.0  0.710\n",
       "27    1.0  0.684\n",
       "13    1.0  0.700\n",
       "16    1.0  0.688\n",
       "29    1.0  0.691"
      ]
     },
     "execution_count": 23,
     "metadata": {},
     "output_type": "execute_result"
    }
   ],
   "source": [
    "X_model = sm.add_constant(X)\n",
    "X_model[:5]"
   ]
  },
  {
   "cell_type": "markdown",
   "id": "c15b9907-7ab4-43b3-bac4-a767bcb71b33",
   "metadata": {
    "editable": true,
    "slideshow": {
     "slide_type": ""
    },
    "tags": []
   },
   "source": [
    "<pre>A classe sm.OLS pode fazer a adequação a uma regressão linear de MQO.</pre>"
   ]
  },
  {
   "cell_type": "code",
   "execution_count": 24,
   "id": "1b996798-14ca-4510-979e-1b42a7975d4b",
   "metadata": {
    "editable": true,
    "slideshow": {
     "slide_type": ""
    },
    "tags": []
   },
   "outputs": [],
   "source": [
    "linear_model = sm.OLS(y, X_model)"
   ]
  },
  {
   "cell_type": "markdown",
   "id": "9d6dd917-ffcb-4cd0-9c6b-7e5a823b8c0d",
   "metadata": {
    "editable": true,
    "slideshow": {
     "slide_type": ""
    },
    "tags": []
   },
   "source": [
    "<pre>O método fit do modelo devolve um objeto de resultado da regressão contendo...</pre>"
   ]
  },
  {
   "cell_type": "code",
   "execution_count": 25,
   "id": "fafadb9a-ef11-493d-8860-cca5775458dd",
   "metadata": {
    "editable": true,
    "slideshow": {
     "slide_type": ""
    },
    "tags": []
   },
   "outputs": [],
   "source": [
    "linear_results = linear_model.fit()"
   ]
  },
  {
   "cell_type": "markdown",
   "id": "3bc93f14-514c-4a81-8d19-4f1cfcea5031",
   "metadata": {
    "editable": true,
    "slideshow": {
     "slide_type": "subslide"
    },
    "tags": []
   },
   "source": [
    "<pre>... os parâmetros estimados do modelo...</pre>"
   ]
  },
  {
   "cell_type": "code",
   "execution_count": 26,
   "id": "94f2c5bb-e9c0-450f-a942-59b946ff4873",
   "metadata": {
    "editable": true,
    "slideshow": {
     "slide_type": ""
    },
    "tags": []
   },
   "outputs": [
    {
     "data": {
      "text/plain": [
       "const    0.051650\n",
       "IDH     -0.048852\n",
       "dtype: float64"
      ]
     },
     "execution_count": 26,
     "metadata": {},
     "output_type": "execute_result"
    }
   ],
   "source": [
    "linear_results.params"
   ]
  },
  {
   "cell_type": "markdown",
   "id": "ae3a778c-f558-473e-a95f-f0e3d04594ce",
   "metadata": {
    "editable": true,
    "slideshow": {
     "slide_type": ""
    },
    "tags": []
   },
   "source": [
    "ℹ️ Qual a fórmula da regressão linear simples obtida?"
   ]
  },
  {
   "cell_type": "code",
   "execution_count": 27,
   "id": "5eb8be16-116b-4361-87b5-19b90987d9cd",
   "metadata": {
    "editable": true,
    "slideshow": {
     "slide_type": ""
    },
    "tags": []
   },
   "outputs": [
    {
     "name": "stdout",
     "output_type": "stream",
     "text": [
      "Equação da regressão linear simples: \n",
      "TaxaLetalidade = -0.04885 * IDH + 0.05165\n"
     ]
    }
   ],
   "source": [
    "intercepto, coeficiente_IDH = linear_results.params\n",
    "\n",
    "print(\"Equação da regressão linear simples: \")\n",
    "print(f'TaxaLetalidade = \\\n",
    "{coeficiente_IDH:.5f} * IDH + {intercepto:.5f}')"
   ]
  },
  {
   "cell_type": "markdown",
   "id": "75870866-d697-452b-afc1-e205285819c3",
   "metadata": {
    "editable": true,
    "slideshow": {
     "slide_type": "subslide"
    },
    "tags": []
   },
   "source": [
    "ℹ️ Quanto exatamente seria a associação entre IDH e Taxa de Letalidade?"
   ]
  },
  {
   "cell_type": "code",
   "execution_count": 28,
   "id": "a5c9d32f-3bfc-498c-a892-c4280a974529",
   "metadata": {
    "editable": true,
    "slideshow": {
     "slide_type": ""
    },
    "tags": []
   },
   "outputs": [
    {
     "data": {
      "text/plain": [
       "'-0.04885 é o coeficiente do IDH, que sugere, de forma geral, que para cada aumento de 0.1 no IDH, a Taxa de Letalidade descontaria, em média, 0.00489 do seu valor'"
      ]
     },
     "execution_count": 28,
     "metadata": {},
     "output_type": "execute_result"
    }
   ],
   "source": [
    "f'{coeficiente_IDH:.5f} é o coeficiente do IDH, que sugere, de forma geral, que para cada aumento de 0.1 no IDH, a Taxa de Letalidade descontaria, em média, {-coeficiente_IDH/10:.5f} do seu valor'"
   ]
  },
  {
   "cell_type": "code",
   "execution_count": 29,
   "id": "3966601e-6605-4921-b5c0-f6f907ef68bd",
   "metadata": {
    "editable": true,
    "slideshow": {
     "slide_type": ""
    },
    "tags": []
   },
   "outputs": [
    {
     "data": {
      "text/plain": [
       "'0.05165 é o intercepto do modelo. Representa o valor estimado da Taxa de Letalidade quando o IDH é zero. Na prática, esse valor pode não ter um significado real, mas faz parte da equação da regressão linear.'"
      ]
     },
     "execution_count": 29,
     "metadata": {},
     "output_type": "execute_result"
    }
   ],
   "source": [
    "f'{intercepto:.5f} é o intercepto do modelo. Representa o valor estimado da Taxa de Letalidade quando o IDH é zero. Na prática, esse valor pode não ter um significado real, mas faz parte da equação da regressão linear.'"
   ]
  },
  {
   "cell_type": "markdown",
   "id": "02f4868d-1b2f-4e47-b9b3-338c26353737",
   "metadata": {
    "editable": true,
    "slideshow": {
     "slide_type": "subslide"
    },
    "tags": []
   },
   "source": [
    "ℹ️ Quanto da variação na Taxa de Letalidade parece ser explicada pela variação do IDH?"
   ]
  },
  {
   "cell_type": "code",
   "execution_count": 30,
   "id": "9527c706-aa93-4f3f-893d-96260f527a26",
   "metadata": {
    "editable": true,
    "slideshow": {
     "slide_type": ""
    },
    "tags": []
   },
   "outputs": [
    {
     "data": {
      "text/plain": [
       "'25.37% da variância da Taxa de Letalidade é explicada pela variância no IDH'"
      ]
     },
     "execution_count": 30,
     "metadata": {},
     "output_type": "execute_result"
    }
   ],
   "source": [
    "f'{linear_results.rsquared:.2%} da variância da Taxa de Letalidade é \\\n",
    "explicada pela variância no IDH'"
   ]
  },
  {
   "cell_type": "markdown",
   "id": "8b7c7cb0-17df-492e-9ef4-2e547c6ac88f",
   "metadata": {
    "editable": true,
    "slideshow": {
     "slide_type": "subslide"
    },
    "tags": []
   },
   "source": [
    "<pre>... e outros diagnósticos.</pre>"
   ]
  },
  {
   "cell_type": "code",
   "execution_count": 31,
   "id": "294b5ef5-bc94-4371-b7aa-15f3d431b4f6",
   "metadata": {
    "editable": true,
    "slideshow": {
     "slide_type": ""
    },
    "tags": []
   },
   "outputs": [
    {
     "data": {
      "text/html": [
       "<table class=\"simpletable\">\n",
       "<caption>OLS Regression Results</caption>\n",
       "<tr>\n",
       "  <th>Dep. Variable:</th>     <td>TaxaLetalidade</td>  <th>  R-squared:         </th> <td>   0.254</td>\n",
       "</tr>\n",
       "<tr>\n",
       "  <th>Model:</th>                   <td>OLS</td>       <th>  Adj. R-squared:    </th> <td>   0.221</td>\n",
       "</tr>\n",
       "<tr>\n",
       "  <th>Method:</th>             <td>Least Squares</td>  <th>  F-statistic:       </th> <td>   7.817</td>\n",
       "</tr>\n",
       "<tr>\n",
       "  <th>Date:</th>             <td>Wed, 18 Oct 2023</td> <th>  Prob (F-statistic):</th>  <td>0.0103</td> \n",
       "</tr>\n",
       "<tr>\n",
       "  <th>Time:</th>                 <td>12:17:10</td>     <th>  Log-Likelihood:    </th> <td>  108.96</td>\n",
       "</tr>\n",
       "<tr>\n",
       "  <th>No. Observations:</th>      <td>    25</td>      <th>  AIC:               </th> <td>  -213.9</td>\n",
       "</tr>\n",
       "<tr>\n",
       "  <th>Df Residuals:</th>          <td>    23</td>      <th>  BIC:               </th> <td>  -211.5</td>\n",
       "</tr>\n",
       "<tr>\n",
       "  <th>Df Model:</th>              <td>     1</td>      <th>                     </th>     <td> </td>   \n",
       "</tr>\n",
       "<tr>\n",
       "  <th>Covariance Type:</th>      <td>nonrobust</td>    <th>                     </th>     <td> </td>   \n",
       "</tr>\n",
       "</table>\n",
       "<table class=\"simpletable\">\n",
       "<tr>\n",
       "    <td></td>       <th>coef</th>     <th>std err</th>      <th>t</th>      <th>P>|t|</th>  <th>[0.025</th>    <th>0.975]</th>  \n",
       "</tr>\n",
       "<tr>\n",
       "  <th>const</th> <td>    0.0516</td> <td>    0.013</td> <td>    4.067</td> <td> 0.000</td> <td>    0.025</td> <td>    0.078</td>\n",
       "</tr>\n",
       "<tr>\n",
       "  <th>IDH</th>   <td>   -0.0489</td> <td>    0.017</td> <td>   -2.796</td> <td> 0.010</td> <td>   -0.085</td> <td>   -0.013</td>\n",
       "</tr>\n",
       "</table>\n",
       "<table class=\"simpletable\">\n",
       "<tr>\n",
       "  <th>Omnibus:</th>       <td> 1.548</td> <th>  Durbin-Watson:     </th> <td>   1.933</td>\n",
       "</tr>\n",
       "<tr>\n",
       "  <th>Prob(Omnibus):</th> <td> 0.461</td> <th>  Jarque-Bera (JB):  </th> <td>   1.326</td>\n",
       "</tr>\n",
       "<tr>\n",
       "  <th>Skew:</th>          <td>-0.413</td> <th>  Prob(JB):          </th> <td>   0.515</td>\n",
       "</tr>\n",
       "<tr>\n",
       "  <th>Kurtosis:</th>      <td> 2.232</td> <th>  Cond. No.          </th> <td>    41.3</td>\n",
       "</tr>\n",
       "</table><br/><br/>Notes:<br/>[1] Standard Errors assume that the covariance matrix of the errors is correctly specified."
      ],
      "text/latex": [
       "\\begin{center}\n",
       "\\begin{tabular}{lclc}\n",
       "\\toprule\n",
       "\\textbf{Dep. Variable:}    &  TaxaLetalidade  & \\textbf{  R-squared:         } &     0.254   \\\\\n",
       "\\textbf{Model:}            &       OLS        & \\textbf{  Adj. R-squared:    } &     0.221   \\\\\n",
       "\\textbf{Method:}           &  Least Squares   & \\textbf{  F-statistic:       } &     7.817   \\\\\n",
       "\\textbf{Date:}             & Wed, 18 Oct 2023 & \\textbf{  Prob (F-statistic):} &   0.0103    \\\\\n",
       "\\textbf{Time:}             &     12:17:10     & \\textbf{  Log-Likelihood:    } &    108.96   \\\\\n",
       "\\textbf{No. Observations:} &          25      & \\textbf{  AIC:               } &    -213.9   \\\\\n",
       "\\textbf{Df Residuals:}     &          23      & \\textbf{  BIC:               } &    -211.5   \\\\\n",
       "\\textbf{Df Model:}         &           1      & \\textbf{                     } &             \\\\\n",
       "\\textbf{Covariance Type:}  &    nonrobust     & \\textbf{                     } &             \\\\\n",
       "\\bottomrule\n",
       "\\end{tabular}\n",
       "\\begin{tabular}{lcccccc}\n",
       "               & \\textbf{coef} & \\textbf{std err} & \\textbf{t} & \\textbf{P$> |$t$|$} & \\textbf{[0.025} & \\textbf{0.975]}  \\\\\n",
       "\\midrule\n",
       "\\textbf{const} &       0.0516  &        0.013     &     4.067  &         0.000        &        0.025    &        0.078     \\\\\n",
       "\\textbf{IDH}   &      -0.0489  &        0.017     &    -2.796  &         0.010        &       -0.085    &       -0.013     \\\\\n",
       "\\bottomrule\n",
       "\\end{tabular}\n",
       "\\begin{tabular}{lclc}\n",
       "\\textbf{Omnibus:}       &  1.548 & \\textbf{  Durbin-Watson:     } &    1.933  \\\\\n",
       "\\textbf{Prob(Omnibus):} &  0.461 & \\textbf{  Jarque-Bera (JB):  } &    1.326  \\\\\n",
       "\\textbf{Skew:}          & -0.413 & \\textbf{  Prob(JB):          } &    0.515  \\\\\n",
       "\\textbf{Kurtosis:}      &  2.232 & \\textbf{  Cond. No.          } &     41.3  \\\\\n",
       "\\bottomrule\n",
       "\\end{tabular}\n",
       "%\\caption{OLS Regression Results}\n",
       "\\end{center}\n",
       "\n",
       "Notes: \\newline\n",
       " [1] Standard Errors assume that the covariance matrix of the errors is correctly specified."
      ],
      "text/plain": [
       "<class 'statsmodels.iolib.summary.Summary'>\n",
       "\"\"\"\n",
       "                            OLS Regression Results                            \n",
       "==============================================================================\n",
       "Dep. Variable:         TaxaLetalidade   R-squared:                       0.254\n",
       "Model:                            OLS   Adj. R-squared:                  0.221\n",
       "Method:                 Least Squares   F-statistic:                     7.817\n",
       "Date:                Wed, 18 Oct 2023   Prob (F-statistic):             0.0103\n",
       "Time:                        12:17:10   Log-Likelihood:                 108.96\n",
       "No. Observations:                  25   AIC:                            -213.9\n",
       "Df Residuals:                      23   BIC:                            -211.5\n",
       "Df Model:                           1                                         \n",
       "Covariance Type:            nonrobust                                         \n",
       "==============================================================================\n",
       "                 coef    std err          t      P>|t|      [0.025      0.975]\n",
       "------------------------------------------------------------------------------\n",
       "const          0.0516      0.013      4.067      0.000       0.025       0.078\n",
       "IDH           -0.0489      0.017     -2.796      0.010      -0.085      -0.013\n",
       "==============================================================================\n",
       "Omnibus:                        1.548   Durbin-Watson:                   1.933\n",
       "Prob(Omnibus):                  0.461   Jarque-Bera (JB):                1.326\n",
       "Skew:                          -0.413   Prob(JB):                        0.515\n",
       "Kurtosis:                       2.232   Cond. No.                         41.3\n",
       "==============================================================================\n",
       "\n",
       "Notes:\n",
       "[1] Standard Errors assume that the covariance matrix of the errors is correctly specified.\n",
       "\"\"\""
      ]
     },
     "execution_count": 31,
     "metadata": {},
     "output_type": "execute_result"
    }
   ],
   "source": [
    "linear_results.summary()"
   ]
  },
  {
   "cell_type": "markdown",
   "id": "71f715d1-d866-40ed-810c-af7b59e8c72f",
   "metadata": {
    "editable": true,
    "slideshow": {
     "slide_type": "subslide"
    },
    "tags": []
   },
   "source": [
    "<font size=4><center><code>Posso confiar nos meus coeficientes estimados?</code></center></font>"
   ]
  },
  {
   "cell_type": "markdown",
   "id": "6b613ddf-0085-447a-96dc-65a66063c6ec",
   "metadata": {
    "editable": true,
    "slideshow": {
     "slide_type": ""
    },
    "tags": []
   },
   "source": [
    "<img src='figs/linear_model_summary.png'>"
   ]
  },
  {
   "cell_type": "markdown",
   "id": "c4d0b752-feed-4a12-a82d-bab737882f70",
   "metadata": {
    "editable": true,
    "slideshow": {
     "slide_type": ""
    },
    "tags": []
   },
   "source": [
    "🚨 Importante: Você pode usar regressões para análises gerais, mas muito cuidado ao fazer inferências, onde\n",
    "por inferência entende-se o processo de tirar conclusões ou previsões com base em dados coletados. "
   ]
  },
  {
   "cell_type": "markdown",
   "id": "dd022d75-edc8-4243-9644-c92cfae89775",
   "metadata": {
    "editable": true,
    "slideshow": {
     "slide_type": ""
    },
    "tags": []
   },
   "source": [
    "Sob certas condições (aleatoriedade da amostragem, tamanho da amostra, distribuição aproximadamente normal, etc...):\n",
    "    \n",
    "- A distribuição de valores plausíveis para o valor real do coeficiente do IDH $(coeficiente_{IDH})$ pode ser estimado através do nosso conjunto da dados.\n",
    "- $coeficiente_{IDH} = -0.0489 [-0.085 - -0.013]$ (com intervalo de confiança de 95%)\n",
    "- $coeficiente_{IDH} \\sim \\mathcal{T}_{n=25} \\sim \\mathcal{N}(-0.0489, stderr = 0.017)$"
   ]
  },
  {
   "cell_type": "markdown",
   "id": "38403eec-c5c4-4976-9243-da6b4ccf308d",
   "metadata": {
    "editable": true,
    "slideshow": {
     "slide_type": "subslide"
    },
    "tags": []
   },
   "source": [
    "👉 O $t$ (de t-statistics), $P>|t|$ (de $p$-valor) e $[0.025 - 0.975]$ (de intervalo de confiança de 95%) correspondem à hipótese abaixo:"
   ]
  },
  {
   "cell_type": "markdown",
   "id": "28a56253-cbf3-428e-9687-cce48cdc706c",
   "metadata": {
    "editable": true,
    "slideshow": {
     "slide_type": ""
    },
    "tags": []
   },
   "source": [
    "ℹ️ Qual a hipótese que está sendo trabalhada?"
   ]
  },
  {
   "cell_type": "markdown",
   "id": "5253bc30-b9a0-436b-9af8-0d8f94ad3d31",
   "metadata": {
    "editable": true,
    "slideshow": {
     "slide_type": ""
    },
    "tags": []
   },
   "source": [
    "* $H_0$: Taxa de Letalidade não está correlacionada a IDH ($coeficiente_{IDH}$ = 0)"
   ]
  },
  {
   "cell_type": "markdown",
   "id": "4b6929bf-3431-4435-a88e-9055b95e8656",
   "metadata": {
    "editable": true,
    "slideshow": {
     "slide_type": ""
    },
    "tags": []
   },
   "source": [
    "<img src='https://imgs.xkcd.com/comics/slope_hypothesis_testing.png' style=\"margin-left: auto; margin-right: auto;\">"
   ]
  },
  {
   "cell_type": "markdown",
   "id": "e2ab9446-2bbe-49b0-b123-84c00aa056a3",
   "metadata": {
    "editable": true,
    "slideshow": {
     "slide_type": ""
    },
    "tags": []
   },
   "source": [
    "👉 Charge xkcd <a href='https://xkcd.com/2533/'>2533: Slope Hypothesis Testing</a>. Veja a <a href='https://www.explainxkcd.com/wiki/index.php/2533:_Slope_Hypothesis_Testing'>Explicação</a>."
   ]
  },
  {
   "cell_type": "markdown",
   "id": "c420581b-b012-46dc-808c-b9c79edc9c2a",
   "metadata": {
    "editable": true,
    "slideshow": {
     "slide_type": "subslide"
    },
    "tags": []
   },
   "source": [
    "ℹ️ Qual o significado do $t$?"
   ]
  },
  {
   "cell_type": "markdown",
   "id": "bcb75238-86b8-4ea5-b137-dd275ba12b0c",
   "metadata": {
    "editable": true,
    "slideshow": {
     "slide_type": ""
    },
    "tags": []
   },
   "source": [
    "Se $H_0$ não for rejeitada, o valor estimado para $coeficiente_{IDH}$ teria um $t$-score de $2.796 = - \\frac{coeficiente_{IDH} - b_1}{stderr(b1)} \\tilde{=} \\frac{0.0489 - 0}{0.017}$ desvios padrões abaixo da média"
   ]
  },
  {
   "cell_type": "markdown",
   "id": "82e322bc-1bc5-434b-9154-83740e6fb609",
   "metadata": {
    "editable": true,
    "slideshow": {
     "slide_type": ""
    },
    "tags": []
   },
   "source": [
    "<img src='https://imgs.xkcd.com/comics/t_distribution.png' style=\"margin-left: auto; margin-right: auto;\">"
   ]
  },
  {
   "cell_type": "markdown",
   "id": "796723b2-b497-49e4-9d6a-0d6dfcdf00bd",
   "metadata": {
    "editable": true,
    "slideshow": {
     "slide_type": ""
    },
    "tags": []
   },
   "source": [
    "👉 Charge xkcd <a href='https://xkcd.com/1347/'>1347: t Distribution</a>. Veja a <a href='https://www.explainxkcd.com/wiki/index.php/1347:_t_Distribution'>Explicação</a>."
   ]
  },
  {
   "cell_type": "markdown",
   "id": "556c932e-a00a-467d-bf21-8960af062009",
   "metadata": {
    "editable": true,
    "slideshow": {
     "slide_type": "subslide"
    },
    "tags": []
   },
   "source": [
    "ℹ️ Qual o significado do $p$-valor?"
   ]
  },
  {
   "cell_type": "markdown",
   "id": "b97661f5-3226-4fd5-9cae-61780f2cbf19",
   "metadata": {
    "editable": true,
    "slideshow": {
     "slide_type": ""
    },
    "tags": []
   },
   "source": [
    "O $p$-valor é uma medida que ajuda a avaliar a evidência estatística contra uma hipótese nula."
   ]
  },
  {
   "attachments": {},
   "cell_type": "markdown",
   "id": "72aacaef-a000-49ce-9cce-7e967c017efd",
   "metadata": {
    "editable": true,
    "slideshow": {
     "slide_type": ""
    },
    "tags": []
   },
   "source": [
    "Indica se o coeficiente para o IDH é estatisticamente significativo a um valor pré definido - no caso, de 5% (ou seja, o $p$-valor de 0.01 é menor que 0.05). Portanto, o relacionamento entre Taxa de Letalidade e IDH é estatisticamente significativo."
   ]
  },
  {
   "cell_type": "markdown",
   "id": "53685cb8-641e-482d-beda-1174ee1c4161",
   "metadata": {
    "editable": true,
    "slideshow": {
     "slide_type": ""
    },
    "tags": []
   },
   "source": [
    "<img src='https://imgs.xkcd.com/comics/p_values.png' style=\"margin-left: auto; margin-right: auto;\">"
   ]
  },
  {
   "cell_type": "markdown",
   "id": "d5fcc370-134e-4e68-a4aa-2642396007f5",
   "metadata": {
    "editable": true,
    "slideshow": {
     "slide_type": ""
    },
    "tags": []
   },
   "source": [
    "👉 Charge xkcd <a href='https://xkcd.com/1478/'>1478: P-Values</a>. Veja a <a href='https://www.explainxkcd.com/wiki/index.php/1478:_P-Values'>Explicação</a>."
   ]
  },
  {
   "cell_type": "markdown",
   "id": "0133860b-9f5a-4f59-8d16-426de203866a",
   "metadata": {
    "editable": true,
    "slideshow": {
     "slide_type": "subslide"
    },
    "tags": []
   },
   "source": [
    "ℹ️ Qual o significado do $F$-statistics?"
   ]
  },
  {
   "cell_type": "markdown",
   "id": "3f5a55cc-0450-4a18-b2bd-3301e70310d2",
   "metadata": {
    "editable": true,
    "slideshow": {
     "slide_type": ""
    },
    "tags": []
   },
   "source": [
    "Ele representa os $p$-valores combinados de todos os coeficientes..."
   ]
  },
  {
   "cell_type": "markdown",
   "id": "18ca923f-1997-4a56-a6ec-e2226066f764",
   "metadata": {
    "editable": true,
    "slideshow": {
     "slide_type": ""
    },
    "tags": []
   },
   "source": [
    "... e medem a hipótese nula de que todos os coeficientes são nulos (não apenas o $coeficiente_{IDH}$)"
   ]
  },
  {
   "cell_type": "markdown",
   "id": "4da47f23-718f-47ca-a7f9-620e9b1c12fc",
   "metadata": {
    "editable": true,
    "slideshow": {
     "slide_type": ""
    },
    "tags": []
   },
   "source": [
    "Interpretação:\n",
    "\n",
    "* $F \\sim 1$ significa que a hipótese nula não pode ser descartada\n",
    "* $F \\gg 1$ significa que pelo menos um $p$-valor < 5%\n",
    "* $F \\gg 1$ significa que a regressão é estatisticamente significativa"
   ]
  },
  {
   "cell_type": "markdown",
   "id": "b5d5da07-9ee3-496e-a816-f7def7abe8b4",
   "metadata": {
    "editable": true,
    "slideshow": {
     "slide_type": ""
    },
    "tags": []
   },
   "source": [
    "👉 dica: o teste $F$ tem maior utilidade com mais coeficientes"
   ]
  },
  {
   "cell_type": "markdown",
   "id": "3841ac2c-954d-4fbd-84c9-975d8063cf1a",
   "metadata": {
    "editable": true,
    "slideshow": {
     "slide_type": "subslide"
    },
    "tags": []
   },
   "source": [
    "#### Interface Baseada em Fórmula"
   ]
  },
  {
   "cell_type": "code",
   "execution_count": 32,
   "id": "3e4f16ca-f0d3-4d1e-83f5-5336d4fd40a7",
   "metadata": {
    "editable": true,
    "slideshow": {
     "slide_type": ""
    },
    "tags": []
   },
   "outputs": [],
   "source": [
    "#baseada em fórmula\n",
    "import statsmodels.formula.api as smf"
   ]
  },
  {
   "cell_type": "code",
   "execution_count": 33,
   "id": "de352d83-2535-4165-87fc-19b5bf151af1",
   "metadata": {
    "editable": true,
    "slideshow": {
     "slide_type": ""
    },
    "tags": []
   },
   "outputs": [],
   "source": [
    "linear_results = smf.ols('TaxaLetalidade ~ IDH + 1', \n",
    "                         data=df_sem_outliers)"
   ]
  },
  {
   "cell_type": "code",
   "execution_count": 34,
   "id": "21b35ca8-6ab7-4120-b9a9-456cffc3aeaf",
   "metadata": {
    "editable": true,
    "slideshow": {
     "slide_type": ""
    },
    "tags": []
   },
   "outputs": [],
   "source": [
    "linear_results = linear_results.fit() "
   ]
  },
  {
   "cell_type": "code",
   "execution_count": 35,
   "id": "ff87958c-9ae6-424f-9b0d-076bd6d1a0dc",
   "metadata": {
    "editable": true,
    "slideshow": {
     "slide_type": ""
    },
    "tags": []
   },
   "outputs": [
    {
     "data": {
      "text/plain": [
       "Intercept    0.051650\n",
       "IDH         -0.048852\n",
       "dtype: float64"
      ]
     },
     "execution_count": 35,
     "metadata": {},
     "output_type": "execute_result"
    }
   ],
   "source": [
    "linear_results.params"
   ]
  },
  {
   "cell_type": "code",
   "execution_count": 36,
   "id": "e6ce6457-35c3-4afb-be8b-07c22822a4d5",
   "metadata": {
    "editable": true,
    "slideshow": {
     "slide_type": "subslide"
    },
    "tags": []
   },
   "outputs": [
    {
     "data": {
      "text/html": [
       "<table class=\"simpletable\">\n",
       "<caption>OLS Regression Results</caption>\n",
       "<tr>\n",
       "  <th>Dep. Variable:</th>     <td>TaxaLetalidade</td>  <th>  R-squared:         </th> <td>   0.254</td>\n",
       "</tr>\n",
       "<tr>\n",
       "  <th>Model:</th>                   <td>OLS</td>       <th>  Adj. R-squared:    </th> <td>   0.221</td>\n",
       "</tr>\n",
       "<tr>\n",
       "  <th>Method:</th>             <td>Least Squares</td>  <th>  F-statistic:       </th> <td>   7.817</td>\n",
       "</tr>\n",
       "<tr>\n",
       "  <th>Date:</th>             <td>Wed, 18 Oct 2023</td> <th>  Prob (F-statistic):</th>  <td>0.0103</td> \n",
       "</tr>\n",
       "<tr>\n",
       "  <th>Time:</th>                 <td>12:17:11</td>     <th>  Log-Likelihood:    </th> <td>  108.96</td>\n",
       "</tr>\n",
       "<tr>\n",
       "  <th>No. Observations:</th>      <td>    25</td>      <th>  AIC:               </th> <td>  -213.9</td>\n",
       "</tr>\n",
       "<tr>\n",
       "  <th>Df Residuals:</th>          <td>    23</td>      <th>  BIC:               </th> <td>  -211.5</td>\n",
       "</tr>\n",
       "<tr>\n",
       "  <th>Df Model:</th>              <td>     1</td>      <th>                     </th>     <td> </td>   \n",
       "</tr>\n",
       "<tr>\n",
       "  <th>Covariance Type:</th>      <td>nonrobust</td>    <th>                     </th>     <td> </td>   \n",
       "</tr>\n",
       "</table>\n",
       "<table class=\"simpletable\">\n",
       "<tr>\n",
       "      <td></td>         <th>coef</th>     <th>std err</th>      <th>t</th>      <th>P>|t|</th>  <th>[0.025</th>    <th>0.975]</th>  \n",
       "</tr>\n",
       "<tr>\n",
       "  <th>Intercept</th> <td>    0.0516</td> <td>    0.013</td> <td>    4.067</td> <td> 0.000</td> <td>    0.025</td> <td>    0.078</td>\n",
       "</tr>\n",
       "<tr>\n",
       "  <th>IDH</th>       <td>   -0.0489</td> <td>    0.017</td> <td>   -2.796</td> <td> 0.010</td> <td>   -0.085</td> <td>   -0.013</td>\n",
       "</tr>\n",
       "</table>\n",
       "<table class=\"simpletable\">\n",
       "<tr>\n",
       "  <th>Omnibus:</th>       <td> 1.548</td> <th>  Durbin-Watson:     </th> <td>   1.933</td>\n",
       "</tr>\n",
       "<tr>\n",
       "  <th>Prob(Omnibus):</th> <td> 0.461</td> <th>  Jarque-Bera (JB):  </th> <td>   1.326</td>\n",
       "</tr>\n",
       "<tr>\n",
       "  <th>Skew:</th>          <td>-0.413</td> <th>  Prob(JB):          </th> <td>   0.515</td>\n",
       "</tr>\n",
       "<tr>\n",
       "  <th>Kurtosis:</th>      <td> 2.232</td> <th>  Cond. No.          </th> <td>    41.3</td>\n",
       "</tr>\n",
       "</table><br/><br/>Notes:<br/>[1] Standard Errors assume that the covariance matrix of the errors is correctly specified."
      ],
      "text/latex": [
       "\\begin{center}\n",
       "\\begin{tabular}{lclc}\n",
       "\\toprule\n",
       "\\textbf{Dep. Variable:}    &  TaxaLetalidade  & \\textbf{  R-squared:         } &     0.254   \\\\\n",
       "\\textbf{Model:}            &       OLS        & \\textbf{  Adj. R-squared:    } &     0.221   \\\\\n",
       "\\textbf{Method:}           &  Least Squares   & \\textbf{  F-statistic:       } &     7.817   \\\\\n",
       "\\textbf{Date:}             & Wed, 18 Oct 2023 & \\textbf{  Prob (F-statistic):} &   0.0103    \\\\\n",
       "\\textbf{Time:}             &     12:17:11     & \\textbf{  Log-Likelihood:    } &    108.96   \\\\\n",
       "\\textbf{No. Observations:} &          25      & \\textbf{  AIC:               } &    -213.9   \\\\\n",
       "\\textbf{Df Residuals:}     &          23      & \\textbf{  BIC:               } &    -211.5   \\\\\n",
       "\\textbf{Df Model:}         &           1      & \\textbf{                     } &             \\\\\n",
       "\\textbf{Covariance Type:}  &    nonrobust     & \\textbf{                     } &             \\\\\n",
       "\\bottomrule\n",
       "\\end{tabular}\n",
       "\\begin{tabular}{lcccccc}\n",
       "                   & \\textbf{coef} & \\textbf{std err} & \\textbf{t} & \\textbf{P$> |$t$|$} & \\textbf{[0.025} & \\textbf{0.975]}  \\\\\n",
       "\\midrule\n",
       "\\textbf{Intercept} &       0.0516  &        0.013     &     4.067  &         0.000        &        0.025    &        0.078     \\\\\n",
       "\\textbf{IDH}       &      -0.0489  &        0.017     &    -2.796  &         0.010        &       -0.085    &       -0.013     \\\\\n",
       "\\bottomrule\n",
       "\\end{tabular}\n",
       "\\begin{tabular}{lclc}\n",
       "\\textbf{Omnibus:}       &  1.548 & \\textbf{  Durbin-Watson:     } &    1.933  \\\\\n",
       "\\textbf{Prob(Omnibus):} &  0.461 & \\textbf{  Jarque-Bera (JB):  } &    1.326  \\\\\n",
       "\\textbf{Skew:}          & -0.413 & \\textbf{  Prob(JB):          } &    0.515  \\\\\n",
       "\\textbf{Kurtosis:}      &  2.232 & \\textbf{  Cond. No.          } &     41.3  \\\\\n",
       "\\bottomrule\n",
       "\\end{tabular}\n",
       "%\\caption{OLS Regression Results}\n",
       "\\end{center}\n",
       "\n",
       "Notes: \\newline\n",
       " [1] Standard Errors assume that the covariance matrix of the errors is correctly specified."
      ],
      "text/plain": [
       "<class 'statsmodels.iolib.summary.Summary'>\n",
       "\"\"\"\n",
       "                            OLS Regression Results                            \n",
       "==============================================================================\n",
       "Dep. Variable:         TaxaLetalidade   R-squared:                       0.254\n",
       "Model:                            OLS   Adj. R-squared:                  0.221\n",
       "Method:                 Least Squares   F-statistic:                     7.817\n",
       "Date:                Wed, 18 Oct 2023   Prob (F-statistic):             0.0103\n",
       "Time:                        12:17:11   Log-Likelihood:                 108.96\n",
       "No. Observations:                  25   AIC:                            -213.9\n",
       "Df Residuals:                      23   BIC:                            -211.5\n",
       "Df Model:                           1                                         \n",
       "Covariance Type:            nonrobust                                         \n",
       "==============================================================================\n",
       "                 coef    std err          t      P>|t|      [0.025      0.975]\n",
       "------------------------------------------------------------------------------\n",
       "Intercept      0.0516      0.013      4.067      0.000       0.025       0.078\n",
       "IDH           -0.0489      0.017     -2.796      0.010      -0.085      -0.013\n",
       "==============================================================================\n",
       "Omnibus:                        1.548   Durbin-Watson:                   1.933\n",
       "Prob(Omnibus):                  0.461   Jarque-Bera (JB):                1.326\n",
       "Skew:                          -0.413   Prob(JB):                        0.515\n",
       "Kurtosis:                       2.232   Cond. No.                         41.3\n",
       "==============================================================================\n",
       "\n",
       "Notes:\n",
       "[1] Standard Errors assume that the covariance matrix of the errors is correctly specified.\n",
       "\"\"\""
      ]
     },
     "execution_count": 36,
     "metadata": {},
     "output_type": "execute_result"
    }
   ],
   "source": [
    "linear_results.summary()"
   ]
  },
  {
   "cell_type": "markdown",
   "id": "11ff699b-da41-45d1-997e-47039a6ca424",
   "metadata": {
    "editable": true,
    "slideshow": {
     "slide_type": "subslide"
    },
    "tags": []
   },
   "source": [
    "#### Análise Preditiva"
   ]
  },
  {
   "cell_type": "markdown",
   "id": "f2da20b4-309a-479b-8ed2-155cdfd80246",
   "metadata": {
    "editable": true,
    "slideshow": {
     "slide_type": ""
    },
    "tags": []
   },
   "source": [
    "<pre>Digamos que o Brasil tem um novo Estado formado por quem participa deste Bootcamp</pre>"
   ]
  },
  {
   "cell_type": "markdown",
   "id": "8852649b-bb08-4349-8752-d77a489d5002",
   "metadata": {
    "editable": true,
    "slideshow": {
     "slide_type": ""
    },
    "tags": []
   },
   "source": [
    "🚨 Nosso IDH é 1, claro 😀"
   ]
  },
  {
   "cell_type": "code",
   "execution_count": 37,
   "id": "2d947dcd-e5c2-4062-ad38-9ceb4b22a042",
   "metadata": {
    "editable": true,
    "slideshow": {
     "slide_type": ""
    },
    "tags": []
   },
   "outputs": [],
   "source": [
    "bootcamp_df = pd.DataFrame({'IDH': [1]})"
   ]
  },
  {
   "cell_type": "markdown",
   "id": "90404521-43d6-4fd5-b127-29b9d94c79f1",
   "metadata": {
    "editable": true,
    "slideshow": {
     "slide_type": ""
    },
    "tags": []
   },
   "source": [
    "❓ Qual seria nossa Taxa de Letalidade?"
   ]
  },
  {
   "cell_type": "code",
   "execution_count": 38,
   "id": "e7d9ab95-188a-411d-964d-907c6a86e7b2",
   "metadata": {
    "editable": true,
    "slideshow": {
     "slide_type": ""
    },
    "tags": []
   },
   "outputs": [],
   "source": [
    "TaxaLetalidadeBootcamp = linear_results.predict(bootcamp_df)"
   ]
  },
  {
   "cell_type": "code",
   "execution_count": 39,
   "id": "ee53c9e7-32ef-4ade-a273-6e7afaf8648c",
   "metadata": {
    "editable": true,
    "slideshow": {
     "slide_type": ""
    },
    "tags": []
   },
   "outputs": [
    {
     "data": {
      "text/plain": [
       "'Nossa Taxa de Letalidade seria de 0.28%'"
      ]
     },
     "execution_count": 39,
     "metadata": {},
     "output_type": "execute_result"
    }
   ],
   "source": [
    "f'Nossa Taxa de Letalidade seria de {TaxaLetalidadeBootcamp[0]:.2%}'"
   ]
  },
  {
   "cell_type": "markdown",
   "id": "01c3d326-b743-41c1-9145-6c08172d9f5f",
   "metadata": {
    "editable": true,
    "slideshow": {
     "slide_type": "subslide"
    },
    "tags": []
   },
   "source": [
    "#### Ajuste por Região Geográfica"
   ]
  },
  {
   "cell_type": "markdown",
   "id": "c04ee42d-c1e6-4d98-aeda-f8e8066f7c93",
   "metadata": {
    "editable": true,
    "slideshow": {
     "slide_type": ""
    },
    "tags": []
   },
   "source": [
    "<pre>Podemos utilizar groupby para realizar análises estatísticas para cada região geográfica...</pre>"
   ]
  },
  {
   "cell_type": "markdown",
   "id": "e1c566cf-a611-4b9c-94d3-b99c5e236887",
   "metadata": {
    "editable": true,
    "slideshow": {
     "slide_type": ""
    },
    "tags": []
   },
   "source": [
    "<pre>... desde que a função devolva um objeto do pandas ou um valor escalar.</pre>"
   ]
  },
  {
   "cell_type": "code",
   "execution_count": 40,
   "id": "3c9b3993-8443-4f5b-9e12-17151a6a32f9",
   "metadata": {
    "editable": true,
    "slideshow": {
     "slide_type": ""
    },
    "tags": []
   },
   "outputs": [],
   "source": [
    "def regress(df):\n",
    "    Y = df[['TaxaLetalidade']]\n",
    "    X = df[['IDH']]\n",
    "    X_model = sm.add_constant(X)\n",
    "    linear_results = sm.OLS(Y, X_model).fit()\n",
    "    return pd.DataFrame({'parameters': linear_results.params,\n",
    "                         'p-values': linear_results.pvalues}).unstack()"
   ]
  },
  {
   "cell_type": "markdown",
   "id": "df05a548-85d5-415c-84ce-31cb167c125a",
   "metadata": {
    "editable": true,
    "slideshow": {
     "slide_type": "subslide"
    },
    "tags": []
   },
   "source": [
    "<pre>Agora, execute uma regressão linear da TaxaLetalidade nos dados de IDH, por região geográfica:</pre>"
   ]
  },
  {
   "cell_type": "code",
   "execution_count": 41,
   "id": "e8c64a02-34fa-4d9a-933f-08f9244a0c64",
   "metadata": {
    "editable": true,
    "slideshow": {
     "slide_type": ""
    },
    "tags": []
   },
   "outputs": [
    {
     "data": {
      "text/html": [
       "<div>\n",
       "<style scoped>\n",
       "    .dataframe tbody tr th:only-of-type {\n",
       "        vertical-align: middle;\n",
       "    }\n",
       "\n",
       "    .dataframe tbody tr th {\n",
       "        vertical-align: top;\n",
       "    }\n",
       "\n",
       "    .dataframe thead tr th {\n",
       "        text-align: left;\n",
       "    }\n",
       "\n",
       "    .dataframe thead tr:last-of-type th {\n",
       "        text-align: right;\n",
       "    }\n",
       "</style>\n",
       "<table border=\"1\" class=\"dataframe\">\n",
       "  <thead>\n",
       "    <tr>\n",
       "      <th></th>\n",
       "      <th colspan=\"2\" halign=\"left\">parameters</th>\n",
       "      <th colspan=\"2\" halign=\"left\">p-values</th>\n",
       "    </tr>\n",
       "    <tr>\n",
       "      <th></th>\n",
       "      <th>const</th>\n",
       "      <th>IDH</th>\n",
       "      <th>const</th>\n",
       "      <th>IDH</th>\n",
       "    </tr>\n",
       "    <tr>\n",
       "      <th>regiao</th>\n",
       "      <th></th>\n",
       "      <th></th>\n",
       "      <th></th>\n",
       "      <th></th>\n",
       "    </tr>\n",
       "  </thead>\n",
       "  <tbody>\n",
       "    <tr>\n",
       "      <th>Centro-Oeste</th>\n",
       "      <td>0.049794</td>\n",
       "      <td>-0.045131</td>\n",
       "      <td>0.157427</td>\n",
       "      <td>0.267900</td>\n",
       "    </tr>\n",
       "    <tr>\n",
       "      <th>Nordeste</th>\n",
       "      <td>0.057691</td>\n",
       "      <td>-0.055662</td>\n",
       "      <td>0.086431</td>\n",
       "      <td>0.218540</td>\n",
       "    </tr>\n",
       "    <tr>\n",
       "      <th>Norte</th>\n",
       "      <td>0.106486</td>\n",
       "      <td>-0.129788</td>\n",
       "      <td>0.325029</td>\n",
       "      <td>0.392984</td>\n",
       "    </tr>\n",
       "    <tr>\n",
       "      <th>Sudeste</th>\n",
       "      <td>-1.140210</td>\n",
       "      <td>1.493458</td>\n",
       "      <td>NaN</td>\n",
       "      <td>NaN</td>\n",
       "    </tr>\n",
       "    <tr>\n",
       "      <th>Sul</th>\n",
       "      <td>0.142701</td>\n",
       "      <td>-0.166044</td>\n",
       "      <td>0.198114</td>\n",
       "      <td>0.217492</td>\n",
       "    </tr>\n",
       "  </tbody>\n",
       "</table>\n",
       "</div>"
      ],
      "text/plain": [
       "             parameters            p-values          \n",
       "                  const       IDH     const       IDH\n",
       "regiao                                               \n",
       "Centro-Oeste   0.049794 -0.045131  0.157427  0.267900\n",
       "Nordeste       0.057691 -0.055662  0.086431  0.218540\n",
       "Norte          0.106486 -0.129788  0.325029  0.392984\n",
       "Sudeste       -1.140210  1.493458       NaN       NaN\n",
       "Sul            0.142701 -0.166044  0.198114  0.217492"
      ]
     },
     "execution_count": 41,
     "metadata": {},
     "output_type": "execute_result"
    }
   ],
   "source": [
    "df_sem_outliers.groupby('regiao').apply(regress)"
   ]
  },
  {
   "cell_type": "markdown",
   "id": "4167004e-d04b-4d74-8f24-536b0c345613",
   "metadata": {
    "editable": true,
    "slideshow": {
     "slide_type": "subslide"
    },
    "tags": []
   },
   "source": [
    "🚨 Observe que criamos uma regressão linear simples para cada região geográfica"
   ]
  },
  {
   "cell_type": "markdown",
   "id": "b3d61590-ffb8-45ff-aa31-e220a136a352",
   "metadata": {
    "editable": true,
    "slideshow": {
     "slide_type": ""
    },
    "tags": []
   },
   "source": [
    "👉 Perceba que os $p$-valores estão todos acima de 5%. O que isso significa?"
   ]
  },
  {
   "cell_type": "markdown",
   "id": "f48359a7-f6f6-4be1-ac85-d01ab9965e38",
   "metadata": {
    "editable": true,
    "slideshow": {
     "slide_type": ""
    },
    "tags": []
   },
   "source": [
    "<img src='https://imgs.xkcd.com/comics/confounding_variables.png' style=\"margin-left: auto; margin-right: auto;\">"
   ]
  },
  {
   "cell_type": "markdown",
   "id": "048c748f-15f9-48a2-82be-1933165b55f6",
   "metadata": {
    "editable": true,
    "slideshow": {
     "slide_type": ""
    },
    "tags": []
   },
   "source": [
    "👉 Charge xkcd <a href='https://xkcd.com/2560/'>2560: Confounding Variables</a>. Veja a <a href='https://www.explainxkcd.com/wiki/index.php/2560:_Confounding_Variables'>Explicação</a>."
   ]
  },
  {
   "cell_type": "markdown",
   "id": "07d49274-8e07-4faf-b11b-3dfb00d6152d",
   "metadata": {
    "editable": true,
    "slideshow": {
     "slide_type": "subslide"
    },
    "tags": []
   },
   "source": [
    "### Extra! 📃 Regressão Linear Múltipla"
   ]
  },
  {
   "cell_type": "markdown",
   "id": "331d031a-9370-469f-be1a-5a0bab044a0c",
   "metadata": {
    "editable": true,
    "slideshow": {
     "slide_type": ""
    },
    "tags": []
   },
   "source": [
    "<pre>Agora, se quisermos usar a informação de região geográfica como parte da nossa regressão linear...</pre>"
   ]
  },
  {
   "cell_type": "markdown",
   "id": "c308d238-b96b-40cb-a1e6-7bb82c50543d",
   "metadata": {
    "editable": true,
    "slideshow": {
     "slide_type": ""
    },
    "tags": []
   },
   "source": [
    "<pre>... precisamos usar um truque para inserir variável categórica na nossa regressão linear.</pre>"
   ]
  },
  {
   "cell_type": "code",
   "execution_count": 42,
   "id": "db13dafa-b2e9-4d6a-ac5c-494d498000a0",
   "metadata": {
    "editable": true,
    "slideshow": {
     "slide_type": ""
    },
    "tags": []
   },
   "outputs": [
    {
     "data": {
      "text/plain": [
       "Intercept                0.064110\n",
       "C(regiao)[T.Nordeste]   -0.000537\n",
       "C(regiao)[T.Norte]      -0.003819\n",
       "C(regiao)[T.Sudeste]    -0.001156\n",
       "C(regiao)[T.Sul]        -0.000704\n",
       "IDH                     -0.064036\n",
       "dtype: float64"
      ]
     },
     "execution_count": 42,
     "metadata": {},
     "output_type": "execute_result"
    }
   ],
   "source": [
    "#use C(variavel) para indicar que se trata de variável categórica\n",
    "multivariate_model = smf.ols('TaxaLetalidade ~ IDH + C(regiao)', \n",
    "                             data=df_sem_outliers)\n",
    "multivariate_results = multivariate_model.fit()\n",
    "multivariate_results.params"
   ]
  },
  {
   "cell_type": "markdown",
   "id": "0b5730e2-087d-470d-b57a-a845e21e5dde",
   "metadata": {
    "editable": true,
    "slideshow": {
     "slide_type": "subslide"
    },
    "tags": []
   },
   "source": [
    "ℹ️ Qual a fórmula da regressão linear múltipla?"
   ]
  },
  {
   "cell_type": "code",
   "execution_count": 43,
   "id": "7d6dc33b-92e6-41fd-90e3-822e6b1e9d8a",
   "metadata": {
    "editable": true,
    "slideshow": {
     "slide_type": "skip"
    },
    "tags": []
   },
   "outputs": [],
   "source": [
    "coeficientes = []\n",
    "for index in multivariate_results.params.index:\n",
    "    coeficiente = f'({multivariate_results.params[index]:.5f})'\n",
    "    if 'C(regiao)' in index:\n",
    "        regiao = index.strip('C(regiao)[T.')[:-1]\n",
    "        coeficientes.append((coeficiente, regiao))\n",
    "    elif index == 'IDH':\n",
    "        coeficientes.append((coeficiente, index))\n",
    "    else:\n",
    "        coeficientes.append([coeficiente])\n",
    "equacao = '+'.join(['*'.join(linha) for linha in coeficientes])"
   ]
  },
  {
   "cell_type": "code",
   "execution_count": 44,
   "id": "3c3437ce-4c80-46ee-a06f-2858af9a55f7",
   "metadata": {
    "editable": true,
    "slideshow": {
     "slide_type": ""
    },
    "tags": []
   },
   "outputs": [
    {
     "name": "stdout",
     "output_type": "stream",
     "text": [
      "Equação da regressão linear múltipla: \n",
      "TaxaLetalidade = (0.06411)+(-0.00054)*Nordeste+(-0.00382)*Norte+(-0.00116)*Sudeste+(-0.00070)*Sul+(-0.06404)*IDH\n"
     ]
    }
   ],
   "source": [
    "print('Equação da regressão linear múltipla: ')\n",
    "print(f'TaxaLetalidade = {equacao}')"
   ]
  },
  {
   "cell_type": "markdown",
   "id": "3b5fbd47-a75f-4c17-8d6d-e4da7c277378",
   "metadata": {
    "editable": true,
    "slideshow": {
     "slide_type": ""
    },
    "tags": []
   },
   "source": [
    "🚨 Cada uma das regiões assumem valores 1 ou 0"
   ]
  },
  {
   "cell_type": "markdown",
   "id": "6f39901c-90e9-4de3-8247-18c3a1645d8b",
   "metadata": {
    "editable": true,
    "slideshow": {
     "slide_type": ""
    },
    "tags": []
   },
   "source": [
    "👉 no máximo uma região assume valor 1"
   ]
  },
  {
   "cell_type": "markdown",
   "id": "312ba010-dfdb-4955-b260-5ead09875bc1",
   "metadata": {
    "editable": true,
    "slideshow": {
     "slide_type": "subslide"
    },
    "tags": []
   },
   "source": [
    "ℹ️ Quanto seria a associação entre Região Geográfica e Taxa de Letalidade?"
   ]
  },
  {
   "cell_type": "markdown",
   "id": "a5b7d2b6-9292-41ba-b6de-64ddb828e1d8",
   "metadata": {
    "editable": true,
    "slideshow": {
     "slide_type": ""
    },
    "tags": []
   },
   "source": [
    "<pre>Quando uma variável categórica é inserida no modelo, o statsmodels usa a primeira variável como referência (variável omitida)</pre>"
   ]
  },
  {
   "cell_type": "code",
   "execution_count": 45,
   "id": "6aa6bf39-3bee-4e71-ba3a-4f38e1fe34aa",
   "metadata": {
    "editable": true,
    "slideshow": {
     "slide_type": "skip"
    },
    "tags": []
   },
   "outputs": [],
   "source": [
    "regioes_sem_intercepto = [regiao.strip('C(regiao)[T.')[:-1] for regiao in multivariate_results.params.index[1:]]\n",
    "todas_as_regioes = df_sem_outliers[\"regiao\"].unique()\n",
    "intercepto = (set(todas_as_regioes) - set(regioes_sem_intercepto)).pop()"
   ]
  },
  {
   "cell_type": "code",
   "execution_count": 46,
   "id": "b0da483a-57a3-4efe-b2f9-5c9edb11ee11",
   "metadata": {
    "editable": true,
    "slideshow": {
     "slide_type": ""
    },
    "tags": []
   },
   "outputs": [
    {
     "data": {
      "text/plain": [
       "'No nosso caso é o Centro-Oeste'"
      ]
     },
     "execution_count": 46,
     "metadata": {},
     "output_type": "execute_result"
    }
   ],
   "source": [
    "f'No nosso caso é o {intercepto}'"
   ]
  },
  {
   "cell_type": "markdown",
   "id": "05df3993-737d-4bd9-af2b-c151101315b7",
   "metadata": {
    "editable": true,
    "slideshow": {
     "slide_type": ""
    },
    "tags": []
   },
   "source": [
    "<pre>O intercepto é igual à media da referência...</pre>"
   ]
  },
  {
   "cell_type": "code",
   "execution_count": 47,
   "id": "2349b08a-013b-4646-bf28-9fa096ecbb2d",
   "metadata": {
    "editable": true,
    "slideshow": {
     "slide_type": ""
    },
    "tags": []
   },
   "outputs": [
    {
     "data": {
      "text/plain": [
       "'O Centro-Oeste tem média de Taxa de Letalidade em 0.06411'"
      ]
     },
     "execution_count": 47,
     "metadata": {},
     "output_type": "execute_result"
    }
   ],
   "source": [
    "f'O {intercepto} tem média de Taxa de Letalidade em \\\n",
    "{multivariate_results.params.iloc[0]:.5f}'"
   ]
  },
  {
   "cell_type": "markdown",
   "id": "d985ec38-63ce-4799-9be6-cdcb7794911f",
   "metadata": {
    "editable": true,
    "slideshow": {
     "slide_type": ""
    },
    "tags": []
   },
   "source": [
    "🚨 Lembre-se que o intercepto tem todas as variáveis nulas, portanto temos $IDH = 0$ neste caso."
   ]
  },
  {
   "cell_type": "markdown",
   "id": "0c4fa405-5e3e-4f6a-acb2-166186f6652f",
   "metadata": {
    "editable": true,
    "slideshow": {
     "slide_type": "subslide"
    },
    "tags": []
   },
   "source": [
    "<pre>... enquanto cada coeficiente corresponde à diferença em relação à média da referência</pre>"
   ]
  },
  {
   "cell_type": "code",
   "execution_count": 48,
   "id": "1ff55c57-cad3-450e-b558-9383b67dfe35",
   "metadata": {
    "editable": true,
    "slideshow": {
     "slide_type": "skip"
    },
    "tags": []
   },
   "outputs": [],
   "source": [
    "regiao_exemplo = multivariate_results.params.index[1].strip('C(regiao)[T.')[:-1]\n",
    "diferenca_intercepto = multivariate_results.params.iloc[1]"
   ]
  },
  {
   "cell_type": "code",
   "execution_count": 49,
   "id": "322ad7a2-ed38-42fc-94e0-345a14150dd4",
   "metadata": {},
   "outputs": [
    {
     "data": {
      "text/plain": [
       "'Exemplo: a Taxa de Letalidade no Nordeste é, em média, -0.00054 menor que a média do Centro-Oeste.'"
      ]
     },
     "execution_count": 49,
     "metadata": {},
     "output_type": "execute_result"
    }
   ],
   "source": [
    "f'Exemplo: a Taxa de Letalidade no {regiao_exemplo} é, em média, \\\n",
    "{diferenca_intercepto:.5f} menor que a média do {intercepto}.'"
   ]
  },
  {
   "cell_type": "markdown",
   "id": "8635908d-43b9-4133-b801-259b9a930f08",
   "metadata": {
    "editable": true,
    "slideshow": {
     "slide_type": "subslide"
    },
    "tags": []
   },
   "source": [
    "ℹ️ Quanto exatamente seria a associação entre IDH e Taxa de Letalidade?"
   ]
  },
  {
   "cell_type": "code",
   "execution_count": 50,
   "id": "627d26e5-8393-4649-b457-782bb6ca9a16",
   "metadata": {
    "editable": true,
    "slideshow": {
     "slide_type": ""
    },
    "tags": []
   },
   "outputs": [
    {
     "data": {
      "text/plain": [
       "'-0.06404 é o coeficiente do IDH, que sugere, de forma geral, que para cada aumento de 0.1 no IDH, a Taxa de Letalidade diminuiria, em média, 0.00640 do seu valor, mantendo-se a região geográfica fixa.'"
      ]
     },
     "execution_count": 50,
     "metadata": {},
     "output_type": "execute_result"
    }
   ],
   "source": [
    "f'{multivariate_results.params[\"IDH\"]:.5f} é o coeficiente do IDH, que sugere, de forma geral, que para cada aumento de 0.1 no IDH, a Taxa de Letalidade diminuiria, em média, {-multivariate_results.params[\"IDH\"]/10:.5f} do seu valor, mantendo-se a região geográfica fixa.'"
   ]
  },
  {
   "cell_type": "markdown",
   "id": "46e1cad3-6403-45c6-b33e-6906b7ae1320",
   "metadata": {
    "editable": true,
    "slideshow": {
     "slide_type": "subslide"
    },
    "tags": []
   },
   "source": [
    "ℹ️ Quanto da variação na Taxa de Letalidade parece ser explicada pela combinação das variações no IDH e nas regiões geográficas?"
   ]
  },
  {
   "cell_type": "code",
   "execution_count": 51,
   "id": "ed686c39-2e45-450b-9ca4-54e0666323d3",
   "metadata": {
    "editable": true,
    "slideshow": {
     "slide_type": ""
    },
    "tags": []
   },
   "outputs": [
    {
     "data": {
      "text/plain": [
       "'40.68% da variância da Taxa de Letalidade é explicada pela combinação das variâncias no IDH e na Região Geográfica'"
      ]
     },
     "execution_count": 51,
     "metadata": {},
     "output_type": "execute_result"
    }
   ],
   "source": [
    "f'{multivariate_results.rsquared:.2%} da variância da Taxa de Letalidade é \\\n",
    "explicada pela combinação das variâncias no IDH e na Região Geográfica'"
   ]
  },
  {
   "cell_type": "markdown",
   "id": "15cfbc32-4b90-4aa8-a2ed-8dd680be131c",
   "metadata": {
    "editable": true,
    "slideshow": {
     "slide_type": ""
    },
    "tags": []
   },
   "source": [
    "👉 Perceba que os $p$-valores estão todos acima de 5% (exceto do intercepto). O que isso significa?"
   ]
  },
  {
   "cell_type": "code",
   "execution_count": 52,
   "id": "2a8f3df2-3e74-4b27-8214-9cf87b53cacb",
   "metadata": {
    "editable": true,
    "slideshow": {
     "slide_type": "subslide"
    },
    "tags": []
   },
   "outputs": [
    {
     "data": {
      "text/html": [
       "<table class=\"simpletable\">\n",
       "<caption>OLS Regression Results</caption>\n",
       "<tr>\n",
       "  <th>Dep. Variable:</th>     <td>TaxaLetalidade</td>  <th>  R-squared:         </th> <td>   0.407</td>\n",
       "</tr>\n",
       "<tr>\n",
       "  <th>Model:</th>                   <td>OLS</td>       <th>  Adj. R-squared:    </th> <td>   0.251</td>\n",
       "</tr>\n",
       "<tr>\n",
       "  <th>Method:</th>             <td>Least Squares</td>  <th>  F-statistic:       </th> <td>   2.606</td>\n",
       "</tr>\n",
       "<tr>\n",
       "  <th>Date:</th>             <td>Wed, 18 Oct 2023</td> <th>  Prob (F-statistic):</th>  <td>0.0588</td> \n",
       "</tr>\n",
       "<tr>\n",
       "  <th>Time:</th>                 <td>12:17:11</td>     <th>  Log-Likelihood:    </th> <td>  111.83</td>\n",
       "</tr>\n",
       "<tr>\n",
       "  <th>No. Observations:</th>      <td>    25</td>      <th>  AIC:               </th> <td>  -211.7</td>\n",
       "</tr>\n",
       "<tr>\n",
       "  <th>Df Residuals:</th>          <td>    19</td>      <th>  BIC:               </th> <td>  -204.3</td>\n",
       "</tr>\n",
       "<tr>\n",
       "  <th>Df Model:</th>              <td>     5</td>      <th>                     </th>     <td> </td>   \n",
       "</tr>\n",
       "<tr>\n",
       "  <th>Covariance Type:</th>      <td>nonrobust</td>    <th>                     </th>     <td> </td>   \n",
       "</tr>\n",
       "</table>\n",
       "<table class=\"simpletable\">\n",
       "<tr>\n",
       "            <td></td>               <th>coef</th>     <th>std err</th>      <th>t</th>      <th>P>|t|</th>  <th>[0.025</th>    <th>0.975]</th>  \n",
       "</tr>\n",
       "<tr>\n",
       "  <th>Intercept</th>             <td>    0.0641</td> <td>    0.025</td> <td>    2.555</td> <td> 0.019</td> <td>    0.012</td> <td>    0.117</td>\n",
       "</tr>\n",
       "<tr>\n",
       "  <th>C(regiao)[T.Nordeste]</th> <td>   -0.0005</td> <td>    0.003</td> <td>   -0.204</td> <td> 0.840</td> <td>   -0.006</td> <td>    0.005</td>\n",
       "</tr>\n",
       "<tr>\n",
       "  <th>C(regiao)[T.Norte]</th>    <td>   -0.0038</td> <td>    0.003</td> <td>   -1.422</td> <td> 0.171</td> <td>   -0.009</td> <td>    0.002</td>\n",
       "</tr>\n",
       "<tr>\n",
       "  <th>C(regiao)[T.Sudeste]</th>  <td>   -0.0012</td> <td>    0.003</td> <td>   -0.415</td> <td> 0.683</td> <td>   -0.007</td> <td>    0.005</td>\n",
       "</tr>\n",
       "<tr>\n",
       "  <th>C(regiao)[T.Sul]</th>      <td>   -0.0007</td> <td>    0.003</td> <td>   -0.281</td> <td> 0.782</td> <td>   -0.006</td> <td>    0.005</td>\n",
       "</tr>\n",
       "<tr>\n",
       "  <th>IDH</th>                   <td>   -0.0640</td> <td>    0.033</td> <td>   -1.936</td> <td> 0.068</td> <td>   -0.133</td> <td>    0.005</td>\n",
       "</tr>\n",
       "</table>\n",
       "<table class=\"simpletable\">\n",
       "<tr>\n",
       "  <th>Omnibus:</th>       <td> 2.985</td> <th>  Durbin-Watson:     </th> <td>   2.373</td>\n",
       "</tr>\n",
       "<tr>\n",
       "  <th>Prob(Omnibus):</th> <td> 0.225</td> <th>  Jarque-Bera (JB):  </th> <td>   1.727</td>\n",
       "</tr>\n",
       "<tr>\n",
       "  <th>Skew:</th>          <td> 0.624</td> <th>  Prob(JB):          </th> <td>   0.422</td>\n",
       "</tr>\n",
       "<tr>\n",
       "  <th>Kurtosis:</th>      <td> 3.315</td> <th>  Cond. No.          </th> <td>    87.2</td>\n",
       "</tr>\n",
       "</table><br/><br/>Notes:<br/>[1] Standard Errors assume that the covariance matrix of the errors is correctly specified."
      ],
      "text/latex": [
       "\\begin{center}\n",
       "\\begin{tabular}{lclc}\n",
       "\\toprule\n",
       "\\textbf{Dep. Variable:}        &  TaxaLetalidade  & \\textbf{  R-squared:         } &     0.407   \\\\\n",
       "\\textbf{Model:}                &       OLS        & \\textbf{  Adj. R-squared:    } &     0.251   \\\\\n",
       "\\textbf{Method:}               &  Least Squares   & \\textbf{  F-statistic:       } &     2.606   \\\\\n",
       "\\textbf{Date:}                 & Wed, 18 Oct 2023 & \\textbf{  Prob (F-statistic):} &   0.0588    \\\\\n",
       "\\textbf{Time:}                 &     12:17:11     & \\textbf{  Log-Likelihood:    } &    111.83   \\\\\n",
       "\\textbf{No. Observations:}     &          25      & \\textbf{  AIC:               } &    -211.7   \\\\\n",
       "\\textbf{Df Residuals:}         &          19      & \\textbf{  BIC:               } &    -204.3   \\\\\n",
       "\\textbf{Df Model:}             &           5      & \\textbf{                     } &             \\\\\n",
       "\\textbf{Covariance Type:}      &    nonrobust     & \\textbf{                     } &             \\\\\n",
       "\\bottomrule\n",
       "\\end{tabular}\n",
       "\\begin{tabular}{lcccccc}\n",
       "                               & \\textbf{coef} & \\textbf{std err} & \\textbf{t} & \\textbf{P$> |$t$|$} & \\textbf{[0.025} & \\textbf{0.975]}  \\\\\n",
       "\\midrule\n",
       "\\textbf{Intercept}             &       0.0641  &        0.025     &     2.555  &         0.019        &        0.012    &        0.117     \\\\\n",
       "\\textbf{C(regiao)[T.Nordeste]} &      -0.0005  &        0.003     &    -0.204  &         0.840        &       -0.006    &        0.005     \\\\\n",
       "\\textbf{C(regiao)[T.Norte]}    &      -0.0038  &        0.003     &    -1.422  &         0.171        &       -0.009    &        0.002     \\\\\n",
       "\\textbf{C(regiao)[T.Sudeste]}  &      -0.0012  &        0.003     &    -0.415  &         0.683        &       -0.007    &        0.005     \\\\\n",
       "\\textbf{C(regiao)[T.Sul]}      &      -0.0007  &        0.003     &    -0.281  &         0.782        &       -0.006    &        0.005     \\\\\n",
       "\\textbf{IDH}                   &      -0.0640  &        0.033     &    -1.936  &         0.068        &       -0.133    &        0.005     \\\\\n",
       "\\bottomrule\n",
       "\\end{tabular}\n",
       "\\begin{tabular}{lclc}\n",
       "\\textbf{Omnibus:}       &  2.985 & \\textbf{  Durbin-Watson:     } &    2.373  \\\\\n",
       "\\textbf{Prob(Omnibus):} &  0.225 & \\textbf{  Jarque-Bera (JB):  } &    1.727  \\\\\n",
       "\\textbf{Skew:}          &  0.624 & \\textbf{  Prob(JB):          } &    0.422  \\\\\n",
       "\\textbf{Kurtosis:}      &  3.315 & \\textbf{  Cond. No.          } &     87.2  \\\\\n",
       "\\bottomrule\n",
       "\\end{tabular}\n",
       "%\\caption{OLS Regression Results}\n",
       "\\end{center}\n",
       "\n",
       "Notes: \\newline\n",
       " [1] Standard Errors assume that the covariance matrix of the errors is correctly specified."
      ],
      "text/plain": [
       "<class 'statsmodels.iolib.summary.Summary'>\n",
       "\"\"\"\n",
       "                            OLS Regression Results                            \n",
       "==============================================================================\n",
       "Dep. Variable:         TaxaLetalidade   R-squared:                       0.407\n",
       "Model:                            OLS   Adj. R-squared:                  0.251\n",
       "Method:                 Least Squares   F-statistic:                     2.606\n",
       "Date:                Wed, 18 Oct 2023   Prob (F-statistic):             0.0588\n",
       "Time:                        12:17:11   Log-Likelihood:                 111.83\n",
       "No. Observations:                  25   AIC:                            -211.7\n",
       "Df Residuals:                      19   BIC:                            -204.3\n",
       "Df Model:                           5                                         \n",
       "Covariance Type:            nonrobust                                         \n",
       "=========================================================================================\n",
       "                            coef    std err          t      P>|t|      [0.025      0.975]\n",
       "-----------------------------------------------------------------------------------------\n",
       "Intercept                 0.0641      0.025      2.555      0.019       0.012       0.117\n",
       "C(regiao)[T.Nordeste]    -0.0005      0.003     -0.204      0.840      -0.006       0.005\n",
       "C(regiao)[T.Norte]       -0.0038      0.003     -1.422      0.171      -0.009       0.002\n",
       "C(regiao)[T.Sudeste]     -0.0012      0.003     -0.415      0.683      -0.007       0.005\n",
       "C(regiao)[T.Sul]         -0.0007      0.003     -0.281      0.782      -0.006       0.005\n",
       "IDH                      -0.0640      0.033     -1.936      0.068      -0.133       0.005\n",
       "==============================================================================\n",
       "Omnibus:                        2.985   Durbin-Watson:                   2.373\n",
       "Prob(Omnibus):                  0.225   Jarque-Bera (JB):                1.727\n",
       "Skew:                           0.624   Prob(JB):                        0.422\n",
       "Kurtosis:                       3.315   Cond. No.                         87.2\n",
       "==============================================================================\n",
       "\n",
       "Notes:\n",
       "[1] Standard Errors assume that the covariance matrix of the errors is correctly specified.\n",
       "\"\"\""
      ]
     },
     "execution_count": 52,
     "metadata": {},
     "output_type": "execute_result"
    }
   ],
   "source": [
    "multivariate_results.summary()"
   ]
  },
  {
   "cell_type": "markdown",
   "id": "3f805617-3141-44f0-9409-0a6078c883c8",
   "metadata": {
    "editable": true,
    "slideshow": {
     "slide_type": "subslide"
    },
    "tags": []
   },
   "source": [
    "<font size=7><center><code>Executem todo este caderno...</code></center></font>"
   ]
  }
 ],
 "metadata": {
  "kernelspec": {
   "display_name": "Python 3 (ipykernel)",
   "language": "python",
   "name": "python3"
  },
  "language_info": {
   "codemirror_mode": {
    "name": "ipython",
    "version": 3
   },
   "file_extension": ".py",
   "mimetype": "text/x-python",
   "name": "python",
   "nbconvert_exporter": "python",
   "pygments_lexer": "ipython3",
   "version": "3.11.2"
  },
  "toc": {
   "base_numbering": 1
  }
 },
 "nbformat": 4,
 "nbformat_minor": 5
}
