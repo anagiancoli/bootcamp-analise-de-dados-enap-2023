{
 "cells": [
  {
   "cell_type": "markdown",
   "id": "cef373be-12d8-4f69-93ce-38949ff35dc0",
   "metadata": {},
   "source": [
    "# Juntando as Peças 🧩"
   ]
  },
  {
   "cell_type": "markdown",
   "id": "806c61db-3bfc-4abc-b0d6-240903428c57",
   "metadata": {},
   "source": [
    "## (Fontes de Dados 🚰 ➕ Limpeza e Preparação dos Dados 🏗️ + Tratamento dos Dados 🪢 + Agregação dos Dados 🎒 + Visualização de Dados 🔍) <sup>Alto Desempenho 🚀 🧞‍♂️</sup>"
   ]
  },
  {
   "cell_type": "code",
   "execution_count": 1,
   "id": "8a3d707b-f2d2-4d26-a554-5bf82c1aa717",
   "metadata": {},
   "outputs": [
    {
     "name": "stdout",
     "output_type": "stream",
     "text": [
      "\n",
      "\u001b[1m[\u001b[0m\u001b[34;49mnotice\u001b[0m\u001b[1;39;49m]\u001b[0m\u001b[39;49m A new release of pip available: \u001b[0m\u001b[31;49m22.3.1\u001b[0m\u001b[39;49m -> \u001b[0m\u001b[32;49m23.2.1\u001b[0m\n",
      "\u001b[1m[\u001b[0m\u001b[34;49mnotice\u001b[0m\u001b[1;39;49m]\u001b[0m\u001b[39;49m To update, run: \u001b[0m\u001b[32;49mpython3.11 -m pip install --upgrade pip\u001b[0m\n"
     ]
    }
   ],
   "source": [
    "!pip install --upgrade geojson_rewind --quiet"
   ]
  },
  {
   "cell_type": "code",
   "execution_count": 2,
   "id": "cfafe034-135a-4ba9-86cc-efb114d0a2f2",
   "metadata": {},
   "outputs": [],
   "source": [
    "import pickle\n",
    "import os\n",
    "import pandas as pd\n",
    "import requests\n",
    "import plotly.express as px\n",
    "import plotly.io as pio\n",
    "import math\n",
    "from geojson_rewind import rewind\n",
    "pio.renderers.default = 'iframe'"
   ]
  },
  {
   "cell_type": "markdown",
   "id": "67ff6bce-bee7-48fb-ab06-f078131d1fe5",
   "metadata": {},
   "source": [
    "### Funções Auxiliares"
   ]
  },
  {
   "cell_type": "markdown",
   "id": "94ea91f2-dfe1-4e24-926f-1d74367d5e3c",
   "metadata": {},
   "source": [
    "#### Dados de Carregamento e Salvamento de Dados/Pickle"
   ]
  },
  {
   "cell_type": "code",
   "execution_count": 3,
   "id": "1b7df4b4-6e74-4b1e-8e71-093a26829e10",
   "metadata": {},
   "outputs": [],
   "source": [
    "def build_path(subfolder = 'merge'):\n",
    "    folderpath = os.path.join(os.getcwd(), os.pardir, \n",
    "                              'project', 'data', subfolder)\n",
    "    folderpath = os.path.abspath(folderpath)\n",
    "    if not os.path.exists(folderpath): \n",
    "        os.makedirs(folderpath)\n",
    "    return folderpath\n",
    "\n",
    "def load_data():\n",
    "    data = {}   \n",
    "    folderpath = build_path()\n",
    "    for filename in os.listdir(folderpath):\n",
    "        if filename.endswith('.json'):\n",
    "            filepath = os.path.join(build_path('merge'), filename)\n",
    "            data[filename.split('.')[0]] = pd.read_json(filepath)\n",
    "    return data\n",
    "\n",
    "def save_data(figure, type_of_map, intraregion, subfolder = 'app'):\n",
    "    filepath = os.path.join(build_path(subfolder), f'{type_of_map}-{intraregion}.pkl')\n",
    "    \n",
    "    with open(filepath, 'wb') as pickle_file:\n",
    "        pickle.dump(figure, pickle_file)      "
   ]
  },
  {
   "cell_type": "markdown",
   "id": "96f1363a-51b6-457d-90bf-d51186790dfa",
   "metadata": {},
   "source": [
    "#### Dados Geográficos"
   ]
  },
  {
   "cell_type": "code",
   "execution_count": 4,
   "id": "b88dfba6-a78a-4d57-b585-788e8a90495e",
   "metadata": {},
   "outputs": [],
   "source": [
    "def get_central_geolocation(df):\n",
    "    latitudes = df.groupby('latitude').agg({'latitude': 'first'})['latitude'].apply(math.radians).reset_index(drop=True)\n",
    "    longitudes = df.groupby('longitude').agg({'longitude': 'first'})['longitude'].apply(math.radians).reset_index(drop=True)\n",
    "\n",
    "    x = (latitudes.apply(math.cos) * longitudes.apply(math.cos)).sum() / latitudes.size\n",
    "    y = (latitudes.apply(math.cos) * longitudes.apply(math.sin)).sum() / latitudes.size\n",
    "    z = latitudes.apply(math.sin).sum() / latitudes.size\n",
    "\n",
    "    central_longitude = math.atan2(y, x)\n",
    "    central_latitude = math.atan2(z, (x**2 + y**2)**0.5)\n",
    "    \n",
    "    return math.degrees(central_longitude), math.degrees(central_latitude)\n",
    "    \n",
    "def get_region_information(df):\n",
    "    central_longitude, central_latitude = get_central_geolocation(df)\n",
    "    cases = df['casosNovos'].sum()\n",
    "    deaths = df['obitosNovos'].sum()\n",
    "    \n",
    "    return pd.Series(data=[central_longitude, central_latitude, cases, deaths], \n",
    "                     index=['longitude', 'latitude', 'casos', 'obitos'])"
   ]
  },
  {
   "cell_type": "markdown",
   "id": "89a70ed5-f40c-4322-8c4b-8e58727dac48",
   "metadata": {},
   "source": [
    "#### Desenhos"
   ]
  },
  {
   "cell_type": "code",
   "execution_count": 5,
   "id": "6a7527be-a637-406e-9853-adb8780f7998",
   "metadata": {},
   "outputs": [],
   "source": [
    "#API de malhas geográficas\n",
    "#https://servicodados.ibge.gov.br/api/docs/malhas?versao=3\n",
    "\n",
    "#API de localidades\n",
    "#https://servicodados.ibge.gov.br/api/docs/localidades"
   ]
  },
  {
   "cell_type": "code",
   "execution_count": 6,
   "id": "f1637c46-3330-45b9-b817-022e28266bea",
   "metadata": {},
   "outputs": [],
   "source": [
    "def plot_helper(city_infection, intraregion):\n",
    "    code_length = {'regiao': 1, 'mesorregiao': 4, 'microrregiao': 5, 'municipio': 6}.get(intraregion)\n",
    "    intraregion_plural = {'regiao': 'regioes', 'mesorregiao': 'mesorregioes',\n",
    "                          'microrregiao': 'microrregioes', 'municipio': 'municipios'}.get(intraregion)\n",
    "    \n",
    "    city_infection[f'id.{intraregion_plural}'] = city_infection['codigo_ibge'].astype(str).apply(lambda x: x[:code_length])\n",
    "    intraregion_plural_names = pd.json_normalize(requests.get(f'http://servicodados.ibge.gov.br/api/v1/localidades/{intraregion_plural}').json())[['id', 'nome']]\n",
    "    intraregion_plural_names['id'] = intraregion_plural_names['id'].astype(str)\n",
    "\n",
    "    return city_infection, code_length, intraregion_plural, intraregion_plural_names"
   ]
  },
  {
   "cell_type": "code",
   "execution_count": 7,
   "id": "fcd6425a-fe59-4690-a51f-8edcd9009fd8",
   "metadata": {},
   "outputs": [],
   "source": [
    "def plot_scatter_geo(city_infection, intraregion = 'regiao'):\n",
    "    city_infection, code_length, intraregion_plural, intraregion_plural_names = \\\n",
    "        plot_helper(city_infection, intraregion)\n",
    "\n",
    "    if intraregion == 'municipio':\n",
    "        intraregion_plural_names['id'] = intraregion_plural_names['id'].apply(lambda x: x[:code_length])\n",
    "\n",
    "    fig = px.scatter_geo(city_infection.groupby(f'id.{intraregion_plural}').\\\n",
    "                             apply(get_region_information).\\\n",
    "                                 merge(intraregion_plural_names, \n",
    "                                       left_index=True, \n",
    "                                       right_on='id'),\n",
    "                         lat='latitude', \n",
    "                         lon='longitude',\n",
    "                         hover_name='nome',\n",
    "                         size='obitos',\n",
    "                         scope='south america')\n",
    "    fig.show();\n",
    "    \n",
    "    return fig"
   ]
  },
  {
   "cell_type": "code",
   "execution_count": 8,
   "id": "2cbb4884-4521-454c-bcb7-168d56480164",
   "metadata": {},
   "outputs": [],
   "source": [
    "def plot_choroplet(city_infection, intraregion = 'regiao'):\n",
    "\n",
    "    city_infection, code_length, intraregion_plural, intraregion_plural_names = \\\n",
    "        plot_helper(city_infection, intraregion)\n",
    "    \n",
    "    geojson = requests.get(f'http://servicodados.ibge.gov.br/api/v3/malhas/paises/BR?formato=application/vnd.geo+json&qualidade=maxima&intrarregiao={intraregion}').json()\n",
    "    \n",
    "    if intraregion == 'municipio':\n",
    "        intraregion_plural_names['id'] = intraregion_plural_names['id'].apply(lambda x: x[:code_length])\n",
    "        for feature in geojson['features']:\n",
    "            feature['properties']['codarea'] = feature['properties']['codarea'][:code_length]\n",
    "    geojson = rewind(geojson, rfc7946=False)\n",
    "    \n",
    "    fig = px.choropleth(city_infection.groupby(f'id.{intraregion_plural}').\\\n",
    "                             apply(get_region_information).\\\n",
    "                                 merge(intraregion_plural_names, \n",
    "                                       left_index=True, \n",
    "                                       right_on='id'),\n",
    "                        geojson=geojson,\n",
    "                        scope='south america',\n",
    "                        color='obitos',\n",
    "                        color_continuous_scale=\"Reds\",\n",
    "                        locations='id',\n",
    "                        featureidkey='properties.codarea',\n",
    "                        hover_name='nome')\n",
    "\n",
    "    fig.show()\n",
    "    \n",
    "    return fig"
   ]
  },
  {
   "cell_type": "markdown",
   "id": "d2edd2bd-3f71-4c3d-b6ae-7d71f862b654",
   "metadata": {},
   "source": [
    "### Código"
   ]
  },
  {
   "cell_type": "code",
   "execution_count": 9,
   "id": "bad6c5eb-16d0-48d8-b80f-a2cb9af01c77",
   "metadata": {},
   "outputs": [],
   "source": [
    "data = load_data()"
   ]
  },
  {
   "cell_type": "code",
   "execution_count": 10,
   "id": "743a6061-d9ed-4d86-aebb-6b440c1d6933",
   "metadata": {},
   "outputs": [
    {
     "data": {
      "text/html": [
       "<iframe\n",
       "    scrolling=\"no\"\n",
       "    width=\"100%\"\n",
       "    height=\"545px\"\n",
       "    src=\"iframe_figures/figure_10.html\"\n",
       "    frameborder=\"0\"\n",
       "    allowfullscreen\n",
       "></iframe>\n"
      ]
     },
     "metadata": {},
     "output_type": "display_data"
    }
   ],
   "source": [
    "figure = plot_scatter_geo(data['city_infecction'], 'regiao')\n",
    "save_data(figure, 'scatter_geo', 'regiao')"
   ]
  },
  {
   "cell_type": "code",
   "execution_count": 11,
   "id": "765183d9-58cd-48b8-ae8b-e5b7d5ec2b93",
   "metadata": {},
   "outputs": [
    {
     "data": {
      "text/html": [
       "<iframe\n",
       "    scrolling=\"no\"\n",
       "    width=\"100%\"\n",
       "    height=\"545px\"\n",
       "    src=\"iframe_figures/figure_11.html\"\n",
       "    frameborder=\"0\"\n",
       "    allowfullscreen\n",
       "></iframe>\n"
      ]
     },
     "metadata": {},
     "output_type": "display_data"
    }
   ],
   "source": [
    "figure = plot_scatter_geo(data['city_infecction'], 'mesorregiao')\n",
    "save_data(figure, 'scatter_geo', 'mesorregiao')"
   ]
  },
  {
   "cell_type": "code",
   "execution_count": 12,
   "id": "c175dc64-070e-4a77-84a4-c6857c48b9e5",
   "metadata": {},
   "outputs": [
    {
     "data": {
      "text/html": [
       "<iframe\n",
       "    scrolling=\"no\"\n",
       "    width=\"100%\"\n",
       "    height=\"545px\"\n",
       "    src=\"iframe_figures/figure_12.html\"\n",
       "    frameborder=\"0\"\n",
       "    allowfullscreen\n",
       "></iframe>\n"
      ]
     },
     "metadata": {},
     "output_type": "display_data"
    }
   ],
   "source": [
    "figure = plot_scatter_geo(data['city_infecction'], 'microrregiao')\n",
    "save_data(figure, 'scatter_geo', 'microrregiao')"
   ]
  },
  {
   "cell_type": "code",
   "execution_count": 13,
   "id": "54b4fa0b-01cf-49ee-8867-7d1543c058ce",
   "metadata": {},
   "outputs": [
    {
     "data": {
      "text/html": [
       "<iframe\n",
       "    scrolling=\"no\"\n",
       "    width=\"100%\"\n",
       "    height=\"545px\"\n",
       "    src=\"iframe_figures/figure_13.html\"\n",
       "    frameborder=\"0\"\n",
       "    allowfullscreen\n",
       "></iframe>\n"
      ]
     },
     "metadata": {},
     "output_type": "display_data"
    }
   ],
   "source": [
    "figure = plot_scatter_geo(data['city_infecction'], 'municipio')\n",
    "save_data(figure, 'scatter_geo', 'municipio')"
   ]
  },
  {
   "cell_type": "code",
   "execution_count": 14,
   "id": "14ff3b74-b9f2-474f-b676-c1603584bb3c",
   "metadata": {},
   "outputs": [
    {
     "data": {
      "text/html": [
       "<iframe\n",
       "    scrolling=\"no\"\n",
       "    width=\"100%\"\n",
       "    height=\"545px\"\n",
       "    src=\"iframe_figures/figure_14.html\"\n",
       "    frameborder=\"0\"\n",
       "    allowfullscreen\n",
       "></iframe>\n"
      ]
     },
     "metadata": {},
     "output_type": "display_data"
    }
   ],
   "source": [
    "figure = plot_choroplet(data['city_infecction'], 'regiao')\n",
    "save_data(figure, 'choropleth', 'regiao')"
   ]
  },
  {
   "cell_type": "code",
   "execution_count": 15,
   "id": "9bcafbe9-b984-410f-bf75-ac8c3993b3d7",
   "metadata": {},
   "outputs": [
    {
     "data": {
      "text/html": [
       "<iframe\n",
       "    scrolling=\"no\"\n",
       "    width=\"100%\"\n",
       "    height=\"545px\"\n",
       "    src=\"iframe_figures/figure_15.html\"\n",
       "    frameborder=\"0\"\n",
       "    allowfullscreen\n",
       "></iframe>\n"
      ]
     },
     "metadata": {},
     "output_type": "display_data"
    }
   ],
   "source": [
    "figure = plot_choroplet(data['city_infecction'], 'mesorregiao')\n",
    "save_data(figure, 'choropleth', 'mesorregiao')"
   ]
  },
  {
   "cell_type": "code",
   "execution_count": 16,
   "id": "59894d35-d363-44e5-a794-095684bc03d4",
   "metadata": {},
   "outputs": [
    {
     "data": {
      "text/html": [
       "<iframe\n",
       "    scrolling=\"no\"\n",
       "    width=\"100%\"\n",
       "    height=\"545px\"\n",
       "    src=\"iframe_figures/figure_16.html\"\n",
       "    frameborder=\"0\"\n",
       "    allowfullscreen\n",
       "></iframe>\n"
      ]
     },
     "metadata": {},
     "output_type": "display_data"
    }
   ],
   "source": [
    "figure = plot_choroplet(data['city_infecction'], 'microrregiao')\n",
    "save_data(figure, 'choropleth', 'microrregiao')"
   ]
  },
  {
   "cell_type": "code",
   "execution_count": 17,
   "id": "8c485b29-e810-4812-90e1-fd187c91dff8",
   "metadata": {
    "tags": []
   },
   "outputs": [
    {
     "data": {
      "text/html": [
       "<iframe\n",
       "    scrolling=\"no\"\n",
       "    width=\"100%\"\n",
       "    height=\"545px\"\n",
       "    src=\"iframe_figures/figure_17.html\"\n",
       "    frameborder=\"0\"\n",
       "    allowfullscreen\n",
       "></iframe>\n"
      ]
     },
     "metadata": {},
     "output_type": "display_data"
    }
   ],
   "source": [
    "figure = plot_choroplet(data['city_infecction'], 'municipio')\n",
    "save_data(figure, 'choropleth', 'municipio')"
   ]
  }
 ],
 "metadata": {
  "kernelspec": {
   "display_name": "Python 3 (ipykernel)",
   "language": "python",
   "name": "python3"
  },
  "language_info": {
   "codemirror_mode": {
    "name": "ipython",
    "version": 3
   },
   "file_extension": ".py",
   "mimetype": "text/x-python",
   "name": "python",
   "nbconvert_exporter": "python",
   "pygments_lexer": "ipython3",
   "version": "3.11.2"
  }
 },
 "nbformat": 4,
 "nbformat_minor": 5
}
