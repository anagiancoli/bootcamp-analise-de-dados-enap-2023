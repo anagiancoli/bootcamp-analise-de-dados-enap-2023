{
 "cells": [
  {
   "cell_type": "markdown",
   "id": "b026a71d-977d-4490-8eb6-00f278958dc8",
   "metadata": {
    "editable": true,
    "slideshow": {
     "slide_type": "slide"
    },
    "tags": []
   },
   "source": [
    "# Agregação dos Dados 🎒 🎲"
   ]
  },
  {
   "cell_type": "markdown",
   "id": "bd229b1f-0617-4db1-aaea-fd88d84ae151",
   "metadata": {
    "editable": true,
    "slideshow": {
     "slide_type": ""
    },
    "tags": []
   },
   "source": [
    "## Sumário da Aula"
   ]
  },
  {
   "cell_type": "markdown",
   "id": "aa666b63-9763-4702-879d-d40d0b16a4f1",
   "metadata": {
    "editable": true,
    "slideshow": {
     "slide_type": ""
    },
    "tags": []
   },
   "source": [
    "<ul>\n",
    "    <li>Aspectos de GroupBy 🎒</li>\n",
    "    <li>Dividir ➗ para Conquistar ➕ (apply)</li>\n",
    "</ul>"
   ]
  },
  {
   "cell_type": "markdown",
   "id": "4cc3345f-64fe-40da-a3fa-3965962a7a3d",
   "metadata": {
    "editable": true,
    "slideshow": {
     "slide_type": ""
    },
    "tags": []
   },
   "source": [
    "### Biblioteca Principal 📚: pandas"
   ]
  },
  {
   "cell_type": "markdown",
   "id": "5a6ab32e-05ee-4bae-9cf1-91419c60ecc6",
   "metadata": {},
   "source": [
    "<img src=\"https://pandas.pydata.org/docs/_static/pandas.svg\" width=\"100\" style=\"float: right;\">"
   ]
  },
  {
   "cell_type": "code",
   "execution_count": 1,
   "id": "4ff65543-1f4e-4974-8a93-dc90ae10c327",
   "metadata": {},
   "outputs": [],
   "source": [
    "import pandas as pd"
   ]
  },
  {
   "cell_type": "markdown",
   "id": "644d7038-eece-486c-a046-acb80a5c0486",
   "metadata": {
    "editable": true,
    "slideshow": {
     "slide_type": "subslide"
    },
    "tags": []
   },
   "source": [
    "## Aspectos de GroupBy 🎒 "
   ]
  },
  {
   "cell_type": "markdown",
   "id": "158f56f9-c8cc-4c1a-9abb-41ad2804cf13",
   "metadata": {
    "editable": true,
    "slideshow": {
     "slide_type": ""
    },
    "tags": []
   },
   "source": [
    "<ul>\n",
    "    <li>As operações de limpar, preparar e tratar são possíveis em bancos de dados relacionais. Por que aprendemos aqui?</li>\n",
    "    <ul>\n",
    "        <li>A principal vantagem de fazer essas etapas com Python 🐍 e Pandas 🐼:\n",
    "            <ul>\n",
    "                <li>A expressividade de linguagem de programação permite executar operações mais complexas!</li>\n",
    "            </ul>\n",
    "        </li>\n",
    "        <li>Veremos hoje o momento em que a expressividade apresenta seus maiores ganhos.</li>\n",
    "    </ul>\n",
    "    <li>Em um fluxo de trabalho de análise de dados, frequentemente é essencial:\n",
    "        <ul>\n",
    "            <li>dividir seus dados em grupos separados; aplicar uma função em cada um dos grupos; e juntar os resultados.</li>     \n",
    "        </ul>\n",
    "    </li>\n",
    "</ul>"
   ]
  },
  {
   "cell_type": "markdown",
   "id": "9331b9a5-ae0a-4286-965f-7b93db049040",
   "metadata": {
    "editable": true,
    "slideshow": {
     "slide_type": ""
    },
    "tags": []
   },
   "source": [
    "👉 Referência: <a href='https://pandas.pydata.org/docs/user_guide/groupby.html'>pandas.pydata.org</a>"
   ]
  },
  {
   "cell_type": "markdown",
   "id": "39c2bc82-035d-4c2e-8fd3-33dacf3b58ff",
   "metadata": {
    "editable": true,
    "slideshow": {
     "slide_type": "subslide"
    },
    "tags": []
   },
   "source": [
    "<ul>\n",
    "    <li>O termo separar-aplicar-combinar (<i>split-apply-combine</i>) descreve operações em grupo.</li>\n",
    "    <ol>\n",
    "        <li>Os dados contidos em um objeto do pandas são separados (<i>split</i>) em grupos (com base em chaves especificadas);</li>\n",
    "        <ul>\n",
    "            <li>\n",
    "                A separação pode ser feita tanto pelo índice (<i>axis='index'</i>), quanto pela coluna (<i>axis='columns'</i>)\n",
    "            </li>\n",
    "        </ul>\n",
    "        <li>Posteriormente, uma função é aplicada (<i>apply</i>) em cada grupo, gerando um novo valor; e</li>\n",
    "        <li>Por fim, os resultados são combinados (<i>combine</i>), fomando um objeto resultante.</li>\n",
    "    </ol>\n",
    "</ul>"
   ]
  },
  {
   "cell_type": "markdown",
   "id": "17dcd228-0ad7-4cc2-bc27-2b6f0a5c4199",
   "metadata": {
    "editable": true,
    "slideshow": {
     "slide_type": ""
    },
    "tags": []
   },
   "source": [
    "<img src=\"https://wesmckinney.com/book/images/pda3_1001.png\" width='300' style=\"margin-left: auto; margin-right: auto;\">"
   ]
  },
  {
   "cell_type": "markdown",
   "id": "ca6fd68f-cf66-4cc0-aac8-ae2ce7cfd541",
   "metadata": {
    "editable": true,
    "slideshow": {
     "slide_type": "subslide"
    },
    "tags": []
   },
   "source": [
    "<pre>Vamos...\n",
    "\n",
    "<b>separar-</b> <i>chave1</i> em grupos...\n",
    "\n",
    "<b>-aplicar-</b> a 🚨 média 🚨 em <i>dados1</i> e...\n",
    "\n",
    "<b>-combinar</b> os resultados</pre>"
   ]
  },
  {
   "cell_type": "code",
   "execution_count": 2,
   "id": "4816fd65-579b-4fbe-afd8-a389da1f14fd",
   "metadata": {},
   "outputs": [
    {
     "data": {
      "text/html": [
       "<div>\n",
       "<style scoped>\n",
       "    .dataframe tbody tr th:only-of-type {\n",
       "        vertical-align: middle;\n",
       "    }\n",
       "\n",
       "    .dataframe tbody tr th {\n",
       "        vertical-align: top;\n",
       "    }\n",
       "\n",
       "    .dataframe thead th {\n",
       "        text-align: right;\n",
       "    }\n",
       "</style>\n",
       "<table border=\"1\" class=\"dataframe\">\n",
       "  <thead>\n",
       "    <tr style=\"text-align: right;\">\n",
       "      <th></th>\n",
       "      <th>chave1</th>\n",
       "      <th>chave2</th>\n",
       "      <th>dados1</th>\n",
       "      <th>dados2</th>\n",
       "    </tr>\n",
       "  </thead>\n",
       "  <tbody>\n",
       "    <tr>\n",
       "      <th>0</th>\n",
       "      <td>a</td>\n",
       "      <td>1</td>\n",
       "      <td>-0.204708</td>\n",
       "      <td>0.281746</td>\n",
       "    </tr>\n",
       "    <tr>\n",
       "      <th>1</th>\n",
       "      <td>a</td>\n",
       "      <td>2</td>\n",
       "      <td>0.478943</td>\n",
       "      <td>0.769023</td>\n",
       "    </tr>\n",
       "    <tr>\n",
       "      <th>2</th>\n",
       "      <td>None</td>\n",
       "      <td>1</td>\n",
       "      <td>-0.519439</td>\n",
       "      <td>1.246435</td>\n",
       "    </tr>\n",
       "    <tr>\n",
       "      <th>3</th>\n",
       "      <td>b</td>\n",
       "      <td>2</td>\n",
       "      <td>-0.555730</td>\n",
       "      <td>1.007189</td>\n",
       "    </tr>\n",
       "    <tr>\n",
       "      <th>4</th>\n",
       "      <td>b</td>\n",
       "      <td>1</td>\n",
       "      <td>1.965781</td>\n",
       "      <td>-1.296221</td>\n",
       "    </tr>\n",
       "    <tr>\n",
       "      <th>5</th>\n",
       "      <td>a</td>\n",
       "      <td>&lt;NA&gt;</td>\n",
       "      <td>1.393406</td>\n",
       "      <td>0.274992</td>\n",
       "    </tr>\n",
       "    <tr>\n",
       "      <th>6</th>\n",
       "      <td>None</td>\n",
       "      <td>1</td>\n",
       "      <td>0.092908</td>\n",
       "      <td>0.228913</td>\n",
       "    </tr>\n",
       "  </tbody>\n",
       "</table>\n",
       "</div>"
      ],
      "text/plain": [
       "  chave1  chave2    dados1    dados2\n",
       "0      a       1 -0.204708  0.281746\n",
       "1      a       2  0.478943  0.769023\n",
       "2   None       1 -0.519439  1.246435\n",
       "3      b       2 -0.555730  1.007189\n",
       "4      b       1  1.965781 -1.296221\n",
       "5      a    <NA>  1.393406  0.274992\n",
       "6   None       1  0.092908  0.228913"
      ]
     },
     "execution_count": 2,
     "metadata": {},
     "output_type": "execute_result"
    }
   ],
   "source": [
    "df = pd.DataFrame({\"chave1\" : [\"a\", \"a\", None, \"b\", \"b\", \"a\", None],\n",
    "                   \"chave2\" : pd.Series([1, 2, 1, 2, 1, None, 1], dtype=\"Int64\"),\n",
    "                   \"dados1\" : [-0.204708, 0.478943, -0.519439, -0.555730, 1.965781, 1.393406, 0.092908],\n",
    "                   \"dados2\" : [0.281746, 0.769023, 1.246435, 1.007189, -1.296221, 0.274992, 0.228913]})\n",
    "df"
   ]
  },
  {
   "cell_type": "markdown",
   "id": "f8a122af-c44a-423c-8ddf-6b5631d14f89",
   "metadata": {
    "editable": true,
    "slideshow": {
     "slide_type": "subslide"
    },
    "tags": []
   },
   "source": [
    "👉 1) Separar"
   ]
  },
  {
   "cell_type": "code",
   "execution_count": 3,
   "id": "abebb83a-32f8-4104-8cd8-c9228037b219",
   "metadata": {},
   "outputs": [
    {
     "data": {
      "text/plain": [
       "<pandas.core.groupby.generic.DataFrameGroupBy object at 0x10596fa10>"
      ]
     },
     "execution_count": 3,
     "metadata": {},
     "output_type": "execute_result"
    }
   ],
   "source": [
    "grouped = df[['dados1']].groupby(df['chave1'])\n",
    "grouped"
   ]
  },
  {
   "cell_type": "markdown",
   "id": "0f732666-fe28-4f9e-8c49-60f249fb0f5d",
   "metadata": {},
   "source": [
    "👉 2) Aplicar e 3) Combinar"
   ]
  },
  {
   "cell_type": "code",
   "execution_count": 4,
   "id": "34a1b4f9-bd9f-4a05-a798-063a05e9e2d9",
   "metadata": {},
   "outputs": [
    {
     "data": {
      "text/html": [
       "<div>\n",
       "<style scoped>\n",
       "    .dataframe tbody tr th:only-of-type {\n",
       "        vertical-align: middle;\n",
       "    }\n",
       "\n",
       "    .dataframe tbody tr th {\n",
       "        vertical-align: top;\n",
       "    }\n",
       "\n",
       "    .dataframe thead th {\n",
       "        text-align: right;\n",
       "    }\n",
       "</style>\n",
       "<table border=\"1\" class=\"dataframe\">\n",
       "  <thead>\n",
       "    <tr style=\"text-align: right;\">\n",
       "      <th></th>\n",
       "      <th>dados1</th>\n",
       "    </tr>\n",
       "    <tr>\n",
       "      <th>chave1</th>\n",
       "      <th></th>\n",
       "    </tr>\n",
       "  </thead>\n",
       "  <tbody>\n",
       "    <tr>\n",
       "      <th>a</th>\n",
       "      <td>0.555880</td>\n",
       "    </tr>\n",
       "    <tr>\n",
       "      <th>b</th>\n",
       "      <td>0.705026</td>\n",
       "    </tr>\n",
       "  </tbody>\n",
       "</table>\n",
       "</div>"
      ],
      "text/plain": [
       "          dados1\n",
       "chave1          \n",
       "a       0.555880\n",
       "b       0.705026"
      ]
     },
     "execution_count": 4,
     "metadata": {},
     "output_type": "execute_result"
    }
   ],
   "source": [
    "grouped.mean()"
   ]
  },
  {
   "cell_type": "markdown",
   "id": "0abdb853-97c9-4f4e-9325-ea745e4403e4",
   "metadata": {
    "editable": true,
    "slideshow": {
     "slide_type": "subslide"
    },
    "tags": []
   },
   "source": [
    "<pre>Vamos...\n",
    "\n",
    "<b>separar-</b> o par <i>(chave1, chave2)</i> em grupos...\n",
    "\n",
    "<b>-aplicar-</b> a 🚨 média 🚨 em <i>dados1</i> e...\n",
    "\n",
    "<b>-combinar</b> os resultados</pre>"
   ]
  },
  {
   "cell_type": "markdown",
   "id": "d45628c1-14c4-415e-9990-b5613ad7fa93",
   "metadata": {},
   "source": [
    "👉 1) Separar"
   ]
  },
  {
   "cell_type": "code",
   "execution_count": 5,
   "id": "a5bbec8c-beb1-4e86-a68f-269da583990a",
   "metadata": {},
   "outputs": [
    {
     "data": {
      "text/plain": [
       "<pandas.core.groupby.generic.DataFrameGroupBy object at 0x1221158d0>"
      ]
     },
     "execution_count": 5,
     "metadata": {},
     "output_type": "execute_result"
    }
   ],
   "source": [
    "grouped = df[['dados1']].groupby([df['chave1'], df['chave2']])\n",
    "grouped"
   ]
  },
  {
   "cell_type": "markdown",
   "id": "fe40c950-fb3c-4ca1-b334-eb70d3657f66",
   "metadata": {},
   "source": [
    "👉 2) Aplicar e 3) Combinar"
   ]
  },
  {
   "cell_type": "code",
   "execution_count": 6,
   "id": "4a44111a-e85b-4463-b970-82eb942fe007",
   "metadata": {},
   "outputs": [
    {
     "data": {
      "text/html": [
       "<div>\n",
       "<style scoped>\n",
       "    .dataframe tbody tr th:only-of-type {\n",
       "        vertical-align: middle;\n",
       "    }\n",
       "\n",
       "    .dataframe tbody tr th {\n",
       "        vertical-align: top;\n",
       "    }\n",
       "\n",
       "    .dataframe thead th {\n",
       "        text-align: right;\n",
       "    }\n",
       "</style>\n",
       "<table border=\"1\" class=\"dataframe\">\n",
       "  <thead>\n",
       "    <tr style=\"text-align: right;\">\n",
       "      <th></th>\n",
       "      <th></th>\n",
       "      <th>dados1</th>\n",
       "    </tr>\n",
       "    <tr>\n",
       "      <th>chave1</th>\n",
       "      <th>chave2</th>\n",
       "      <th></th>\n",
       "    </tr>\n",
       "  </thead>\n",
       "  <tbody>\n",
       "    <tr>\n",
       "      <th rowspan=\"2\" valign=\"top\">a</th>\n",
       "      <th>1</th>\n",
       "      <td>-0.204708</td>\n",
       "    </tr>\n",
       "    <tr>\n",
       "      <th>2</th>\n",
       "      <td>0.478943</td>\n",
       "    </tr>\n",
       "    <tr>\n",
       "      <th rowspan=\"2\" valign=\"top\">b</th>\n",
       "      <th>1</th>\n",
       "      <td>1.965781</td>\n",
       "    </tr>\n",
       "    <tr>\n",
       "      <th>2</th>\n",
       "      <td>-0.555730</td>\n",
       "    </tr>\n",
       "  </tbody>\n",
       "</table>\n",
       "</div>"
      ],
      "text/plain": [
       "                 dados1\n",
       "chave1 chave2          \n",
       "a      1      -0.204708\n",
       "       2       0.478943\n",
       "b      1       1.965781\n",
       "       2      -0.555730"
      ]
     },
     "execution_count": 6,
     "metadata": {},
     "output_type": "execute_result"
    }
   ],
   "source": [
    "grouped.mean()"
   ]
  },
  {
   "cell_type": "markdown",
   "id": "f3707a56-3bd2-4e10-b719-50271d033d9b",
   "metadata": {
    "editable": true,
    "slideshow": {
     "slide_type": "subslide"
    },
    "tags": []
   },
   "source": [
    "<pre>Vamos...\n",
    "\n",
    "<b>separar-</b> <i>chave1</i> em grupos...\n",
    "\n",
    "<b>-aplicar-</b> a 🚨 média 🚨 em todas as colunas e...\n",
    "\n",
    "<b>-combinar</b> os resultados</pre>"
   ]
  },
  {
   "cell_type": "markdown",
   "id": "87910c01-b4bb-472b-945e-cfc80c3ce4a0",
   "metadata": {},
   "source": [
    "👉 Separar-aplicar-combinar"
   ]
  },
  {
   "cell_type": "code",
   "execution_count": 7,
   "id": "2f62e521-daff-400f-9f35-a61f2a961621",
   "metadata": {},
   "outputs": [
    {
     "data": {
      "text/html": [
       "<div>\n",
       "<style scoped>\n",
       "    .dataframe tbody tr th:only-of-type {\n",
       "        vertical-align: middle;\n",
       "    }\n",
       "\n",
       "    .dataframe tbody tr th {\n",
       "        vertical-align: top;\n",
       "    }\n",
       "\n",
       "    .dataframe thead th {\n",
       "        text-align: right;\n",
       "    }\n",
       "</style>\n",
       "<table border=\"1\" class=\"dataframe\">\n",
       "  <thead>\n",
       "    <tr style=\"text-align: right;\">\n",
       "      <th></th>\n",
       "      <th>chave2</th>\n",
       "      <th>dados1</th>\n",
       "      <th>dados2</th>\n",
       "    </tr>\n",
       "    <tr>\n",
       "      <th>chave1</th>\n",
       "      <th></th>\n",
       "      <th></th>\n",
       "      <th></th>\n",
       "    </tr>\n",
       "  </thead>\n",
       "  <tbody>\n",
       "    <tr>\n",
       "      <th>a</th>\n",
       "      <td>1.5</td>\n",
       "      <td>0.555880</td>\n",
       "      <td>0.441920</td>\n",
       "    </tr>\n",
       "    <tr>\n",
       "      <th>b</th>\n",
       "      <td>1.5</td>\n",
       "      <td>0.705026</td>\n",
       "      <td>-0.144516</td>\n",
       "    </tr>\n",
       "  </tbody>\n",
       "</table>\n",
       "</div>"
      ],
      "text/plain": [
       "        chave2    dados1    dados2\n",
       "chave1                            \n",
       "a          1.5  0.555880  0.441920\n",
       "b          1.5  0.705026 -0.144516"
      ]
     },
     "execution_count": 7,
     "metadata": {},
     "output_type": "execute_result"
    }
   ],
   "source": [
    "df.groupby('chave1').mean()"
   ]
  },
  {
   "cell_type": "markdown",
   "id": "f48d7709-a7e0-43b4-be7d-00116651c54a",
   "metadata": {
    "editable": true,
    "slideshow": {
     "slide_type": "subslide"
    },
    "tags": []
   },
   "source": [
    "<pre>Vamos...\n",
    "\n",
    "<b>separar-</b> o par <i>(chave1, chave2)</i> em grupos...\n",
    "\n",
    "<b>-aplicar-</b> a 🚨 média 🚨 em todas as colunas e...\n",
    "\n",
    "<b>-combinar</b> os resultados</pre>"
   ]
  },
  {
   "cell_type": "markdown",
   "id": "3153fe55-c84e-47de-a927-87ffb82cc65d",
   "metadata": {},
   "source": [
    "👉 Separar-aplicar-combinar"
   ]
  },
  {
   "cell_type": "code",
   "execution_count": 8,
   "id": "a49ba25e-6251-4eb4-9363-8bb6ace653e5",
   "metadata": {},
   "outputs": [
    {
     "data": {
      "text/html": [
       "<div>\n",
       "<style scoped>\n",
       "    .dataframe tbody tr th:only-of-type {\n",
       "        vertical-align: middle;\n",
       "    }\n",
       "\n",
       "    .dataframe tbody tr th {\n",
       "        vertical-align: top;\n",
       "    }\n",
       "\n",
       "    .dataframe thead th {\n",
       "        text-align: right;\n",
       "    }\n",
       "</style>\n",
       "<table border=\"1\" class=\"dataframe\">\n",
       "  <thead>\n",
       "    <tr style=\"text-align: right;\">\n",
       "      <th></th>\n",
       "      <th></th>\n",
       "      <th>dados1</th>\n",
       "      <th>dados2</th>\n",
       "    </tr>\n",
       "    <tr>\n",
       "      <th>chave1</th>\n",
       "      <th>chave2</th>\n",
       "      <th></th>\n",
       "      <th></th>\n",
       "    </tr>\n",
       "  </thead>\n",
       "  <tbody>\n",
       "    <tr>\n",
       "      <th rowspan=\"2\" valign=\"top\">a</th>\n",
       "      <th>1</th>\n",
       "      <td>-0.204708</td>\n",
       "      <td>0.281746</td>\n",
       "    </tr>\n",
       "    <tr>\n",
       "      <th>2</th>\n",
       "      <td>0.478943</td>\n",
       "      <td>0.769023</td>\n",
       "    </tr>\n",
       "    <tr>\n",
       "      <th rowspan=\"2\" valign=\"top\">b</th>\n",
       "      <th>1</th>\n",
       "      <td>1.965781</td>\n",
       "      <td>-1.296221</td>\n",
       "    </tr>\n",
       "    <tr>\n",
       "      <th>2</th>\n",
       "      <td>-0.555730</td>\n",
       "      <td>1.007189</td>\n",
       "    </tr>\n",
       "  </tbody>\n",
       "</table>\n",
       "</div>"
      ],
      "text/plain": [
       "                 dados1    dados2\n",
       "chave1 chave2                    \n",
       "a      1      -0.204708  0.281746\n",
       "       2       0.478943  0.769023\n",
       "b      1       1.965781 -1.296221\n",
       "       2      -0.555730  1.007189"
      ]
     },
     "execution_count": 8,
     "metadata": {},
     "output_type": "execute_result"
    }
   ],
   "source": [
    "df.groupby(['chave1', 'chave2']).mean()"
   ]
  },
  {
   "cell_type": "markdown",
   "id": "d1e20e71-aacb-4f9e-a205-861b77b0c26a",
   "metadata": {
    "editable": true,
    "slideshow": {
     "slide_type": "subslide"
    },
    "tags": []
   },
   "source": [
    "👉 dica: caso esteja aplicando uma métrica para atributos numéricos, os atributos não numéricos são excluídos do resultado"
   ]
  },
  {
   "cell_type": "code",
   "execution_count": 9,
   "id": "caad0a12-438e-481c-a5e6-07abb04ed770",
   "metadata": {},
   "outputs": [
    {
     "data": {
      "text/html": [
       "<div>\n",
       "<style scoped>\n",
       "    .dataframe tbody tr th:only-of-type {\n",
       "        vertical-align: middle;\n",
       "    }\n",
       "\n",
       "    .dataframe tbody tr th {\n",
       "        vertical-align: top;\n",
       "    }\n",
       "\n",
       "    .dataframe thead th {\n",
       "        text-align: right;\n",
       "    }\n",
       "</style>\n",
       "<table border=\"1\" class=\"dataframe\">\n",
       "  <thead>\n",
       "    <tr style=\"text-align: right;\">\n",
       "      <th></th>\n",
       "      <th>dados1</th>\n",
       "      <th>dados2</th>\n",
       "    </tr>\n",
       "    <tr>\n",
       "      <th>chave2</th>\n",
       "      <th></th>\n",
       "      <th></th>\n",
       "    </tr>\n",
       "  </thead>\n",
       "  <tbody>\n",
       "    <tr>\n",
       "      <th>1</th>\n",
       "      <td>0.333636</td>\n",
       "      <td>0.115218</td>\n",
       "    </tr>\n",
       "    <tr>\n",
       "      <th>2</th>\n",
       "      <td>-0.038393</td>\n",
       "      <td>0.888106</td>\n",
       "    </tr>\n",
       "  </tbody>\n",
       "</table>\n",
       "</div>"
      ],
      "text/plain": [
       "          dados1    dados2\n",
       "chave2                    \n",
       "1       0.333636  0.115218\n",
       "2      -0.038393  0.888106"
      ]
     },
     "execution_count": 9,
     "metadata": {},
     "output_type": "execute_result"
    }
   ],
   "source": [
    "df.groupby(['chave2']).mean(numeric_only=True)"
   ]
  },
  {
   "cell_type": "markdown",
   "id": "cdbdb425-8c06-4935-98f1-d1c91f095e50",
   "metadata": {},
   "source": [
    "👉 mais dica: uma métrica muito útil é a métrica <i>size</i>, que computa os tamanhos dos grupos"
   ]
  },
  {
   "cell_type": "code",
   "execution_count": 10,
   "id": "5813b6fa-14f6-4b63-9198-a31f9042099d",
   "metadata": {},
   "outputs": [
    {
     "data": {
      "text/plain": [
       "chave1  chave2\n",
       "a       1         1\n",
       "        2         1\n",
       "        <NA>      1\n",
       "b       1         1\n",
       "        2         1\n",
       "NaN     1         2\n",
       "dtype: int64"
      ]
     },
     "execution_count": 10,
     "metadata": {},
     "output_type": "execute_result"
    }
   ],
   "source": [
    "df.groupby(['chave1', 'chave2'], dropna=False).size()"
   ]
  },
  {
   "cell_type": "markdown",
   "id": "497fa118-d19d-4e83-9984-9c99c1843bc4",
   "metadata": {
    "editable": true,
    "slideshow": {
     "slide_type": "subslide"
    },
    "tags": []
   },
   "source": [
    "### Quadro-resumo das métricas para o 🚨 -aplicar- 🚨"
   ]
  },
  {
   "cell_type": "markdown",
   "id": "24107794-56b2-4d85-acac-f2c58c4fefdf",
   "metadata": {},
   "source": [
    "<table>\n",
    "    <tr><th>Métrica</th><th>Descrição</th></tr>\n",
    "    <tr><td>any, all</td><td>Retorna True se algum (respectivamente todos os valores) não-NA forem verdadeiros</td></tr>\n",
    "    <tr><td>count</td><td>Número de valores não-NA</td></tr>\n",
    "    <tr><td>cummin, cummax</td><td>Mínimo cumulativo (respectivamente máximo cumulativo) de valores não-NA</td></tr>\n",
    "    <tr><td>cumsum</td><td>Soma cumulativa de valores não-NA</td></tr>\n",
    "    <tr><td>cumprod</td><td>Produto cumulativo de valores não-NA</td></tr>\n",
    "    <tr><td>first, last</td><td>Primeiro (respectivamente último) valores não NA</td></tr>\n",
    "    <tr><td>mean</td><td>Média de valores não-NA</td></tr>\n",
    "    <tr><td>median</td><td>Mediana de valores não-NA</td></tr>\n",
    "    <tr><td>min, max</td><td>Mínimo (respectivamente máximo) de valores não-NA</td></tr>\n",
    "    <tr><td>nth</td><td>Recupera o valor que apareceria na posição n com os dados ordenados</td></tr>\n",
    "    <tr><td>ohlc</td><td>Calcula quatro estatísticas “abrir-alto-baixo-fechar” para dados semelhantes a séries temporais</td></tr>\n",
    "    <tr><td>prod</td><td>Produto de valores não-NA</td></tr>\n",
    "    <tr><td>quantil</td><td>Calcula o quantil da amostra</td></tr>\n",
    "    <tr><td>prod</td><td>Produto de valores não-NA</td></tr>\n",
    "    <tr><td>rank</td><td>Rank de valores não-NA</td></tr>\n",
    "    <tr><td>size</td><td>Computa tamanhos de grupo, retornando o resultado como uma série</td></tr>\n",
    "    <tr><td>sum</td><td>Soma de valores não-NA</td></tr>\n",
    "    <tr><td>std, var</td><td>Desvio padrão (respectivamente variância) da amostra</td></tr>\n",
    "</table>"
   ]
  },
  {
   "cell_type": "markdown",
   "id": "e52b7e66-a53a-40a4-8a71-f54850d0df46",
   "metadata": {
    "editable": true,
    "slideshow": {
     "slide_type": "subslide"
    },
    "tags": []
   },
   "source": [
    "<pre>🍒 🎂 Você pode também aplicar mais de uma métrica ao mesmo tempo, ...</pre>"
   ]
  },
  {
   "cell_type": "code",
   "execution_count": 11,
   "id": "13f68724-1c19-46e9-951f-ca934acbba0a",
   "metadata": {},
   "outputs": [
    {
     "data": {
      "text/html": [
       "<div>\n",
       "<style scoped>\n",
       "    .dataframe tbody tr th:only-of-type {\n",
       "        vertical-align: middle;\n",
       "    }\n",
       "\n",
       "    .dataframe tbody tr th {\n",
       "        vertical-align: top;\n",
       "    }\n",
       "\n",
       "    .dataframe thead tr th {\n",
       "        text-align: left;\n",
       "    }\n",
       "\n",
       "    .dataframe thead tr:last-of-type th {\n",
       "        text-align: right;\n",
       "    }\n",
       "</style>\n",
       "<table border=\"1\" class=\"dataframe\">\n",
       "  <thead>\n",
       "    <tr>\n",
       "      <th></th>\n",
       "      <th colspan=\"5\" halign=\"left\">chave2</th>\n",
       "      <th colspan=\"5\" halign=\"left\">dados1</th>\n",
       "      <th colspan=\"5\" halign=\"left\">dados2</th>\n",
       "    </tr>\n",
       "    <tr>\n",
       "      <th></th>\n",
       "      <th>count</th>\n",
       "      <th>first</th>\n",
       "      <th>last</th>\n",
       "      <th>mean</th>\n",
       "      <th>median</th>\n",
       "      <th>count</th>\n",
       "      <th>first</th>\n",
       "      <th>last</th>\n",
       "      <th>mean</th>\n",
       "      <th>median</th>\n",
       "      <th>count</th>\n",
       "      <th>first</th>\n",
       "      <th>last</th>\n",
       "      <th>mean</th>\n",
       "      <th>median</th>\n",
       "    </tr>\n",
       "    <tr>\n",
       "      <th>chave1</th>\n",
       "      <th></th>\n",
       "      <th></th>\n",
       "      <th></th>\n",
       "      <th></th>\n",
       "      <th></th>\n",
       "      <th></th>\n",
       "      <th></th>\n",
       "      <th></th>\n",
       "      <th></th>\n",
       "      <th></th>\n",
       "      <th></th>\n",
       "      <th></th>\n",
       "      <th></th>\n",
       "      <th></th>\n",
       "      <th></th>\n",
       "    </tr>\n",
       "  </thead>\n",
       "  <tbody>\n",
       "    <tr>\n",
       "      <th>a</th>\n",
       "      <td>2</td>\n",
       "      <td>1</td>\n",
       "      <td>2</td>\n",
       "      <td>1.5</td>\n",
       "      <td>1.5</td>\n",
       "      <td>3</td>\n",
       "      <td>-0.204708</td>\n",
       "      <td>1.393406</td>\n",
       "      <td>0.555880</td>\n",
       "      <td>0.478943</td>\n",
       "      <td>3</td>\n",
       "      <td>0.281746</td>\n",
       "      <td>0.274992</td>\n",
       "      <td>0.441920</td>\n",
       "      <td>0.281746</td>\n",
       "    </tr>\n",
       "    <tr>\n",
       "      <th>b</th>\n",
       "      <td>2</td>\n",
       "      <td>2</td>\n",
       "      <td>1</td>\n",
       "      <td>1.5</td>\n",
       "      <td>1.5</td>\n",
       "      <td>2</td>\n",
       "      <td>-0.555730</td>\n",
       "      <td>1.965781</td>\n",
       "      <td>0.705026</td>\n",
       "      <td>0.705026</td>\n",
       "      <td>2</td>\n",
       "      <td>1.007189</td>\n",
       "      <td>-1.296221</td>\n",
       "      <td>-0.144516</td>\n",
       "      <td>-0.144516</td>\n",
       "    </tr>\n",
       "  </tbody>\n",
       "</table>\n",
       "</div>"
      ],
      "text/plain": [
       "       chave2                        dados1                                \\\n",
       "        count first last mean median  count     first      last      mean   \n",
       "chave1                                                                      \n",
       "a           2     1    2  1.5    1.5      3 -0.204708  1.393406  0.555880   \n",
       "b           2     2    1  1.5    1.5      2 -0.555730  1.965781  0.705026   \n",
       "\n",
       "                 dados2                                          \n",
       "          median  count     first      last      mean    median  \n",
       "chave1                                                           \n",
       "a       0.478943      3  0.281746  0.274992  0.441920  0.281746  \n",
       "b       0.705026      2  1.007189 -1.296221 -0.144516 -0.144516  "
      ]
     },
     "execution_count": 11,
     "metadata": {},
     "output_type": "execute_result"
    }
   ],
   "source": [
    "df.groupby('chave1').agg(['count', 'first', 'last', 'mean', 'median'])"
   ]
  },
  {
   "cell_type": "markdown",
   "id": "f2db0500-9e69-4e7d-9025-ab10045a1856",
   "metadata": {},
   "source": [
    "<pre>... bem como escolher as colunas em que deseja aplicar cada métrica</pre>"
   ]
  },
  {
   "cell_type": "code",
   "execution_count": 12,
   "id": "77ab2b71-381a-4a41-ac1d-404c453cf384",
   "metadata": {},
   "outputs": [
    {
     "data": {
      "text/html": [
       "<div>\n",
       "<style scoped>\n",
       "    .dataframe tbody tr th:only-of-type {\n",
       "        vertical-align: middle;\n",
       "    }\n",
       "\n",
       "    .dataframe tbody tr th {\n",
       "        vertical-align: top;\n",
       "    }\n",
       "\n",
       "    .dataframe thead tr th {\n",
       "        text-align: left;\n",
       "    }\n",
       "\n",
       "    .dataframe thead tr:last-of-type th {\n",
       "        text-align: right;\n",
       "    }\n",
       "</style>\n",
       "<table border=\"1\" class=\"dataframe\">\n",
       "  <thead>\n",
       "    <tr>\n",
       "      <th></th>\n",
       "      <th>chave2</th>\n",
       "      <th colspan=\"2\" halign=\"left\">dados1</th>\n",
       "      <th colspan=\"2\" halign=\"left\">dados2</th>\n",
       "    </tr>\n",
       "    <tr>\n",
       "      <th></th>\n",
       "      <th>count</th>\n",
       "      <th>first</th>\n",
       "      <th>last</th>\n",
       "      <th>mean</th>\n",
       "      <th>median</th>\n",
       "    </tr>\n",
       "    <tr>\n",
       "      <th>chave1</th>\n",
       "      <th></th>\n",
       "      <th></th>\n",
       "      <th></th>\n",
       "      <th></th>\n",
       "      <th></th>\n",
       "    </tr>\n",
       "  </thead>\n",
       "  <tbody>\n",
       "    <tr>\n",
       "      <th>a</th>\n",
       "      <td>2</td>\n",
       "      <td>-0.204708</td>\n",
       "      <td>1.393406</td>\n",
       "      <td>0.441920</td>\n",
       "      <td>0.281746</td>\n",
       "    </tr>\n",
       "    <tr>\n",
       "      <th>b</th>\n",
       "      <td>2</td>\n",
       "      <td>-0.555730</td>\n",
       "      <td>1.965781</td>\n",
       "      <td>-0.144516</td>\n",
       "      <td>-0.144516</td>\n",
       "    </tr>\n",
       "  </tbody>\n",
       "</table>\n",
       "</div>"
      ],
      "text/plain": [
       "       chave2    dados1              dados2          \n",
       "        count     first      last      mean    median\n",
       "chave1                                               \n",
       "a           2 -0.204708  1.393406  0.441920  0.281746\n",
       "b           2 -0.555730  1.965781 -0.144516 -0.144516"
      ]
     },
     "execution_count": 12,
     "metadata": {},
     "output_type": "execute_result"
    }
   ],
   "source": [
    "df.groupby('chave1').agg({'chave2': 'count', 'dados1': ['first', 'last'], 'dados2': ['mean', 'median']})"
   ]
  },
  {
   "cell_type": "markdown",
   "id": "5ab4a62b-607e-4c4c-b303-3962c68366c1",
   "metadata": {},
   "source": [
    "👉 dica: se acostume com uma notação para não se confundir. a última notação é recomendável."
   ]
  },
  {
   "cell_type": "markdown",
   "id": "a2eafd8e-ead8-4bd0-940a-ec2984320b25",
   "metadata": {
    "editable": true,
    "slideshow": {
     "slide_type": "slide"
    },
    "tags": []
   },
   "source": [
    "## Dividir ➗ para Conquistar ➕ (apply)"
   ]
  },
  {
   "cell_type": "markdown",
   "id": "dfde7fe2-6e29-432d-9a10-762127739960",
   "metadata": {},
   "source": [
    "<ul>\n",
    "    <li>O método apply é um método GroupBy de propósito-geral para a etapa de <b>-aplicar-</b></li>\n",
    "    <li>Impressionantemente, é um método que existe tanto para agrupamentos, quanto para dados não agrupados</li>\n",
    "    <li>A desvantagem do método apply é que os métodos não são otimizados comos os métodos do quadro-resumo</li>\n",
    "</ul>"
   ]
  },
  {
   "cell_type": "markdown",
   "id": "26ad9848-f76c-42b3-a470-0207691c0bdb",
   "metadata": {},
   "source": [
    "<pre>Você pode aplicar o apply em dados não agregados a cada coluna, ...</pre>"
   ]
  },
  {
   "cell_type": "code",
   "execution_count": 13,
   "id": "859188ff-6a44-4b72-ab0a-b13d92d7dc58",
   "metadata": {},
   "outputs": [
    {
     "data": {
      "text/plain": [
       "dados1    0.041905\n",
       "dados2    0.079381\n",
       "dtype: float64"
      ]
     },
     "execution_count": 13,
     "metadata": {},
     "output_type": "execute_result"
    }
   ],
   "source": [
    "df[['dados1', 'dados2']].apply(lambda coluna: coluna.iloc[0]**2, axis='index')"
   ]
  },
  {
   "cell_type": "markdown",
   "id": "b6410dee-856e-43a1-8a49-0b86098fa7d8",
   "metadata": {
    "editable": true,
    "slideshow": {
     "slide_type": "subslide"
    },
    "tags": []
   },
   "source": [
    "<pre>... você pode aplicar o apply em dados não agregados a cada linha, ...</pre>"
   ]
  },
  {
   "cell_type": "code",
   "execution_count": 14,
   "id": "1bf49f64-ede1-4153-b6a7-ad52c45ac845",
   "metadata": {},
   "outputs": [
    {
     "data": {
      "text/plain": [
       "0    0.041905\n",
       "1    0.229386\n",
       "2    0.269817\n",
       "3    0.308836\n",
       "4    3.864295\n",
       "5    1.941580\n",
       "6    0.008632\n",
       "dtype: float64"
      ]
     },
     "execution_count": 14,
     "metadata": {},
     "output_type": "execute_result"
    }
   ],
   "source": [
    "df[['dados1', 'dados2']].apply(lambda linha: linha.iloc[0]**2, axis='columns')"
   ]
  },
  {
   "cell_type": "markdown",
   "id": "614e0678-f0fe-455d-862c-a5c22d6ef1b4",
   "metadata": {
    "editable": true,
    "slideshow": {
     "slide_type": "subslide"
    },
    "tags": []
   },
   "source": [
    "<pre>... bem como você pode aplicar em dados agregados a cada agrupamento</pre>"
   ]
  },
  {
   "cell_type": "code",
   "execution_count": 15,
   "id": "c0b81e76-1bde-44ad-a791-9923a326583c",
   "metadata": {},
   "outputs": [
    {
     "data": {
      "text/html": [
       "<div>\n",
       "<style scoped>\n",
       "    .dataframe tbody tr th:only-of-type {\n",
       "        vertical-align: middle;\n",
       "    }\n",
       "\n",
       "    .dataframe tbody tr th {\n",
       "        vertical-align: top;\n",
       "    }\n",
       "\n",
       "    .dataframe thead th {\n",
       "        text-align: right;\n",
       "    }\n",
       "</style>\n",
       "<table border=\"1\" class=\"dataframe\">\n",
       "  <thead>\n",
       "    <tr style=\"text-align: right;\">\n",
       "      <th></th>\n",
       "      <th>dados1</th>\n",
       "      <th>dados2</th>\n",
       "    </tr>\n",
       "    <tr>\n",
       "      <th>chave1</th>\n",
       "      <th></th>\n",
       "      <th></th>\n",
       "    </tr>\n",
       "  </thead>\n",
       "  <tbody>\n",
       "    <tr>\n",
       "      <th>a</th>\n",
       "      <td>0.041905</td>\n",
       "      <td>0.079381</td>\n",
       "    </tr>\n",
       "    <tr>\n",
       "      <th>b</th>\n",
       "      <td>0.308836</td>\n",
       "      <td>1.014430</td>\n",
       "    </tr>\n",
       "  </tbody>\n",
       "</table>\n",
       "</div>"
      ],
      "text/plain": [
       "          dados1    dados2\n",
       "chave1                    \n",
       "a       0.041905  0.079381\n",
       "b       0.308836  1.014430"
      ]
     },
     "execution_count": 15,
     "metadata": {},
     "output_type": "execute_result"
    }
   ],
   "source": [
    "df[['dados1', 'dados2']].groupby(df['chave1']).apply(lambda grupo: grupo.iloc[0]**2)"
   ]
  },
  {
   "cell_type": "markdown",
   "id": "54946c07-4e7d-4ab0-9667-934a815474ea",
   "metadata": {},
   "source": [
    "<pre>O método apply tem papel fundamental. \n",
    "\n",
    "Você consegue fazer <b>qualquer</b> operação com dados agrupados.\n",
    "\n",
    "Operações muito mais complexas em Python 🐍 e Pandas 🐼 vs. Banco de Dados 🏦 🎲</pre>"
   ]
  },
  {
   "cell_type": "markdown",
   "id": "f4be8581-2aa4-4d53-b276-6e2d9487df7c",
   "metadata": {
    "editable": true,
    "slideshow": {
     "slide_type": "slide"
    },
    "tags": []
   },
   "source": [
    "<font size=7><center><code>Executem todo este caderno...</code></center></font>\n",
    "\n",
    "<font size=7><center><code>... bem como o caderno Juntando as Peças</code></center></font>"
   ]
  },
  {
   "cell_type": "code",
   "execution_count": null,
   "id": "bd57e935-760b-494c-a522-dbd22d02ffff",
   "metadata": {
    "editable": true,
    "slideshow": {
     "slide_type": ""
    },
    "tags": []
   },
   "outputs": [],
   "source": []
  }
 ],
 "metadata": {
  "kernelspec": {
   "display_name": "Python 3 (ipykernel)",
   "language": "python",
   "name": "python3"
  },
  "language_info": {
   "codemirror_mode": {
    "name": "ipython",
    "version": 3
   },
   "file_extension": ".py",
   "mimetype": "text/x-python",
   "name": "python",
   "nbconvert_exporter": "python",
   "pygments_lexer": "ipython3",
   "version": "3.11.2"
  }
 },
 "nbformat": 4,
 "nbformat_minor": 5
}
