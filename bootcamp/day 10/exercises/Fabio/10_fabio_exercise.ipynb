{
 "cells": [
  {
   "cell_type": "markdown",
   "id": "29882d2e",
   "metadata": {},
   "source": [
    "# Explorando as estatísticas de gênero do Banco Mundial"
   ]
  },
  {
   "cell_type": "markdown",
   "id": "8c32de4c",
   "metadata": {},
   "source": [
    "Voltando ao estudo sobre [gravidez entre adolescentes](https://genderdata.worldbank.org/data-stories/adolescent-fertility/), tente replicar a versão final do primeiro gráfico do artigo, **Regional differences**, ignorando as animações. \n",
    "\n",
    "Os dados já estão disponíveis no arquivo **data/serie_afr.csv**."
   ]
  },
  {
   "cell_type": "code",
   "execution_count": null,
   "id": "b68d511a",
   "metadata": {},
   "outputs": [],
   "source": [
    "serie_afr = pd.read_csv('data/serie_afr.csv')"
   ]
  },
  {
   "cell_type": "code",
   "execution_count": null,
   "id": "de4115fc",
   "metadata": {},
   "outputs": [],
   "source": [
    "regioes_cores = {'Sub-Saharan Africa ':  \"#ec553a\" ,\n",
    "                 'Latin America & Caribbean ': \"#59C090\",\n",
    "                 'World': \"#00538a\",\n",
    "                 'Middle East & North Africa': \"#ffffff\",\n",
    "                 'South Asia': \"#fdb714\",\n",
    "                 'East Asia & Pacific': \"#009fda\",\n",
    "                 'North America': \"#666666\",\n",
    "                 'Europe & Central Asia': \"#FE7CCE\"}"
   ]
  },
  {
   "cell_type": "code",
   "execution_count": null,
   "id": "01ef7c5c",
   "metadata": {},
   "outputs": [],
   "source": [
    "import matplotlib.pyplot as plt\n",
    "import seaborn as sns\n",
    "\n",
    "plt.figure(figsize=(16, 8))"
   ]
  },
  {
   "cell_type": "markdown",
   "id": "7942ab38",
   "metadata": {},
   "source": [
    "# Explorando as estatísticas brasileiras de comércio exterior"
   ]
  },
  {
   "cell_type": "markdown",
   "id": "c90b2ded",
   "metadata": {},
   "source": [
    "Gráficos do tipo treemap são boas ferramentas de visualização para transmitir a idéia de composição e participação, além de servirem bem para estruturas hierárquicas. \n",
    "\n",
    "https://plotly.com/python/treemaps/\n",
    "\n",
    "Vamos criar um gráfico treemap para ilustrar a participação dos nossos parceiros no comércio exterior brasileiro.  \n",
    "Crie um gráfico simples, sem níveis hierárquicos, em que o tamanho do país representa a sua corrente comercial com o Brasil (exportações + importações), e a cor representa o nosso saldo comercial com o parceiro (exportações - importações).\n",
    "\n",
    "*dica*: terceiro gráfico do link pode ser um bom ponto de partida!"
   ]
  },
  {
   "cell_type": "code",
   "execution_count": null,
   "id": "14a7f7b1",
   "metadata": {},
   "outputs": [],
   "source": [
    "serie_exp_imp = pd.read_csv(\"data/saldo_corrente_2022.csv\", sep = \";\")"
   ]
  },
  {
   "cell_type": "code",
   "execution_count": null,
   "id": "8fd20914",
   "metadata": {},
   "outputs": [],
   "source": [
    "import plotly.express as px\n",
    "import plotly.io as pio\n",
    "pio.renderers.default = 'iframe'\n"
   ]
  }
 ],
 "metadata": {
  "kernelspec": {
   "display_name": "Python 3 (ipykernel)",
   "language": "python",
   "name": "python3"
  },
  "language_info": {
   "codemirror_mode": {
    "name": "ipython",
    "version": 3
   },
   "file_extension": ".py",
   "mimetype": "text/x-python",
   "name": "python",
   "nbconvert_exporter": "python",
   "pygments_lexer": "ipython3",
   "version": "3.11.5"
  },
  "toc": {
   "base_numbering": 1,
   "nav_menu": {},
   "number_sections": true,
   "sideBar": true,
   "skip_h1_title": false,
   "title_cell": "Table of Contents",
   "title_sidebar": "Contents",
   "toc_cell": false,
   "toc_position": {},
   "toc_section_display": true,
   "toc_window_display": false
  }
 },
 "nbformat": 4,
 "nbformat_minor": 5
}
