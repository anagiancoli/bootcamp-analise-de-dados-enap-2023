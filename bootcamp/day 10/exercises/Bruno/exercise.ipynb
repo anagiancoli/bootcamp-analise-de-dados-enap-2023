{
 "cells": [
  {
   "cell_type": "markdown",
   "id": "3d037e03-0f33-451a-a58b-3f4b1887511e",
   "metadata": {
    "tags": []
   },
   "source": [
    "# Exercícios: Visualização de Dados"
   ]
  },
  {
   "cell_type": "markdown",
   "id": "dd4ae884-befb-46c5-9db3-3b0d49ad52cf",
   "metadata": {
    "tags": []
   },
   "source": [
    "#### Carga da Base de Dados Indicadores Criminais de Porto Alegre"
   ]
  },
  {
   "cell_type": "code",
   "execution_count": null,
   "id": "957b5561-d33a-46ce-bf65-391b7ba9184d",
   "metadata": {
    "tags": []
   },
   "outputs": [],
   "source": [
    "import pandas as pd\n",
    "from pandas import DataFrame\n",
    "\n",
    "arquivo = './data/df_crimesRS.json'\n",
    "\n",
    "df_crimes = pd.read_json(arquivo)\n",
    "df_crimes = df_crimes.drop(columns=['index','Total de vítimas de Homicidio Doloso','Vítimas de Latrocínio'])\n",
    "\n",
    "df_poa = df_crimes[df_crimes['Municípios']=='PORTO ALEGRE'].drop(columns=['Municípios'])\n",
    "df_poa = df_poa.pivot(index=['ano'],columns=[],values=df_poa.columns.to_list()[:-1])\n",
    "df_poa = df_poa.reset_index()\n",
    "df_poa['ano']=df_poa['ano'].astype('object')\n",
    "df_poa['Total/Ano'] = df_poa.sum(axis=1)\n",
    "df_poa = df_poa.set_index('ano')\n",
    "df_poa = df_poa.sort_index()\n",
    "df_poa"
   ]
  },
  {
   "cell_type": "markdown",
   "id": "6b897793-23c8-4f32-ba0b-b09b844d6fdd",
   "metadata": {},
   "source": [
    "#### Visualização de Dados - Gráficos de Linha"
   ]
  },
  {
   "cell_type": "markdown",
   "id": "10adc37c-0e7f-458c-b70d-8fb8427e26e3",
   "metadata": {},
   "source": [
    "Utilizando o método plot() do Pandas, gere um gráfico de linha para exibir o total de crimes / ano presentes referentes à cidade de Porto Alegre.<br>\n",
    "Inclua o título 'POA: Crimes Registrados x Ano'.\n",
    "Se necessário, consulte a documentação do método plot(), no endereço: https://pandas.pydata.org/docs/reference/api/pandas.DataFrame.plot.html"
   ]
  },
  {
   "cell_type": "code",
   "execution_count": null,
   "id": "adb33632-9beb-4627-a87c-bd2be6a9aaef",
   "metadata": {
    "tags": []
   },
   "outputs": [],
   "source": []
  },
  {
   "cell_type": "markdown",
   "id": "41252565-adf8-4c25-a1c0-b1e370c787ca",
   "metadata": {
    "tags": []
   },
   "source": [
    "Gere o mesmo tipo gráfico mostrando, ao mesmo tempo, a evolução dos crimes:  estelionato, furto e roubo de veículos."
   ]
  },
  {
   "cell_type": "code",
   "execution_count": null,
   "id": "25745d74-b69c-4730-b76e-0ff25123ce66",
   "metadata": {
    "tags": []
   },
   "outputs": [],
   "source": []
  },
  {
   "cell_type": "markdown",
   "id": "9498237e-6b9d-48cf-b862-b73ae95d88ad",
   "metadata": {
    "tags": []
   },
   "source": [
    "#### Visualização de Dados - Subgráficos de Linha"
   ]
  },
  {
   "cell_type": "markdown",
   "id": "7448a85e-c9a2-464c-972e-da8101a23666",
   "metadata": {},
   "source": [
    "O método DataFrame.plot() permite, com um único comando, criar um gráfico com vários subgráficos para melhor visualização dos dados.<br>\n",
    "Crie um gráfico de linha combinado, mostrando a evolução de cada um dos 16 tipos de crimes registrados na base, em seu próprio subgráfico.<br>\n",
    "Exclua a coluna \"Total/Ano\" e utilizer um parâmetro figsize grande o suficiente, como figsize=(20,20)."
   ]
  },
  {
   "cell_type": "code",
   "execution_count": null,
   "id": "e76de3a8-ec32-42b7-8620-409a0142bc0b",
   "metadata": {
    "tags": []
   },
   "outputs": [],
   "source": []
  },
  {
   "cell_type": "markdown",
   "id": "6ec5e76a-54cc-4b64-8537-51911b50e187",
   "metadata": {
    "tags": []
   },
   "source": [
    "#### Visualização de Dados - Gráfico de Pizza"
   ]
  },
  {
   "cell_type": "markdown",
   "id": "af0c235a-4193-4812-855d-2c8b758aac87",
   "metadata": {},
   "source": [
    "A partir do DataFrame df_poa, crie um novo DataFrame contendo a soma de crimes por tipo considerados todos os anos.\n",
    "Lembre-se de remover a coluna Total/Ano e ordene pela soma."
   ]
  },
  {
   "cell_type": "code",
   "execution_count": null,
   "id": "c96dd3b7-ac77-477d-88f9-bd44be38982a",
   "metadata": {
    "tags": []
   },
   "outputs": [],
   "source": []
  },
  {
   "cell_type": "markdown",
   "id": "79871803-2727-40bd-8231-8356b1ea75c7",
   "metadata": {},
   "source": [
    "Gere um gráfico de pizza ('pie chart') utilizando o método plot() do DataFrame, utilizando o parâmetro 'kind'.<br>\n",
    "Utilize o parâmetro figsize=(8,8) para melhorar a legibilidade do gráfico.<br>\n",
    "Se necessário, consulte a documentação do método plot(), no endereço: https://pandas.pydata.org/docs/reference/api/pandas.DataFrame.plot.html"
   ]
  },
  {
   "cell_type": "code",
   "execution_count": null,
   "id": "43b2ba5c-efb8-44ba-a7fd-ee6d8f3d4c0d",
   "metadata": {
    "tags": []
   },
   "outputs": [],
   "source": []
  },
  {
   "cell_type": "markdown",
   "id": "7365abfa-8efc-428a-9dba-b18029bc76c1",
   "metadata": {},
   "source": [
    "#### Carga Base de Dados: Taxa de Homicídios x População"
   ]
  },
  {
   "cell_type": "markdown",
   "id": "b54ff581-a664-4bd1-b139-799a7900e0ac",
   "metadata": {},
   "source": [
    "Nesse exercício, utilizaremos a base de dados do Estado do Rio Grande do Sul para avaliar a relação entre a taxa de homicídios e o tamanho da população dos municípios.<br>"
   ]
  },
  {
   "cell_type": "code",
   "execution_count": null,
   "id": "f1dd6c89-75a2-4a85-980a-d7297ad8c603",
   "metadata": {
    "tags": []
   },
   "outputs": [],
   "source": [
    "df_hompop = pd.read_json('./data/df_homicidios_populacao.json',date_unit='s')[['Total/Município','População']]\n",
    "df_hompop = df_hompop.rename(columns={'Total/Município':'Homicídios'})\n",
    "df_hompop['Taxa de Homicídios']=df_hompop['Homicídios']/df_hompop['População']\n",
    "df_hompop.head()"
   ]
  },
  {
   "cell_type": "markdown",
   "id": "f2dfe8fb-8a27-40b0-a45f-9248d14f5964",
   "metadata": {},
   "source": [
    "Faça um gráfico de dispersão (scatter plot) com as variáveis Taxa de Homicídios x População.\n",
    "Se necessário, consulte a documentação do método plot(), no endereço: https://pandas.pydata.org/docs/reference/api/pandas.DataFrame.plot.html"
   ]
  },
  {
   "cell_type": "code",
   "execution_count": null,
   "id": "c785901a-1bbe-47d2-8b3d-68c90d27dee9",
   "metadata": {
    "tags": []
   },
   "outputs": [],
   "source": []
  },
  {
   "cell_type": "markdown",
   "id": "f620610b-e7d9-466d-bdcc-150ab94d74b4",
   "metadata": {},
   "source": [
    "Utilizando o a função regplot do módulo Seaborn, gere um gráfico de dispersão com a linha da regressão linear utilizando os mesmos dados.<br>\n",
    "Se necessário, consulte a documentação do sem https://seaborn.pydata.org/generated/seaborn.regplot.html\n",
    "O que a inclinação da linha sugere em relação à relação entre o tamanho da população e a taxa de homicídios?"
   ]
  },
  {
   "cell_type": "code",
   "execution_count": null,
   "id": "ac628537-1990-40fb-8871-d44ac62a9f48",
   "metadata": {
    "tags": []
   },
   "outputs": [],
   "source": []
  },
  {
   "cell_type": "markdown",
   "id": "25f6fbf0-1e4e-44ee-98b2-8a0a9e755351",
   "metadata": {
    "tags": []
   },
   "source": [
    "Utilizando o método plot() do DataFrame, crie um gráfico de caixa (box plot) da Taxa de Homicídios.<br>"
   ]
  },
  {
   "cell_type": "code",
   "execution_count": null,
   "id": "6d9d6421-9d4c-4cd4-93fd-aac0376235ad",
   "metadata": {
    "tags": []
   },
   "outputs": [],
   "source": []
  },
  {
   "cell_type": "markdown",
   "id": "65e18735-4a0f-4359-8a36-a17e080b0423",
   "metadata": {},
   "source": [
    "O gráfico indica que, nesse cenário, uma taxa de homicídios maior que 0.002 é algo atípico.<br>\n",
    "Crie uma nova coluna no DataFrame para indicar tratar-se de um município com taxa de homicídios atípica e liste os 10 municípios desse grupo com a maior população."
   ]
  },
  {
   "cell_type": "code",
   "execution_count": null,
   "id": "4edf70be-f285-44c2-b715-c8f65f64d5c5",
   "metadata": {
    "tags": []
   },
   "outputs": [],
   "source": []
  },
  {
   "cell_type": "markdown",
   "id": "f6908f83-a924-44ad-b9cc-502a276c0eaf",
   "metadata": {},
   "source": [
    "Como na aula, utilize a função lmplot() do Seaborn para plotar o gráfico de dispersão da taxa de homicídio x tamanho da população separando entre municípios típicos e atípicos.<br>\n",
    "Se necessário, consulte a documentação do sem https://seaborn.pydata.org/generated/seaborn.lmplot.html"
   ]
  },
  {
   "cell_type": "code",
   "execution_count": null,
   "id": "193d3de0-ec5e-44ae-8637-999b1923138e",
   "metadata": {},
   "outputs": [],
   "source": []
  }
 ],
 "metadata": {
  "kernelspec": {
   "display_name": "Python 3 (ipykernel)",
   "language": "python",
   "name": "python3"
  },
  "language_info": {
   "codemirror_mode": {
    "name": "ipython",
    "version": 3
   },
   "file_extension": ".py",
   "mimetype": "text/x-python",
   "name": "python",
   "nbconvert_exporter": "python",
   "pygments_lexer": "ipython3",
   "version": "3.11.5"
  }
 },
 "nbformat": 4,
 "nbformat_minor": 5
}
