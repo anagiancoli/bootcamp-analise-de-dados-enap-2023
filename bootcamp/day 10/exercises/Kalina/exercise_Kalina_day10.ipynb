{
 "cells": [
  {
   "cell_type": "markdown",
   "id": "d7bd09fc",
   "metadata": {},
   "source": [
    "# Exercícios - Visualização de Dados 🔍 🎲"
   ]
  },
  {
   "cell_type": "markdown",
   "id": "4e661026",
   "metadata": {},
   "source": [
    "Vamos praticar o que aprendemos sobre visualização de dados com o *dataset* de despesas dos deputados que criamos na aula passada. Este conjunto de dados está disponível no arquivo `deputados_despesas.csv` através do seguinte caminho:\n",
    "```\n",
    "arq_deputados_despesas = './data/deputados_despesas.csv'\n",
    "```\n",
    "Para começar, importe as bibliotecas necessárias e carregue o *dataset* em um *DataFrame* do Pandas. Investigue-o, verificando as colunas, os tipos de dados, a quantidade de linhas, etc. O arquivo carregado já possui os dados limpos, então não é necessário realizar nenhum tratamento."
   ]
  },
  {
   "cell_type": "code",
   "execution_count": null,
   "id": "991e7699",
   "metadata": {},
   "outputs": [],
   "source": []
  },
  {
   "cell_type": "markdown",
   "id": "53ea1ce2",
   "metadata": {},
   "source": [
    "Vamos trabalhar inicialmente somente com os dados de 2023. Para isso, crie um novo *DataFrame* que contenha somente as linhas em que o ano seja igual a 2023. "
   ]
  },
  {
   "cell_type": "code",
   "execution_count": null,
   "id": "cf80c04f",
   "metadata": {},
   "outputs": [],
   "source": []
  },
  {
   "cell_type": "markdown",
   "id": "29d1844d",
   "metadata": {},
   "source": [
    "## Deputados e partidos mais gastadores em 2023 🤑"
   ]
  },
  {
   "cell_type": "markdown",
   "id": "fad5e421",
   "metadata": {},
   "source": [
    "Plote gráficos que respondam às seguintes perguntas, utilizando o *DataFrame* criado:\n",
    "1. Quais os 10 deputados que mais gastaram com cotas parlamentares em 2023? Use um gráfico de barras para mostrar o resultado.\n",
    "2. Quais os 10 partidos que mais gastaram com cotas parlamentares em 2023? Use um gráfico de barras para mostrar o resultado.\n",
    "\n",
    "Plote os gráficos acima em um grid 1x2, lado a lado."
   ]
  },
  {
   "cell_type": "code",
   "execution_count": null,
   "id": "d826b84b",
   "metadata": {},
   "outputs": [],
   "source": []
  },
  {
   "cell_type": "markdown",
   "id": "277d0569",
   "metadata": {},
   "source": [
    "## Com o quê mais gastaram os deputados mais gastadores? 🤔\n",
    "Agora vamos investigar quanto gastaram os deputados mais gastadores com as top 5 despesas mais comuns em 2023. Para isso, descubra quais são as 5 despesas mais realizadas pelos deputados e crie um novo *DataFrame* contendo os valores gastos por cada um dos 10 deputados mais gastadores em cada uma dessas despesas. Utilize um grafico de barras empilhadas para mostrar o resultado. "
   ]
  },
  {
   "cell_type": "code",
   "execution_count": null,
   "id": "a9657b8a",
   "metadata": {},
   "outputs": [],
   "source": []
  },
  {
   "cell_type": "markdown",
   "id": "d6d76706",
   "metadata": {},
   "source": [
    "## 🌶️🌶️ Desafio: Evolução dos gastos do(a) deputado(a) mais gastador(a) 📈\n",
    "Quem foi o deputado(a) mais gastador(a) de 2023? Plote um gráfico de linha que mostre a evolução dos gastos dele(a) ao longo dos meses dos anos de 2021, 2022 e 2023."
   ]
  },
  {
   "cell_type": "code",
   "execution_count": null,
   "id": "fdd06946",
   "metadata": {},
   "outputs": [],
   "source": []
  }
 ],
 "metadata": {
  "kernelspec": {
   "display_name": "enap",
   "language": "python",
   "name": "python3"
  },
  "language_info": {
   "codemirror_mode": {
    "name": "ipython",
    "version": 3
   },
   "file_extension": ".py",
   "mimetype": "text/x-python",
   "name": "python",
   "nbconvert_exporter": "python",
   "pygments_lexer": "ipython3",
   "version": "3.10.6"
  }
 },
 "nbformat": 4,
 "nbformat_minor": 5
}
