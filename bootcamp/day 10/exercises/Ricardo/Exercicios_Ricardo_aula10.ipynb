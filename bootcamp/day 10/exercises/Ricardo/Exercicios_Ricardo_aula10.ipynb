{
 "cells": [
  {
   "cell_type": "markdown",
   "id": "6d8b0ef3",
   "metadata": {},
   "source": [
    "# Visualização de dados "
   ]
  },
  {
   "cell_type": "markdown",
   "id": "742ff5dc",
   "metadata": {},
   "source": [
    "## Na aula 3, utilizamos a API do Bacen para importar a série de IPCA mensal conforme codigo abaixo:"
   ]
  },
  {
   "cell_type": "code",
   "execution_count": null,
   "id": "856883f1",
   "metadata": {},
   "outputs": [],
   "source": [
    "import requests\n",
    "\n",
    "url = 'https://api.bcb.gov.br/dados/serie/bcdata.sgs.433/dados?formato=json'\n",
    "response = requests.get(url).json()\n"
   ]
  },
  {
   "cell_type": "code",
   "execution_count": null,
   "id": "129f34e9",
   "metadata": {},
   "outputs": [],
   "source": [
    "#transformando em um dataframe\n",
    "\n",
    "import pandas as pd\n",
    "\n",
    "df = pd.DataFrame(response)\n",
    "\n",
    "df['data'] = pd.to_datetime(df['data'], format='%d/%m/%Y')\n",
    "\n",
    "df['valor'] = df['valor'].astype(float)\n",
    "\n",
    "df.head()"
   ]
  },
  {
   "cell_type": "markdown",
   "id": "878e196a",
   "metadata": {},
   "source": [
    "# 1- Utilize a função plot do matplotlib para desenhar um gráfico de linha da série de IPCA"
   ]
  },
  {
   "cell_type": "code",
   "execution_count": null,
   "id": "a1186e8d",
   "metadata": {},
   "outputs": [],
   "source": []
  },
  {
   "cell_type": "markdown",
   "id": "6cd62a28",
   "metadata": {},
   "source": [
    "Ao analisar o gráfico, fica claro que a inflação no Brasil foi relativamente estabilizada após a implementação do Plano Real (de 1994)\n",
    "\n",
    "## 2- Faça um novo gráfico para o período pós plano real (a partir de 1995)\n",
    "Coloque título e legenda no gráfico"
   ]
  },
  {
   "cell_type": "code",
   "execution_count": null,
   "id": "764e11fb",
   "metadata": {},
   "outputs": [],
   "source": []
  },
  {
   "cell_type": "markdown",
   "id": "7410de39",
   "metadata": {},
   "source": [
    "## 3- Crie 2 espaços para visualizações gráficas. Plote em um, o IPCA até 01/12/1994 e, no outro, o ipca de 01/01/1995 em diante."
   ]
  },
  {
   "cell_type": "code",
   "execution_count": null,
   "id": "01ac7d7d",
   "metadata": {},
   "outputs": [],
   "source": []
  },
  {
   "cell_type": "code",
   "execution_count": null,
   "id": "ae5a0314",
   "metadata": {},
   "outputs": [],
   "source": []
  },
  {
   "cell_type": "code",
   "execution_count": null,
   "id": "f5924ff5",
   "metadata": {},
   "outputs": [],
   "source": []
  },
  {
   "cell_type": "code",
   "execution_count": null,
   "id": "e2fa8b95",
   "metadata": {},
   "outputs": [],
   "source": []
  },
  {
   "cell_type": "markdown",
   "id": "9f20770c",
   "metadata": {},
   "source": [
    "## Usaremos novamente nossa base de dados de países para tentar entender melhor a relação entre suas variáveis."
   ]
  },
  {
   "cell_type": "code",
   "execution_count": null,
   "id": "bdf420d2",
   "metadata": {},
   "outputs": [],
   "source": [
    "import pandas as pd\n",
    "url= ('https://github.com/thaissalzer/thaissalzer/blob/246a0321f38f3faacd4159820288e2dbdeddf90a/aula9.xlsx?raw=true')\n",
    "df= pd.read_excel(url)\n",
    "df.head()\n"
   ]
  },
  {
   "cell_type": "code",
   "execution_count": null,
   "id": "4f985ef2",
   "metadata": {},
   "outputs": [],
   "source": []
  },
  {
   "cell_type": "code",
   "execution_count": null,
   "id": "302c749d",
   "metadata": {},
   "outputs": [],
   "source": []
  },
  {
   "cell_type": "markdown",
   "id": "34dd07d8",
   "metadata": {},
   "source": [
    "Um gráfico de dispersão é útil para visualizar a relação entre duas variáveis, mostrando como os pontos estão distribuídos.\n",
    "\n",
    "##  4- Crie gráficos de dispersão para tentar entender a relação da variável 'gasto_educ_PERCPIB'e PIB per capta."
   ]
  },
  {
   "cell_type": "code",
   "execution_count": null,
   "id": "6ff396ce",
   "metadata": {},
   "outputs": [],
   "source": [
    "\n",
    "\n"
   ]
  },
  {
   "cell_type": "markdown",
   "id": "c96a4753",
   "metadata": {},
   "source": [
    "## 5- Você consegue observar algum padrão? Fala um regplot para confirmar. \n",
    "\n",
    "Analise a correlação entre as variáveis"
   ]
  },
  {
   "cell_type": "code",
   "execution_count": null,
   "id": "e38906a8",
   "metadata": {},
   "outputs": [],
   "source": []
  },
  {
   "cell_type": "code",
   "execution_count": null,
   "id": "8b3e84c3",
   "metadata": {},
   "outputs": [],
   "source": []
  },
  {
   "cell_type": "markdown",
   "id": "435d50d9",
   "metadata": {},
   "source": [
    "## 6- Dividindo os países entre pobres e ricos (acima/ abaixo da mediana do GDP_PC), identifique se o padrão é o mesmo para ambos os grupos usando o regplot para cada grupo separadamente, porém no mesmo gráfico"
   ]
  },
  {
   "cell_type": "code",
   "execution_count": null,
   "id": "4b7bfbf2",
   "metadata": {},
   "outputs": [],
   "source": []
  },
  {
   "cell_type": "code",
   "execution_count": null,
   "id": "b39bc476",
   "metadata": {},
   "outputs": [],
   "source": [
    "\n"
   ]
  },
  {
   "cell_type": "code",
   "execution_count": null,
   "id": "6d35ca05",
   "metadata": {},
   "outputs": [],
   "source": []
  }
 ],
 "metadata": {
  "kernelspec": {
   "display_name": "Python 3 (ipykernel)",
   "language": "python",
   "name": "python3"
  },
  "language_info": {
   "codemirror_mode": {
    "name": "ipython",
    "version": 3
   },
   "file_extension": ".py",
   "mimetype": "text/x-python",
   "name": "python",
   "nbconvert_exporter": "python",
   "pygments_lexer": "ipython3",
   "version": "3.9.13"
  }
 },
 "nbformat": 4,
 "nbformat_minor": 5
}
